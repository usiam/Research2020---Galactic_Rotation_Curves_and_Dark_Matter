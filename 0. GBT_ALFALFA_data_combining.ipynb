{
 "cells": [
  {
   "cell_type": "markdown",
   "metadata": {},
   "source": [
    "### Imports"
   ]
  },
  {
   "cell_type": "code",
   "execution_count": 8,
   "metadata": {},
   "outputs": [],
   "source": [
    "import numpy as np\n",
    "from astropy.table import Table"
   ]
  },
  {
   "cell_type": "markdown",
   "metadata": {},
   "source": [
    "### Data"
   ]
  },
  {
   "cell_type": "code",
   "execution_count": 9,
   "metadata": {},
   "outputs": [],
   "source": [
    "mangaHI = Table.read('input/mangaHIall.fits', format='fits')\n",
    "alfaHI = Table.read('input/manga_dr15_alfalfa.fits', format='fits')\n",
    "manga = Table.read('input/Pipe3D-master_file_vflag_10_smooth2p27_N2O2_noWords.txt', format='ascii.commented_header')\n",
    "kias7 = Table.read( 'input/kias1033_5_P-MJD-F_MPAJHU_ZdustOS_stellarMass_BPT_SFR_NSA_vflag.txt', format='ascii.commented_header')"
   ]
  },
  {
   "cell_type": "markdown",
   "metadata": {},
   "source": [
    "## Add HI data to MaNGA table\n",
    "\n",
    "##### Initialize new columns in MaNGA data table"
   ]
  },
  {
   "cell_type": "code",
   "execution_count": 10,
   "metadata": {},
   "outputs": [],
   "source": [
    "manga['WF50'] = np.NaN*np.ones(len(manga), dtype=float)\n",
    "manga['WP20'] = np.NaN*np.ones(len(manga), dtype=float)\n",
    "manga['logHI'] = np.NaN*np.ones(len(manga), dtype=float)"
   ]
  },
  {
   "cell_type": "markdown",
   "metadata": {},
   "source": [
    "##### Add ALFALFA HI data"
   ]
  },
  {
   "cell_type": "code",
   "execution_count": 11,
   "metadata": {},
   "outputs": [],
   "source": [
    "for i in range(len(alfaHI)):\n",
    "    \n",
    "    galID = alfaHI['PLATEIFU'][i]\n",
    "    plate, IFU = galID.split('-')\n",
    "    \n",
    "    # Find the corresponding row index for this galaxy in the MaNGA data table\n",
    "    plate_boolean = manga['MaNGA_plate'] == int(plate)\n",
    "    IFU_boolean = manga['MaNGA_IFU'] == int(IFU)\n",
    "    manga_boolean = np.logical_and(plate_boolean, IFU_boolean)\n",
    "    \n",
    "    # Add data to MaNGA data table\n",
    "    manga['WF50'][manga_boolean] = alfaHI['WF50'][i]\n",
    "    manga['WP20'][manga_boolean] = alfaHI['WP20'][i]\n",
    "    manga['logHI'][manga_boolean] = alfaHI['LOGMHI'][i]"
   ]
  },
  {
   "cell_type": "markdown",
   "metadata": {},
   "source": [
    "##### Add GBT HI data"
   ]
  },
  {
   "cell_type": "code",
   "execution_count": 12,
   "metadata": {},
   "outputs": [],
   "source": [
    "for i in range(len(mangaHI)):\n",
    "    \n",
    "    galID = mangaHI['plateifu'][i]\n",
    "    plate, IFU = galID.split('-')\n",
    "    \n",
    "    # Find the corresponding row index for this galaxy in the MaNGA data table\n",
    "    plate_boolean = manga['MaNGA_plate'] == int(plate)\n",
    "    IFU_boolean = manga['MaNGA_IFU'] == int(IFU)\n",
    "    manga_boolean = np.logical_and(plate_boolean, IFU_boolean)\n",
    "    \n",
    "    # Add data to MaNGA data table\n",
    "    manga['WF50'][manga_boolean] = mangaHI['WF50'][i]\n",
    "    manga['WP20'][manga_boolean] = mangaHI['WP20'][i]\n",
    "    manga['logHI'][manga_boolean] = mangaHI['logMHI'][i]"
   ]
  },
  {
   "cell_type": "markdown",
   "metadata": {},
   "source": [
    "## Isolate those MaNGA galaxies with HI detections\n",
    "\n",
    "We only want to analyze those galaxies in MaNGA with HI detections, so let's create a subset of the main MaNGA data table that contains only those galaxies with HI detections."
   ]
  },
  {
   "cell_type": "code",
   "execution_count": 13,
   "metadata": {},
   "outputs": [],
   "source": [
    "HI_boolean = np.logical_or.reduce((np.isfinite(manga['WF50']), \n",
    "                                   np.isfinite(manga['WP20']), \n",
    "                                   np.isfinite(manga['logHI'])))\n",
    "\n",
    "manga_HI = manga[HI_boolean]"
   ]
  },
  {
   "cell_type": "code",
   "execution_count": 14,
   "metadata": {},
   "outputs": [],
   "source": [
    "manga_HI.write('input/gbt_alfalfa_HIdata.txt', format = 'ascii.commented_header', overwrite = True)"
   ]
  }
 ],
 "metadata": {
  "kernelspec": {
   "display_name": "Python 3",
   "language": "python",
   "name": "python3"
  },
  "language_info": {
   "codemirror_mode": {
    "name": "ipython",
    "version": 3
   },
   "file_extension": ".py",
   "mimetype": "text/x-python",
   "name": "python",
   "nbconvert_exporter": "python",
   "pygments_lexer": "ipython3",
   "version": "3.7.4"
  }
 },
 "nbformat": 4,
 "nbformat_minor": 2
}
