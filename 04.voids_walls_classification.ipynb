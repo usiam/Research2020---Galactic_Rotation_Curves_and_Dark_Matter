{
 "cells": [
  {
   "cell_type": "markdown",
   "metadata": {},
   "source": [
    "### Imports"
   ]
  },
  {
   "cell_type": "code",
   "execution_count": 202,
   "metadata": {},
   "outputs": [],
   "source": [
    "import numpy as np\n",
    "import matplotlib.pyplot as plt\n",
    "from astropy.table import Table"
   ]
  },
  {
   "cell_type": "markdown",
   "metadata": {},
   "source": [
    "### Data"
   ]
  },
  {
   "cell_type": "code",
   "execution_count": 203,
   "metadata": {},
   "outputs": [],
   "source": [
    "mangaHIall = Table.read('input/mangaHIall_classified_corrected.txt', format = 'ascii.commented_header')\n",
    "manga = Table.read(\"input/Pipe3D-master_file_vflag_10_smooth2p27_N2O2_noWords.txt\", format=\"ascii.commented_header\")"
   ]
  },
  {
   "cell_type": "markdown",
   "metadata": {},
   "source": [
    "### Adding vflag values from manga to mangaHIall"
   ]
  },
  {
   "cell_type": "code",
   "execution_count": 204,
   "metadata": {},
   "outputs": [],
   "source": [
    "vflag0_boolean = mangaHIall['vflag'] == 0.0\n",
    "vflag1_boolean = mangaHIall['vflag'] == 1.0\n",
    "\n",
    "vflag_0_or_1_boolean = np.logical_or(vflag0_boolean, vflag1_boolean)\n",
    "\n",
    "#overwriting mangaHIall table and getting rid of rows with vflag != 0.0 or 1.0\n",
    "mangaHIall = mangaHIall[vflag_0_or_1_boolean]"
   ]
  },
  {
   "cell_type": "markdown",
   "metadata": {},
   "source": [
    "### Adding HI values from logHI"
   ]
  },
  {
   "cell_type": "code",
   "execution_count": 205,
   "metadata": {},
   "outputs": [],
   "source": [
    "mangaHIall['HI'] = np.ones(len(mangaHIall), dtype = np.float64)\n",
    "mangaHIall['HI'] = 10**(mangaHIall['logHI'])"
   ]
  },
  {
   "cell_type": "markdown",
   "metadata": {},
   "source": [
    "### Making file with only positive WF50 data"
   ]
  },
  {
   "cell_type": "code",
   "execution_count": 206,
   "metadata": {},
   "outputs": [],
   "source": [
    "WF50_pos_boolean = mangaHIall['WF50_corrected'] > 0.0\n",
    "mangaHIall_WF50_positive = mangaHIall[WF50_pos_boolean]"
   ]
  },
  {
   "cell_type": "markdown",
   "metadata": {},
   "source": [
    "### Voids and walls classification"
   ]
  },
  {
   "cell_type": "code",
   "execution_count": 209,
   "metadata": {},
   "outputs": [],
   "source": [
    "mangaHIall_WF50_positive['NSA_Mstar' + '-' + 'walls'] = np.NaN * np.ones(len(mangaHIall_WF50_positive), dtype=np.float64)\n",
    "mangaHIall_WF50_positive['NSA_Mstar' + '-' + 'voids'] = np.NaN * np.ones(len(mangaHIall_WF50_positive), dtype=np.float64)\n",
    "mangaHIall_WF50_positive['HI' + '-' + 'walls'] = np.NaN * np.ones(len(mangaHIall_WF50_positive), dtype=np.float64)\n",
    "mangaHIall_WF50_positive['HI' + '-' + 'voids'] = np.NaN * np.ones(len(mangaHIall_WF50_positive), dtype=np.float64)\n",
    "\n",
    "for i in range(len(mangaHIall_WF50_positive)):\n",
    "    if mangaHIall_WF50_positive['vflag'][i] == 0.0:\n",
    "        mangaHIall_WF50_positive['NSA_Mstar' + '-' + 'walls'][i] = mangaHIall_WF50_positive['NSA_Mstar'][i]\n",
    "        mangaHIall_WF50_positive['HI' + '-' + 'walls'][i] = mangaHIall_WF50_positive['HI_corrected'][i]\n",
    "    elif mangaHIall_WF50_positive['vflag'][i] == 1:\n",
    "        mangaHIall_WF50_positive['NSA_Mstar' + '-' + 'voids'][i] = mangaHIall_WF50_positive['NSA_Mstar'][i]\n",
    "        mangaHIall_WF50_positive['HI' + '-' + 'voids'][i] = mangaHIall_WF50_positive['HI_corrected'][i]\n",
    "\n",
    "walls_boolean = mangaHIall_WF50_positive['vflag'] == 0.0\n",
    "voids_boolean = mangaHIall_WF50_positive['vflag'] == 1.0\n",
    "classified_boolean = np.logical_or(walls_boolean, voids_boolean)\n",
    "mangaHIall_WF50_positive_classified = mangaHIall_WF50_positive[classified_boolean]\n",
    "\n",
    "#     walls_boolean = mangaHIall['vflag] == 0.0\n",
    "#     mangaHIall['walls'][i] = mangaHIall['NSA_Mstar'][i]\n",
    "#     voids_boolean = mangaHIall['vflag'] == 1.0\n",
    "#     mangaHIall['voids'][voids_boolean] = mangaHIall['NSA_Mstar'][i]\n"
   ]
  },
  {
   "cell_type": "markdown",
   "metadata": {},
   "source": [
    "### Making table with only walls"
   ]
  },
  {
   "cell_type": "code",
   "execution_count": 210,
   "metadata": {
    "scrolled": true
   },
   "outputs": [],
   "source": [
    "mangaHIall_Mstar_walls_boolean = np.isfinite(mangaHIall_WF50_positive_classified['NSA_Mstar-walls'])\n",
    "mangaHIall_HI_walls_boolean = np.isfinite(mangaHIall_WF50_positive_classified['HI-walls'])\n",
    "\n",
    "mangaHIall_walls_boolean = np.logical_and(mangaHIall_Mstar_walls_boolean, mangaHIall_HI_walls_boolean)\n",
    "mangaHIall_walls = mangaHIall_WF50_positive_classified[mangaHIall_walls_boolean]\n",
    "mangaHIall_walls.remove_column('NSA_Mstar-voids')\n",
    "mangaHIall_walls.remove_column('HI-voids')"
   ]
  },
  {
   "cell_type": "markdown",
   "metadata": {},
   "source": [
    "### Making table with only voids"
   ]
  },
  {
   "cell_type": "code",
   "execution_count": 211,
   "metadata": {},
   "outputs": [],
   "source": [
    "mangaHIall_Mstar_voids_boolean = np.isfinite(mangaHIall_WF50_positive_classified['NSA_Mstar-voids'])\n",
    "mangaHIall_HI_voids_boolean = np.isfinite(mangaHIall_WF50_positive_classified['HI-voids'])\n",
    "\n",
    "mangaHIall_voids_boolean = np.logical_and(mangaHIall_Mstar_voids_boolean, mangaHIall_HI_voids_boolean)\n",
    "mangaHIall_voids = mangaHIall_WF50_positive_classified[mangaHIall_voids_boolean]\n",
    "mangaHIall_voids.remove_column('NSA_Mstar-walls')\n",
    "mangaHIall_voids.remove_column('HI-walls')"
   ]
  },
  {
   "cell_type": "markdown",
   "metadata": {},
   "source": [
    "### Writing classified files"
   ]
  },
  {
   "cell_type": "code",
   "execution_count": 218,
   "metadata": {},
   "outputs": [],
   "source": [
    "mangaHIall_WF50_positive.write('input/mangaHIall_WF50_positive.txt', format = 'ascii.commented_header', overwrite = True)\n",
    "mangaHIall_voids.write('input/mangaHIall_voids.txt', format = 'ascii.commented_header', overwrite = True)\n",
    "mangaHIall_walls.write('input/mangaHIall_walls.txt', format = 'ascii.commented_header', overwrite = True)\n",
    "mangaHIall_WF50_positive_classified.write('input/mangaHIall_classified.txt', format = 'ascii.commented_header',\n",
    "                                          overwrite = True)"
   ]
  }
 ],
 "metadata": {
  "kernelspec": {
   "display_name": "Python 3",
   "language": "python",
   "name": "python3"
  },
  "language_info": {
   "codemirror_mode": {
    "name": "ipython",
    "version": 3
   },
   "file_extension": ".py",
   "mimetype": "text/x-python",
   "name": "python",
   "nbconvert_exporter": "python",
   "pygments_lexer": "ipython3",
   "version": "3.7.4"
  }
 },
 "nbformat": 4,
 "nbformat_minor": 2
}
