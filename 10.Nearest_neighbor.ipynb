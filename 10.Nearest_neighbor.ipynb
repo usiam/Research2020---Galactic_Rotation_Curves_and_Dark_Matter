{
 "cells": [
  {
   "cell_type": "markdown",
   "metadata": {},
   "source": [
    "Study the relationship between the velocity width of HI detections and the distance to the nearest neighbor for MaNGA galaxies."
   ]
  },
  {
   "cell_type": "markdown",
   "metadata": {},
   "source": [
    "### Imports"
   ]
  },
  {
   "cell_type": "code",
   "execution_count": 78,
   "metadata": {},
   "outputs": [],
   "source": [
    "import numpy as np\n",
    "import matplotlib.pyplot as plt\n",
    "from astropy.table import Table\n",
    "from scipy.spatial import KDTree"
   ]
  },
  {
   "cell_type": "markdown",
   "metadata": {},
   "source": [
    "# Data"
   ]
  },
  {
   "cell_type": "code",
   "execution_count": 79,
   "metadata": {},
   "outputs": [],
   "source": [
    "mangaHIall_filename = 'input/mangaHIall_classified_corrected_with_Mstar+MHI'\n",
    "mangaHIall = Table.read(mangaHIall_filename, format = 'ascii.commented_header')\n",
    "kias7 = Table.read( 'input/kias1033_5_P-MJD-F_MPAJHU_ZdustOS_stellarMass_BPT_SFR_NSA_vflag.txt', format='ascii.commented_header')\n",
    "voidCmax = Table.read('input/ALL_comoving_maximal.txt', format = 'ascii.commented_header')"
   ]
  },
  {
   "cell_type": "markdown",
   "metadata": {},
   "source": [
    "# Find distance to nearest neighbor for each MaNGA galaxy\n",
    "\n",
    "For each galaxy in the MaNGA data table, find its nearest neighbor and calculate the distance to that galaxy.\n",
    "1. Calculate the distance to every galaxy in SDSS DR7 for each MaNGA galaxy with an HI detection.\n",
    "2. Find the galaxy with the smallest distance - this is our nearest neighbor!  (Note: We need to check to make sure that we do not identify the MaNGA HI target galaxy as the nearest neighbor.)\n",
    "\n",
    "### Convert (ra, dec, redshift) to (x, y, z)\n",
    "\n",
    "Since we are going to do this for both the KIAS galaxies and the MaNGA galaxies, let's write a function."
   ]
  },
  {
   "cell_type": "code",
   "execution_count": 80,
   "metadata": {},
   "outputs": [],
   "source": [
    "c = 3e5 #3*(10**8) m/s <-- Scientific notation\n",
    "H = 100 #2.43 * (10**-18) 1/s <-- We are doing to do all of our distances in Mpc/h (where H0 = 100h).\n",
    "\n",
    "def rdz_to_xyz(data):\n",
    "    '''\n",
    "    Convert ra, dec, redshift to x, y, z\n",
    "    \n",
    "    \n",
    "    PARAMETERS\n",
    "    ==========\n",
    "    \n",
    "    data : astropy table\n",
    "        Galaxies to analyze.  Columns include ra, dec, redshift.\n",
    "        \n",
    "        \n",
    "    RETURNS\n",
    "    =======\n",
    "    \n",
    "    data : astropy table\n",
    "        Same as input data object, with the additional fields of x, y, z\n",
    "    '''\n",
    "\n",
    "    '''\n",
    "    # We can do this all at once, since we are doing the same calculation on every \n",
    "    # row of the data table.\n",
    "    \n",
    "    for i in range(len(data)):\n",
    "        radius_2 = c*data['redshift']/H\n",
    "        r_2 = radius_2\n",
    "        x_2_cor = r_2 * np.cos(kias7['ra'][i]* np.pi/180) * np.cos(kias7['dec'][i]* np.pi/180)\n",
    "        y_2_cor = r_2 * np.sin(kias7['ra'][i]* np.pi/180) * np.cos(kias7['dec'][i]* np.pi/180)\n",
    "        z_2_cor = r_2 * np.sin(kias7['ra'][i]* np.pi/180)\n",
    "        x_2.append(x_2_cor)\n",
    "        y_2.append(y_2_cor)\n",
    "        z_2.append(z_2_cor)\n",
    "    '''\n",
    "    \n",
    "    ################################################################################\n",
    "    # Our data tables have different column names, so we need to determine the \n",
    "    # correct names.\n",
    "    #-------------------------------------------------------------------------------\n",
    "    if 'redshift' in data.colnames:\n",
    "        redshift = data['redshift']\n",
    "        ra = data['ra'] * np.pi/180\n",
    "        dec = data['dec'] * np.pi/180\n",
    "    elif 'NSA_redshift' in data.colnames:\n",
    "        redshift = data['NSA_redshift']\n",
    "        ra = data['NSA_RA'] * np.pi/180\n",
    "        dec = data['NSA_DEC'] * np.pi/180\n",
    "    else:\n",
    "        print('Unknown field names.  Add to rdz_to_xyz function and rerun.')\n",
    "        return data\n",
    "    ################################################################################\n",
    "    \n",
    "    \n",
    "    ################################################################################\n",
    "    # Convert from spherical to cartesian coordinates\n",
    "    #-------------------------------------------------------------------------------\n",
    "    r = c*redshift/H\n",
    "    \n",
    "    data['x'] = r * np.cos(ra) * np.cos(dec)\n",
    "    data['y'] = r * np.sin(ra) * np.cos(dec)\n",
    "    data['z'] = r * np.sin(dec)\n",
    "    ################################################################################\n",
    "    \n",
    "    return data"
   ]
  },
  {
   "cell_type": "code",
   "execution_count": 81,
   "metadata": {},
   "outputs": [],
   "source": [
    "# Now that we have our function written, we can do this conversion on both data tables\n",
    "mangaHIall = rdz_to_xyz(mangaHIall)\n",
    "kias7 = rdz_to_xyz(kias7)"
   ]
  },
  {
   "cell_type": "markdown",
   "metadata": {},
   "source": [
    "### Calculate distance between galaxies and find the closest one"
   ]
  },
  {
   "cell_type": "code",
   "execution_count": 82,
   "metadata": {},
   "outputs": [],
   "source": [
    "# Generates x_tree, y_tree, z_tree array for kias7\n",
    "x_tree = np.asarray(kias7['x'])\n",
    "x_tree = x_tree.astype(np.float64)\n",
    "x_tree = x_tree.reshape(x_tree.shape[0],1)\n",
    "y_tree = np.asarray(kias7['y'])\n",
    "y_tree = y_tree.astype(np.float64)\n",
    "y_tree = y_tree.reshape(y_tree.shape[0],1)\n",
    "z_tree = np.asarray(kias7['z'])\n",
    "z_tree = z_tree.astype(np.float64)\n",
    "z_tree = z_tree.reshape(z_tree.shape[0],1)\n",
    "xyz_tree_kias = np.concatenate((x_tree,y_tree,z_tree), axis=1)\n",
    "\n",
    "# Generates x_query, y_query, z_query array for manga\n",
    "x_query = np.asarray(mangaHIall['x'])\n",
    "x_query = x_query.astype(np.float64)\n",
    "x_query = x_query.reshape(x_query.shape[0],1)\n",
    "y_query = np.asarray(mangaHIall['y'])\n",
    "y_query = y_query.astype(np.float64)\n",
    "y_query = y_query.reshape(y_query.shape[0],1)\n",
    "z_query = np.asarray(mangaHIall['z'])\n",
    "z_query = z_query.astype(np.float64)\n",
    "z_query = z_query.reshape(z_query.shape[0],1)\n",
    "xyz_query = np.concatenate((x_query,y_query,z_query), axis=1)"
   ]
  },
  {
   "cell_type": "code",
   "execution_count": 83,
   "metadata": {
    "scrolled": true
   },
   "outputs": [],
   "source": [
    "# Generate KDTree for kias7\n",
    "tree_kias = KDTree(xyz_tree_kias)"
   ]
  },
  {
   "cell_type": "code",
   "execution_count": 84,
   "metadata": {},
   "outputs": [],
   "source": [
    "nearest_distances, _ = tree_kias.query(xyz_query, k=2)\n",
    "nearest_distances = nearest_distances[:,1]"
   ]
  },
  {
   "cell_type": "code",
   "execution_count": 85,
   "metadata": {},
   "outputs": [],
   "source": [
    "mangaHIall['d_nn'] = np.zeros(len(mangaHIall), dtype=float)\n",
    "mangaHIall['d_nn'] = nearest_distances"
   ]
  },
  {
   "cell_type": "markdown",
   "metadata": {},
   "source": [
    "### Calculate distance between MaNGA galaxy and void center and finding shortest one"
   ]
  },
  {
   "cell_type": "code",
   "execution_count": 86,
   "metadata": {},
   "outputs": [],
   "source": [
    "# Generates x_tree, y_tree, z_tree array for voidCmax data\n",
    "x_tree = np.asarray(voidCmax['x'])\n",
    "x_tree = x_tree.astype(np.float64)\n",
    "x_tree = x_tree.reshape(x_tree.shape[0],1)\n",
    "y_tree = np.asarray(voidCmax['y'])\n",
    "y_tree = y_tree.astype(np.float64)\n",
    "y_tree = y_tree.reshape(y_tree.shape[0],1)\n",
    "z_tree = np.asarray(voidCmax['z'])\n",
    "z_tree = z_tree.astype(np.float64)\n",
    "z_tree = z_tree.reshape(z_tree.shape[0],1)\n",
    "xyz_tree_voidCmax = np.concatenate((x_tree,y_tree,z_tree), axis=1)"
   ]
  },
  {
   "cell_type": "code",
   "execution_count": 87,
   "metadata": {},
   "outputs": [],
   "source": [
    "# Generate KDTree for voidCmax\n",
    "tree_voidCmax = KDTree(xyz_tree_voidCmax)"
   ]
  },
  {
   "cell_type": "code",
   "execution_count": 88,
   "metadata": {
    "scrolled": true
   },
   "outputs": [],
   "source": [
    "nearest_distances_voidCenter, ind = tree_voidCmax.query(xyz_query, k=1)\n",
    "nearest_distances_voidCenter = nearest_distances_voidCenter"
   ]
  },
  {
   "cell_type": "code",
   "execution_count": 89,
   "metadata": {},
   "outputs": [],
   "source": [
    "mangaHIall['radius'] = voidCmax['radius'][ind]"
   ]
  },
  {
   "cell_type": "code",
   "execution_count": 90,
   "metadata": {},
   "outputs": [],
   "source": [
    "mangaHIall['d_nvc'] = np.zeros(len(mangaHIall), dtype=float)\n",
    "mangaHIall['d_nvc'] = nearest_distances_voidCenter"
   ]
  },
  {
   "cell_type": "code",
   "execution_count": 91,
   "metadata": {},
   "outputs": [],
   "source": [
    "mangaHIall['d_nvc_norm'] = np.zeros(len(mangaHIall), dtype=float)\n",
    "\n",
    "for i in range(len(mangaHIall)):\n",
    "    mangaHIall['d_nvc_norm'][i] = mangaHIall['d_nvc'][i]/mangaHIall['radius'][i]"
   ]
  },
  {
   "cell_type": "code",
   "execution_count": 92,
   "metadata": {},
   "outputs": [],
   "source": [
    "mangaHIall.write('input/mangaHIall_dnn.txt', format = 'ascii.commented_header', overwrite = True)"
   ]
  }
 ],
 "metadata": {
  "kernelspec": {
   "display_name": "Python 3",
   "language": "python",
   "name": "python3"
  },
  "language_info": {
   "codemirror_mode": {
    "name": "ipython",
    "version": 3
   },
   "file_extension": ".py",
   "mimetype": "text/x-python",
   "name": "python",
   "nbconvert_exporter": "python",
   "pygments_lexer": "ipython3",
   "version": "3.7.4"
  }
 },
 "nbformat": 4,
 "nbformat_minor": 4
}
