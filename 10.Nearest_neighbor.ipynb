{
 "cells": [
  {
   "cell_type": "markdown",
   "metadata": {},
   "source": [
    "Study the relationship between the velocity width of HI detections and the distance to the nearest neighbor for MaNGA galaxies."
   ]
  },
  {
   "cell_type": "code",
   "execution_count": 1,
   "metadata": {},
   "outputs": [],
   "source": [
    "from astropy.table import Table\n",
    "import numpy as np\n",
    "from scipy.spatial import KDTree"
   ]
  },
  {
   "cell_type": "markdown",
   "metadata": {},
   "source": [
    "# Data"
   ]
  },
  {
   "cell_type": "code",
   "execution_count": 2,
   "metadata": {},
   "outputs": [],
   "source": [
    "mangaHI_filename = 'input/mangaHIall.fits'\n",
    "alfaHI_filename = 'input/manga_dr15_alfalfa.fits'\n",
    "manga_filename =  'input/Pipe3D-master_file_vflag_10_smooth2p27_N2O2_noWords.txt'\n",
    "#kias7_filename =  'kias1033_5_P-MJD-F_MPAJHU_ZdustOS_stellarMass_BPT_SFR_NSA_vflag.txt'\n",
    "kias7_filename =  'input/kias1033_5_P-MJD-F_MPAJHU_ZdustOS_stellarMass_BPT_SFR_NSA_vflag.txt'\n",
    "\n",
    "mangaHI = Table.read(mangaHI_filename, format='fits')\n",
    "alfaHI = Table.read(alfaHI_filename, format='fits')\n",
    "manga = Table.read(manga_filename, format='ascii.commented_header')\n",
    "kias7 = Table.read(kias7_filename, format='ascii.commented_header')"
   ]
  },
  {
   "cell_type": "markdown",
   "metadata": {},
   "source": [
    "## Add HI data to MaNGA table\n",
    "\n",
    "##### Initialize new columns in MaNGA data table"
   ]
  },
  {
   "cell_type": "code",
   "execution_count": 3,
   "metadata": {},
   "outputs": [],
   "source": [
    "manga['WF50'] = np.NaN*np.ones(len(manga), dtype=float)\n",
    "manga['WP20'] = np.NaN*np.ones(len(manga), dtype=float)\n",
    "manga['logHI'] = np.NaN*np.ones(len(manga), dtype=float)"
   ]
  },
  {
   "cell_type": "markdown",
   "metadata": {},
   "source": [
    "##### Add ALFALFA HI data"
   ]
  },
  {
   "cell_type": "code",
   "execution_count": 4,
   "metadata": {},
   "outputs": [],
   "source": [
    "for i in range(len(alfaHI)):\n",
    "    \n",
    "    galID = alfaHI['PLATEIFU'][i]\n",
    "    plate, IFU = galID.split('-')\n",
    "    \n",
    "    # Find the corresponding row index for this galaxy in the MaNGA data table\n",
    "    plate_boolean = manga['MaNGA_plate'] == int(plate)\n",
    "    IFU_boolean = manga['MaNGA_IFU'] == int(IFU)\n",
    "    manga_boolean = np.logical_and(plate_boolean, IFU_boolean)\n",
    "    \n",
    "    # Add data to MaNGA data table\n",
    "    manga['WF50'][manga_boolean] = alfaHI['WF50'][i]\n",
    "    manga['WP20'][manga_boolean] = alfaHI['WP20'][i]\n",
    "    manga['logHI'][manga_boolean] = alfaHI['LOGMHI'][i]"
   ]
  },
  {
   "cell_type": "markdown",
   "metadata": {},
   "source": [
    "##### Add GBT HI data"
   ]
  },
  {
   "cell_type": "code",
   "execution_count": 5,
   "metadata": {},
   "outputs": [],
   "source": [
    "for i in range(len(mangaHI)):\n",
    "    \n",
    "    galID = mangaHI['plateifu'][i]\n",
    "    plate, IFU = galID.split('-')\n",
    "    \n",
    "    # Find the corresponding row index for this galaxy in the MaNGA data table\n",
    "    plate_boolean = manga['MaNGA_plate'] == int(plate)\n",
    "    IFU_boolean = manga['MaNGA_IFU'] == int(IFU)\n",
    "    manga_boolean = np.logical_and(plate_boolean, IFU_boolean)\n",
    "    \n",
    "    # Add data to MaNGA data table\n",
    "    manga['WF50'][manga_boolean] = mangaHI['WF50'][i]\n",
    "    manga['WP20'][manga_boolean] = mangaHI['WP20'][i]\n",
    "    manga['logHI'][manga_boolean] = mangaHI['logMHI'][i]"
   ]
  },
  {
   "cell_type": "markdown",
   "metadata": {},
   "source": [
    "## Isolate those MaNGA galaxies with HI detections\n",
    "\n",
    "We only want to analyze those galaxies in MaNGA with HI detections, so let's create a subset of the main MaNGA data table that contains only those galaxies with HI detections."
   ]
  },
  {
   "cell_type": "code",
   "execution_count": 6,
   "metadata": {},
   "outputs": [],
   "source": [
    "HI_boolean = np.logical_or.reduce((np.isfinite(manga['WF50']), \n",
    "                                   np.isfinite(manga['WP20']), \n",
    "                                   np.isfinite(manga['logHI'])))\n",
    "\n",
    "manga_HI = manga[HI_boolean]"
   ]
  },
  {
   "cell_type": "code",
   "execution_count": 7,
   "metadata": {},
   "outputs": [],
   "source": [
    "manga_HI.write('input/gbt_alfalfa_HIdata.txt', format = 'ascii.commented_header', overwrite = True)"
   ]
  },
  {
   "cell_type": "markdown",
   "metadata": {},
   "source": [
    "# Find distance to nearest neighbor for each MaNGA galaxy\n",
    "\n",
    "For each galaxy in the MaNGA data table, find its nearest neighbor and calculate the distance to that galaxy.\n",
    "1. Calculate the distance to every galaxy in SDSS DR7 for each MaNGA galaxy with an HI detection.\n",
    "2. Find the galaxy with the smallest distance - this is our nearest neighbor!  (Note: We need to check to make sure that we do not identify the MaNGA HI target galaxy as the nearest neighbor.)\n",
    "\n",
    "### Convert (ra, dec, redshift) to (x, y, z)\n",
    "\n",
    "Since we are going to do this for both the KIAS galaxies and the MaNGA galaxies, let's write a function."
   ]
  },
  {
   "cell_type": "code",
   "execution_count": 8,
   "metadata": {},
   "outputs": [],
   "source": [
    "c = 3e5 #3*(10**8) m/s <-- Scientific notation\n",
    "H = 100 #2.43 * (10**-18) 1/s <-- We are doing to do all of our distances in Mpc/h (where H0 = 100h).\n",
    "\n",
    "def rdz_to_xyz(data):\n",
    "    '''\n",
    "    Convert ra, dec, redshift to x, y, z\n",
    "    \n",
    "    \n",
    "    PARAMETERS\n",
    "    ==========\n",
    "    \n",
    "    data : astropy table\n",
    "        Galaxies to analyze.  Columns include ra, dec, redshift.\n",
    "        \n",
    "        \n",
    "    RETURNS\n",
    "    =======\n",
    "    \n",
    "    data : astropy table\n",
    "        Same as input data object, with the additional fields of x, y, z\n",
    "    '''\n",
    "\n",
    "    '''\n",
    "    # We can do this all at once, since we are doing the same calculation on every \n",
    "    # row of the data table.\n",
    "    \n",
    "    for i in range(len(data)):\n",
    "        radius_2 = c*data['redshift']/H\n",
    "        r_2 = radius_2\n",
    "        x_2_cor = r_2 * np.cos(kias7['ra'][i]* np.pi/180) * np.cos(kias7['dec'][i]* np.pi/180)\n",
    "        y_2_cor = r_2 * np.sin(kias7['ra'][i]* np.pi/180) * np.cos(kias7['dec'][i]* np.pi/180)\n",
    "        z_2_cor = r_2 * np.sin(kias7['ra'][i]* np.pi/180)\n",
    "        x_2.append(x_2_cor)\n",
    "        y_2.append(y_2_cor)\n",
    "        z_2.append(z_2_cor)\n",
    "    '''\n",
    "    \n",
    "    ################################################################################\n",
    "    # Our data tables have different column names, so we need to determine the \n",
    "    # correct names.\n",
    "    #-------------------------------------------------------------------------------\n",
    "    if 'redshift' in data.colnames:\n",
    "        redshift = data['redshift']\n",
    "        ra = data['ra'] * np.pi/180\n",
    "        dec = data['dec'] * np.pi/180\n",
    "    elif 'NSA_redshift' in data.colnames:\n",
    "        redshift = data['NSA_redshift']\n",
    "        ra = data['NSA_RA'] * np.pi/180\n",
    "        dec = data['NSA_DEC'] * np.pi/180\n",
    "    else:\n",
    "        print('Unknown field names.  Add to rdz_to_xyz function and rerun.')\n",
    "        return data\n",
    "    ################################################################################\n",
    "    \n",
    "    \n",
    "    ################################################################################\n",
    "    # Convert from spherical to cartesian coordinates\n",
    "    #-------------------------------------------------------------------------------\n",
    "    r = c*redshift/H\n",
    "    \n",
    "    data['x'] = r * np.cos(ra) * np.cos(dec)\n",
    "    data['y'] = r * np.sin(ra) * np.cos(dec)\n",
    "    data['z'] = r * np.sin(dec)\n",
    "    ################################################################################\n",
    "    \n",
    "    return data"
   ]
  },
  {
   "cell_type": "code",
   "execution_count": null,
   "metadata": {},
   "outputs": [],
   "source": []
  },
  {
   "cell_type": "code",
   "execution_count": 9,
   "metadata": {},
   "outputs": [],
   "source": [
    "# Now that we have our function written, we can do this conversion on both data tables\n",
    "manga_HI = rdz_to_xyz(manga_HI)\n",
    "kias7 = rdz_to_xyz(kias7)"
   ]
  },
  {
   "cell_type": "markdown",
   "metadata": {},
   "source": [
    "### Calculate distance between galaxies and find the closest one"
   ]
  },
  {
   "cell_type": "code",
   "execution_count": 10,
   "metadata": {},
   "outputs": [],
   "source": [
    "# Generates x_tree, y_tree, z_tree array for kias7\n",
    "x_tree = np.asarray(kias7['x'])\n",
    "x_tree = x_tree.astype(np.float64)\n",
    "x_tree = x_tree.reshape(x_tree.shape[0],1)\n",
    "y_tree = np.asarray(kias7['y'])\n",
    "y_tree = y_tree.astype(np.float64)\n",
    "y_tree = y_tree.reshape(y_tree.shape[0],1)\n",
    "z_tree = np.asarray(kias7['z'])\n",
    "z_tree = z_tree.astype(np.float64)\n",
    "z_tree = z_tree.reshape(z_tree.shape[0],1)\n",
    "xyz_tree = np.concatenate((x_tree,y_tree,z_tree), axis=1)\n",
    "\n",
    "# Generates x_query, y_query, z_query array for manga\n",
    "x_query = np.asarray(manga_HI['x'])\n",
    "x_query = x_query.astype(np.float64)\n",
    "x_query = x_query.reshape(x_query.shape[0],1)\n",
    "y_query = np.asarray(manga_HI['y'])\n",
    "y_query = y_query.astype(np.float64)\n",
    "y_query = y_query.reshape(y_query.shape[0],1)\n",
    "z_query = np.asarray(manga_HI['z'])\n",
    "z_query = z_query.astype(np.float64)\n",
    "z_query = z_query.reshape(z_query.shape[0],1)\n",
    "xyz_query = np.concatenate((x_query,y_query,z_query), axis=1)"
   ]
  },
  {
   "cell_type": "code",
   "execution_count": 11,
   "metadata": {
    "scrolled": true
   },
   "outputs": [],
   "source": [
    "# Generate KDTree for kias7\n",
    "tree = KDTree(xyz_tree)"
   ]
  },
  {
   "cell_type": "code",
   "execution_count": 12,
   "metadata": {},
   "outputs": [
    {
     "data": {
      "text/plain": [
       "array([1.23878972, 0.657584  , 0.35897515, ..., 0.2109972 , 0.47263304,\n",
       "       0.87133691])"
      ]
     },
     "execution_count": 12,
     "metadata": {},
     "output_type": "execute_result"
    }
   ],
   "source": [
    "nearest_distances, _ = tree.query(xyz_query, k=2)\n",
    "nearest_distances = nearest_distances[:,1]\n",
    "nearest_distances"
   ]
  },
  {
   "cell_type": "code",
   "execution_count": 13,
   "metadata": {},
   "outputs": [],
   "source": [
    "manga_HI['d_nn'] = np.zeros(len(manga_HI), dtype=float)\n",
    "manga_HI['d_nn'] = nearest_distances"
   ]
  },
  {
   "cell_type": "code",
   "execution_count": 14,
   "metadata": {},
   "outputs": [
    {
     "data": {
      "text/html": [
       "<i>Table length=1352</i>\n",
       "<table id=\"table2953450103240\" class=\"table-striped table-bordered table-condensed\">\n",
       "<thead><tr><th>MaNGA_plate</th><th>MaNGA_IFU</th><th>NSA_plate</th><th>NSA_fiberID</th><th>NSA_MJD</th><th>NSA_index</th><th>NSA_RA</th><th>NSA_DEC</th><th>NSA_ba</th><th>NSA_phi</th><th>NSA_redshift</th><th>NSA_Mstar</th><th>vflag</th><th>avg_v_max</th><th>avg_v_max_sigma</th><th>avg_alpha</th><th>avg_alpha_sigma</th><th>avg_chi_square_rot</th><th>pos_v_max</th><th>pos_v_max_sigma</th><th>pos_alpha</th><th>pos_alpha_sigma</th><th>pos_chi_square_rot</th><th>neg_v_max</th><th>neg_v_max_sigma</th><th>neg_alpha</th><th>neg_alpha_sigma</th><th>neg_chi_square_rot</th><th>center_flux</th><th>center_flux_error</th><th>Mtot</th><th>Mtot_error</th><th>Mdark</th><th>Mdark_error</th><th>Mstar</th><th>Mdark_Mstar_ratio</th><th>Mdark_Mstar_ratio_error</th><th>rabsmag</th><th>avg_r_turn</th><th>avg_r_turn_sigma</th><th>pos_r_turn</th><th>pos_r_turn_sigma</th><th>neg_r_turn</th><th>neg_r_turn_sigma</th><th>logNO</th><th>t3</th><th>BPT</th><th>curve_used</th><th>points_cut</th><th>avg_chi_square_ndf</th><th>pos_chi_square_ndf</th><th>neg_chi_square_ndf</th><th>index</th><th>Z12logOH</th><th>u_r</th><th>frac_masked_spaxels</th><th>Rmax</th><th>Mtot_Mstar_ratio</th><th>Mtot_Mstar_ratio_error</th><th>smoothness_score</th><th>CMD_class</th><th>Mstar_turn</th><th>SFR</th><th>sSFR</th><th>pos_Vmax_data</th><th>avg_Vmax_data</th><th>neg_Vmax_data</th><th>WF50</th><th>WP20</th><th>logHI</th><th>x</th><th>y</th><th>z</th><th>d_nn</th></tr></thead>\n",
       "<thead><tr><th>int32</th><th>int32</th><th>int32</th><th>int32</th><th>int32</th><th>int32</th><th>float64</th><th>float64</th><th>float64</th><th>float64</th><th>float64</th><th>float64</th><th>float64</th><th>float64</th><th>float64</th><th>float64</th><th>float64</th><th>float64</th><th>float64</th><th>float64</th><th>float64</th><th>float64</th><th>float64</th><th>float64</th><th>float64</th><th>float64</th><th>float64</th><th>float64</th><th>float64</th><th>float64</th><th>float64</th><th>float64</th><th>float64</th><th>float64</th><th>float64</th><th>float64</th><th>float64</th><th>float64</th><th>float64</th><th>float64</th><th>float64</th><th>float64</th><th>float64</th><th>float64</th><th>float64</th><th>float64</th><th>float64</th><th>int32</th><th>int32</th><th>float64</th><th>float64</th><th>float64</th><th>int32</th><th>float64</th><th>float64</th><th>float64</th><th>float64</th><th>float64</th><th>float64</th><th>float64</th><th>int32</th><th>float64</th><th>float64</th><th>float64</th><th>float64</th><th>float64</th><th>float64</th><th>float64</th><th>float64</th><th>float64</th><th>float64</th><th>float64</th><th>float64</th><th>float64</th></tr></thead>\n",
       "<tr><td>8465</td><td>1901</td><td>1281</td><td>231</td><td>52753</td><td>247928</td><td>197.44581468983537</td><td>48.899591403437014</td><td>0.7684928178787231</td><td>18.52703857421875</td><td>0.028888285160064697</td><td>15041360896.0</td><td>0.0</td><td>694.1065598029447</td><td>64.28960377376522</td><td>169.88497626173015</td><td>1.7327077246997473e-05</td><td>15.217068463480258</td><td>670.7653939526836</td><td>15.960128227576048</td><td>6.971553117105116</td><td>3.3409887210988973</td><td>16.662168571733133</td><td>1824.214984439412</td><td>1128158.8728166134</td><td>10.139927187019886</td><td>342203353.66120255</td><td>562.2702918190502</td><td>0.2404831498861313</td><td>0.00282066542648091</td><td>235168173081.6036</td><td>43563538091.837006</td><td>212601943793.92502</td><td>43563538091.837006</td><td>22566229287.678577</td><td>9.421243623984985</td><td>1.9304748496738533</td><td>-19.729339599609375</td><td>1.543808157566983</td><td>0.16833871490329255</td><td>0.7834103370121185</td><td>0.04388640897002279</td><td>12.055743708240605</td><td>7457.1345332868905</td><td>-99.0</td><td>-99.0</td><td>2.0</td><td>-99</td><td>0</td><td>7.608534231740129</td><td>8.331084285866567</td><td>281.1351459095251</td><td>892095</td><td>9.46977439171353</td><td>2.427546977996826</td><td>0.07550335570469799</td><td>2.0993620223274516</td><td>10.421243623984985</td><td>1.9304748496738533</td><td>2.5540066976945326</td><td>3</td><td>-1.0</td><td>-1.0557212829589844</td><td>-11.407499313354492</td><td>835.9509258900858</td><td>705.7810819757563</td><td>-10.044590650342819</td><td>236.0</td><td>268.0</td><td>9.34000015258789</td><td>-54.35114534553452</td><td>-17.08035669799775</td><td>65.30705620452258</td><td>1.2387897185381238</td></tr>\n",
       "<tr><td>8249</td><td>3702</td><td>899</td><td>202</td><td>52620</td><td>164473</td><td>137.03265262994884</td><td>45.92096195150727</td><td>0.4280976951122284</td><td>47.86474609375</td><td>0.02679748833179474</td><td>4316812800.0</td><td>0.0</td><td>470.17155751503515</td><td>1764.5963567538108</td><td>0.9114709790034429</td><td>1.632624280324924</td><td>1.0792643567173899</td><td>34.92250964449018</td><td>1.714344719842902</td><td>137.1392992341442</td><td>579174444.6396726</td><td>3.3911074849327174</td><td>242.99019897544017</td><td>3887704333.4850802</td><td>171.2340152243181</td><td>0.0</td><td>26.156873020790904</td><td>0.08108656108379364</td><td>0.00201356164064311</td><td>180170543139.84866</td><td>1352392670031.6855</td><td>165985843226.1657</td><td>1352392670031.6855</td><td>14184699913.682957</td><td>11.701752186244782</td><td>95.34164827323065</td><td>-18.68962860107422</td><td>13.156762781102165</td><td>45.537164179135054</td><td>1.3032636040779486</td><td>0.18480939543790068</td><td>5.718307576497459</td><td>91489655.31072567</td><td>-99.0</td><td>-99.0</td><td>1.0</td><td>0</td><td>0</td><td>0.17987739278623163</td><td>0.5651845808221195</td><td>4.359478836798484</td><td>831037</td><td>8.984175177316411</td><td>2.073540985584259</td><td>0.07431796801505174</td><td>3.5053563122378297</td><td>12.701752186244782</td><td>95.34164827323065</td><td>1.481725305076537</td><td>2</td><td>8199197485.337716</td><td>0.0772257074713707</td><td>-9.959590911865234</td><td>39.338789135570636</td><td>90.5359425921002</td><td>-10.491716704738925</td><td>640.0</td><td>330.0</td><td>9.369999885559082</td><td>-40.92269992292892</td><td>38.11745635132102</td><td>57.752407571954315</td><td>0.657583997773578</td></tr>\n",
       "<tr><td>8247</td><td>6103</td><td>1200</td><td>480</td><td>52668</td><td>229715</td><td>136.71998244421826</td><td>41.408251709516264</td><td>0.6868849992752075</td><td>61.6627197265625</td><td>0.02735770121216774</td><td>40276209664.0</td><td>0.0</td><td>480.5235751703897</td><td>116.65286524888765</td><td>1.383578972545609</td><td>0.6374423878026014</td><td>32.27335181919168</td><td>407.07638916038286</td><td>17.12196986199509</td><td>4.900489396452084</td><td>2.180848875031777</td><td>205.39409595676938</td><td>278.71867981063366</td><td>40.72662777376588</td><td>29.059133229461185</td><td>634.7538393034314</td><td>212.15424466509577</td><td>0.2653121054172516</td><td>0.00239786966525532</td><td>234820585972.89932</td><td>114011031374.66031</td><td>139198307163.61026</td><td>114011031374.66031</td><td>95622278809.28906</td><td>1.4557099966340488</td><td>1.1923061528584373</td><td>-20.84718132019043</td><td>2.4679261518989666</td><td>0.27627203972039177</td><td>2.1643161548417322</td><td>0.11434532279654548</td><td>3.227164342160436</td><td>0.4689758884629301</td><td>-99.0</td><td>-99.0</td><td>4.0</td><td>0</td><td>0</td><td>4.03416897739896</td><td>25.674261994596172</td><td>26.519280583136972</td><td>865467</td><td>9.566593398333495</td><td>2.4301613867282867</td><td>0.01750291715285881</td><td>4.373890003318273</td><td>2.4557099966340488</td><td>1.1923061528584373</td><td>2.0111766824246584</td><td>3</td><td>13049156328.120031</td><td>-0.8739669322967529</td><td>-11.816987037658691</td><td>466.276099240144</td><td>369.0430718930022</td><td>-32.12898386004601</td><td>-999.0</td><td>-999.0</td><td>-999.0</td><td>-44.81359227854533</td><td>42.20069443681541</td><td>54.284783104209204</td><td>0.3589751529546998</td></tr>\n",
       "<tr><td>8247</td><td>3701</td><td>0</td><td>0</td><td>0</td><td>623071</td><td>136.67142399155242</td><td>41.36510694338094</td><td>0.7864730358123779</td><td>178.7677001953125</td><td>0.024950632825493813</td><td>18781743104.0</td><td>2.0</td><td>-1.0</td><td>-1.0</td><td>-1.0</td><td>-1.0</td><td>-1.0</td><td>-1.0</td><td>-1.0</td><td>-1.0</td><td>-1.0</td><td>-1.0</td><td>-1.0</td><td>-1.0</td><td>-1.0</td><td>-1.0</td><td>-1.0</td><td>0.20872342586517334</td><td>0.00173680385041613</td><td>-1.0</td><td>-1.0</td><td>-1.0</td><td>-1.0</td><td>2200273842.827585</td><td>-1.0</td><td>-1.0</td><td>-19.870479583740234</td><td>-1.0</td><td>-1.0</td><td>-1.0</td><td>-1.0</td><td>-1.0</td><td>-1.0</td><td>-99.0</td><td>-99.0</td><td>-99.0</td><td>-99</td><td>1</td><td>-1.0</td><td>-1.0</td><td>-1.0</td><td>-1</td><td>-99.0</td><td>2.0421303808689117</td><td>0.013876040703052728</td><td>0.36264119311096604</td><td>-1.0</td><td>-1.0</td><td>1.302850605175598</td><td>-1</td><td>-1.0</td><td>-99.0</td><td>-99.0</td><td>23.87114459289337</td><td>17.665834311429567</td><td>-11.460524029965764</td><td>135.0</td><td>183.0</td><td>10.130000114440918</td><td>-40.865141126940266</td><td>38.54785946816618</td><td>49.46624583118523</td><td>0.646522307213962</td></tr>\n",
       "<tr><td>8247</td><td>3702</td><td>831</td><td>566</td><td>52294</td><td>145914</td><td>136.68645846972245</td><td>44.26098090651723</td><td>0.8536289930343628</td><td>143.48269653320312</td><td>0.04902467131614685</td><td>84084957184.0</td><td>0.0</td><td>13271.528426122239</td><td>2.2967014128675072e-07</td><td>0.12020554659526465</td><td>0.06816170867436938</td><td>296.43611055884014</td><td>2550.2459775847356</td><td>3.842761750489454e-05</td><td>0.24069388774673536</td><td>0.250660066822173</td><td>8370.108010329943</td><td>628.1800129666518</td><td>13.616988706316013</td><td>137.46121239440674</td><td>2.0344049249155e-10</td><td>411.5746898238024</td><td>0.24294009804725647</td><td>0.00201870240781108</td><td>-1.0</td><td>-1.0</td><td>-1.0</td><td>-1.0</td><td>130866260296.97093</td><td>-1.0</td><td>-1.0</td><td>-21.58568572998047</td><td>0.0010000000818081742</td><td>0.009983613628275805</td><td>0.0010000000000006085</td><td>0.012304244856312966</td><td>2.3658280474707043</td><td>0.12562323497326972</td><td>-99.0</td><td>-99.0</td><td>-1.0</td><td>-99</td><td>5</td><td>148.21805527942007</td><td>4185.054005164971</td><td>205.7873449119012</td><td>801272</td><td>-99.0</td><td>2.5122663378715515</td><td>0.08683473389355742</td><td>7.125416586546472</td><td>-1.0</td><td>-1.0</td><td>2.603405786682004</td><td>3</td><td>-1.0</td><td>-0.9129770994186401</td><td>-12.106250762939453</td><td>1452.9612043996913</td><td>1109.6154983970866</td><td>-167.77574956253926</td><td>-999.0</td><td>-999.0</td><td>-999.0</td><td>-76.63903408550985</td><td>72.25517808057572</td><td>102.64703246509583</td><td>1.1619795334936944</td></tr>\n",
       "<tr><td>9027</td><td>9101</td><td>1420</td><td>480</td><td>53146</td><td>288096</td><td>243.907395060569</td><td>31.321300172028923</td><td>0.2478257268667221</td><td>12.53717041015625</td><td>0.022197719663381577</td><td>6357054976.0</td><td>1.0</td><td>143.41625230335245</td><td>11.387426279810626</td><td>3.121300721901849</td><td>1.7486991941586147</td><td>20.950266632157476</td><td>144.7426046530617</td><td>9.071277318090496</td><td>3.4684168083554443</td><td>1.7822240734216814</td><td>86.54562896978088</td><td>129.3917622964467</td><td>3.526018543886885</td><td>7.105056815184836</td><td>2.9474729683974736</td><td>32.059237281555845</td><td>0.08258390426635742</td><td>0.0018615952029485</td><td>18514876877.181465</td><td>2940207880.821305</td><td>3532937939.1869583</td><td>2940207880.821305</td><td>14981938937.994507</td><td>0.23581313165196227</td><td>0.1962501578060018</td><td>-19.062028884887695</td><td>2.1566702031396177</td><td>0.24781426275022517</td><td>1.8458884065914891</td><td>0.15585169314418632</td><td>2.629565505959378</td><td>0.09425871053554932</td><td>-99.0</td><td>-99.0</td><td>3.0</td><td>0</td><td>0</td><td>2.3278074035730527</td><td>9.61618099664232</td><td>3.562137475728427</td><td>1403706</td><td>9.097892494771862</td><td>2.055821865797043</td><td>0.35289323553382235</td><td>3.871552725434552</td><td>1.2358131316519623</td><td>0.1962501578060018</td><td>1.041116479061713</td><td>1</td><td>1838716341.6497998</td><td>-0.1358650177717209</td><td>-10.324999809265137</td><td>148.62953449283415</td><td>138.53205003215066</td><td>-9.03458517236471</td><td>304.0</td><td>114.0</td><td>9.890000343322754</td><td>-25.020774347978318</td><td>-51.09044461725598</td><td>34.617569876080886</td><td>0.6227146442671389</td></tr>\n",
       "<tr><td>8247</td><td>12705</td><td>1200</td><td>508</td><td>52668</td><td>229734</td><td>137.0680848676187</td><td>41.639190409495505</td><td>0.15000000596046448</td><td>175.92236328125</td><td>0.041336655616760254</td><td>4659076608.0</td><td>0.0</td><td>152.73665198298426</td><td>10.500002248840557</td><td>3.9490298437269127</td><td>1.8907013151497618</td><td>54.39826412566141</td><td>132.28570520519864</td><td>2.6146147775838235</td><td>5.667330597244497</td><td>1.613465172153627</td><td>15.482585362279522</td><td>169.2447592768294</td><td>13.864949875798597</td><td>4.153149166041534</td><td>2.0171094232695492</td><td>403.7520017355629</td><td>0.020440110936760902</td><td>0.00068871890433546</td><td>48881847274.7396</td><td>6720842790.586968</td><td>31032885962.42128</td><td>6720842790.586968</td><td>17848961312.31832</td><td>1.7386381996919997</td><td>0.37653971415964865</td><td>-18.88789939880371</td><td>4.0516303106164715</td><td>0.26724507856157576</td><td>3.659457492333495</td><td>0.12245384903339204</td><td>4.368505559756306</td><td>0.3146883181061038</td><td>-99.0</td><td>-99.0</td><td>1.0</td><td>0</td><td>1</td><td>4.945296738696492</td><td>1.4075077602072292</td><td>36.70472743050572</td><td>865485</td><td>9.139948328536303</td><td>2.051490694284439</td><td>0.6902707527521571</td><td>9.01202038657052</td><td>2.7386381996919997</td><td>0.37653971415964865</td><td>1.5584877446565801</td><td>1</td><td>1017640217.4491414</td><td>-0.25013697147369385</td><td>-10.469230651855469</td><td>279.175491457627</td><td>369.04036708090393</td><td>-12.788712615970605</td><td>-999.0</td><td>-999.0</td><td>-999.0</td><td>-67.85551625914216</td><td>63.12570907798632</td><td>82.39687885359773</td><td>1.4961989348925817</td></tr>\n",
       "<tr><td>9025</td><td>12704</td><td>1421</td><td>421</td><td>53149</td><td>686771</td><td>246.0507635994345</td><td>30.16226141095792</td><td>0.5448060631752014</td><td>4.981719970703125</td><td>0.04824474826455116</td><td>81652400128.0</td><td>0.0</td><td>298.2854283631848</td><td>29.51383595875583</td><td>1.4139030527416887</td><td>0.6736305347474052</td><td>74.06966395843754</td><td>393.91130366085275</td><td>13.13187542880857</td><td>2.2358894544520047</td><td>0.5380928752789981</td><td>72.20524916749875</td><td>169.6033520050337</td><td>1235.6727239270533</td><td>93.06953162443955</td><td>60261312100.258575</td><td>324.93571887744287</td><td>0.10440956801176071</td><td>0.00173073812882276</td><td>174072372164.3682</td><td>34447163566.35058</td><td>52555676315.041306</td><td>34447163566.35058</td><td>121516695849.32689</td><td>0.4324975753143178</td><td>0.28347679572412754</td><td>-21.727521896362305</td><td>1.884453378926494</td><td>0.6176565536146557</td><td>3.2536610654498075</td><td>0.3508866151773397</td><td>1.412523691338707</td><td>10.326765959362742</td><td>-99.0</td><td>-99.0</td><td>4.0</td><td>0</td><td>0</td><td>8.229962662048615</td><td>8.022805463055416</td><td>36.10396876416032</td><td>1404510</td><td>9.698009590213221</td><td>1.9292676448822021</td><td>0.01702000597193192</td><td>8.414471822511194</td><td>1.4324975753143179</td><td>0.28347679572412754</td><td>1.230347495467231</td><td>2</td><td>12299262340.381403</td><td>-0.5326610803604126</td><td>-11.72318172454834</td><td>374.82120771470136</td><td>354.34543221774067</td><td>-77.14722587431815</td><td>445.0</td><td>59.0</td><td>10.489999771118164</td><td>-50.796939469154445</td><td>-114.36438154602925</td><td>72.72180409031748</td><td>1.0348689090868337</td></tr>\n",
       "<tr><td>9027</td><td>12703</td><td>1420</td><td>549</td><td>53146</td><td>288140</td><td>245.40277975395685</td><td>30.869563627379286</td><td>0.9324136972427368</td><td>157.256591796875</td><td>0.04606323316693306</td><td>38981578752.0</td><td>1.0</td><td>41109.876389045225</td><td>1537681.9502266543</td><td>0.4255229504687845</td><td>2.7071180994269843</td><td>82.44507860596583</td><td>214.38856930060933</td><td>51.71046230004781</td><td>2.0679846655174754</td><td>0.8615220286084495</td><td>26.721655608037747</td><td>570.9687849073134</td><td>16439544523.116346</td><td>23.622258718890723</td><td>641724646.0568384</td><td>651.3983380120123</td><td>0.04748017340898514</td><td>0.00104199953660279</td><td>114475390444.6386</td><td>55222863677.91063</td><td>46845480976.73673</td><td>55222863677.91063</td><td>67629909467.90186</td><td>0.6926740157617729</td><td>0.8165449889315644</td><td>-20.089336395263672</td><td>999.9999952251889</td><td>36172.93006082476</td><td>5.6547550825707535</td><td>1.1799223658403926</td><td>15.410348868643725</td><td>443700466.2798578</td><td>-99.0</td><td>-99.0</td><td>1.0</td><td>1</td><td>5</td><td>10.305634825745729</td><td>3.3402069510047183</td><td>81.42479225150154</td><td>1414076</td><td>9.006664421928336</td><td>1.637093871831894</td><td>0.025657071339173967</td><td>10.711985351898342</td><td>1.692674015761773</td><td>0.8165449889315644</td><td>1.7535490551742132</td><td>1</td><td>3023847529.9554315</td><td>0.2807866334915161</td><td>-9.666075706481934</td><td>684.4685033225586</td><td>1026.214132433414</td><td>-28.87591192857151</td><td>161.0</td><td>199.0</td><td>9.90999984741211</td><td>-49.371253158848596</td><td>-107.84999353142484</td><td>70.90311209613918</td><td>0.24304867110868875</td></tr>\n",
       "<tr><td>9002</td><td>12702</td><td>1843</td><td>163</td><td>53816</td><td>394793</td><td>222.81006940236185</td><td>30.692245718316695</td><td>0.6178588271141052</td><td>45.91986083984375</td><td>0.054719820618629456</td><td>179303301120.0</td><td>0.0</td><td>583.6904534348324</td><td>3591916013002.393</td><td>21.093868872852482</td><td>78572716409.28798</td><td>61.929331909994005</td><td>11614.788083093472</td><td>113262776756.0242</td><td>82.3812631314324</td><td>0.0</td><td>65.11573533300815</td><td>2686.0600550934105</td><td>82425259632.54808</td><td>24.494220150763205</td><td>0.0</td><td>657.7635070474943</td><td>0.14785002171993256</td><td>0.00204798624301575</td><td>-1.0</td><td>-1.0</td><td>-1.0</td><td>-1.0</td><td>222237336157.6498</td><td>-1.0</td><td>-1.0</td><td>-22.520023345947266</td><td>16.0865376975904</td><td>98993384721.28127</td><td>325.84959407819144</td><td>3177555202.819009</td><td>68.05572696158983</td><td>2088378871.3042414</td><td>-99.0</td><td>-99.0</td><td>4.0</td><td>-99</td><td>8</td><td>12.3858663819988</td><td>13.023147066601629</td><td>131.55270140949887</td><td>1459934</td><td>10.296096284219688</td><td>2.4500837922096252</td><td>0.09491017964071856</td><td>12.72507109522748</td><td>-1.0</td><td>-1.0</td><td>2.370550551242557</td><td>3</td><td>-1.0</td><td>-0.6557852029800415</td><td>-12.195341110229492</td><td>558.2780673712952</td><td>708.3441841954079</td><td>-7.085287633755089</td><td>-999.0</td><td>-999.0</td><td>-999.0</td><td>-103.5595518724236</td><td>-95.9310083940319</td><td>83.79134657768577</td><td>0.6221793705461346</td></tr>\n",
       "<tr><td>...</td><td>...</td><td>...</td><td>...</td><td>...</td><td>...</td><td>...</td><td>...</td><td>...</td><td>...</td><td>...</td><td>...</td><td>...</td><td>...</td><td>...</td><td>...</td><td>...</td><td>...</td><td>...</td><td>...</td><td>...</td><td>...</td><td>...</td><td>...</td><td>...</td><td>...</td><td>...</td><td>...</td><td>...</td><td>...</td><td>...</td><td>...</td><td>...</td><td>...</td><td>...</td><td>...</td><td>...</td><td>...</td><td>...</td><td>...</td><td>...</td><td>...</td><td>...</td><td>...</td><td>...</td><td>...</td><td>...</td><td>...</td><td>...</td><td>...</td><td>...</td><td>...</td><td>...</td><td>...</td><td>...</td><td>...</td><td>...</td><td>...</td><td>...</td><td>...</td><td>...</td><td>...</td><td>...</td><td>...</td><td>...</td><td>...</td><td>...</td><td>...</td><td>...</td><td>...</td><td>...</td><td>...</td><td>...</td><td>...</td></tr>\n",
       "<tr><td>9088</td><td>12702</td><td>1393</td><td>218</td><td>52824</td><td>281018</td><td>242.31547370889774</td><td>25.712469573205063</td><td>0.768697202205658</td><td>147.42037963867188</td><td>0.041165757924318314</td><td>103052369920.0</td><td>0.0</td><td>208.16299905670087</td><td>88.69922769298331</td><td>1.000020218110076</td><td>1.085827255470097</td><td>3940.7125847538214</td><td>254.4772446459477</td><td>3.889384344591671</td><td>2.4436255796409565</td><td>0.36234707006629</td><td>110.46806406085712</td><td>2963.1712172038083</td><td>1689570.3182505649</td><td>0.09705283108646683</td><td>15.04124443386479</td><td>47258.6040466016</td><td>0.15718062222003937</td><td>0.00202700880228634</td><td>162158982079.47238</td><td>4956818654.483798</td><td>-65024635932.627075</td><td>4956818654.483798</td><td>227183618012.09946</td><td>-0.28622061969786905</td><td>0.021818556715739096</td><td>-21.898273468017578</td><td>1.9559713924186815</td><td>1.5587298558868812</td><td>2.912475908199995</td><td>0.20058394646639216</td><td>0.0010009933738809387</td><td>1.3521465835647826</td><td>-99.0</td><td>-99.0</td><td>5.0</td><td>1</td><td>0</td><td>262.7141723169214</td><td>7.3645376040571415</td><td>3150.573603106773</td><td>1445685</td><td>9.94039293743559</td><td>2.4144110083580017</td><td>0.012881965248651888</td><td>10.769714504687627</td><td>0.713779380302131</td><td>0.021818556715739096</td><td>1.4765238227902124</td><td>2</td><td>22784025500.662712</td><td>-0.582743227481842</td><td>-11.96328067779541</td><td>250.77966703368799</td><td>307.1305181336709</td><td>-54.235534652267624</td><td>-999.0</td><td>-999.0</td><td>-999.0</td><td>-51.69585383976996</td><td>-98.53073740752042</td><td>53.579931980729334</td><td>0.3129132925865335</td></tr>\n",
       "<tr><td>9088</td><td>3703</td><td>1393</td><td>277</td><td>52824</td><td>281047</td><td>241.20267373299887</td><td>26.413352631141198</td><td>0.21977287530899048</td><td>79.54705810546875</td><td>0.04776512086391449</td><td>14810181632.0</td><td>0.0</td><td>873.3164736660599</td><td>9199613664.363564</td><td>14.273684423444003</td><td>177329351.16659042</td><td>40.7089224580025</td><td>196.78833863909213</td><td>4.512451954441926</td><td>16.665806188808958</td><td>42.90403776867756</td><td>27.22938323989379</td><td>5078.603619061961</td><td>67486907221.07453</td><td>4.96907356786901</td><td>20425685.26299789</td><td>191.18309656984678</td><td>0.0831480398774147</td><td>0.00129973916842941</td><td>1107978100096.869</td><td>2.334313110269884e+19</td><td>1076332798578.2856</td><td>2.334313110269884e+19</td><td>31645301518.5833</td><td>34.01240458859976</td><td>737649192.2186579</td><td>-19.73301887512207</td><td>21.564152233092646</td><td>227159200.76773798</td><td>4.404299168292157</td><td>0.5370724471241529</td><td>129.9505578217583</td><td>1726845016.5608058</td><td>-99.0</td><td>-99.0</td><td>5.0</td><td>0</td><td>0</td><td>6.784820409667083</td><td>4.538230539982298</td><td>31.863849428307798</td><td>1445661</td><td>9.554313023392945</td><td>2.7892515063285828</td><td>0.40693430656934304</td><td>6.248114220707331</td><td>35.01240458859976</td><td>737649192.2186579</td><td>2.0277510892427886</td><td>2</td><td>14269437798.162136</td><td>-0.9428175091743469</td><td>-11.626704216003418</td><td>198.65121446231316</td><td>426.28397058283986</td><td>-28.496628178652024</td><td>-999.0</td><td>-999.0</td><td>-999.0</td><td>-61.821327203729325</td><td>-112.46500813536029</td><td>63.744069435375835</td><td>1.0457558765996957</td></tr>\n",
       "<tr><td>9088</td><td>6104</td><td>1576</td><td>391</td><td>53496</td><td>313645</td><td>243.83372589175886</td><td>26.624540105892972</td><td>0.4682233929634094</td><td>81.59396362304688</td><td>0.032197147607803345</td><td>48873017344.0</td><td>0.0</td><td>267.8841436977581</td><td>25.252577257299865</td><td>3.2710546558998206</td><td>1.8679346550741156</td><td>44.25188095559508</td><td>355.3475820432913</td><td>6.964086972200952</td><td>7.316904987662692</td><td>3.0633395935472487</td><td>231.10686023044516</td><td>170.15888931689202</td><td>138.6273292223338</td><td>222.16158949261754</td><td>321473229.649579</td><td>40.70994046792664</td><td>0.30448663234710693</td><td>0.00449214057276217</td><td>93697314119.9853</td><td>17665089450.737354</td><td>18563765917.52841</td><td>17665089450.737354</td><td>75133548202.4569</td><td>0.24707692318092025</td><td>0.2351158686547922</td><td>-21.0015811920166</td><td>2.173063805393128</td><td>0.24649987527025716</td><td>1.7152735589266201</td><td>0.10409862405759951</td><td>3.999136885372845</td><td>3.208014176752967</td><td>-99.0</td><td>-99.0</td><td>5.0</td><td>-99</td><td>3</td><td>7.3753134925991795</td><td>38.517810038407525</td><td>6.784990077987774</td><td>1434546</td><td>9.784303746390346</td><td>2.6557299494743347</td><td>0.08626974483596597</td><td>5.615574773558524</td><td>1.2470769231809202</td><td>0.2351158686547922</td><td>2.4041213989257812</td><td>2</td><td>-1.0</td><td>-1.0446875095367432</td><td>-12.182910919189453</td><td>567.1709782033853</td><td>464.91738796448254</td><td>0.0</td><td>-999.0</td><td>-999.0</td><td>-999.0</td><td>-38.07802802638545</td><td>-77.49989410752198</td><td>43.28668411478029</td><td>0.7079457402188144</td></tr>\n",
       "<tr><td>9049</td><td>6103</td><td>1409</td><td>224</td><td>52824</td><td>285668</td><td>248.033489060858</td><td>25.653409513945288</td><td>0.44820570945739746</td><td>6.51580810546875</td><td>0.03945337235927582</td><td>2471013376.0</td><td>1.0</td><td>94.7782262669173</td><td>29.450549322423075</td><td>2.837823733950264</td><td>2.905992360779802</td><td>6.655557721932101</td><td>90.73311571109893</td><td>2.4729538938294446</td><td>10.528724305406593</td><td>7.737014014456571</td><td>16.226979418788748</td><td>270.21025565003293</td><td>4595611318.084886</td><td>13.865798977323633</td><td>133677075.1253025</td><td>21.64437275903881</td><td>0.055973395705223083</td><td>0.00115818458242735</td><td>10778995121.522602</td><td>6698739577.297707</td><td>3705604210.4664164</td><td>6698739577.297707</td><td>7073390911.056186</td><td>0.5238794599453436</td><td>0.9470337015910044</td><td>-18.834033966064453</td><td>2.8678394558796385</td><td>0.6469253920487726</td><td>2.1588732924884457</td><td>0.0943488101319314</td><td>13.157979575342102</td><td>223784850.64870888</td><td>-99.0</td><td>-99.0</td><td>-99.0</td><td>0</td><td>2</td><td>1.6638894304830252</td><td>4.056744854697187</td><td>5.411093189759702</td><td>-1</td><td>-99.0</td><td>1.7092029750347137</td><td>0.40011926058437686</td><td>5.160861575021893</td><td>1.5238794599453436</td><td>0.9470337015910044</td><td>1.9321162866550696</td><td>-1</td><td>551976385.0429434</td><td>-99.0</td><td>-99.0</td><td>354.4261147701673</td><td>415.3730748637429</td><td>-8.796122211474637</td><td>-999.0</td><td>-999.0</td><td>-999.0</td><td>-39.910180207322014</td><td>-98.94763464790921</td><td>51.241198542578815</td><td>1.9053070070997433</td></tr>\n",
       "<tr><td>9041</td><td>12702</td><td>1389</td><td>40</td><td>53135</td><td>279368</td><td>236.38975313592294</td><td>30.147406265830746</td><td>0.40695419907569885</td><td>166.07415771484375</td><td>0.0316280871629715</td><td>21674346496.0</td><td>0.0</td><td>197.77242843335193</td><td>2.975979730663147</td><td>3.928170763271941</td><td>0.91676356742259</td><td>18.416707356807578</td><td>222.39383620906727</td><td>3.57067271496321</td><td>3.2007041405682854</td><td>0.5629127672665848</td><td>111.11789332284032</td><td>172.76515763040737</td><td>1.6606918406741513</td><td>5.3669323535180755</td><td>1.0051758947992828</td><td>18.160535231870714</td><td>0.10828138887882233</td><td>0.00156664678733128</td><td>62709041036.27132</td><td>1887228554.2391627</td><td>3548494847.068115</td><td>1887228554.2391627</td><td>59160546189.2032</td><td>0.059980765487180634</td><td>0.03190012053309241</td><td>-20.5454044342041</td><td>2.228100105898747</td><td>0.14283591780536425</td><td>2.0995289912531168</td><td>0.09643746319209204</td><td>2.356019624912191</td><td>0.08986046985396944</td><td>-99.0</td><td>-99.0</td><td>3.0</td><td>0</td><td>0</td><td>1.5347256130672982</td><td>9.259824443570027</td><td>1.513377935989226</td><td>1402014</td><td>9.062931926237138</td><td>1.8009844422340393</td><td>0.09944920440636475</td><td>6.895404624494095</td><td>1.0599807654871807</td><td>0.03190012053309241</td><td>0.785809780358053</td><td>1</td><td>3934206244.4950323</td><td>0.23750007152557373</td><td>-10.510600090026855</td><td>232.41300554305093</td><td>202.8307910553978</td><td>-27.970320489045413</td><td>421.0</td><td>248.0</td><td>10.359999656677246</td><td>-45.41791704703028</td><td>-68.33294427582176</td><td>47.653379901148845</td><td>0.2799326458396118</td></tr>\n",
       "<tr><td>9041</td><td>6102</td><td>1390</td><td>329</td><td>53142</td><td>685750</td><td>235.86938348222907</td><td>29.78232883537513</td><td>0.7405362725257874</td><td>174.58840942382812</td><td>0.05907243490219116</td><td>23174473728.0</td><td>1.0</td><td>219.45856213089968</td><td>22.023459049650725</td><td>5.247109024445079</td><td>13.818494227339635</td><td>29.327339866068815</td><td>252.76005004523006</td><td>3.796608582447654</td><td>22.777054907572204</td><td>25.555093510436382</td><td>140.4869961243226</td><td>182.598480687273</td><td>9.188613538581988</td><td>8.460158682868045</td><td>8.075631028548683</td><td>16.18949849128915</td><td>0.13079199194908142</td><td>0.00130565337972101</td><td>57686695609.802864</td><td>11578136429.046663</td><td>15624510824.296616</td><td>11578136429.046663</td><td>42062184785.50625</td><td>0.3714621792465829</td><td>0.2752623642373481</td><td>-20.924983978271484</td><td>3.1377760024309658</td><td>2.097033946312934</td><td>3.449476169415534</td><td>0.18282801010508737</td><td>4.021330574317269</td><td>0.22861878607231625</td><td>-99.0</td><td>-99.0</td><td>-99.0</td><td>0</td><td>0</td><td>9.775779955356272</td><td>46.82899870810753</td><td>5.396499497096383</td><td>1386533</td><td>8.983384531524866</td><td>1.6176365315914154</td><td>0.07311028500619579</td><td>5.151476138355582</td><td>1.3714621792465829</td><td>0.2752623642373481</td><td>1.0949591978348512</td><td>1</td><td>7695315585.539813</td><td>0.7365836501121521</td><td>-9.788602828979492</td><td>253.6313384551543</td><td>217.01462255770394</td><td>-32.20033933671066</td><td>-999.0</td><td>-999.0</td><td>-999.0</td><td>-86.30004776203737</td><td>-127.31803753794557</td><td>88.0249519239793</td><td>0.7311357644171677</td></tr>\n",
       "<tr><td>9041</td><td>6104</td><td>1390</td><td>367</td><td>53142</td><td>279883</td><td>236.75568538146075</td><td>30.533172495524408</td><td>0.9427763223648071</td><td>160.52053833007812</td><td>0.05796516314148903</td><td>22325843968.0</td><td>1.0</td><td>243.56742457986175</td><td>5.539718289532711</td><td>8.126298432589346</td><td>3.9206875260737917</td><td>49.10164456694646</td><td>273.027795677891</td><td>4.585165972079673</td><td>33.80192978482701</td><td>138.03006367123044</td><td>143.7040257806534</td><td>215.45933584609534</td><td>6.701580308529568</td><td>4.440809995063524</td><td>1.8251796406539782</td><td>78.65566231308325</td><td>0.11280816793441772</td><td>0.0020525075642087</td><td>-1.0</td><td>-1.0</td><td>-1.0</td><td>-1.0</td><td>77362617610.44917</td><td>-1.0</td><td>-1.0</td><td>-20.99493980407715</td><td>2.5053490903671527</td><td>0.11693736836870545</td><td>2.7141571711532966</td><td>0.09678117645477848</td><td>2.179789575305772</td><td>0.15198648099856632</td><td>-99.0</td><td>-99.0</td><td>-1.0</td><td>-99</td><td>6</td><td>24.55082228347323</td><td>71.8520128903267</td><td>39.32783115654163</td><td>1433670</td><td>9.325596676411529</td><td>0.9844566881656647</td><td>0.0525990099009901</td><td>9.267344709960833</td><td>-1.0</td><td>-1.0</td><td>1.2854758972128102</td><td>1</td><td>-1.0</td><td>0.06335464864969254</td><td>-10.542099952697754</td><td>950.6389730512733</td><td>745.8852332623318</td><td>-51.97913541596007</td><td>-999.0</td><td>-999.0</td><td>-999.0</td><td>-82.11219135019849</td><td>-125.2690127223275</td><td>88.34536617965134</td><td>1.3497062998340825</td></tr>\n",
       "<tr><td>8258</td><td>1901</td><td>1436</td><td>8</td><td>53054</td><td>293220</td><td>166.62075818150163</td><td>44.850901514924416</td><td>0.5755273699760437</td><td>148.81805419921875</td><td>0.021031996235251427</td><td>1967635584.0</td><td>0.0</td><td>182.49716216725798</td><td>91.86091374112831</td><td>1.3566568148910367</td><td>1.2483464549817442</td><td>4.463351098765724</td><td>99.56472590581942</td><td>8.365440731842195</td><td>2.90126278442069</td><td>1.5338504967883482</td><td>5.22940637956348</td><td>99999.99610211504</td><td>5352456.738371764</td><td>0.16142272498870286</td><td>1.2657752274286034</td><td>26.333176644419247</td><td>0.1206330880522728</td><td>0.00213592260443865</td><td>16570104504.805866</td><td>16681299839.410295</td><td>9695767407.528587</td><td>16681299839.410295</td><td>6874337097.277279</td><td>1.4104294378244548</td><td>2.4266048643464493</td><td>-18.288663864135742</td><td>1.454277475348617</td><td>0.2503385089228538</td><td>0.975763905748298</td><td>0.12389385437468974</td><td>87.36089077259516</td><td>2966.2751450318196</td><td>-99.0</td><td>-99.0</td><td>3.0</td><td>0</td><td>0</td><td>1.115837774691431</td><td>1.30735159489087</td><td>6.583294161104812</td><td>1167713</td><td>9.160227007724636</td><td>1.7209076881408691</td><td>0.04187604690117253</td><td>2.1398045424822527</td><td>2.410429437824455</td><td>2.4266048643464493</td><td>0.8911484404877349</td><td>1</td><td>1106637676.2816668</td><td>-0.42020314931869507</td><td>-9.923791885375977</td><td>99.82080359572916</td><td>130.72946560600613</td><td>-28.26171335073236</td><td>224.0</td><td>236.0</td><td>9.229999542236328</td><td>-43.51752733921124</td><td>10.350677656436158</td><td>44.49934917602983</td><td>0.21099720344130313</td></tr>\n",
       "<tr><td>9027</td><td>12702</td><td>1420</td><td>464</td><td>53146</td><td>288090</td><td>243.98367731640627</td><td>31.40677033968543</td><td>0.4295338988304138</td><td>83.31521606445312</td><td>0.022563386708498</td><td>6841939456.0</td><td>1.0</td><td>163.4963167345443</td><td>11.078299506560429</td><td>1.615102804600522</td><td>0.3232646752386346</td><td>19.889933815460278</td><td>183.60699714753468</td><td>28.195095396366064</td><td>1.2422737865684832</td><td>0.3868787126237053</td><td>89.6656803905983</td><td>158.870085618665</td><td>7.799010638732981</td><td>1.9021081219798885</td><td>0.4028943901862599</td><td>30.40947274927909</td><td>0.06847184896469116</td><td>0.00138787773363603</td><td>36688268801.919</td><td>4971899598.374248</td><td>20151078650.361435</td><td>4971899598.374248</td><td>16537190151.557564</td><td>1.2185309877726413</td><td>0.3006495996483397</td><td>-19.697908401489258</td><td>2.250973954028615</td><td>0.13392452874069474</td><td>2.5472625370905964</td><td>0.2118901337934386</td><td>2.0807463011903917</td><td>0.14576187158609596</td><td>-99.0</td><td>-99.0</td><td>1.0</td><td>0</td><td>0</td><td>1.325995587697352</td><td>5.977712026039886</td><td>2.027298183285273</td><td>1413144</td><td>8.631621790520672</td><td>1.543707400560379</td><td>0.18027918027918027</td><td>5.902994269075175</td><td>2.2185309877726413</td><td>0.3006495996483397</td><td>0.8008311396059783</td><td>1</td><td>1036058702.0338829</td><td>0.022081302478909492</td><td>-10.007063865661621</td><td>142.4492311843019</td><td>145.5453324607982</td><td>-15.609368812804282</td><td>282.0</td><td>184.0</td><td>9.800000190734863</td><td>-25.340730258676707</td><td>-51.918651732783225</td><td>35.27405236178528</td><td>0.4726330417238624</td></tr>\n",
       "<tr><td>9028</td><td>3702</td><td>1406</td><td>389</td><td>52876</td><td>284813</td><td>242.48735655624068</td><td>30.106528252540375</td><td>0.25469061732292175</td><td>18.525177001953125</td><td>0.04822155833244324</td><td>13813671936.0</td><td>0.0</td><td>99999.99990872518</td><td>24778343.279729873</td><td>0.218045221481266</td><td>8.590541353026085</td><td>27.141131193614182</td><td>99999.9999527762</td><td>12656166.970357366</td><td>0.13292645348775808</td><td>2.656460192532319</td><td>88.41356254418046</td><td>70538.5176329479</td><td>22348082.256307118</td><td>0.38187782780409246</td><td>20.50869328134184</td><td>92.39562420922543</td><td>0.0890723243355751</td><td>0.00191841688555984</td><td>1.3036641057979236e+16</td><td>6.460527352881449e+18</td><td>1.3036581196950008e+16</td><td>6.460527352881449e+18</td><td>59861029228.849174</td><td>217780.7726477782</td><td>107925430.55320354</td><td>-19.75397300720215</td><td>512.2725398486892</td><td>99947.70529204693</td><td>28.57560869975481</td><td>1199.2113782277654</td><td>999.9962112817462</td><td>301413.33087518474</td><td>-99.0</td><td>-99.0</td><td>-99.0</td><td>0</td><td>0</td><td>5.428226238722837</td><td>17.682712508836094</td><td>18.479124841845085</td><td>-1</td><td>-99.0</td><td>2.9673266410827637</td><td>0.29688972667295005</td><td>5.606951477232094</td><td>217781.77264777818</td><td>107925430.55320354</td><td>2.2317481974174767</td><td>-1</td><td>71364987089.76262</td><td>-99.0</td><td>-99.0</td><td>232.9088287648281</td><td>271.06589813682933</td><td>-21.80713621155268</td><td>-999.0</td><td>-999.0</td><td>-999.0</td><td>-57.811678850259675</td><td>-110.99539327846637</td><td>72.56514763683774</td><td>0.8713369107576758</td></tr>\n",
       "</table>"
      ],
      "text/plain": [
       "<Table length=1352>\n",
       "MaNGA_plate MaNGA_IFU NSA_plate ...         z                  d_nn       \n",
       "   int32      int32     int32   ...      float64             float64      \n",
       "----------- --------- --------- ... ------------------ -------------------\n",
       "       8465      1901      1281 ...  65.30705620452258  1.2387897185381238\n",
       "       8249      3702       899 ... 57.752407571954315   0.657583997773578\n",
       "       8247      6103      1200 ... 54.284783104209204  0.3589751529546998\n",
       "       8247      3701         0 ...  49.46624583118523   0.646522307213962\n",
       "       8247      3702       831 ... 102.64703246509583  1.1619795334936944\n",
       "       9027      9101      1420 ... 34.617569876080886  0.6227146442671389\n",
       "       8247     12705      1200 ...  82.39687885359773  1.4961989348925817\n",
       "       9025     12704      1421 ...  72.72180409031748  1.0348689090868337\n",
       "       9027     12703      1420 ...  70.90311209613918 0.24304867110868875\n",
       "       9002     12702      1843 ...  83.79134657768577  0.6221793705461346\n",
       "        ...       ...       ... ...                ...                 ...\n",
       "       9088     12702      1393 ... 53.579931980729334  0.3129132925865335\n",
       "       9088      3703      1393 ... 63.744069435375835  1.0457558765996957\n",
       "       9088      6104      1576 ...  43.28668411478029  0.7079457402188144\n",
       "       9049      6103      1409 ... 51.241198542578815  1.9053070070997433\n",
       "       9041     12702      1389 ... 47.653379901148845  0.2799326458396118\n",
       "       9041      6102      1390 ...   88.0249519239793  0.7311357644171677\n",
       "       9041      6104      1390 ...  88.34536617965134  1.3497062998340825\n",
       "       8258      1901      1436 ...  44.49934917602983 0.21099720344130313\n",
       "       9027     12702      1420 ...  35.27405236178528  0.4726330417238624\n",
       "       9028      3702      1406 ...  72.56514763683774  0.8713369107576758"
      ]
     },
     "execution_count": 14,
     "metadata": {},
     "output_type": "execute_result"
    }
   ],
   "source": [
    "manga_HI"
   ]
  },
  {
   "cell_type": "code",
   "execution_count": 24,
   "metadata": {},
   "outputs": [],
   "source": [
    "\n",
    "\n",
    "vflag_bool1 = manga_HI['vflag'] == 0.0\n",
    "vflag_bool2 = manga_HI['vflag'] == 1.0\n",
    "bol = np.logical_or(vflag_bool1, vflag_bool2)\n",
    "\n",
    "mangaX = manga_HI[bol]\n",
    "\n",
    "WF50_pos_boolean = mangaX['WF50'] > 0.0\n",
    "mangaHIall_WF50_positive = mangaX[WF50_pos_boolean]"
   ]
  },
  {
   "cell_type": "code",
   "execution_count": 25,
   "metadata": {},
   "outputs": [
    {
     "data": {
      "text/html": [
       "<i>Table length=406</i>\n",
       "<table id=\"table2400918903944\" class=\"table-striped table-bordered table-condensed\">\n",
       "<thead><tr><th>MaNGA_plate</th><th>MaNGA_IFU</th><th>NSA_plate</th><th>NSA_fiberID</th><th>NSA_MJD</th><th>NSA_index</th><th>NSA_RA</th><th>NSA_DEC</th><th>NSA_ba</th><th>NSA_phi</th><th>NSA_redshift</th><th>NSA_Mstar</th><th>vflag</th><th>avg_v_max</th><th>avg_v_max_sigma</th><th>avg_alpha</th><th>avg_alpha_sigma</th><th>avg_chi_square_rot</th><th>pos_v_max</th><th>pos_v_max_sigma</th><th>pos_alpha</th><th>pos_alpha_sigma</th><th>pos_chi_square_rot</th><th>neg_v_max</th><th>neg_v_max_sigma</th><th>neg_alpha</th><th>neg_alpha_sigma</th><th>neg_chi_square_rot</th><th>center_flux</th><th>center_flux_error</th><th>Mtot</th><th>Mtot_error</th><th>Mdark</th><th>Mdark_error</th><th>Mstar</th><th>Mdark_Mstar_ratio</th><th>Mdark_Mstar_ratio_error</th><th>rabsmag</th><th>avg_r_turn</th><th>avg_r_turn_sigma</th><th>pos_r_turn</th><th>pos_r_turn_sigma</th><th>neg_r_turn</th><th>neg_r_turn_sigma</th><th>logNO</th><th>t3</th><th>BPT</th><th>curve_used</th><th>points_cut</th><th>avg_chi_square_ndf</th><th>pos_chi_square_ndf</th><th>neg_chi_square_ndf</th><th>index</th><th>Z12logOH</th><th>u_r</th><th>frac_masked_spaxels</th><th>Rmax</th><th>Mtot_Mstar_ratio</th><th>Mtot_Mstar_ratio_error</th><th>smoothness_score</th><th>CMD_class</th><th>Mstar_turn</th><th>SFR</th><th>sSFR</th><th>pos_Vmax_data</th><th>avg_Vmax_data</th><th>neg_Vmax_data</th><th>WF50</th><th>WP20</th><th>logHI</th><th>x</th><th>y</th><th>z</th><th>d_nn</th></tr></thead>\n",
       "<thead><tr><th>int32</th><th>int32</th><th>int32</th><th>int32</th><th>int32</th><th>int32</th><th>float64</th><th>float64</th><th>float64</th><th>float64</th><th>float64</th><th>float64</th><th>float64</th><th>float64</th><th>float64</th><th>float64</th><th>float64</th><th>float64</th><th>float64</th><th>float64</th><th>float64</th><th>float64</th><th>float64</th><th>float64</th><th>float64</th><th>float64</th><th>float64</th><th>float64</th><th>float64</th><th>float64</th><th>float64</th><th>float64</th><th>float64</th><th>float64</th><th>float64</th><th>float64</th><th>float64</th><th>float64</th><th>float64</th><th>float64</th><th>float64</th><th>float64</th><th>float64</th><th>float64</th><th>float64</th><th>float64</th><th>float64</th><th>int32</th><th>int32</th><th>float64</th><th>float64</th><th>float64</th><th>int32</th><th>float64</th><th>float64</th><th>float64</th><th>float64</th><th>float64</th><th>float64</th><th>float64</th><th>int32</th><th>float64</th><th>float64</th><th>float64</th><th>float64</th><th>float64</th><th>float64</th><th>float64</th><th>float64</th><th>float64</th><th>float64</th><th>float64</th><th>float64</th><th>float64</th></tr></thead>\n",
       "<tr><td>8465</td><td>1901</td><td>1281</td><td>231</td><td>52753</td><td>247928</td><td>197.44581468983537</td><td>48.899591403437014</td><td>0.7684928178787231</td><td>18.52703857421875</td><td>0.028888285160064697</td><td>15041360896.0</td><td>0.0</td><td>694.1065598029447</td><td>64.28960377376522</td><td>169.88497626173015</td><td>1.7327077246997473e-05</td><td>15.217068463480258</td><td>670.7653939526836</td><td>15.960128227576048</td><td>6.971553117105116</td><td>3.3409887210988973</td><td>16.662168571733133</td><td>1824.214984439412</td><td>1128158.8728166134</td><td>10.139927187019886</td><td>342203353.66120255</td><td>562.2702918190502</td><td>0.2404831498861313</td><td>0.00282066542648091</td><td>235168173081.6036</td><td>43563538091.837006</td><td>212601943793.92502</td><td>43563538091.837006</td><td>22566229287.678577</td><td>9.421243623984985</td><td>1.9304748496738533</td><td>-19.729339599609375</td><td>1.543808157566983</td><td>0.16833871490329255</td><td>0.7834103370121185</td><td>0.04388640897002279</td><td>12.055743708240605</td><td>7457.1345332868905</td><td>-99.0</td><td>-99.0</td><td>2.0</td><td>-99</td><td>0</td><td>7.608534231740129</td><td>8.331084285866567</td><td>281.1351459095251</td><td>892095</td><td>9.46977439171353</td><td>2.427546977996826</td><td>0.07550335570469799</td><td>2.0993620223274516</td><td>10.421243623984985</td><td>1.9304748496738533</td><td>2.5540066976945326</td><td>3</td><td>-1.0</td><td>-1.0557212829589844</td><td>-11.407499313354492</td><td>835.9509258900858</td><td>705.7810819757563</td><td>-10.044590650342819</td><td>236.0</td><td>268.0</td><td>9.34000015258789</td><td>-54.35114534553452</td><td>-17.08035669799775</td><td>65.30705620452258</td><td>1.2387897185381238</td></tr>\n",
       "<tr><td>8249</td><td>3702</td><td>899</td><td>202</td><td>52620</td><td>164473</td><td>137.03265262994884</td><td>45.92096195150727</td><td>0.4280976951122284</td><td>47.86474609375</td><td>0.02679748833179474</td><td>4316812800.0</td><td>0.0</td><td>470.17155751503515</td><td>1764.5963567538108</td><td>0.9114709790034429</td><td>1.632624280324924</td><td>1.0792643567173899</td><td>34.92250964449018</td><td>1.714344719842902</td><td>137.1392992341442</td><td>579174444.6396726</td><td>3.3911074849327174</td><td>242.99019897544017</td><td>3887704333.4850802</td><td>171.2340152243181</td><td>0.0</td><td>26.156873020790904</td><td>0.08108656108379364</td><td>0.00201356164064311</td><td>180170543139.84866</td><td>1352392670031.6855</td><td>165985843226.1657</td><td>1352392670031.6855</td><td>14184699913.682957</td><td>11.701752186244782</td><td>95.34164827323065</td><td>-18.68962860107422</td><td>13.156762781102165</td><td>45.537164179135054</td><td>1.3032636040779486</td><td>0.18480939543790068</td><td>5.718307576497459</td><td>91489655.31072567</td><td>-99.0</td><td>-99.0</td><td>1.0</td><td>0</td><td>0</td><td>0.17987739278623163</td><td>0.5651845808221195</td><td>4.359478836798484</td><td>831037</td><td>8.984175177316411</td><td>2.073540985584259</td><td>0.07431796801505174</td><td>3.5053563122378297</td><td>12.701752186244782</td><td>95.34164827323065</td><td>1.481725305076537</td><td>2</td><td>8199197485.337716</td><td>0.0772257074713707</td><td>-9.959590911865234</td><td>39.338789135570636</td><td>90.5359425921002</td><td>-10.491716704738925</td><td>640.0</td><td>330.0</td><td>9.369999885559082</td><td>-40.92269992292892</td><td>38.11745635132102</td><td>57.752407571954315</td><td>0.657583997773578</td></tr>\n",
       "<tr><td>9027</td><td>9101</td><td>1420</td><td>480</td><td>53146</td><td>288096</td><td>243.907395060569</td><td>31.321300172028923</td><td>0.2478257268667221</td><td>12.53717041015625</td><td>0.022197719663381577</td><td>6357054976.0</td><td>1.0</td><td>143.41625230335245</td><td>11.387426279810626</td><td>3.121300721901849</td><td>1.7486991941586147</td><td>20.950266632157476</td><td>144.7426046530617</td><td>9.071277318090496</td><td>3.4684168083554443</td><td>1.7822240734216814</td><td>86.54562896978088</td><td>129.3917622964467</td><td>3.526018543886885</td><td>7.105056815184836</td><td>2.9474729683974736</td><td>32.059237281555845</td><td>0.08258390426635742</td><td>0.0018615952029485</td><td>18514876877.181465</td><td>2940207880.821305</td><td>3532937939.1869583</td><td>2940207880.821305</td><td>14981938937.994507</td><td>0.23581313165196227</td><td>0.1962501578060018</td><td>-19.062028884887695</td><td>2.1566702031396177</td><td>0.24781426275022517</td><td>1.8458884065914891</td><td>0.15585169314418632</td><td>2.629565505959378</td><td>0.09425871053554932</td><td>-99.0</td><td>-99.0</td><td>3.0</td><td>0</td><td>0</td><td>2.3278074035730527</td><td>9.61618099664232</td><td>3.562137475728427</td><td>1403706</td><td>9.097892494771862</td><td>2.055821865797043</td><td>0.35289323553382235</td><td>3.871552725434552</td><td>1.2358131316519623</td><td>0.1962501578060018</td><td>1.041116479061713</td><td>1</td><td>1838716341.6497998</td><td>-0.1358650177717209</td><td>-10.324999809265137</td><td>148.62953449283415</td><td>138.53205003215066</td><td>-9.03458517236471</td><td>304.0</td><td>114.0</td><td>9.890000343322754</td><td>-25.020774347978318</td><td>-51.09044461725598</td><td>34.617569876080886</td><td>0.6227146442671389</td></tr>\n",
       "<tr><td>9025</td><td>12704</td><td>1421</td><td>421</td><td>53149</td><td>686771</td><td>246.0507635994345</td><td>30.16226141095792</td><td>0.5448060631752014</td><td>4.981719970703125</td><td>0.04824474826455116</td><td>81652400128.0</td><td>0.0</td><td>298.2854283631848</td><td>29.51383595875583</td><td>1.4139030527416887</td><td>0.6736305347474052</td><td>74.06966395843754</td><td>393.91130366085275</td><td>13.13187542880857</td><td>2.2358894544520047</td><td>0.5380928752789981</td><td>72.20524916749875</td><td>169.6033520050337</td><td>1235.6727239270533</td><td>93.06953162443955</td><td>60261312100.258575</td><td>324.93571887744287</td><td>0.10440956801176071</td><td>0.00173073812882276</td><td>174072372164.3682</td><td>34447163566.35058</td><td>52555676315.041306</td><td>34447163566.35058</td><td>121516695849.32689</td><td>0.4324975753143178</td><td>0.28347679572412754</td><td>-21.727521896362305</td><td>1.884453378926494</td><td>0.6176565536146557</td><td>3.2536610654498075</td><td>0.3508866151773397</td><td>1.412523691338707</td><td>10.326765959362742</td><td>-99.0</td><td>-99.0</td><td>4.0</td><td>0</td><td>0</td><td>8.229962662048615</td><td>8.022805463055416</td><td>36.10396876416032</td><td>1404510</td><td>9.698009590213221</td><td>1.9292676448822021</td><td>0.01702000597193192</td><td>8.414471822511194</td><td>1.4324975753143179</td><td>0.28347679572412754</td><td>1.230347495467231</td><td>2</td><td>12299262340.381403</td><td>-0.5326610803604126</td><td>-11.72318172454834</td><td>374.82120771470136</td><td>354.34543221774067</td><td>-77.14722587431815</td><td>445.0</td><td>59.0</td><td>10.489999771118164</td><td>-50.796939469154445</td><td>-114.36438154602925</td><td>72.72180409031748</td><td>1.0348689090868337</td></tr>\n",
       "<tr><td>9027</td><td>12703</td><td>1420</td><td>549</td><td>53146</td><td>288140</td><td>245.40277975395685</td><td>30.869563627379286</td><td>0.9324136972427368</td><td>157.256591796875</td><td>0.04606323316693306</td><td>38981578752.0</td><td>1.0</td><td>41109.876389045225</td><td>1537681.9502266543</td><td>0.4255229504687845</td><td>2.7071180994269843</td><td>82.44507860596583</td><td>214.38856930060933</td><td>51.71046230004781</td><td>2.0679846655174754</td><td>0.8615220286084495</td><td>26.721655608037747</td><td>570.9687849073134</td><td>16439544523.116346</td><td>23.622258718890723</td><td>641724646.0568384</td><td>651.3983380120123</td><td>0.04748017340898514</td><td>0.00104199953660279</td><td>114475390444.6386</td><td>55222863677.91063</td><td>46845480976.73673</td><td>55222863677.91063</td><td>67629909467.90186</td><td>0.6926740157617729</td><td>0.8165449889315644</td><td>-20.089336395263672</td><td>999.9999952251889</td><td>36172.93006082476</td><td>5.6547550825707535</td><td>1.1799223658403926</td><td>15.410348868643725</td><td>443700466.2798578</td><td>-99.0</td><td>-99.0</td><td>1.0</td><td>1</td><td>5</td><td>10.305634825745729</td><td>3.3402069510047183</td><td>81.42479225150154</td><td>1414076</td><td>9.006664421928336</td><td>1.637093871831894</td><td>0.025657071339173967</td><td>10.711985351898342</td><td>1.692674015761773</td><td>0.8165449889315644</td><td>1.7535490551742132</td><td>1</td><td>3023847529.9554315</td><td>0.2807866334915161</td><td>-9.666075706481934</td><td>684.4685033225586</td><td>1026.214132433414</td><td>-28.87591192857151</td><td>161.0</td><td>199.0</td><td>9.90999984741211</td><td>-49.371253158848596</td><td>-107.84999353142484</td><td>70.90311209613918</td><td>0.24304867110868875</td></tr>\n",
       "<tr><td>8984</td><td>12702</td><td>2245</td><td>523</td><td>54208</td><td>484403</td><td>203.5956974360575</td><td>27.461341240864517</td><td>0.8541006445884705</td><td>176.71435546875</td><td>0.03912948817014694</td><td>2755893248.0</td><td>0.0</td><td>70.16041363317305</td><td>2.5374875714449003</td><td>22.89882976147053</td><td>73.13262664300251</td><td>62.91963146977331</td><td>74.1315388323536</td><td>2.6718205173048415</td><td>160.12655364270788</td><td>781040491.3660207</td><td>14.629956578015008</td><td>75.20293201732134</td><td>17.42678020275283</td><td>2.423773627215264</td><td>2.644761765152986</td><td>293.15261838560195</td><td>0.02821422927081585</td><td>0.00107269142092135</td><td>6540142157.177461</td><td>471434618.14453244</td><td>6482712798.922182</td><td>471434618.14453244</td><td>57429358.25527865</td><td>112.88151210232826</td><td>8.208948044464702</td><td>-18.95944595336914</td><td>2.3811593633344765</td><td>0.1782651863934485</td><td>2.5288870334609777</td><td>0.1264442266603927</td><td>2.0613561188241825</td><td>0.36723686979726466</td><td>-99.0</td><td>-99.0</td><td>1.0</td><td>1</td><td>0</td><td>10.486605244962218</td><td>2.438326096335835</td><td>48.85876973093366</td><td>2244838</td><td>8.773849279214623</td><td>1.1687104403972626</td><td>0.49850478468899523</td><td>5.118494563877424</td><td>113.88151210232826</td><td>8.208948044464702</td><td>1.3273516696481813</td><td>1</td><td>1151394.7051478343</td><td>-0.14884735643863678</td><td>-9.604958534240723</td><td>83.35641282653955</td><td>126.04193133181982</td><td>-10.342641710151858</td><td>170.0</td><td>149.0</td><td>9.75</td><td>-95.4527456295901</td><td>-41.69374337204361</td><td>54.133692978753686</td><td>1.0079080391111097</td></tr>\n",
       "<tr><td>8944</td><td>9102</td><td>1948</td><td>544</td><td>53388</td><td>413011</td><td>149.9021238713291</td><td>34.32021860729502</td><td>0.767438530921936</td><td>16.3319091796875</td><td>0.020907936617732048</td><td>1321555584.0</td><td>0.0</td><td>2774.121356149208</td><td>25518.210335694286</td><td>0.694479752367536</td><td>1.8513939673178987</td><td>5.034908567709779</td><td>126.88021144795357</td><td>18.04880061028335</td><td>2.463372295687476</td><td>1.0211677313758656</td><td>33.82525611431743</td><td>432.7220958012382</td><td>5185687445.248177</td><td>16.877514989220224</td><td>110923960.77081425</td><td>75.89799491944409</td><td>0.04546554014086723</td><td>0.00140158061843926</td><td>7068706009570.889</td><td>130045303428210.12</td><td>7066512627616.441</td><td>130045303428210.12</td><td>2193381954.447666</td><td>3221.742849341495</td><td>59289.85745711486</td><td>-18.182580947875977</td><td>63.77730595568013</td><td>564.6403720678708</td><td>2.758424659968559</td><td>0.2769873808304425</td><td>11.472752452038323</td><td>137488031.2168721</td><td>-99.0</td><td>-99.0</td><td>1.0</td><td>0</td><td>0</td><td>0.5034908567709779</td><td>3.3825256114317432</td><td>7.589799491944409</td><td>1852873</td><td>-99.0</td><td>1.194717288017273</td><td>0.04852758191621734</td><td>3.9504820874260007</td><td>3222.742849341495</td><td>59289.85745711486</td><td>1.292120111227659</td><td>1</td><td>1977357643.3579788</td><td>-1.0331491231918335</td><td>-10.323923110961914</td><td>110.82622943254147</td><td>142.43749056380258</td><td>-8.079405938074606</td><td>346.0</td><td>164.0</td><td>9.600000381469727</td><td>-44.8188830755706</td><td>25.978378204029195</td><td>35.36478344690743</td><td>1.0374843122318205</td></tr>\n",
       "<tr><td>8942</td><td>12702</td><td>1206</td><td>68</td><td>52670</td><td>231042</td><td>124.00330970553969</td><td>27.07589520474946</td><td>0.7388525009155273</td><td>115.0615234375</td><td>0.025496389716863632</td><td>71562321920.0</td><td>0.0</td><td>-1.0</td><td>-1.0</td><td>-1.0</td><td>-1.0</td><td>-1.0</td><td>-1.0</td><td>-1.0</td><td>-1.0</td><td>-1.0</td><td>-1.0</td><td>-1.0</td><td>-1.0</td><td>-1.0</td><td>-1.0</td><td>-1.0</td><td>-1.0</td><td>-1.0</td><td>-1.0</td><td>-1.0</td><td>-1.0</td><td>-1.0</td><td>-1.0</td><td>-1.0</td><td>-1.0</td><td>-21.052202224731445</td><td>-1.0</td><td>-1.0</td><td>-1.0</td><td>-1.0</td><td>-1.0</td><td>-1.0</td><td>-99.0</td><td>-99.0</td><td>5.0</td><td>-99</td><td>1</td><td>-1.0</td><td>-1.0</td><td>-1.0</td><td>1091568</td><td>9.898808178932505</td><td>1.7187874019145966</td><td>1.0</td><td>-1.0</td><td>-1.0</td><td>-1.0</td><td>nan</td><td>1</td><td>-1.0</td><td>-1.2569767236709595</td><td>-12.057308197021484</td><td>-1.0</td><td>-1.0</td><td>-1.0</td><td>302.0</td><td>281.0</td><td>10.140000343322754</td><td>-38.08781613887639</td><td>56.46047412655401</td><td>34.81560168263042</td><td>0.9437356071338947</td></tr>\n",
       "<tr><td>8942</td><td>12705</td><td>1266</td><td>504</td><td>52709</td><td>243798</td><td>124.67029620555778</td><td>26.535563980528188</td><td>0.7511017322540283</td><td>35.501922607421875</td><td>0.02020205557346344</td><td>418079776.0</td><td>0.0</td><td>447.52472393869664</td><td>3082373467.228093</td><td>12.749517497229816</td><td>10843290692.754786</td><td>58.35977555432928</td><td>599.6583613105965</td><td>32326939649.86464</td><td>9.055246719007037</td><td>572797311.8883555</td><td>863.2952498474402</td><td>553.2979561238184</td><td>0.4211609905373428</td><td>12.662135519933626</td><td>5.360319636804237e-07</td><td>95.97754414369274</td><td>0.009449614211916924</td><td>0.000618464930358927</td><td>-1.0</td><td>-1.0</td><td>-1.0</td><td>-1.0</td><td>710517889.6292006</td><td>-1.0</td><td>-1.0</td><td>-17.207246780395508</td><td>36.135540481914965</td><td>248887837.354516</td><td>59.63420563578382</td><td>3214816124.7103863</td><td>39.61730553306885</td><td>5.881962650874631</td><td>-99.0</td><td>-99.0</td><td>2.0</td><td>-99</td><td>8</td><td>11.671955110865856</td><td>172.65904996948805</td><td>19.195508828738546</td><td>1088665</td><td>-99.0</td><td>1.3032343983650208</td><td>0.4885265700483092</td><td>18.791917849386437</td><td>-1.0</td><td>-1.0</td><td>1.913078875581095</td><td>1</td><td>-1.0</td><td>-1.1399998664855957</td><td>-9.932230949401855</td><td>634.4220575390839</td><td>683.5649475240932</td><td>-7.768058351039424</td><td>89.0</td><td>147.0</td><td>8.949999809265137</td><td>-30.84421458417971</td><td>44.59408129121152</td><td>27.076000166524615</td><td>0.5796264544807572</td></tr>\n",
       "<tr><td>8939</td><td>12703</td><td>1586</td><td>286</td><td>52945</td><td>316218</td><td>125.60327371989834</td><td>25.50907913871809</td><td>0.687228262424469</td><td>99.46258544921875</td><td>0.027797803282737732</td><td>63659880448.0</td><td>0.0</td><td>143.62426340188694</td><td>17.87286932544174</td><td>210.5552804425822</td><td>577754276213.9514</td><td>99.55594808711805</td><td>374.08332995461257</td><td>9760759085.296278</td><td>26.460217230992427</td><td>297631176.5677653</td><td>18.982934098477948</td><td>146.93650838619322</td><td>9.962953170758864</td><td>604.5422694406577</td><td>4.988413771101266e-24</td><td>546.626593321969</td><td>0.18846213817596436</td><td>0.00199947394740573</td><td>210330208181.1687</td><td>1.0976070442196328e+19</td><td>121969445260.38977</td><td>1.0976070442196328e+19</td><td>88360762920.77893</td><td>1.3803575391233682</td><td>124218828.35073614</td><td>-21.07645034790039</td><td>2.437306003332928</td><td>0.4786982851578993</td><td>6.824580704675846</td><td>178070189.13665125</td><td>2.396010048644103</td><td>0.32851381889195164</td><td>-99.0</td><td>-99.0</td><td>5.0</td><td>1</td><td>8</td><td>19.91118961742361</td><td>3.7965868196955896</td><td>109.3253186643938</td><td>1153333</td><td>9.981972623969785</td><td>2.601073384284973</td><td>0.02447980416156671</td><td>6.464367373009219</td><td>2.3803575391233682</td><td>124218828.35073614</td><td>2.2301060617942285</td><td>2</td><td>11967347859.641897</td><td>-1.2426923513412476</td><td>-12.155109405517578</td><td>503.90895898719384</td><td>480.960260551208</td><td>-12.669342825347325</td><td>221.0</td><td>94.0</td><td>9.989999771118164</td><td>-43.81638498530597</td><td>61.194691554891875</td><td>35.913715185610634</td><td>0.3994928987295873</td></tr>\n",
       "<tr><td>...</td><td>...</td><td>...</td><td>...</td><td>...</td><td>...</td><td>...</td><td>...</td><td>...</td><td>...</td><td>...</td><td>...</td><td>...</td><td>...</td><td>...</td><td>...</td><td>...</td><td>...</td><td>...</td><td>...</td><td>...</td><td>...</td><td>...</td><td>...</td><td>...</td><td>...</td><td>...</td><td>...</td><td>...</td><td>...</td><td>...</td><td>...</td><td>...</td><td>...</td><td>...</td><td>...</td><td>...</td><td>...</td><td>...</td><td>...</td><td>...</td><td>...</td><td>...</td><td>...</td><td>...</td><td>...</td><td>...</td><td>...</td><td>...</td><td>...</td><td>...</td><td>...</td><td>...</td><td>...</td><td>...</td><td>...</td><td>...</td><td>...</td><td>...</td><td>...</td><td>...</td><td>...</td><td>...</td><td>...</td><td>...</td><td>...</td><td>...</td><td>...</td><td>...</td><td>...</td><td>...</td><td>...</td><td>...</td><td>...</td></tr>\n",
       "<tr><td>9508</td><td>9101</td><td>1266</td><td>42</td><td>52709</td><td>243613</td><td>124.79950288855956</td><td>25.53171138578344</td><td>0.3439174294471741</td><td>52.988739013671875</td><td>0.019431034103035927</td><td>803815104.0</td><td>0.0</td><td>124.77976586051597</td><td>24.63093530491229</td><td>1.2362473013579955</td><td>0.4443749359017104</td><td>4.1223315468259845</td><td>118.07790490559152</td><td>43.0204863185586</td><td>1.0887185269913846</td><td>0.6540474847619324</td><td>17.504481688615037</td><td>116.40501652801575</td><td>15.96312428087991</td><td>1.673661512552226</td><td>0.5502625566259296</td><td>9.165503419987882</td><td>0.03165138512849808</td><td>0.00103974732870017</td><td>13291135330.14437</td><td>5247214445.682303</td><td>10857965875.133968</td><td>5247214445.682303</td><td>2433169455.010401</td><td>4.462478292572333</td><td>2.1565347349224693</td><td>-17.642478942871094</td><td>1.846039229986153</td><td>0.16949805923178854</td><td>1.6340109842422919</td><td>0.26658824799487035</td><td>1.8419073105708423</td><td>0.1329439111918587</td><td>-99.0</td><td>-99.0</td><td>1.0</td><td>0</td><td>0</td><td>0.41223315468259847</td><td>1.7504481688615037</td><td>0.9165503419987882</td><td>1144412</td><td>-99.0</td><td>1.4017263054847717</td><td>0.4772364217252396</td><td>3.6714264811337363</td><td>5.462478292572333</td><td>2.1565347349224693</td><td>1.2552535929144386</td><td>1</td><td>127330537.59499727</td><td>-0.6511194705963135</td><td>-9.650278091430664</td><td>89.58975704621152</td><td>92.72802922484145</td><td>-13.410355326920122</td><td>178.0</td><td>95.0</td><td>9.390000343322754</td><td>-30.019500493851364</td><td>43.19320033707186</td><td>25.12494401110856</td><td>0.34604781388307776</td></tr>\n",
       "<tr><td>9508</td><td>12702</td><td>1586</td><td>294</td><td>52945</td><td>647425</td><td>125.74049246063261</td><td>25.73873354929949</td><td>0.30096638202667236</td><td>37.307769775390625</td><td>0.027914894744753838</td><td>42203713536.0</td><td>0.0</td><td>540.3787066232927</td><td>525.2532661785292</td><td>0.44670669675445024</td><td>0.48732875309396245</td><td>92.4715863981255</td><td>469.4640975754562</td><td>59.81779286301098</td><td>1.2001220071587868</td><td>0.4310820262426513</td><td>374.28525929180034</td><td>213.58543083493225</td><td>107.35424261300105</td><td>1.8741443235138742</td><td>2.942236681791001</td><td>492.954344220839</td><td>0.2578698992729187</td><td>0.00273628613686063</td><td>468291043957.8199</td><td>910366738595.0723</td><td>295460438477.27014</td><td>910366738595.0723</td><td>172830605480.54974</td><td>1.7095377155900844</td><td>5.267393098946959</td><td>-20.85186004638672</td><td>0.5864192008309864</td><td>0.9954955082399872</td><td>2.153276626041471</td><td>0.34146782973871187</td><td>4.357569671786727</td><td>1.2969304278133325</td><td>-99.0</td><td>-99.0</td><td>5.0</td><td>0</td><td>0</td><td>6.605113314151821</td><td>26.734661377985738</td><td>35.211024587202786</td><td>1143292</td><td>9.693525985707835</td><td>2.3080965876579285</td><td>0.11938958707360861</td><td>6.897321751808981</td><td>2.7095377155900846</td><td>5.267393098946959</td><td>1.5742479506455997</td><td>2</td><td>5624630621.698777</td><td>-0.554347574710846</td><td>-11.731097221374512</td><td>390.7700279000742</td><td>284.89360550590413</td><td>-14.729557156418974</td><td>524.0</td><td>206.0</td><td>10.199999809265137</td><td>-44.0632060327372</td><td>61.229079526676195</td><td>36.36764814953923</td><td>0.4441625451370385</td></tr>\n",
       "<tr><td>9507</td><td>12701</td><td>1586</td><td>13</td><td>52945</td><td>316095</td><td>128.25074203904703</td><td>26.014050694465034</td><td>0.22500461339950562</td><td>110.45172119140625</td><td>0.017628269270062447</td><td>5370948096.0</td><td>1.0</td><td>99999.99764262748</td><td>10572759.602489673</td><td>0.127505115790387</td><td>1.9212909932863154</td><td>65.87447944977602</td><td>145.26741171056554</td><td>1499132013.242635</td><td>41.971718495804105</td><td>0.0</td><td>80.30217536073451</td><td>42373.94148683009</td><td>6316827.463724382</td><td>0.24355612392684145</td><td>6.466299224243759</td><td>963.8349465908086</td><td>0.05448935180902481</td><td>0.00121707946402932</td><td>3.5743360929050172e+16</td><td>7.55811942793046e+18</td><td>3.5743353444399e+16</td><td>7.55811942793046e+18</td><td>7484651173.232875</td><td>4775553.678737473</td><td>1009815855.5418491</td><td>-19.297042846679688</td><td>158.99006281061648</td><td>6958.269493958293</td><td>32.059441209327225</td><td>330847331.26474786</td><td>999.9988151829136</td><td>117058.80356863691</td><td>-99.0</td><td>-99.0</td><td>1.0</td><td>-99</td><td>0</td><td>5.489539954148001</td><td>6.691847946727876</td><td>80.31957888256738</td><td>1151344</td><td>-99.0</td><td>1.7372271418571472</td><td>0.22780619921757447</td><td>15.372924555803822</td><td>4775554.678737473</td><td>1009815855.5418491</td><td>1.090862461485532</td><td>1</td><td>-1.0</td><td>-0.484523743391037</td><td>-10.4013671875</td><td>70.18800081087261</td><td>127.21578617998352</td><td>-12.733928623293304</td><td>288.0</td><td>300.0</td><td>9.619999885559082</td><td>-29.424077148237483</td><td>37.32326969797131</td><td>23.194829599449896</td><td>0.4692985310740973</td></tr>\n",
       "<tr><td>8313</td><td>1902</td><td>1335</td><td>551</td><td>52824</td><td>263043</td><td>241.6261071155086</td><td>41.34330320404618</td><td>0.5115466713905334</td><td>62.683563232421875</td><td>0.034387778490781784</td><td>1668800256.0</td><td>0.0</td><td>206.49189591909044</td><td>2474085166.7933774</td><td>14.304951589074367</td><td>130146479.36490111</td><td>32.488086683498516</td><td>384.11853042624244</td><td>2.447533238100788</td><td>20.170056059802405</td><td>0.0</td><td>31.62219837226804</td><td>357.7243435073212</td><td>0.8444394159216801</td><td>13.228077274475526</td><td>3.2081208039175247e-07</td><td>144.21633158406834</td><td>0.03908776119351387</td><td>0.00138843277534439</td><td>138740308694.49832</td><td>3.3246373979915423e+18</td><td>134397403447.31564</td><td>3.3246373979915423e+18</td><td>4342905247.182676</td><td>30.94642774776211</td><td>765533026.5720848</td><td>-17.989334106445312</td><td>46.23828915146463</td><td>554004622.8358827</td><td>74.0484085787482</td><td>12.696327743977603</td><td>52.899628769856335</td><td>5.710371394596713</td><td>-99.0</td><td>-99.0</td><td>1.0</td><td>-99</td><td>0</td><td>8.122021670874629</td><td>7.90554959306701</td><td>36.054082896017086</td><td>1191952</td><td>8.973069506086095</td><td>1.6997967660427094</td><td>0.22459016393442624</td><td>13.994510801457569</td><td>31.94642774776211</td><td>765533026.5720848</td><td>0.7978211094410677</td><td>2</td><td>-1.0</td><td>-0.5610739588737488</td><td>-10.030745506286621</td><td>89.28157921023846</td><td>92.34229252401337</td><td>-4.183415042787004</td><td>240.0</td><td>326.0</td><td>9.289999961853027</td><td>-36.806728430619366</td><td>-68.1468198177495</td><td>68.14652945485551</td><td>0.7736096094352947</td></tr>\n",
       "<tr><td>9506</td><td>6104</td><td>1934</td><td>159</td><td>53357</td><td>408796</td><td>135.03307144935832</td><td>27.909035118734742</td><td>0.7586134672164917</td><td>12.60479736328125</td><td>0.04687415063381195</td><td>19924817920.0</td><td>1.0</td><td>338.6697019879029</td><td>67.76201110426032</td><td>7.516553764290263</td><td>82.4911923982125</td><td>116.16762443773936</td><td>280.29279561491853</td><td>13402662989.413607</td><td>24.51677696174723</td><td>1769260062.23684</td><td>23.83798366713538</td><td>559.9709043425238</td><td>24.960640121459488</td><td>175.57051208626024</td><td>7.916741960608362e-11</td><td>1174.974527444578</td><td>0.12531885504722595</td><td>0.0016330863224258</td><td>-1.0</td><td>-1.0</td><td>-1.0</td><td>-1.0</td><td>30276489097.6312</td><td>-1.0</td><td>-1.0</td><td>-20.08984375</td><td>1.545550787365522</td><td>1.5814355075141489</td><td>6.316127657342345</td><td>302016080.17387724</td><td>1.473449249604634</td><td>0.09146653607161372</td><td>-99.0</td><td>-99.0</td><td>-1.0</td><td>-99</td><td>5</td><td>116.16762443773936</td><td>23.83798366713538</td><td>1174.974527444578</td><td>1815032</td><td>-99.0</td><td>2.1816252171993256</td><td>0.02665876777251185</td><td>6.131567174154453</td><td>-1.0</td><td>-1.0</td><td>2.326751690410073</td><td>3</td><td>-1.0</td><td>-1.0084848403930664</td><td>-11.336606979370117</td><td>589.3228301904588</td><td>568.2256156817784</td><td>-46.23507078191297</td><td>173.0</td><td>75.0</td><td>9.760000228881836</td><td>-87.92068046653843</td><td>87.8192423736582</td><td>65.82103458613489</td><td>0.8317067594007871</td></tr>\n",
       "<tr><td>9501</td><td>3703</td><td>1930</td><td>134</td><td>53347</td><td>407472</td><td>129.6932870566762</td><td>24.870396523535348</td><td>0.26736730337142944</td><td>149.61117553710938</td><td>0.02961066924035549</td><td>2384024832.0</td><td>1.0</td><td>120.48828806336441</td><td>13.126239601998751</td><td>3.6872322499256573</td><td>2.2504854659885147</td><td>9.057651128292573</td><td>133.78975177062577</td><td>42.45120889177383</td><td>3.9706925091803034</td><td>7.7547037512539845</td><td>22.157567165067576</td><td>134.64351932112626</td><td>35.94093898126628</td><td>2.1299390619929963</td><td>1.606452670928288</td><td>39.365962492431244</td><td>0.02725590392947197</td><td>0.000950858655830105</td><td>13074192683.445677</td><td>2848658395.549643</td><td>5142017312.700165</td><td>2848658395.549643</td><td>7932175370.745512</td><td>0.6482480621475327</td><td>0.35912700645219214</td><td>-18.0614013671875</td><td>2.2403038375447357</td><td>0.19527798391880755</td><td>2.450421590205631</td><td>0.2960965285884161</td><td>2.4279458511074807</td><td>0.49093195648640237</td><td>-99.0</td><td>-99.0</td><td>2.0</td><td>0</td><td>0</td><td>1.5096085213820956</td><td>3.692927860844596</td><td>6.56099374873854</td><td>1849688</td><td>9.393194275299955</td><td>2.1477188169956207</td><td>0.25996204933586337</td><td>3.8733460780395084</td><td>1.6482480621475326</td><td>0.35912700645219214</td><td>1.4105032113882212</td><td>2</td><td>579289381.1846753</td><td>-1.0061403512954712</td><td>-10.865179061889648</td><td>153.93456955091196</td><td>135.72461577440376</td><td>-13.154121760822859</td><td>328.0</td><td>72.0</td><td>9.619999885559082</td><td>-51.473495136519574</td><td>62.01490711232848</td><td>37.35982053002369</td><td>0.9702779387955954</td></tr>\n",
       "<tr><td>9501</td><td>12701</td><td>1930</td><td>171</td><td>53347</td><td>407493</td><td>129.89351591108274</td><td>25.47708891133847</td><td>0.928949773311615</td><td>18.05767822265625</td><td>0.029200676828622818</td><td>7860721152.0</td><td>0.0</td><td>147.6674416304998</td><td>36.19037770306802</td><td>0.8861275537549773</td><td>0.47370520625102697</td><td>31.237389750214778</td><td>99999.99991241845</td><td>23194651.500483625</td><td>0.10011861006414706</td><td>3.326779949308504</td><td>168.93175549289577</td><td>139.22781399496844</td><td>8.726798053859905</td><td>2.2331005051039168</td><td>0.8331773525258385</td><td>106.16200533531067</td><td>0.032396432012319565</td><td>0.000903245627047435</td><td>32276628180.12293</td><td>15820730055.99799</td><td>19283231414.134197</td><td>15820730055.99799</td><td>12993396765.988731</td><td>1.4840793182433725</td><td>1.2175977029663276</td><td>-19.479900360107422</td><td>0.7768226311066048</td><td>0.35363370280900536</td><td>3.503965646566004</td><td>17.058709990789534</td><td>1.2044964153428477</td><td>0.1499738887584203</td><td>-99.0</td><td>-99.0</td><td>2.0</td><td>0</td><td>4</td><td>3.904673718776847</td><td>21.116469436611972</td><td>13.270250666913833</td><td>1852349</td><td>9.495224710314378</td><td>2.122107297182083</td><td>0.03425280387996363</td><td>6.366192207734077</td><td>2.4840793182433725</td><td>1.2175977029663276</td><td>1.7201651880296611</td><td>2</td><td>311935773.7863589</td><td>-1.1104165315628052</td><td>-11.19094467163086</td><td>785.6671711708553</td><td>994.3096646517872</td><td>-46.86154967907778</td><td>80.0</td><td>312.0</td><td>9.270000457763672</td><td>-50.72113739592637</td><td>60.67575210618842</td><td>37.68202585927351</td><td>0.7863528545842225</td></tr>\n",
       "<tr><td>9041</td><td>12702</td><td>1389</td><td>40</td><td>53135</td><td>279368</td><td>236.38975313592294</td><td>30.147406265830746</td><td>0.40695419907569885</td><td>166.07415771484375</td><td>0.0316280871629715</td><td>21674346496.0</td><td>0.0</td><td>197.77242843335193</td><td>2.975979730663147</td><td>3.928170763271941</td><td>0.91676356742259</td><td>18.416707356807578</td><td>222.39383620906727</td><td>3.57067271496321</td><td>3.2007041405682854</td><td>0.5629127672665848</td><td>111.11789332284032</td><td>172.76515763040737</td><td>1.6606918406741513</td><td>5.3669323535180755</td><td>1.0051758947992828</td><td>18.160535231870714</td><td>0.10828138887882233</td><td>0.00156664678733128</td><td>62709041036.27132</td><td>1887228554.2391627</td><td>3548494847.068115</td><td>1887228554.2391627</td><td>59160546189.2032</td><td>0.059980765487180634</td><td>0.03190012053309241</td><td>-20.5454044342041</td><td>2.228100105898747</td><td>0.14283591780536425</td><td>2.0995289912531168</td><td>0.09643746319209204</td><td>2.356019624912191</td><td>0.08986046985396944</td><td>-99.0</td><td>-99.0</td><td>3.0</td><td>0</td><td>0</td><td>1.5347256130672982</td><td>9.259824443570027</td><td>1.513377935989226</td><td>1402014</td><td>9.062931926237138</td><td>1.8009844422340393</td><td>0.09944920440636475</td><td>6.895404624494095</td><td>1.0599807654871807</td><td>0.03190012053309241</td><td>0.785809780358053</td><td>1</td><td>3934206244.4950323</td><td>0.23750007152557373</td><td>-10.510600090026855</td><td>232.41300554305093</td><td>202.8307910553978</td><td>-27.970320489045413</td><td>421.0</td><td>248.0</td><td>10.359999656677246</td><td>-45.41791704703028</td><td>-68.33294427582176</td><td>47.653379901148845</td><td>0.2799326458396118</td></tr>\n",
       "<tr><td>8258</td><td>1901</td><td>1436</td><td>8</td><td>53054</td><td>293220</td><td>166.62075818150163</td><td>44.850901514924416</td><td>0.5755273699760437</td><td>148.81805419921875</td><td>0.021031996235251427</td><td>1967635584.0</td><td>0.0</td><td>182.49716216725798</td><td>91.86091374112831</td><td>1.3566568148910367</td><td>1.2483464549817442</td><td>4.463351098765724</td><td>99.56472590581942</td><td>8.365440731842195</td><td>2.90126278442069</td><td>1.5338504967883482</td><td>5.22940637956348</td><td>99999.99610211504</td><td>5352456.738371764</td><td>0.16142272498870286</td><td>1.2657752274286034</td><td>26.333176644419247</td><td>0.1206330880522728</td><td>0.00213592260443865</td><td>16570104504.805866</td><td>16681299839.410295</td><td>9695767407.528587</td><td>16681299839.410295</td><td>6874337097.277279</td><td>1.4104294378244548</td><td>2.4266048643464493</td><td>-18.288663864135742</td><td>1.454277475348617</td><td>0.2503385089228538</td><td>0.975763905748298</td><td>0.12389385437468974</td><td>87.36089077259516</td><td>2966.2751450318196</td><td>-99.0</td><td>-99.0</td><td>3.0</td><td>0</td><td>0</td><td>1.115837774691431</td><td>1.30735159489087</td><td>6.583294161104812</td><td>1167713</td><td>9.160227007724636</td><td>1.7209076881408691</td><td>0.04187604690117253</td><td>2.1398045424822527</td><td>2.410429437824455</td><td>2.4266048643464493</td><td>0.8911484404877349</td><td>1</td><td>1106637676.2816668</td><td>-0.42020314931869507</td><td>-9.923791885375977</td><td>99.82080359572916</td><td>130.72946560600613</td><td>-28.26171335073236</td><td>224.0</td><td>236.0</td><td>9.229999542236328</td><td>-43.51752733921124</td><td>10.350677656436158</td><td>44.49934917602983</td><td>0.21099720344130313</td></tr>\n",
       "<tr><td>9027</td><td>12702</td><td>1420</td><td>464</td><td>53146</td><td>288090</td><td>243.98367731640627</td><td>31.40677033968543</td><td>0.4295338988304138</td><td>83.31521606445312</td><td>0.022563386708498</td><td>6841939456.0</td><td>1.0</td><td>163.4963167345443</td><td>11.078299506560429</td><td>1.615102804600522</td><td>0.3232646752386346</td><td>19.889933815460278</td><td>183.60699714753468</td><td>28.195095396366064</td><td>1.2422737865684832</td><td>0.3868787126237053</td><td>89.6656803905983</td><td>158.870085618665</td><td>7.799010638732981</td><td>1.9021081219798885</td><td>0.4028943901862599</td><td>30.40947274927909</td><td>0.06847184896469116</td><td>0.00138787773363603</td><td>36688268801.919</td><td>4971899598.374248</td><td>20151078650.361435</td><td>4971899598.374248</td><td>16537190151.557564</td><td>1.2185309877726413</td><td>0.3006495996483397</td><td>-19.697908401489258</td><td>2.250973954028615</td><td>0.13392452874069474</td><td>2.5472625370905964</td><td>0.2118901337934386</td><td>2.0807463011903917</td><td>0.14576187158609596</td><td>-99.0</td><td>-99.0</td><td>1.0</td><td>0</td><td>0</td><td>1.325995587697352</td><td>5.977712026039886</td><td>2.027298183285273</td><td>1413144</td><td>8.631621790520672</td><td>1.543707400560379</td><td>0.18027918027918027</td><td>5.902994269075175</td><td>2.2185309877726413</td><td>0.3006495996483397</td><td>0.8008311396059783</td><td>1</td><td>1036058702.0338829</td><td>0.022081302478909492</td><td>-10.007063865661621</td><td>142.4492311843019</td><td>145.5453324607982</td><td>-15.609368812804282</td><td>282.0</td><td>184.0</td><td>9.800000190734863</td><td>-25.340730258676707</td><td>-51.918651732783225</td><td>35.27405236178528</td><td>0.4726330417238624</td></tr>\n",
       "</table>"
      ],
      "text/plain": [
       "<Table length=406>\n",
       "MaNGA_plate MaNGA_IFU NSA_plate ...         z                  d_nn       \n",
       "   int32      int32     int32   ...      float64             float64      \n",
       "----------- --------- --------- ... ------------------ -------------------\n",
       "       8465      1901      1281 ...  65.30705620452258  1.2387897185381238\n",
       "       8249      3702       899 ... 57.752407571954315   0.657583997773578\n",
       "       9027      9101      1420 ... 34.617569876080886  0.6227146442671389\n",
       "       9025     12704      1421 ...  72.72180409031748  1.0348689090868337\n",
       "       9027     12703      1420 ...  70.90311209613918 0.24304867110868875\n",
       "       8984     12702      2245 ... 54.133692978753686  1.0079080391111097\n",
       "       8944      9102      1948 ...  35.36478344690743  1.0374843122318205\n",
       "       8942     12702      1206 ...  34.81560168263042  0.9437356071338947\n",
       "       8942     12705      1266 ... 27.076000166524615  0.5796264544807572\n",
       "       8939     12703      1586 ... 35.913715185610634  0.3994928987295873\n",
       "        ...       ...       ... ...                ...                 ...\n",
       "       9508      9101      1266 ...  25.12494401110856 0.34604781388307776\n",
       "       9508     12702      1586 ...  36.36764814953923  0.4441625451370385\n",
       "       9507     12701      1586 ... 23.194829599449896  0.4692985310740973\n",
       "       8313      1902      1335 ...  68.14652945485551  0.7736096094352947\n",
       "       9506      6104      1934 ...  65.82103458613489  0.8317067594007871\n",
       "       9501      3703      1930 ...  37.35982053002369  0.9702779387955954\n",
       "       9501     12701      1930 ...  37.68202585927351  0.7863528545842225\n",
       "       9041     12702      1389 ... 47.653379901148845  0.2799326458396118\n",
       "       8258      1901      1436 ...  44.49934917602983 0.21099720344130313\n",
       "       9027     12702      1420 ...  35.27405236178528  0.4726330417238624"
      ]
     },
     "execution_count": 25,
     "metadata": {},
     "output_type": "execute_result"
    }
   ],
   "source": [
    "mangaHIall_WF50_positive"
   ]
  },
  {
   "cell_type": "code",
   "execution_count": null,
   "metadata": {},
   "outputs": [],
   "source": []
  }
 ],
 "metadata": {
  "kernelspec": {
   "display_name": "Python 3",
   "language": "python",
   "name": "python3"
  },
  "language_info": {
   "codemirror_mode": {
    "name": "ipython",
    "version": 3
   },
   "file_extension": ".py",
   "mimetype": "text/x-python",
   "name": "python",
   "nbconvert_exporter": "python",
   "pygments_lexer": "ipython3",
   "version": "3.7.4"
  }
 },
 "nbformat": 4,
 "nbformat_minor": 4
}
