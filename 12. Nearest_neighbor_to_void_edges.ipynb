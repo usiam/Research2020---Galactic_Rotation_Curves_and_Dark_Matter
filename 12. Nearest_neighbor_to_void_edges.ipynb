{
 "cells": [
  {
   "cell_type": "markdown",
   "metadata": {},
   "source": [
    "### Imports"
   ]
  },
  {
   "cell_type": "code",
   "execution_count": 77,
   "metadata": {},
   "outputs": [],
   "source": [
    "import numpy as np\n",
    "import matplotlib.pyplot as plt\n",
    "from scipy.spatial import KDTree\n",
    "from astropy.table import Table, vstack"
   ]
  },
  {
   "cell_type": "markdown",
   "metadata": {},
   "source": [
    "### Data"
   ]
  },
  {
   "cell_type": "code",
   "execution_count": 78,
   "metadata": {},
   "outputs": [],
   "source": [
    "mangaHIall = Table.read('input/mangaHIall_dnn.txt', format = 'ascii.commented_header')\n",
    "kias7 = Table.read( 'input/kias1033_5_P-MJD-F_MPAJHU_ZdustOS_stellarMass_BPT_SFR_NSA_vflag.txt', format='ascii.commented_header')\n",
    "voidCmax = Table.read('input/ALL_comoving_maximal.txt', format = 'ascii.commented_header')\n",
    "voidC = Table.read('input/ALL_comoving_holes.txt', format = 'ascii.commented_header')"
   ]
  },
  {
   "cell_type": "markdown",
   "metadata": {},
   "source": [
    "##  Calculating the distance from the HI galaxies to their nearest void edges\n",
    "\n",
    "1) For void HI galaxies, we only want to find the distance to the nearest wall of the HI void.\\\n",
    "2) For wall HI galaxies, we first want to find the flag numbers that give us the shortest distance. Since, the flag numbers are not unique, we then have to find the distance from the HI wall to every single void center corresponding to that flag number in the voidC Table and at the end only store the smallest distance."
   ]
  },
  {
   "cell_type": "markdown",
   "metadata": {},
   "source": [
    "##### For HI voids"
   ]
  },
  {
   "cell_type": "code",
   "execution_count": 79,
   "metadata": {},
   "outputs": [],
   "source": [
    "kias7_walls_boolean = kias7['vflag'] == 0.0\n",
    "kias7_walls = kias7[kias7_walls_boolean]"
   ]
  },
  {
   "cell_type": "code",
   "execution_count": 80,
   "metadata": {},
   "outputs": [],
   "source": [
    "manga_voids_boolean = mangaHIall['vflag'] == 1.0\n",
    "voids_data = mangaHIall[manga_voids_boolean]"
   ]
  },
  {
   "cell_type": "code",
   "execution_count": 81,
   "metadata": {},
   "outputs": [],
   "source": [
    "# Generates x_tree, y_tree, z_tree array for kias7_walls\n",
    "x_tree = np.asarray(kias7_walls['x'])\n",
    "x_tree = x_tree.astype(np.float64)\n",
    "x_tree = x_tree.reshape(x_tree.shape[0],1)\n",
    "y_tree = np.asarray(kias7_walls['y'])\n",
    "y_tree = y_tree.astype(np.float64)\n",
    "y_tree = y_tree.reshape(y_tree.shape[0],1)\n",
    "z_tree = np.asarray(kias7_walls['z'])\n",
    "z_tree = z_tree.astype(np.float64)\n",
    "z_tree = z_tree.reshape(z_tree.shape[0],1)\n",
    "xyz_tree_kias_walls = np.concatenate((x_tree,y_tree,z_tree), axis=1)\n",
    "\n",
    "# Generates x_query, y_query, z_query array for manga\n",
    "x_query = np.asarray(voids_data['x'])\n",
    "x_query = x_query.astype(np.float64)\n",
    "x_query = x_query.reshape(x_query.shape[0],1)\n",
    "y_query = np.asarray(voids_data['y'])\n",
    "y_query = y_query.astype(np.float64)\n",
    "y_query = y_query.reshape(y_query.shape[0],1)\n",
    "z_query = np.asarray(voids_data['z'])\n",
    "z_query = z_query.astype(np.float64)\n",
    "z_query = z_query.reshape(z_query.shape[0],1)\n",
    "xyz_query_voids = np.concatenate((x_query,y_query,z_query), axis=1)\n"
   ]
  },
  {
   "cell_type": "code",
   "execution_count": 82,
   "metadata": {},
   "outputs": [],
   "source": [
    "# Generate KDTree for kias7\n",
    "tree_kias_walls = KDTree(xyz_tree_kias_walls)"
   ]
  },
  {
   "cell_type": "code",
   "execution_count": 83,
   "metadata": {},
   "outputs": [],
   "source": [
    "nearest_distance_to_void_edge_voids, _ = tree_kias_walls.query(xyz_query_voids, k=1)"
   ]
  },
  {
   "cell_type": "code",
   "execution_count": 84,
   "metadata": {},
   "outputs": [],
   "source": [
    "# mangaHIall['d_nve'] = np.NaN*np.ones(len(mangaHIall), dtype=float)\n",
    "# mangaHIall['d_nve'][manga_voids_boolean] = nearest_distance_to_void_edge_voids\n",
    "voids_data['d_nve'] = nearest_distance_to_void_edge_voids"
   ]
  },
  {
   "cell_type": "markdown",
   "metadata": {},
   "source": [
    "##### For HI walls"
   ]
  },
  {
   "cell_type": "code",
   "execution_count": 85,
   "metadata": {},
   "outputs": [],
   "source": [
    "manga_walls_boolean = mangaHIall['vflag'] == 0.0\n",
    "walls_data = mangaHIall[manga_walls_boolean]"
   ]
  },
  {
   "cell_type": "code",
   "execution_count": 86,
   "metadata": {},
   "outputs": [],
   "source": [
    "# Generates x_tree, y_tree, z_tree array for voidC\n",
    "x_tree = np.asarray(voidC['x'])\n",
    "x_tree = x_tree.astype(np.float64)\n",
    "x_tree = x_tree.reshape(x_tree.shape[0],1)\n",
    "y_tree = np.asarray(voidC['y'])\n",
    "y_tree = y_tree.astype(np.float64)\n",
    "y_tree = y_tree.reshape(y_tree.shape[0],1)\n",
    "z_tree = np.asarray(voidC['z'])\n",
    "z_tree = z_tree.astype(np.float64)\n",
    "z_tree = z_tree.reshape(z_tree.shape[0],1)\n",
    "xyz_tree_voidC = np.concatenate((x_tree,y_tree,z_tree), axis=1)\n",
    "\n",
    "# Generates x_query, y_query, z_query array for manga\n",
    "x_query = np.asarray(walls_data['x'])\n",
    "x_query = x_query.astype(np.float64)\n",
    "x_query = x_query.reshape(x_query.shape[0],1)\n",
    "y_query = np.asarray(walls_data['y'])\n",
    "y_query = y_query.astype(np.float64)\n",
    "y_query = y_query.reshape(y_query.shape[0],1)\n",
    "z_query = np.asarray(walls_data['z'])\n",
    "z_query = z_query.astype(np.float64)\n",
    "z_query = z_query.reshape(z_query.shape[0],1)\n",
    "xyz_query_walls = np.concatenate((x_query,y_query,z_query), axis=1)"
   ]
  },
  {
   "cell_type": "code",
   "execution_count": 87,
   "metadata": {},
   "outputs": [],
   "source": [
    "# Generate KDTree for voidC\n",
    "tree_voidC = KDTree(xyz_tree_voidC)"
   ]
  },
  {
   "cell_type": "code",
   "execution_count": 88,
   "metadata": {},
   "outputs": [],
   "source": [
    "nearest_distance_to_void_edge_walls, ind = tree_voidC.query(xyz_query_walls, k=1)"
   ]
  },
  {
   "cell_type": "code",
   "execution_count": 89,
   "metadata": {},
   "outputs": [],
   "source": [
    "walls_data['flag'] = voidC['flag'][ind]"
   ]
  },
  {
   "cell_type": "code",
   "execution_count": 90,
   "metadata": {},
   "outputs": [],
   "source": [
    "walls_data['d_nve'] = np.ones(len(walls_data), dtype = float)\n",
    "\n",
    "x1= walls_data['x']\n",
    "x2= voidC['x']\n",
    "\n",
    "y1=walls_data['y']\n",
    "y2=voidC['y']\n",
    "\n",
    "z1=walls_data['z']\n",
    "z2=voidC['z']\n",
    "\n",
    "for i in range(len(walls_data)):\n",
    "    dist_ini = 1000\n",
    "    for j in range(len(voidC)):\n",
    "        if walls_data['flag'][i] == voidC['flag'][j]:\n",
    "            dist = abs(np.sqrt((x1[i]-x2[j])**2 + (y1[i]-y2[j])**2 + (z1[i]-z2[j])**2) - voidC['radius'][j])\n",
    "            if dist < dist_ini:\n",
    "                dist_ini = dist    \n",
    "    walls_data['d_nve'][i] = dist        "
   ]
  },
  {
   "cell_type": "markdown",
   "metadata": {},
   "source": [
    "##### Joining the voids and walls data and putting it into the mangaHIall file"
   ]
  },
  {
   "cell_type": "code",
   "execution_count": 91,
   "metadata": {},
   "outputs": [],
   "source": [
    "mangaHIall = vstack([walls_data, voids_data])"
   ]
  },
  {
   "cell_type": "markdown",
   "metadata": {},
   "source": [
    "##### Writing new mangaHIall file"
   ]
  },
  {
   "cell_type": "code",
   "execution_count": 92,
   "metadata": {},
   "outputs": [],
   "source": [
    "mangaHIall.write('input/mangaHIall_nearestDistances.txt', format = 'ascii.commented_header', overwrite = True)"
   ]
  }
 ],
 "metadata": {
  "kernelspec": {
   "display_name": "Python 3",
   "language": "python",
   "name": "python3"
  },
  "language_info": {
   "codemirror_mode": {
    "name": "ipython",
    "version": 3
   },
   "file_extension": ".py",
   "mimetype": "text/x-python",
   "name": "python",
   "nbconvert_exporter": "python",
   "pygments_lexer": "ipython3",
   "version": "3.7.4"
  }
 },
 "nbformat": 4,
 "nbformat_minor": 2
}
