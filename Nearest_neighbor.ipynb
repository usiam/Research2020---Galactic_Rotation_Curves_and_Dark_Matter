{
 "cells": [
  {
   "cell_type": "markdown",
   "metadata": {},
   "source": [
    "Study the relationship between the velocity width of HI detections and the distance to the nearest neighbor for MaNGA galaxies."
   ]
  },
  {
   "cell_type": "code",
   "execution_count": 7,
   "metadata": {},
   "outputs": [],
   "source": [
    "from astropy.table import Table\n",
    "\n",
    "import numpy as np"
   ]
  },
  {
   "cell_type": "markdown",
   "metadata": {},
   "source": [
    "# Data"
   ]
  },
  {
   "cell_type": "code",
   "execution_count": 3,
   "metadata": {},
   "outputs": [],
   "source": [
    "data_directory1 = '../RotationCurves/data/HI/'\n",
    "data_directory2 = '../RotationCurves/spirals/'\n",
    "data_directory3 = '/Users/kellydouglass/Documents/Drexel/Research/Data/'\n",
    "\n",
    "mangaHI_filename = data_directory1 + 'mangaHIall.fits'\n",
    "alfaHI_filename = data_directory1 + 'manga_dr15_alfalfa.fits'\n",
    "manga_filename = data_directory2 + 'Pipe3D-master_file_vflag_10_smooth2p27_N2O2_noWords.txt'\n",
    "#kias7_filename = data_directory3 + 'kias1033_5_P-MJD-F_MPAJHU_ZdustOS_stellarMass_BPT_SFR_NSA_vflag.txt'\n",
    "kias7_filename = data_directory3 + 'kias1033_5_P-MJD-F_MPAJHU_ZdustOS_stellarMass_BPT_SFR_NSA_correctvflag.txt'\n",
    "\n",
    "mangaHI = Table.read(mangaHI_filename, format='fits')\n",
    "alfaHI = Table.read(alfaHI_filename, format='fits')\n",
    "manga = Table.read(manga_filename, format='ascii.commented_header')\n",
    "kias7 = Table.read(kias7_filename, format='ascii.commented_header')"
   ]
  },
  {
   "cell_type": "markdown",
   "metadata": {},
   "source": [
    "## Add HI data to MaNGA table\n",
    "\n",
    "##### Initialize new columns in MaNGA data table"
   ]
  },
  {
   "cell_type": "code",
   "execution_count": 8,
   "metadata": {},
   "outputs": [],
   "source": [
    "manga['WF50'] = np.NaN*np.ones(len(manga), dtype=float)\n",
    "manga['WP20'] = np.NaN*np.ones(len(manga), dtype=float)\n",
    "manga['logHI'] = np.NaN*np.ones(len(manga), dtype=float)"
   ]
  },
  {
   "cell_type": "markdown",
   "metadata": {},
   "source": [
    "##### Add ALFALFA HI data"
   ]
  },
  {
   "cell_type": "code",
   "execution_count": 9,
   "metadata": {},
   "outputs": [
    {
     "name": "stderr",
     "output_type": "stream",
     "text": [
      "/Users/kellydouglass/opt/anaconda3/lib/python3.7/site-packages/astropy/table/column.py:1020: FutureWarning: elementwise comparison failed; returning scalar instead, but in the future will perform elementwise comparison\n",
      "  result = getattr(super(), op)(other)\n"
     ]
    }
   ],
   "source": [
    "for i in range(len(alfaHI)):\n",
    "    \n",
    "    galID = alfaHI['PLATEIFU'][i]\n",
    "    plate, IFU = galID.split('-')\n",
    "    \n",
    "    # Find the corresponding row index for this galaxy in the MaNGA data table\n",
    "    plate_boolean = manga['MaNGA_plate'] == plate\n",
    "    IFU_boolean = manga['MaNGA_IFU'] == IFU\n",
    "    manga_boolean = np.logical_and(plate_boolean, IFU_boolean)\n",
    "    \n",
    "    # Add data to MaNGA data table\n",
    "    manga['WF50'][manga_boolean] = alfaHI['WF50'][i]\n",
    "    manga['WP20'][manga_boolean] = alfaHI['WP20'][i]\n",
    "    manga['logHI'][manga_boolean] = alfaHI['LOGMHI'][i]"
   ]
  },
  {
   "cell_type": "markdown",
   "metadata": {},
   "source": [
    "##### Add GBT HI data"
   ]
  },
  {
   "cell_type": "code",
   "execution_count": 11,
   "metadata": {},
   "outputs": [],
   "source": [
    "for i in range(len(mangaHI)):\n",
    "    \n",
    "    galID = mangaHI['plateifu'][i]\n",
    "    plate, IFU = galID.split('-')\n",
    "    \n",
    "    # Find the corresponding row index for this galaxy in the MaNGA data table\n",
    "    plate_boolean = manga['MaNGA_plate'] == plate\n",
    "    IFU_boolean = manga['MaNGA_IFU'] == IFU\n",
    "    manga_boolean = np.logical_and(plate_boolean, IFU_boolean)\n",
    "    \n",
    "    # Add data to MaNGA data table\n",
    "    manga['WF50'][manga_boolean] = mangaHI['WF50'][i]\n",
    "    manga['WP20'][manga_boolean] = mangaHI['WP20'][i]\n",
    "    manga['logHI'][manga_boolean] = mangaHI['logMHI'][i]"
   ]
  },
  {
   "cell_type": "code",
   "execution_count": null,
   "metadata": {},
   "outputs": [],
   "source": [
    "# This cell is no longer necessary, since we put all the HI data into the main MaNGA data table\n",
    "'''\n",
    "NSA_plate_manga = []\n",
    "NSA_fiberID_manga = []\n",
    "NSA_MJD_manga = []\n",
    "\n",
    "for i in range(len(mangaHI)):\n",
    "    for j in range(len(table2)):\n",
    "        if mangaHI['Plate'][i] == table2['MaNGA_plate'][j] and mangaHI['IFU'][i] == table2['MaNGA_IFU'][j]:\n",
    "            NSA_plate_manga.append(table2['NSA_plate'][j])\n",
    "            NSA_fiberID_manga.append(table2['NSA_fiberID'][j])\n",
    "            NSA_MJD_manga.append(table2['NSA_MJD'][j])\n",
    "\n",
    "#mangaHI.remove_column('plate')\n",
    "#mangaHI.remove_column('fiberID')\n",
    "#mangaHI.remove_column('MJD')\n",
    "mangaHI.add_column(Column(np.asarray(NSA_plate_manga, dtype=np.float64, order='F')), index = 2, name = 'plate')\n",
    "mangaHI.add_column(Column(np.asarray(NSA_fiberID_manga, dtype=np.float64, order='F')), index = 3, name = 'fiberID')\n",
    "mangaHI.add_column(Column(np.asarray(NSA_MJD_manga, dtype=np.float64, order='F')), index = 4, name = 'MJD')\n",
    "''';"
   ]
  },
  {
   "cell_type": "code",
   "execution_count": null,
   "metadata": {},
   "outputs": [],
   "source": [
    "# This cell is no longer necessary, since we put all the HI data into the main MaNGA data table\n",
    "'''\n",
    "NSA_plate_alfa = []\n",
    "NSA_fiberID_alfa = []\n",
    "NSA_MJD_alfa = []\n",
    "\n",
    "for i in range(len(alfaHI)):\n",
    "    for j in range(len(table2)):\n",
    "        if alfaHI['Plate'][i] == table2['MaNGA_plate'][j] and alfaHI['IFU'][i] == table2['MaNGA_IFU'][j]:\n",
    "            NSA_plate_alfa.append(table2['NSA_plate'][j])\n",
    "            NSA_fiberID_alfa.append(table2['NSA_fiberID'][j])\n",
    "            NSA_MJD_alfa.append(table2['NSA_MJD'][j])\n",
    "\n",
    "#alfaHI.remove_column('plate')\n",
    "#alfaHI.remove_column('fiberID')\n",
    "#alfaHI.remove_column('MJD')\n",
    "alfaHI.add_column(Column(np.asarray(NSA_plate_alfa, dtype=np.float64, order='F')), index = 2, name = 'plate')\n",
    "alfaHI.add_column(Column(np.asarray(NSA_fiberID_alfa, dtype=np.float64, order='F')), index = 3, name = 'fiberID')\n",
    "alfaHI.add_column(Column(np.asarray(NSA_MJD_alfa, dtype=np.float64, order='F')), index = 4, name = 'MJD')\n",
    "'''"
   ]
  },
  {
   "cell_type": "markdown",
   "metadata": {},
   "source": [
    "## Isolate those MaNGA galaxies with HI detections\n",
    "\n",
    "We only want to analyze those galaxies in MaNGA with HI detections, so let's create a subset of the main MaNGA data table that contains only those galaxies with HI detections."
   ]
  },
  {
   "cell_type": "code",
   "execution_count": 12,
   "metadata": {},
   "outputs": [],
   "source": [
    "HI_boolean = np.logical_or.reduce((np.isfinite(manga['WF50']), \n",
    "                                   np.isfinite(manga['WP20']), \n",
    "                                   np.isfinite(manga['logHI'])))\n",
    "\n",
    "manga_HI = manga[HI_boolean]"
   ]
  },
  {
   "cell_type": "markdown",
   "metadata": {},
   "source": [
    "# Find distance to nearest neighbor for each MaNGA galaxy\n",
    "\n",
    "For each galaxy in the MaNGA data table, find its nearest neighbor and calculate the distance to that galaxy.\n",
    "1. Calculate the distance to every galaxy in SDSS DR7 for each MaNGA galaxy with an HI detection.\n",
    "2. Find the galaxy with the smallest distance - this is our nearest neighbor!  (Note: We need to check to make sure that we do not identify the MaNGA HI target galaxy as the nearest neighbor.)\n",
    "\n",
    "### Convert (ra, dec, redshift) to (x, y, z)\n",
    "\n",
    "Since we are going to do this for both the KIAS galaxies and the MaNGA galaxies, let's write a function."
   ]
  },
  {
   "cell_type": "code",
   "execution_count": 20,
   "metadata": {},
   "outputs": [],
   "source": [
    "c = 3e5 #3*(10**8) m/s <-- Scientific notation\n",
    "H = 100 #2.43 * (10**-18) 1/s <-- We are doing to do all of our distances in Mpc/h (where H0 = 100h).\n",
    "\n",
    "def rdz_to_xyz(data):\n",
    "    '''\n",
    "    Convert ra, dec, redshift to x, y, z\n",
    "    \n",
    "    \n",
    "    PARAMETERS\n",
    "    ==========\n",
    "    \n",
    "    data : astropy table\n",
    "        Galaxies to analyze.  Columns include ra, dec, redshift.\n",
    "        \n",
    "        \n",
    "    RETURNS\n",
    "    =======\n",
    "    \n",
    "    data : astropy table\n",
    "        Same as input data object, with the additional fields of x, y, z\n",
    "    '''\n",
    "\n",
    "    '''\n",
    "    # We can do this all at once, since we are doing the same calculation on every \n",
    "    # row of the data table.\n",
    "    \n",
    "    for i in range(len(data)):\n",
    "        radius_2 = c*data['redshift']/H\n",
    "        r_2 = radius_2\n",
    "        x_2_cor = r_2 * np.cos(kias7['ra'][i]* np.pi/180) * np.cos(kias7['dec'][i]* np.pi/180)\n",
    "        y_2_cor = r_2 * np.sin(kias7['ra'][i]* np.pi/180) * np.cos(kias7['dec'][i]* np.pi/180)\n",
    "        z_2_cor = r_2 * np.sin(kias7['ra'][i]* np.pi/180)\n",
    "        x_2.append(x_2_cor)\n",
    "        y_2.append(y_2_cor)\n",
    "        z_2.append(z_2_cor)\n",
    "    '''\n",
    "    \n",
    "    ################################################################################\n",
    "    # Our data tables have different column names, so we need to determine the \n",
    "    # correct names.\n",
    "    #-------------------------------------------------------------------------------\n",
    "    if 'redshift' in data.colnames:\n",
    "        redshift = data['redshift']\n",
    "        ra = data['ra'] * np.pi/180\n",
    "        dec = data['dec'] * np.pi/180\n",
    "    elif 'NSA_redshift' in data.colnames:\n",
    "        redshift = data['NSA_redshift']\n",
    "        ra = data['NSA_RA'] * np.pi/180\n",
    "        dec = data['NSA_DEC'] * np.pi/180\n",
    "    else:\n",
    "        print('Unknown field names.  Add to rdz_to_xyz function and rerun.')\n",
    "        return data\n",
    "    ################################################################################\n",
    "    \n",
    "    \n",
    "    ################################################################################\n",
    "    # Convert from spherical to cartesian coordinates\n",
    "    #-------------------------------------------------------------------------------\n",
    "    r = c*redshift/H\n",
    "    \n",
    "    data['x'] = r * np.cos(ra) * np.cos(dec)\n",
    "    data['y'] = r * np.sin(ra) * np.cos(dec)\n",
    "    data['z'] = r * np.sin(dec)\n",
    "    ################################################################################\n",
    "    \n",
    "    return data"
   ]
  },
  {
   "cell_type": "code",
   "execution_count": 21,
   "metadata": {},
   "outputs": [],
   "source": [
    "# def min_distance(table1, table2, ra_1, dec_1, redshift_1, ra_2, dec_2, redshift_2):\n",
    "   \n",
    "#     c = 3*(10**8) #m/s\n",
    "#     H = 2.43 * (10**-18) #1/s\n",
    "   \n",
    "#     distances = []\n",
    "   \n",
    "#     for i in range(len(table1)):\n",
    "        \n",
    "#     r_1 = c*redshift_1/H\n",
    "#     x_1 = r_1 * np.cos(ra_1* np.pi/180) * np.cos(dec_1 * np.pi/180)\n",
    "#     y_1 = r_1 * np.sin(ra_1* np.pi/180) * np.cos(dec_1 * np.pi/180)\n",
    "#     z_1 = r_1 * np.sin(ra_1* np.pi/180)\n",
    "    \n",
    "#     r_2 = c*redshift_2/H\n",
    "#     x_2 = r_2 * np.cos(ra_2* np.pi/180) * np.cos(dec_2 * np.pi/180)\n",
    "#     y_2 = r_2 * np.sin(ra_2* np.pi/180) * np.cos(dec_2 * np.pi/180)\n",
    "#     z_2 = r_2 * np.sin(ra_2* np.pi/180)\n",
    "    \n",
    "#     distance = np.sqrt((x_1-x_2)**2) + ((y_1-y_2)**2) + ((z_1-z_2)**2))\n",
    "    \n",
    "#     distance_Mpc = (distance) * (3.24 * 10**-17) * (10**-6)\n",
    "\n",
    "'''\n",
    "min_distance = []  \n",
    "x_1 = []\n",
    "y_1 = []\n",
    "z_1 = []\n",
    "x_2 = []\n",
    "y_2 = []\n",
    "z_2 = []\n",
    "\n",
    "   \n",
    "for i in range(len(kias7)):\n",
    "    radius_2 = c*kias7['redshift'][i]/H\n",
    "    r_2 = radius_2\n",
    "    x_2_cor = r_2 * np.cos(kias7['ra'][i]* np.pi/180) * np.cos(kias7['dec'][i]* np.pi/180)\n",
    "    y_2_cor = r_2 * np.sin(kias7['ra'][i]* np.pi/180) * np.cos(kias7['dec'][i]* np.pi/180)\n",
    "    z_2_cor = r_2 * np.sin(kias7['ra'][i]* np.pi/180)\n",
    "    x_2.append(x_2_cor)\n",
    "    y_2.append(y_2_cor)\n",
    "    z_2.append(z_2_cor)\n",
    "    \n",
    "for j in range(len(mangaHI)):\n",
    "    radius_1 = c*mangaHI['NSA_redshift'][j]/H\n",
    "    r_1 = radius_1\n",
    "    x_1_cor = r_1 * np.cos(mangaHI['objra'][j]* np.pi/180) * np.cos(mangaHI['objdec'][j]* np.pi/180)\n",
    "    y_1_cor = r_1 * np.sin(mangaHI['objra'][j]* np.pi/180) * np.cos(mangaHI['objdec'][j]* np.pi/180)\n",
    "    z_1_cor = r_1 * np.sin(mangaHI['objra'][j]* np.pi/180)\n",
    "    x_1.append(x_1_cor)\n",
    "    y_1.append(y_1_cor)\n",
    "    z_1.append(z_1_cor)\n",
    "'''\n",
    "\n",
    "# Now that we have our function written, we can do this conversion on both data tables\n",
    "manga_HI = rdz_to_xyz(manga_HI)\n",
    "kias7 = rdz_to_xyz(kias7)"
   ]
  },
  {
   "cell_type": "markdown",
   "metadata": {},
   "source": [
    "### Calculate distance between galaxies and find the closest one"
   ]
  },
  {
   "cell_type": "code",
   "execution_count": 22,
   "metadata": {},
   "outputs": [],
   "source": [
    "# Add a column to the MaNGA data table to store our nearest-neighbor distance\n",
    "manga_HI['d_nn'] = np.zeros(len(manga_HI), dtype=float) # Feel free to change this column name to whatever you want.\n",
    "\n",
    "#for k in range(len(mangaHI)):\n",
    "for k in range(len(manga_HI)):\n",
    "    \n",
    "    minimum = 1000 # We want to reset the minimum outside this inner for-loop, since we want to reset it only once for each mangaHI galaxy\n",
    "    \n",
    "    for l in range(len(kias7)):\n",
    "        #minimum = 1000\n",
    "        #distance = np.sqrt((x_1[k] - x_2[k])**2 + (y_1[k]-y_2[l])**2 + (z_1[k]-z_2[l])**2) * (3.24 * 10**-17) * (10**-6)\n",
    "        # Careful with your indices!  You were using k to index into both the mangaHI coordinates and the kias7 coordinates\n",
    "        distance = np.sqrt((manga_HI['x'][k] - kias7['x'][l])**2 + \\\n",
    "                           (manga_HI['y'][k] - kias7['y'][l])**2 + \\\n",
    "                           (manga_HI['z'][k] - kias7['z'][l])**2)\n",
    "        \n",
    "        #if (mangaHI['plate'][k], mangaHI['fiberID'][k], mangaHI['MJD'][k]) != (kias7['plate'][l], kias7['fiberID'][l], kias7['MJD'][l]):\n",
    "        if (manga_HI['NSA_plate'][k], manga_HI['NSA_fiberID'][k], manga_HI['NSA_MJD'][k]) != \\\n",
    "           (kias7['plate'][l], kias7['fiberID'][l], kias7['MJD'][l]):\n",
    "            if distance < minimum:\n",
    "                minimum = distance\n",
    "    \n",
    "    #min_distance.append(minimum)\n",
    "    manga_HI['d_nn'][k] = minimum"
   ]
  },
  {
   "cell_type": "code",
   "execution_count": null,
   "metadata": {},
   "outputs": [],
   "source": []
  }
 ],
 "metadata": {
  "kernelspec": {
   "display_name": "Python 3",
   "language": "python",
   "name": "python3"
  },
  "language_info": {
   "codemirror_mode": {
    "name": "ipython",
    "version": 3
   },
   "file_extension": ".py",
   "mimetype": "text/x-python",
   "name": "python",
   "nbconvert_exporter": "python",
   "pygments_lexer": "ipython3",
   "version": "3.7.6"
  }
 },
 "nbformat": 4,
 "nbformat_minor": 4
}
