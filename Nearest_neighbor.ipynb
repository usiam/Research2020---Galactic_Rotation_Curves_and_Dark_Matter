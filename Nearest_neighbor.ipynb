{
 "cells": [
  {
   "cell_type": "markdown",
   "metadata": {},
   "source": [
    "Study the relationship between the velocity width of HI detections and the distance to the nearest neighbor for MaNGA galaxies."
   ]
  },
  {
   "cell_type": "code",
   "execution_count": 27,
   "metadata": {},
   "outputs": [],
   "source": [
    "from astropy.table import Table\n",
    "import numpy as np\n",
    "from scipy.spatial import KDTree"
   ]
  },
  {
   "cell_type": "markdown",
   "metadata": {},
   "source": [
    "# Data"
   ]
  },
  {
   "cell_type": "code",
   "execution_count": 28,
   "metadata": {},
   "outputs": [],
   "source": [
    "mangaHI_filename = 'input/mangaHIall.fits'\n",
    "alfaHI_filename = 'input/manga_dr15_alfalfa.fits'\n",
    "manga_filename =  'input/Pipe3D-master_file_vflag_10_smooth2p27_N2O2_noWords.txt'\n",
    "#kias7_filename =  'kias1033_5_P-MJD-F_MPAJHU_ZdustOS_stellarMass_BPT_SFR_NSA_vflag.txt'\n",
    "kias7_filename =  'input/kias1033_5_P-MJD-F_MPAJHU_ZdustOS_stellarMass_BPT_SFR_NSA_vflag.txt'\n",
    "\n",
    "mangaHI = Table.read(mangaHI_filename, format='fits')\n",
    "alfaHI = Table.read(alfaHI_filename, format='fits')\n",
    "manga = Table.read(manga_filename, format='ascii.commented_header')\n",
    "kias7 = Table.read(kias7_filename, format='ascii.commented_header')"
   ]
  },
  {
   "cell_type": "markdown",
   "metadata": {},
   "source": [
    "## Add HI data to MaNGA table\n",
    "\n",
    "##### Initialize new columns in MaNGA data table"
   ]
  },
  {
   "cell_type": "code",
   "execution_count": 30,
   "metadata": {},
   "outputs": [],
   "source": [
    "manga['WF50'] = np.NaN*np.ones(len(manga), dtype=float)\n",
    "manga['WP20'] = np.NaN*np.ones(len(manga), dtype=float)\n",
    "manga['logHI'] = np.NaN*np.ones(len(manga), dtype=float)"
   ]
  },
  {
   "cell_type": "markdown",
   "metadata": {},
   "source": [
    "##### Add ALFALFA HI data"
   ]
  },
  {
   "cell_type": "code",
   "execution_count": 31,
   "metadata": {},
   "outputs": [],
   "source": [
    "for i in range(len(alfaHI)):\n",
    "    \n",
    "    galID = alfaHI['PLATEIFU'][i]\n",
    "    plate, IFU = galID.split('-')\n",
    "    \n",
    "    # Find the corresponding row index for this galaxy in the MaNGA data table\n",
    "    plate_boolean = manga['MaNGA_plate'] == int(plate)\n",
    "    IFU_boolean = manga['MaNGA_IFU'] == int(IFU)\n",
    "    manga_boolean = np.logical_and(plate_boolean, IFU_boolean)\n",
    "    \n",
    "    # Add data to MaNGA data table\n",
    "    manga['WF50'][manga_boolean] = alfaHI['WF50'][i]\n",
    "    manga['WP20'][manga_boolean] = alfaHI['WP20'][i]\n",
    "    manga['logHI'][manga_boolean] = alfaHI['LOGMHI'][i]"
   ]
  },
  {
   "cell_type": "markdown",
   "metadata": {},
   "source": [
    "##### Add GBT HI data"
   ]
  },
  {
   "cell_type": "code",
   "execution_count": 32,
   "metadata": {},
   "outputs": [],
   "source": [
    "for i in range(len(mangaHI)):\n",
    "    \n",
    "    galID = mangaHI['plateifu'][i]\n",
    "    plate, IFU = galID.split('-')\n",
    "    \n",
    "    # Find the corresponding row index for this galaxy in the MaNGA data table\n",
    "    plate_boolean = manga['MaNGA_plate'] == int(plate)\n",
    "    IFU_boolean = manga['MaNGA_IFU'] == int(IFU)\n",
    "    manga_boolean = np.logical_and(plate_boolean, IFU_boolean)\n",
    "    \n",
    "    # Add data to MaNGA data table\n",
    "    manga['WF50'][manga_boolean] = mangaHI['WF50'][i]\n",
    "    manga['WP20'][manga_boolean] = mangaHI['WP20'][i]\n",
    "    manga['logHI'][manga_boolean] = mangaHI['logMHI'][i]"
   ]
  },
  {
   "cell_type": "markdown",
   "metadata": {},
   "source": [
    "## Isolate those MaNGA galaxies with HI detections\n",
    "\n",
    "We only want to analyze those galaxies in MaNGA with HI detections, so let's create a subset of the main MaNGA data table that contains only those galaxies with HI detections."
   ]
  },
  {
   "cell_type": "code",
   "execution_count": 33,
   "metadata": {},
   "outputs": [],
   "source": [
    "HI_boolean = np.logical_or.reduce((np.isfinite(manga['WF50']), \n",
    "                                   np.isfinite(manga['WP20']), \n",
    "                                   np.isfinite(manga['logHI'])))\n",
    "\n",
    "manga_HI = manga[HI_boolean]"
   ]
  },
  {
   "cell_type": "markdown",
   "metadata": {},
   "source": [
    "# Find distance to nearest neighbor for each MaNGA galaxy\n",
    "\n",
    "For each galaxy in the MaNGA data table, find its nearest neighbor and calculate the distance to that galaxy.\n",
    "1. Calculate the distance to every galaxy in SDSS DR7 for each MaNGA galaxy with an HI detection.\n",
    "2. Find the galaxy with the smallest distance - this is our nearest neighbor!  (Note: We need to check to make sure that we do not identify the MaNGA HI target galaxy as the nearest neighbor.)\n",
    "\n",
    "### Convert (ra, dec, redshift) to (x, y, z)\n",
    "\n",
    "Since we are going to do this for both the KIAS galaxies and the MaNGA galaxies, let's write a function."
   ]
  },
  {
   "cell_type": "code",
   "execution_count": 34,
   "metadata": {},
   "outputs": [],
   "source": [
    "c = 3e5 #3*(10**8) m/s <-- Scientific notation\n",
    "H = 100 #2.43 * (10**-18) 1/s <-- We are doing to do all of our distances in Mpc/h (where H0 = 100h).\n",
    "\n",
    "def rdz_to_xyz(data):\n",
    "    '''\n",
    "    Convert ra, dec, redshift to x, y, z\n",
    "    \n",
    "    \n",
    "    PARAMETERS\n",
    "    ==========\n",
    "    \n",
    "    data : astropy table\n",
    "        Galaxies to analyze.  Columns include ra, dec, redshift.\n",
    "        \n",
    "        \n",
    "    RETURNS\n",
    "    =======\n",
    "    \n",
    "    data : astropy table\n",
    "        Same as input data object, with the additional fields of x, y, z\n",
    "    '''\n",
    "\n",
    "    '''\n",
    "    # We can do this all at once, since we are doing the same calculation on every \n",
    "    # row of the data table.\n",
    "    \n",
    "    for i in range(len(data)):\n",
    "        radius_2 = c*data['redshift']/H\n",
    "        r_2 = radius_2\n",
    "        x_2_cor = r_2 * np.cos(kias7['ra'][i]* np.pi/180) * np.cos(kias7['dec'][i]* np.pi/180)\n",
    "        y_2_cor = r_2 * np.sin(kias7['ra'][i]* np.pi/180) * np.cos(kias7['dec'][i]* np.pi/180)\n",
    "        z_2_cor = r_2 * np.sin(kias7['ra'][i]* np.pi/180)\n",
    "        x_2.append(x_2_cor)\n",
    "        y_2.append(y_2_cor)\n",
    "        z_2.append(z_2_cor)\n",
    "    '''\n",
    "    \n",
    "    ################################################################################\n",
    "    # Our data tables have different column names, so we need to determine the \n",
    "    # correct names.\n",
    "    #-------------------------------------------------------------------------------\n",
    "    if 'redshift' in data.colnames:\n",
    "        redshift = data['redshift']\n",
    "        ra = data['ra'] * np.pi/180\n",
    "        dec = data['dec'] * np.pi/180\n",
    "    elif 'NSA_redshift' in data.colnames:\n",
    "        redshift = data['NSA_redshift']\n",
    "        ra = data['NSA_RA'] * np.pi/180\n",
    "        dec = data['NSA_DEC'] * np.pi/180\n",
    "    else:\n",
    "        print('Unknown field names.  Add to rdz_to_xyz function and rerun.')\n",
    "        return data\n",
    "    ################################################################################\n",
    "    \n",
    "    \n",
    "    ################################################################################\n",
    "    # Convert from spherical to cartesian coordinates\n",
    "    #-------------------------------------------------------------------------------\n",
    "    r = c*redshift/H\n",
    "    \n",
    "    data['x'] = r * np.cos(ra) * np.cos(dec)\n",
    "    data['y'] = r * np.sin(ra) * np.cos(dec)\n",
    "    data['z'] = r * np.sin(dec)\n",
    "    ################################################################################\n",
    "    \n",
    "    return data"
   ]
  },
  {
   "cell_type": "code",
   "execution_count": 42,
   "metadata": {},
   "outputs": [],
   "source": [
    "# Now that we have our function written, we can do this conversion on both data tables\n",
    "manga_HI = rdz_to_xyz(manga_HI)\n",
    "kias7 = rdz_to_xyz(kias7)"
   ]
  },
  {
   "cell_type": "markdown",
   "metadata": {},
   "source": [
    "### Calculate distance between galaxies and find the closest one"
   ]
  },
  {
   "cell_type": "code",
   "execution_count": 37,
   "metadata": {},
   "outputs": [],
   "source": [
    "# Generates x_tree, y_tree, z_tree array for kias7\n",
    "x_tree = np.asarray(kias7['x'])\n",
    "x_tree = x_tree.astype(np.float64)\n",
    "x_tree = x_tree.reshape(x_tree.shape[0],1)\n",
    "y_tree = np.asarray(kias7['y'])\n",
    "y_tree = y_tree.astype(np.float64)\n",
    "y_tree = y_tree.reshape(y_tree.shape[0],1)\n",
    "z_tree = np.asarray(kias7['z'])\n",
    "z_tree = z_tree.astype(np.float64)\n",
    "z_tree = z_tree.reshape(z_tree.shape[0],1)\n",
    "xyz_tree = np.concatenate((x_tree,y_tree,z_tree), axis=1)\n",
    "\n",
    "# Generates x_query, y_query, z_query array for manga\n",
    "x_query = np.asarray(manga_HI['x'])\n",
    "x_query = x_query.astype(np.float64)\n",
    "x_query = x_query.reshape(x_query.shape[0],1)\n",
    "y_query = np.asarray(manga_HI['y'])\n",
    "y_query = y_query.astype(np.float64)\n",
    "y_query = y_query.reshape(y_query.shape[0],1)\n",
    "z_query = np.asarray(manga_HI['z'])\n",
    "z_query = z_query.astype(np.float64)\n",
    "z_query = z_query.reshape(z_query.shape[0],1)\n",
    "xyz_query = np.concatenate((x_query,y_query,z_query), axis=1)"
   ]
  },
  {
   "cell_type": "code",
   "execution_count": 38,
   "metadata": {
    "scrolled": true
   },
   "outputs": [],
   "source": [
    "# Generate KDTree for kias7\n",
    "tree = KDTree(xyz_tree)"
   ]
  },
  {
   "cell_type": "code",
   "execution_count": 39,
   "metadata": {},
   "outputs": [
    {
     "data": {
      "text/plain": [
       "array([1.23878972, 0.657584  , 0.35897515, ..., 0.2109972 , 0.47263304,\n",
       "       0.87133691])"
      ]
     },
     "execution_count": 39,
     "metadata": {},
     "output_type": "execute_result"
    }
   ],
   "source": [
    "nearest_distances, _ = tree.query(xyz_query, k=2)\n",
    "nearest_distances = nearest_distances[:,1]\n",
    "nearest_distances"
   ]
  },
  {
   "cell_type": "code",
   "execution_count": 40,
   "metadata": {},
   "outputs": [],
   "source": [
    "manga_HI['d_nn'] = np.zeros(len(manga_HI), dtype=float)\n",
    "manga_HI['d_nn'] = nearest_distances"
   ]
  },
  {
   "cell_type": "code",
   "execution_count": null,
   "metadata": {},
   "outputs": [],
   "source": []
  },
  {
   "cell_type": "code",
   "execution_count": null,
   "metadata": {},
   "outputs": [],
   "source": []
  },
  {
   "cell_type": "code",
   "execution_count": null,
   "metadata": {},
   "outputs": [],
   "source": []
  }
 ],
 "metadata": {
  "kernelspec": {
   "display_name": "Python 3",
   "language": "python",
   "name": "python3"
  },
  "language_info": {
   "codemirror_mode": {
    "name": "ipython",
    "version": 3
   },
   "file_extension": ".py",
   "mimetype": "text/x-python",
   "name": "python",
   "nbconvert_exporter": "python",
   "pygments_lexer": "ipython3",
   "version": "3.7.4"
  }
 },
 "nbformat": 4,
 "nbformat_minor": 4
}
