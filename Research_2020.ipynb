{
 "cells": [
  {
   "cell_type": "markdown",
   "metadata": {},
   "source": [
    "Start date: 5/20/2020"
   ]
  },
  {
   "cell_type": "markdown",
   "metadata": {},
   "source": [
    "#### Importing objects and functions"
   ]
  },
  {
   "cell_type": "code",
   "execution_count": 166,
   "metadata": {},
   "outputs": [],
   "source": [
    "import numpy as np\n",
    "import matplotlib.pyplot as plt\n",
    "from astropy.table import Table\n",
    "from astropy.table import QTable, Table, Column\n",
    "from astropy import units as u\n",
    "from astropy.io import ascii\n",
    "from scipy.optimize import curve_fit"
   ]
  },
  {
   "cell_type": "code",
   "execution_count": 167,
   "metadata": {},
   "outputs": [],
   "source": [
    "mangaHI = Table.read(\"out_txt/GBT_HI_with_MStar.txt\", format=\"ascii.commented_header\")\n",
    "alfaHI =  Table.read(\"out_txt/ALFALFA_HI_with_MStar.txt\", format=\"ascii.commented_header\")\n",
    "table2 = Table.read(\"input/Pipe3D-master_file_vflag_10_smooth2p27_N2O2_noWords.txt\", format=\"ascii.commented_header\")"
   ]
  },
  {
   "cell_type": "code",
   "execution_count": 168,
   "metadata": {},
   "outputs": [],
   "source": [
    "wp20_manga = mangaHI[\"WP20\"]\n",
    "wf50_manga = mangaHI[\"WF50\"]\n",
    "wp50_manga = mangaHI[\"WP50\"]"
   ]
  },
  {
   "cell_type": "code",
   "execution_count": 169,
   "metadata": {},
   "outputs": [],
   "source": [
    "wp20_alfa = alfaHI[\"WP20\"]\n",
    "wf50_alfa = alfaHI[\"WF50\"]"
   ]
  },
  {
   "cell_type": "code",
   "execution_count": 170,
   "metadata": {},
   "outputs": [
    {
     "data": {
      "text/html": [
       "<i>Table length=331</i>\n",
       "<table id=\"table2633416753416\" class=\"table-striped table-bordered table-condensed\">\n",
       "<thead><tr><th>mangaid</th><th>objra</th><th>objdec</th><th>vopt</th><th>session</th><th>Exp</th><th>rms</th><th>logHIlim200kms</th><th>peak</th><th>snr</th><th>FHI</th><th>logMHI</th><th>VHI</th><th>eV</th><th>WM50</th><th>WP50</th><th>WP20</th><th>W2P50</th><th>WF50</th><th>Pr</th><th>Pl</th><th>ar</th><th>br</th><th>al</th><th>bl</th><th>MStar</th><th>logMStar</th><th>Plate</th><th>IFU</th></tr></thead>\n",
       "<thead><tr><th>str9</th><th>float64</th><th>float64</th><th>int32</th><th>str12</th><th>float64</th><th>float64</th><th>float64</th><th>float64</th><th>float64</th><th>float64</th><th>float64</th><th>int32</th><th>float64</th><th>int32</th><th>int32</th><th>int32</th><th>int32</th><th>int32</th><th>float64</th><th>float64</th><th>float64</th><th>float64</th><th>float64</th><th>float64</th><th>float64</th><th>float64</th><th>int32</th><th>int32</th></tr></thead>\n",
       "<tr><td>1-604053</td><td>50.6967861</td><td>0.14936614</td><td>6845</td><td>16A-2</td><td>697.5</td><td>1.5099999904632568</td><td>-999.0</td><td>28.020000457763672</td><td>18.5</td><td>4.670000076293945</td><td>10.039999961853027</td><td>6859</td><td>5.25</td><td>236</td><td>215</td><td>243</td><td>216</td><td>221</td><td>25.510000228881836</td><td>28.020000457763672</td><td>118.3499984741211</td><td>0.9599999785423279</td><td>82.83000183105469</td><td>-0.6299999952316284</td><td>24294725632.0</td><td>10.385511998802142</td><td>8083</td><td>12704</td></tr>\n",
       "<tr><td>1-38173</td><td>49.9732257</td><td>0.39144219</td><td>7148</td><td>16A-2</td><td>538.2000122070312</td><td>2.059999942779541</td><td>-999.0</td><td>9.279999732971191</td><td>4.0</td><td>1.3700000047683716</td><td>9.539999961853027</td><td>7062</td><td>150.77999877929688</td><td>438</td><td>257</td><td>438</td><td>193</td><td>-999</td><td>-999.0</td><td>-999.0</td><td>-999.0</td><td>-999.0</td><td>-999.0</td><td>-999.0</td><td>2329206272.0</td><td>9.367207950889586</td><td>8083</td><td>3702</td></tr>\n",
       "<tr><td>1-24145</td><td>258.8469457</td><td>57.43288135</td><td>9653</td><td>16A-2</td><td>897.0</td><td>1.5800000429153442</td><td>9.170000076293945</td><td>-999.0</td><td>-999.0</td><td>-999.0</td><td>-999.0</td><td>-999</td><td>-999.0</td><td>-999</td><td>-999</td><td>-999</td><td>-999</td><td>-999</td><td>-999.0</td><td>-999.0</td><td>-999.0</td><td>-999.0</td><td>-999.0</td><td>-999.0</td><td>123334836224.0</td><td>11.091085761453927</td><td>7991</td><td>12702</td></tr>\n",
       "<tr><td>1-24368</td><td>261.3210536</td><td>56.95187738</td><td>7496</td><td>16A-2</td><td>897.0999755859375</td><td>1.5399999618530273</td><td>-999.0</td><td>7.260000228881836</td><td>4.699999809265137</td><td>0.9599999785423279</td><td>9.430000305175781</td><td>7497</td><td>22.520000457763672</td><td>238</td><td>212</td><td>244</td><td>229</td><td>225</td><td>7.260000228881836</td><td>6.630000114440918</td><td>20.969999313354492</td><td>0.1599999964237213</td><td>8.84000015258789</td><td>-0.05999999865889549</td><td>5400114176.0</td><td>9.73240294231974</td><td>7991</td><td>12704</td></tr>\n",
       "<tr><td>1-23979</td><td>258.1587518</td><td>57.32242143</td><td>7983</td><td>16A-2</td><td>568.2000122070312</td><td>1.690000057220459</td><td>9.029999732971191</td><td>-999.0</td><td>-999.0</td><td>-999.0</td><td>-999.0</td><td>-999</td><td>-999.0</td><td>-999</td><td>-999</td><td>-999</td><td>-999</td><td>-999</td><td>-999.0</td><td>-999.0</td><td>-999.0</td><td>-999.0</td><td>-999.0</td><td>-999.0</td><td>10823595008.0</td><td>10.034371533674436</td><td>7991</td><td>3702</td></tr>\n",
       "<tr><td>1-24124</td><td>258.5302615</td><td>57.47743353</td><td>8049</td><td>16A-2</td><td>618.0999755859375</td><td>1.600000023841858</td><td>9.020000457763672</td><td>-999.0</td><td>-999.0</td><td>-999.0</td><td>-999.0</td><td>-999</td><td>-999.0</td><td>-999</td><td>-999</td><td>-999</td><td>-999</td><td>-999</td><td>-999.0</td><td>-999.0</td><td>-999.0</td><td>-999.0</td><td>-999.0</td><td>-999.0</td><td>2872524800.0</td><td>9.458263786866556</td><td>7991</td><td>3703</td></tr>\n",
       "<tr><td>1-23891</td><td>260.2282152</td><td>57.09795578</td><td>8234</td><td>16A-2-17</td><td>1256.0999755859375</td><td>1.3300000429153442</td><td>-999.0</td><td>5.900000095367432</td><td>4.400000095367432</td><td>0.5799999833106995</td><td>9.279999732971191</td><td>8099</td><td>38.41999816894531</td><td>200</td><td>150</td><td>201</td><td>155</td><td>155</td><td>3.950000047683716</td><td>5.900000095367432</td><td>16.8700008392334</td><td>0.20000000298023224</td><td>4.619999885559082</td><td>-0.029999999329447746</td><td>18465875968.0</td><td>10.266369914155716</td><td>7991</td><td>3704</td></tr>\n",
       "<tr><td>1-37998</td><td>50.1888814</td><td>-1.05394485</td><td>6233</td><td>16A-3</td><td>707.0999755859375</td><td>1.2999999523162842</td><td>-999.0</td><td>21.200000762939453</td><td>17.100000381469727</td><td>5.659999847412109</td><td>10.050000190734863</td><td>6295</td><td>4.110000133514404</td><td>380</td><td>312</td><td>383</td><td>326</td><td>333</td><td>16.270000457763672</td><td>22.200000762939453</td><td>56.970001220703125</td><td>0.30000001192092896</td><td>41.4900016784668</td><td>-0.1899999976158142</td><td>6834482176.0</td><td>9.8347056152279</td><td>8082</td><td>3703</td></tr>\n",
       "<tr><td>1-37965</td><td>48.6427236</td><td>0.53237488</td><td>6293</td><td>16A-3</td><td>647.4000244140625</td><td>1.2999999523162842</td><td>-999.0</td><td>6.539999961853027</td><td>5.0</td><td>0.4699999988079071</td><td>8.970000267028809</td><td>6305</td><td>11.600000381469727</td><td>110</td><td>92</td><td>109</td><td>92</td><td>-999</td><td>-999.0</td><td>-999.0</td><td>-999.0</td><td>-999.0</td><td>-999.0</td><td>-999.0</td><td>1326035712.0</td><td>9.122555220385262</td><td>8082</td><td>9101</td></tr>\n",
       "<tr><td>1-604037</td><td>50.1606437</td><td>-1.03501854</td><td>6297</td><td>16A-3</td><td>647.4000244140625</td><td>1.3300000429153442</td><td>-999.0</td><td>18.93000030517578</td><td>14.5</td><td>5.139999866485596</td><td>10.0</td><td>6306</td><td>17.950000762939453</td><td>400</td><td>325</td><td>402</td><td>346</td><td>358</td><td>13.510000228881836</td><td>18.93000030517578</td><td>17.1200008392334</td><td>0.05999999865889549</td><td>35.09000015258789</td><td>-0.15000000596046448</td><td>6976220672.0</td><td>9.843620209756526</td><td>8082</td><td>1902</td></tr>\n",
       "<tr><td>...</td><td>...</td><td>...</td><td>...</td><td>...</td><td>...</td><td>...</td><td>...</td><td>...</td><td>...</td><td>...</td><td>...</td><td>...</td><td>...</td><td>...</td><td>...</td><td>...</td><td>...</td><td>...</td><td>...</td><td>...</td><td>...</td><td>...</td><td>...</td><td>...</td><td>...</td><td>...</td><td>...</td><td>...</td></tr>\n",
       "<tr><td>1-257984</td><td>179.9626352</td><td>43.7406891</td><td>5880</td><td>16A-51</td><td>897.0</td><td>1.399999976158142</td><td>-999.0</td><td>10.40999984741211</td><td>7.400000095367432</td><td>1.190000057220459</td><td>9.3100004196167</td><td>5869</td><td>4.53000020980835</td><td>189</td><td>183</td><td>193</td><td>186</td><td>183</td><td>6.800000190734863</td><td>10.399999618530273</td><td>13.770000457763672</td><td>0.11999999731779099</td><td>24.06999969482422</td><td>-0.20999999344348907</td><td>969048768.0</td><td>8.986345633748748</td><td>8259</td><td>12701</td></tr>\n",
       "<tr><td>1-257940</td><td>180.9425598</td><td>43.98446029</td><td>6834</td><td>16A-51</td><td>897.0</td><td>1.3700000047683716</td><td>-999.0</td><td>8.1899995803833</td><td>6.0</td><td>1.3600000143051147</td><td>9.5</td><td>6811</td><td>4.639999866485596</td><td>262</td><td>257</td><td>265</td><td>258</td><td>300</td><td>8.199999809265137</td><td>7.0</td><td>8.130000114440918</td><td>0.029999999329447746</td><td>108.97000122070312</td><td>-0.7099999785423279</td><td>1862937728.0</td><td>9.270198338075</td><td>8259</td><td>12703</td></tr>\n",
       "<tr><td>1-257957</td><td>180.1605688</td><td>44.40664558</td><td>7065</td><td>16A-51</td><td>897.0</td><td>1.2699999809265137</td><td>-999.0</td><td>40.4900016784668</td><td>31.899999618530273</td><td>3.380000114440918</td><td>9.930000305175781</td><td>7065</td><td>2.6700000762939453</td><td>109</td><td>92</td><td>113</td><td>93</td><td>96</td><td>34.400001525878906</td><td>40.5</td><td>68.91999816894531</td><td>1.090000033378601</td><td>83.58000183105469</td><td>-1.3300000429153442</td><td>2883515904.0</td><td>9.459922351099921</td><td>8259</td><td>12704</td></tr>\n",
       "<tr><td>1-257825</td><td>178.506318</td><td>44.64225639</td><td>7215</td><td>16A-51</td><td>897.0</td><td>1.399999976158142</td><td>-999.0</td><td>11.739999771118164</td><td>8.399999618530273</td><td>2.3299999237060547</td><td>9.779999732971191</td><td>7205</td><td>14.050000190734863</td><td>362</td><td>330</td><td>365</td><td>352</td><td>351</td><td>8.800000190734863</td><td>11.699999809265137</td><td>26.6299991607666</td><td>0.12999999523162842</td><td>74.63999938964844</td><td>-0.4000000059604645</td><td>6249655808.0</td><td>9.79585609977568</td><td>8259</td><td>12702</td></tr>\n",
       "<tr><td>1-257652</td><td>177.796116</td><td>44.00876516</td><td>7258</td><td>16A-51</td><td>897.2000122070312</td><td>1.6399999856948853</td><td>8.9399995803833</td><td>-999.0</td><td>-999.0</td><td>-999.0</td><td>-999.0</td><td>-999</td><td>-999.0</td><td>-999</td><td>-999</td><td>-999</td><td>-999</td><td>-999</td><td>-999.0</td><td>-999.0</td><td>-999.0</td><td>-999.0</td><td>-999.0</td><td>-999.0</td><td>3193495296.0</td><td>9.504266280781229</td><td>8259</td><td>1902</td></tr>\n",
       "<tr><td>1-281050</td><td>179.4449291</td><td>42.98994849</td><td>9263</td><td>16A-51-52</td><td>847.0</td><td>1.4199999570846558</td><td>-999.0</td><td>8.920000076293945</td><td>6.300000190734863</td><td>1.0399999618530273</td><td>9.649999618530273</td><td>9267</td><td>38.040000915527344</td><td>209</td><td>140</td><td>212</td><td>144</td><td>163</td><td>8.899999618530273</td><td>7.5</td><td>8.239999771118164</td><td>0.05000000074505806</td><td>8.680000305175781</td><td>-0.07000000029802322</td><td>4817822720.0</td><td>9.682850815350523</td><td>8259</td><td>6101</td></tr>\n",
       "<tr><td>1-280965</td><td>177.9719203</td><td>43.34806752</td><td>10741</td><td>16A-52</td><td>817.5</td><td>1.3899999856948853</td><td>9.210000038146973</td><td>-999.0</td><td>-999.0</td><td>-999.0</td><td>-999.0</td><td>-999</td><td>-999.0</td><td>-999</td><td>-999</td><td>-999</td><td>-999</td><td>-999</td><td>-999.0</td><td>-999.0</td><td>-999.0</td><td>-999.0</td><td>-999.0</td><td>-999.0</td><td>2710064128.0</td><td>9.432979567666665</td><td>8259</td><td>1901</td></tr>\n",
       "<tr><td>1-257813</td><td>177.7941889</td><td>45.22284931</td><td>10744</td><td>16A-52</td><td>847.0</td><td>1.2899999618530273</td><td>-999.0</td><td>7.71999979019165</td><td>6.0</td><td>0.9300000071525574</td><td>9.739999771118164</td><td>10755</td><td>9.270000457763672</td><td>156</td><td>144</td><td>160</td><td>146</td><td>148</td><td>7.699999809265137</td><td>7.400000095367432</td><td>23.219999313354492</td><td>0.27000001072883606</td><td>7.599999904632568</td><td>-0.05999999865889549</td><td>23148484608.0</td><td>10.364522565637996</td><td>8259</td><td>3702</td></tr>\n",
       "<tr><td>1-257627</td><td>178.4749785</td><td>43.81873273</td><td>12787</td><td>16A-52</td><td>897.0999755859375</td><td>1.25</td><td>9.319999694824219</td><td>-999.0</td><td>-999.0</td><td>-999.0</td><td>-999.0</td><td>-999</td><td>-999.0</td><td>-999</td><td>-999</td><td>-999</td><td>-999</td><td>-999</td><td>-999.0</td><td>-999.0</td><td>-999.0</td><td>-999.0</td><td>-999.0</td><td>-999.0</td><td>8625157120.0</td><td>9.935767015134005</td><td>8259</td><td>6102</td></tr>\n",
       "<tr><td>1-257953</td><td>180.5905198</td><td>44.56717239</td><td>13042</td><td>16A-52</td><td>897.0</td><td>1.3700000047683716</td><td>-999.0</td><td>5.739999771118164</td><td>4.199999809265137</td><td>0.3400000035762787</td><td>9.479999542236328</td><td>12996</td><td>7.03000020980835</td><td>83</td><td>79</td><td>87</td><td>42</td><td>87</td><td>5.699999809265137</td><td>4.699999809265137</td><td>8.9399995803833</td><td>0.15000000596046448</td><td>8.420000076293945</td><td>-0.15000000596046448</td><td>5717965824.0</td><td>9.757241555273007</td><td>8259</td><td>6104</td></tr>\n",
       "</table>"
      ],
      "text/plain": [
       "<Table length=331>\n",
       "mangaid     objra       objdec    vopt ...      logMStar      Plate  IFU \n",
       "  str9     float64     float64   int32 ...      float64       int32 int32\n",
       "-------- ----------- ----------- ----- ... ------------------ ----- -----\n",
       "1-604053  50.6967861  0.14936614  6845 ... 10.385511998802142  8083 12704\n",
       " 1-38173  49.9732257  0.39144219  7148 ...  9.367207950889586  8083  3702\n",
       " 1-24145 258.8469457 57.43288135  9653 ... 11.091085761453927  7991 12702\n",
       " 1-24368 261.3210536 56.95187738  7496 ...   9.73240294231974  7991 12704\n",
       " 1-23979 258.1587518 57.32242143  7983 ... 10.034371533674436  7991  3702\n",
       " 1-24124 258.5302615 57.47743353  8049 ...  9.458263786866556  7991  3703\n",
       " 1-23891 260.2282152 57.09795578  8234 ... 10.266369914155716  7991  3704\n",
       " 1-37998  50.1888814 -1.05394485  6233 ...    9.8347056152279  8082  3703\n",
       " 1-37965  48.6427236  0.53237488  6293 ...  9.122555220385262  8082  9101\n",
       "1-604037  50.1606437 -1.03501854  6297 ...  9.843620209756526  8082  1902\n",
       "     ...         ...         ...   ... ...                ...   ...   ...\n",
       "1-257984 179.9626352  43.7406891  5880 ...  8.986345633748748  8259 12701\n",
       "1-257940 180.9425598 43.98446029  6834 ...     9.270198338075  8259 12703\n",
       "1-257957 180.1605688 44.40664558  7065 ...  9.459922351099921  8259 12704\n",
       "1-257825  178.506318 44.64225639  7215 ...   9.79585609977568  8259 12702\n",
       "1-257652  177.796116 44.00876516  7258 ...  9.504266280781229  8259  1902\n",
       "1-281050 179.4449291 42.98994849  9263 ...  9.682850815350523  8259  6101\n",
       "1-280965 177.9719203 43.34806752 10741 ...  9.432979567666665  8259  1901\n",
       "1-257813 177.7941889 45.22284931 10744 ... 10.364522565637996  8259  3702\n",
       "1-257627 178.4749785 43.81873273 12787 ...  9.935767015134005  8259  6102\n",
       "1-257953 180.5905198 44.56717239 13042 ...  9.757241555273007  8259  6104"
      ]
     },
     "execution_count": 170,
     "metadata": {},
     "output_type": "execute_result"
    }
   ],
   "source": [
    "mangaHI"
   ]
  },
  {
   "cell_type": "markdown",
   "metadata": {},
   "source": [
    "#### Separating voids and walls using their vflag values"
   ]
  },
  {
   "cell_type": "markdown",
   "metadata": {},
   "source": [
    "##### GBT"
   ]
  },
  {
   "cell_type": "code",
   "execution_count": 171,
   "metadata": {},
   "outputs": [],
   "source": [
    "#Adding vflag column to mangaHI table in the right corresponding positions by matching the Plate and IFU numbers of the galaxies\n",
    "\n",
    "vflag_manga = []\n",
    "for i in range(len(mangaHI)):\n",
    "    for j in range(len(table2)):\n",
    "        if (table2['MaNGA_plate'][j], table2['MaNGA_IFU'][j]) == (mangaHI['Plate'][i], mangaHI['IFU'][i]):\n",
    "            vflag_manga.append(table2['vflag'][j])\n",
    "vflag_manga_col = Column(np.asarray(vflag_manga, dtype = np.float64, order = 'F'), name = 'vflag')\n",
    "#mangaHI.remove_column('vflag')\n",
    "mangaHI.add_column(vflag_manga_col)"
   ]
  },
  {
   "cell_type": "code",
   "execution_count": 172,
   "metadata": {},
   "outputs": [],
   "source": [
    "#Separating voids and walls using vflag values in mangaHI table. vflag of 1.0 are voids and vflag of 0.0 are walls. \n",
    "#When the vflag column has a value of 1.0 add the MStar of that row to the vflag column and do the same for walls\n",
    "\n",
    "voids_manga = []\n",
    "walls_manga = []\n",
    "\n",
    "for i in range(len(mangaHI)):\n",
    "    if mangaHI['vflag'][i] == 1.0:\n",
    "        voids_manga.append(mangaHI['MStar'][i])\n",
    "        walls_manga.append(-999.0)\n",
    "    elif mangaHI['vflag'][i] == 0.0:\n",
    "        walls_manga.append(mangaHI['MStar'][i])\n",
    "        voids_manga.append(-999.0)\n",
    "    else: \n",
    "        voids_manga.append(-999.0)\n",
    "        walls_manga.append(-999.0)\n",
    "        \n",
    "voids_manga_col = Column(np.asarray(voids_manga, dtype = np.float64, order = 'F'), name = 'Voids')\n",
    "walls_manga_col = Column(np.asarray(walls_manga, dtype = np.float64, order = 'F'), name = 'Walls')\n",
    "#mangaHI.remove_column('Voids')\n",
    "#mangaHI.remove_column('Walls')\n",
    "mangaHI.add_column(voids_manga_col)\n",
    "mangaHI.add_column(walls_manga_col)"
   ]
  },
  {
   "cell_type": "markdown",
   "metadata": {},
   "source": [
    "##### ALFALFA"
   ]
  },
  {
   "cell_type": "code",
   "execution_count": 173,
   "metadata": {},
   "outputs": [],
   "source": [
    "#Adding vflag column to alfaHI table in the right corresponding positions by matching the Plate and IFU numbers of the galaxies\n",
    "\n",
    "vflag_alfa = []\n",
    "for i in range(len(alfaHI)):\n",
    "    for j in range(len(table2)):\n",
    "        if (table2['MaNGA_plate'][j], table2['MaNGA_IFU'][j]) == (alfaHI['Plate'][i], alfaHI['IFU'][i]):\n",
    "            vflag_alfa.append(table2['vflag'][j])\n",
    "vflag_alfa_col = Column(np.asarray(vflag_alfa, dtype = np.float64, order = 'F'), name = 'vflag')\n",
    "#alfaHI.remove_column('vflag')\n",
    "alfaHI.add_column(vflag_alfa_col)"
   ]
  },
  {
   "cell_type": "code",
   "execution_count": 174,
   "metadata": {},
   "outputs": [],
   "source": [
    "#Separating voids and walls using vflag values in alfaHI table. vflag of 1.0 are voids and vflag of 0.0 are walls. \n",
    "#When the vflag column has a value of 1.0 add the MStar of that row to the vflag column and do the same for walls\n",
    "\n",
    "voids_alfa = []\n",
    "walls_alfa = []\n",
    "\n",
    "for i in range(len(alfaHI)):\n",
    "    if alfaHI['vflag'][i] == 1.0:\n",
    "        voids_alfa.append(alfaHI['MStar'][i])\n",
    "        walls_alfa.append(-999.0)\n",
    "    elif alfaHI['vflag'][i] == 0.0:\n",
    "        walls_alfa.append(alfaHI['MStar'][i])\n",
    "        voids_alfa.append(-999.0)\n",
    "    else: \n",
    "        voids_alfa.append(-999.0)\n",
    "        walls_alfa.append(-999.0)\n",
    "        \n",
    "voids_alfa_col = Column(np.asarray(voids_alfa, dtype = np.float64, order = 'F'), name = 'Voids')\n",
    "walls_alfa_col = Column(np.asarray(walls_alfa, dtype = np.float64, order = 'F'), name = 'Walls')\n",
    "#alfaHI.remove_column('Voids')\n",
    "#alfaHI.remove_column('Walls')\n",
    "alfaHI.add_column(voids_alfa_col)\n",
    "alfaHI.add_column(walls_alfa_col)"
   ]
  },
  {
   "cell_type": "code",
   "execution_count": 175,
   "metadata": {},
   "outputs": [
    {
     "data": {
      "image/png": "[encoded data removed]",
      "text/plain": [
       "<Figure size 432x288 with 1 Axes>"
      ]
     },
     "metadata": {
      "needs_background": "light"
     },
     "output_type": "display_data"
    }
   ],
   "source": [
    "#Plot of log(WF50) vs log(MStar) for voids and walls of GBT data\n",
    "\n",
    "plt.loglog(mangaHI['Voids'], wf50_manga, '.', label = 'GBT-Voids', color = 'red')\n",
    "plt.loglog(mangaHI['Walls'], wf50_manga, '^', label = 'GBT-Walls', color = 'black')\n",
    "plt.ylabel('log(WF50) (km/s)')\n",
    "plt.xlabel('log(Mstar) (MSolar)')\n",
    "plt.legend()\n",
    "plt.savefig('plots/GBT_WF50-log_Mstar_VoidsAndWalls.svg', dpi=500, facecolor='w', edgecolor='w',\n",
    "        orientation='portrait', format='svg', pad_inches=0.1)\n",
    "plt.show()"
   ]
  },
  {
   "cell_type": "code",
   "execution_count": 176,
   "metadata": {
    "scrolled": false
   },
   "outputs": [
    {
     "data": {
      "text/html": [
       "<i>Table length=331</i>\n",
       "<table id=\"table2633416753416\" class=\"table-striped table-bordered table-condensed\">\n",
       "<thead><tr><th>mangaid</th><th>objra</th><th>objdec</th><th>vopt</th><th>session</th><th>Exp</th><th>rms</th><th>logHIlim200kms</th><th>peak</th><th>snr</th><th>FHI</th><th>logMHI</th><th>VHI</th><th>eV</th><th>WM50</th><th>WP50</th><th>WP20</th><th>W2P50</th><th>WF50</th><th>Pr</th><th>Pl</th><th>ar</th><th>br</th><th>al</th><th>bl</th><th>MStar</th><th>logMStar</th><th>Plate</th><th>IFU</th><th>vflag</th><th>Voids</th><th>Walls</th></tr></thead>\n",
       "<thead><tr><th>str9</th><th>float64</th><th>float64</th><th>int32</th><th>str12</th><th>float64</th><th>float64</th><th>float64</th><th>float64</th><th>float64</th><th>float64</th><th>float64</th><th>int32</th><th>float64</th><th>int32</th><th>int32</th><th>int32</th><th>int32</th><th>int32</th><th>float64</th><th>float64</th><th>float64</th><th>float64</th><th>float64</th><th>float64</th><th>float64</th><th>float64</th><th>int32</th><th>int32</th><th>float64</th><th>float64</th><th>float64</th></tr></thead>\n",
       "<tr><td>1-604053</td><td>50.6967861</td><td>0.14936614</td><td>6845</td><td>16A-2</td><td>697.5</td><td>1.5099999904632568</td><td>-999.0</td><td>28.020000457763672</td><td>18.5</td><td>4.670000076293945</td><td>10.039999961853027</td><td>6859</td><td>5.25</td><td>236</td><td>215</td><td>243</td><td>216</td><td>221</td><td>25.510000228881836</td><td>28.020000457763672</td><td>118.3499984741211</td><td>0.9599999785423279</td><td>82.83000183105469</td><td>-0.6299999952316284</td><td>24294725632.0</td><td>10.385511998802142</td><td>8083</td><td>12704</td><td>-9.0</td><td>-999.0</td><td>-999.0</td></tr>\n",
       "<tr><td>1-38173</td><td>49.9732257</td><td>0.39144219</td><td>7148</td><td>16A-2</td><td>538.2000122070312</td><td>2.059999942779541</td><td>-999.0</td><td>9.279999732971191</td><td>4.0</td><td>1.3700000047683716</td><td>9.539999961853027</td><td>7062</td><td>150.77999877929688</td><td>438</td><td>257</td><td>438</td><td>193</td><td>-999</td><td>-999.0</td><td>-999.0</td><td>-999.0</td><td>-999.0</td><td>-999.0</td><td>-999.0</td><td>2329206272.0</td><td>9.367207950889586</td><td>8083</td><td>3702</td><td>-9.0</td><td>-999.0</td><td>-999.0</td></tr>\n",
       "<tr><td>1-24145</td><td>258.8469457</td><td>57.43288135</td><td>9653</td><td>16A-2</td><td>897.0</td><td>1.5800000429153442</td><td>9.170000076293945</td><td>-999.0</td><td>-999.0</td><td>-999.0</td><td>-999.0</td><td>-999</td><td>-999.0</td><td>-999</td><td>-999</td><td>-999</td><td>-999</td><td>-999</td><td>-999.0</td><td>-999.0</td><td>-999.0</td><td>-999.0</td><td>-999.0</td><td>-999.0</td><td>123334836224.0</td><td>11.091085761453927</td><td>7991</td><td>12702</td><td>-9.0</td><td>-999.0</td><td>-999.0</td></tr>\n",
       "<tr><td>1-24368</td><td>261.3210536</td><td>56.95187738</td><td>7496</td><td>16A-2</td><td>897.0999755859375</td><td>1.5399999618530273</td><td>-999.0</td><td>7.260000228881836</td><td>4.699999809265137</td><td>0.9599999785423279</td><td>9.430000305175781</td><td>7497</td><td>22.520000457763672</td><td>238</td><td>212</td><td>244</td><td>229</td><td>225</td><td>7.260000228881836</td><td>6.630000114440918</td><td>20.969999313354492</td><td>0.1599999964237213</td><td>8.84000015258789</td><td>-0.05999999865889549</td><td>5400114176.0</td><td>9.73240294231974</td><td>7991</td><td>12704</td><td>-9.0</td><td>-999.0</td><td>-999.0</td></tr>\n",
       "<tr><td>1-23979</td><td>258.1587518</td><td>57.32242143</td><td>7983</td><td>16A-2</td><td>568.2000122070312</td><td>1.690000057220459</td><td>9.029999732971191</td><td>-999.0</td><td>-999.0</td><td>-999.0</td><td>-999.0</td><td>-999</td><td>-999.0</td><td>-999</td><td>-999</td><td>-999</td><td>-999</td><td>-999</td><td>-999.0</td><td>-999.0</td><td>-999.0</td><td>-999.0</td><td>-999.0</td><td>-999.0</td><td>10823595008.0</td><td>10.034371533674436</td><td>7991</td><td>3702</td><td>-9.0</td><td>-999.0</td><td>-999.0</td></tr>\n",
       "<tr><td>1-24124</td><td>258.5302615</td><td>57.47743353</td><td>8049</td><td>16A-2</td><td>618.0999755859375</td><td>1.600000023841858</td><td>9.020000457763672</td><td>-999.0</td><td>-999.0</td><td>-999.0</td><td>-999.0</td><td>-999</td><td>-999.0</td><td>-999</td><td>-999</td><td>-999</td><td>-999</td><td>-999</td><td>-999.0</td><td>-999.0</td><td>-999.0</td><td>-999.0</td><td>-999.0</td><td>-999.0</td><td>2872524800.0</td><td>9.458263786866556</td><td>7991</td><td>3703</td><td>-9.0</td><td>-999.0</td><td>-999.0</td></tr>\n",
       "<tr><td>1-23891</td><td>260.2282152</td><td>57.09795578</td><td>8234</td><td>16A-2-17</td><td>1256.0999755859375</td><td>1.3300000429153442</td><td>-999.0</td><td>5.900000095367432</td><td>4.400000095367432</td><td>0.5799999833106995</td><td>9.279999732971191</td><td>8099</td><td>38.41999816894531</td><td>200</td><td>150</td><td>201</td><td>155</td><td>155</td><td>3.950000047683716</td><td>5.900000095367432</td><td>16.8700008392334</td><td>0.20000000298023224</td><td>4.619999885559082</td><td>-0.029999999329447746</td><td>18465875968.0</td><td>10.266369914155716</td><td>7991</td><td>3704</td><td>-9.0</td><td>-999.0</td><td>-999.0</td></tr>\n",
       "<tr><td>1-37998</td><td>50.1888814</td><td>-1.05394485</td><td>6233</td><td>16A-3</td><td>707.0999755859375</td><td>1.2999999523162842</td><td>-999.0</td><td>21.200000762939453</td><td>17.100000381469727</td><td>5.659999847412109</td><td>10.050000190734863</td><td>6295</td><td>4.110000133514404</td><td>380</td><td>312</td><td>383</td><td>326</td><td>333</td><td>16.270000457763672</td><td>22.200000762939453</td><td>56.970001220703125</td><td>0.30000001192092896</td><td>41.4900016784668</td><td>-0.1899999976158142</td><td>6834482176.0</td><td>9.8347056152279</td><td>8082</td><td>3703</td><td>-9.0</td><td>-999.0</td><td>-999.0</td></tr>\n",
       "<tr><td>1-37965</td><td>48.6427236</td><td>0.53237488</td><td>6293</td><td>16A-3</td><td>647.4000244140625</td><td>1.2999999523162842</td><td>-999.0</td><td>6.539999961853027</td><td>5.0</td><td>0.4699999988079071</td><td>8.970000267028809</td><td>6305</td><td>11.600000381469727</td><td>110</td><td>92</td><td>109</td><td>92</td><td>-999</td><td>-999.0</td><td>-999.0</td><td>-999.0</td><td>-999.0</td><td>-999.0</td><td>-999.0</td><td>1326035712.0</td><td>9.122555220385262</td><td>8082</td><td>9101</td><td>-9.0</td><td>-999.0</td><td>-999.0</td></tr>\n",
       "<tr><td>1-604037</td><td>50.1606437</td><td>-1.03501854</td><td>6297</td><td>16A-3</td><td>647.4000244140625</td><td>1.3300000429153442</td><td>-999.0</td><td>18.93000030517578</td><td>14.5</td><td>5.139999866485596</td><td>10.0</td><td>6306</td><td>17.950000762939453</td><td>400</td><td>325</td><td>402</td><td>346</td><td>358</td><td>13.510000228881836</td><td>18.93000030517578</td><td>17.1200008392334</td><td>0.05999999865889549</td><td>35.09000015258789</td><td>-0.15000000596046448</td><td>6976220672.0</td><td>9.843620209756526</td><td>8082</td><td>1902</td><td>-9.0</td><td>-999.0</td><td>-999.0</td></tr>\n",
       "<tr><td>...</td><td>...</td><td>...</td><td>...</td><td>...</td><td>...</td><td>...</td><td>...</td><td>...</td><td>...</td><td>...</td><td>...</td><td>...</td><td>...</td><td>...</td><td>...</td><td>...</td><td>...</td><td>...</td><td>...</td><td>...</td><td>...</td><td>...</td><td>...</td><td>...</td><td>...</td><td>...</td><td>...</td><td>...</td><td>...</td><td>...</td><td>...</td></tr>\n",
       "<tr><td>1-257984</td><td>179.9626352</td><td>43.7406891</td><td>5880</td><td>16A-51</td><td>897.0</td><td>1.399999976158142</td><td>-999.0</td><td>10.40999984741211</td><td>7.400000095367432</td><td>1.190000057220459</td><td>9.3100004196167</td><td>5869</td><td>4.53000020980835</td><td>189</td><td>183</td><td>193</td><td>186</td><td>183</td><td>6.800000190734863</td><td>10.399999618530273</td><td>13.770000457763672</td><td>0.11999999731779099</td><td>24.06999969482422</td><td>-0.20999999344348907</td><td>969048768.0</td><td>8.986345633748748</td><td>8259</td><td>12701</td><td>1.0</td><td>969048768.0</td><td>-999.0</td></tr>\n",
       "<tr><td>1-257940</td><td>180.9425598</td><td>43.98446029</td><td>6834</td><td>16A-51</td><td>897.0</td><td>1.3700000047683716</td><td>-999.0</td><td>8.1899995803833</td><td>6.0</td><td>1.3600000143051147</td><td>9.5</td><td>6811</td><td>4.639999866485596</td><td>262</td><td>257</td><td>265</td><td>258</td><td>300</td><td>8.199999809265137</td><td>7.0</td><td>8.130000114440918</td><td>0.029999999329447746</td><td>108.97000122070312</td><td>-0.7099999785423279</td><td>1862937728.0</td><td>9.270198338075</td><td>8259</td><td>12703</td><td>0.0</td><td>-999.0</td><td>1862937728.0</td></tr>\n",
       "<tr><td>1-257957</td><td>180.1605688</td><td>44.40664558</td><td>7065</td><td>16A-51</td><td>897.0</td><td>1.2699999809265137</td><td>-999.0</td><td>40.4900016784668</td><td>31.899999618530273</td><td>3.380000114440918</td><td>9.930000305175781</td><td>7065</td><td>2.6700000762939453</td><td>109</td><td>92</td><td>113</td><td>93</td><td>96</td><td>34.400001525878906</td><td>40.5</td><td>68.91999816894531</td><td>1.090000033378601</td><td>83.58000183105469</td><td>-1.3300000429153442</td><td>2883515904.0</td><td>9.459922351099921</td><td>8259</td><td>12704</td><td>1.0</td><td>2883515904.0</td><td>-999.0</td></tr>\n",
       "<tr><td>1-257825</td><td>178.506318</td><td>44.64225639</td><td>7215</td><td>16A-51</td><td>897.0</td><td>1.399999976158142</td><td>-999.0</td><td>11.739999771118164</td><td>8.399999618530273</td><td>2.3299999237060547</td><td>9.779999732971191</td><td>7205</td><td>14.050000190734863</td><td>362</td><td>330</td><td>365</td><td>352</td><td>351</td><td>8.800000190734863</td><td>11.699999809265137</td><td>26.6299991607666</td><td>0.12999999523162842</td><td>74.63999938964844</td><td>-0.4000000059604645</td><td>6249655808.0</td><td>9.79585609977568</td><td>8259</td><td>12702</td><td>1.0</td><td>6249655808.0</td><td>-999.0</td></tr>\n",
       "<tr><td>1-257652</td><td>177.796116</td><td>44.00876516</td><td>7258</td><td>16A-51</td><td>897.2000122070312</td><td>1.6399999856948853</td><td>8.9399995803833</td><td>-999.0</td><td>-999.0</td><td>-999.0</td><td>-999.0</td><td>-999</td><td>-999.0</td><td>-999</td><td>-999</td><td>-999</td><td>-999</td><td>-999</td><td>-999.0</td><td>-999.0</td><td>-999.0</td><td>-999.0</td><td>-999.0</td><td>-999.0</td><td>3193495296.0</td><td>9.504266280781229</td><td>8259</td><td>1902</td><td>1.0</td><td>3193495296.0</td><td>-999.0</td></tr>\n",
       "<tr><td>1-281050</td><td>179.4449291</td><td>42.98994849</td><td>9263</td><td>16A-51-52</td><td>847.0</td><td>1.4199999570846558</td><td>-999.0</td><td>8.920000076293945</td><td>6.300000190734863</td><td>1.0399999618530273</td><td>9.649999618530273</td><td>9267</td><td>38.040000915527344</td><td>209</td><td>140</td><td>212</td><td>144</td><td>163</td><td>8.899999618530273</td><td>7.5</td><td>8.239999771118164</td><td>0.05000000074505806</td><td>8.680000305175781</td><td>-0.07000000029802322</td><td>4817822720.0</td><td>9.682850815350523</td><td>8259</td><td>6101</td><td>1.0</td><td>4817822720.0</td><td>-999.0</td></tr>\n",
       "<tr><td>1-280965</td><td>177.9719203</td><td>43.34806752</td><td>10741</td><td>16A-52</td><td>817.5</td><td>1.3899999856948853</td><td>9.210000038146973</td><td>-999.0</td><td>-999.0</td><td>-999.0</td><td>-999.0</td><td>-999</td><td>-999.0</td><td>-999</td><td>-999</td><td>-999</td><td>-999</td><td>-999</td><td>-999.0</td><td>-999.0</td><td>-999.0</td><td>-999.0</td><td>-999.0</td><td>-999.0</td><td>2710064128.0</td><td>9.432979567666665</td><td>8259</td><td>1901</td><td>1.0</td><td>2710064128.0</td><td>-999.0</td></tr>\n",
       "<tr><td>1-257813</td><td>177.7941889</td><td>45.22284931</td><td>10744</td><td>16A-52</td><td>847.0</td><td>1.2899999618530273</td><td>-999.0</td><td>7.71999979019165</td><td>6.0</td><td>0.9300000071525574</td><td>9.739999771118164</td><td>10755</td><td>9.270000457763672</td><td>156</td><td>144</td><td>160</td><td>146</td><td>148</td><td>7.699999809265137</td><td>7.400000095367432</td><td>23.219999313354492</td><td>0.27000001072883606</td><td>7.599999904632568</td><td>-0.05999999865889549</td><td>23148484608.0</td><td>10.364522565637996</td><td>8259</td><td>3702</td><td>1.0</td><td>23148484608.0</td><td>-999.0</td></tr>\n",
       "<tr><td>1-257627</td><td>178.4749785</td><td>43.81873273</td><td>12787</td><td>16A-52</td><td>897.0999755859375</td><td>1.25</td><td>9.319999694824219</td><td>-999.0</td><td>-999.0</td><td>-999.0</td><td>-999.0</td><td>-999</td><td>-999.0</td><td>-999</td><td>-999</td><td>-999</td><td>-999</td><td>-999</td><td>-999.0</td><td>-999.0</td><td>-999.0</td><td>-999.0</td><td>-999.0</td><td>-999.0</td><td>8625157120.0</td><td>9.935767015134005</td><td>8259</td><td>6102</td><td>1.0</td><td>8625157120.0</td><td>-999.0</td></tr>\n",
       "<tr><td>1-257953</td><td>180.5905198</td><td>44.56717239</td><td>13042</td><td>16A-52</td><td>897.0</td><td>1.3700000047683716</td><td>-999.0</td><td>5.739999771118164</td><td>4.199999809265137</td><td>0.3400000035762787</td><td>9.479999542236328</td><td>12996</td><td>7.03000020980835</td><td>83</td><td>79</td><td>87</td><td>42</td><td>87</td><td>5.699999809265137</td><td>4.699999809265137</td><td>8.9399995803833</td><td>0.15000000596046448</td><td>8.420000076293945</td><td>-0.15000000596046448</td><td>5717965824.0</td><td>9.757241555273007</td><td>8259</td><td>6104</td><td>1.0</td><td>5717965824.0</td><td>-999.0</td></tr>\n",
       "</table>"
      ],
      "text/plain": [
       "<Table length=331>\n",
       "mangaid     objra       objdec    vopt ...  vflag      Voids        Walls    \n",
       "  str9     float64     float64   int32 ... float64    float64      float64   \n",
       "-------- ----------- ----------- ----- ... ------- ------------- ------------\n",
       "1-604053  50.6967861  0.14936614  6845 ...    -9.0        -999.0       -999.0\n",
       " 1-38173  49.9732257  0.39144219  7148 ...    -9.0        -999.0       -999.0\n",
       " 1-24145 258.8469457 57.43288135  9653 ...    -9.0        -999.0       -999.0\n",
       " 1-24368 261.3210536 56.95187738  7496 ...    -9.0        -999.0       -999.0\n",
       " 1-23979 258.1587518 57.32242143  7983 ...    -9.0        -999.0       -999.0\n",
       " 1-24124 258.5302615 57.47743353  8049 ...    -9.0        -999.0       -999.0\n",
       " 1-23891 260.2282152 57.09795578  8234 ...    -9.0        -999.0       -999.0\n",
       " 1-37998  50.1888814 -1.05394485  6233 ...    -9.0        -999.0       -999.0\n",
       " 1-37965  48.6427236  0.53237488  6293 ...    -9.0        -999.0       -999.0\n",
       "1-604037  50.1606437 -1.03501854  6297 ...    -9.0        -999.0       -999.0\n",
       "     ...         ...         ...   ... ...     ...           ...          ...\n",
       "1-257984 179.9626352  43.7406891  5880 ...     1.0   969048768.0       -999.0\n",
       "1-257940 180.9425598 43.98446029  6834 ...     0.0        -999.0 1862937728.0\n",
       "1-257957 180.1605688 44.40664558  7065 ...     1.0  2883515904.0       -999.0\n",
       "1-257825  178.506318 44.64225639  7215 ...     1.0  6249655808.0       -999.0\n",
       "1-257652  177.796116 44.00876516  7258 ...     1.0  3193495296.0       -999.0\n",
       "1-281050 179.4449291 42.98994849  9263 ...     1.0  4817822720.0       -999.0\n",
       "1-280965 177.9719203 43.34806752 10741 ...     1.0  2710064128.0       -999.0\n",
       "1-257813 177.7941889 45.22284931 10744 ...     1.0 23148484608.0       -999.0\n",
       "1-257627 178.4749785 43.81873273 12787 ...     1.0  8625157120.0       -999.0\n",
       "1-257953 180.5905198 44.56717239 13042 ...     1.0  5717965824.0       -999.0"
      ]
     },
     "execution_count": 176,
     "metadata": {},
     "output_type": "execute_result"
    }
   ],
   "source": [
    "mangaHI"
   ]
  },
  {
   "cell_type": "code",
   "execution_count": 177,
   "metadata": {},
   "outputs": [
    {
     "data": {
      "image/png": "[encoded data removed]",
      "text/plain": [
       "<Figure size 432x288 with 1 Axes>"
      ]
     },
     "metadata": {
      "needs_background": "light"
     },
     "output_type": "display_data"
    }
   ],
   "source": [
    "#Plot of log(WF50) vs log(MStar) for voids and walls of GBT & ALFALFA data\n",
    "\n",
    "plt.loglog(alfaHI['Voids'], wf50_alfa, '.', label = 'Voids', color = 'red')\n",
    "plt.loglog(alfaHI['Walls'], wf50_alfa, '^', label = 'Walls', color = 'black')\n",
    "plt.loglog(mangaHI['Voids'], wf50_manga, '.', color = 'red')\n",
    "plt.loglog(mangaHI['Walls'], wf50_manga, '^', color = 'black')\n",
    "plt.ylabel('log(WF50) (km/s)')\n",
    "plt.xlabel('log(Mstar) (MSolar)')\n",
    "plt.legend()\n",
    "plt.savefig('plots/WF50-log_Mstar_VoidsAndWalls.svg', dpi=500, facecolor='w', edgecolor='w',\n",
    "        orientation='portrait', format='svg', pad_inches=0.1)\n",
    "plt.show()"
   ]
  },
  {
   "cell_type": "code",
   "execution_count": 178,
   "metadata": {},
   "outputs": [],
   "source": [
    "mangaHI.write('out_txt/MaNGA_with_voids&walls_classified.txt', format = 'ascii.commented_header', overwrite = True)"
   ]
  },
  {
   "cell_type": "code",
   "execution_count": 179,
   "metadata": {},
   "outputs": [],
   "source": [
    "alfaHI.write('out_txt/ALFALFA_with_voids&walls_classified.txt', format = 'ascii.commented_header', overwrite = True)"
   ]
  },
  {
   "cell_type": "markdown",
   "metadata": {},
   "source": [
    "### To-Do List (6/3/2020):\n",
    ">&#10004;velocity correction to account for inclination angle\\\n",
    ">&#10004;finding the best-fit line for the relationship between rotational velocity and mass for voids and walls"
   ]
  },
  {
   "cell_type": "markdown",
   "metadata": {},
   "source": [
    "\n"
   ]
  },
  {
   "cell_type": "markdown",
   "metadata": {},
   "source": [
    "##### HI-MASS Correction"
   ]
  },
  {
   "cell_type": "code",
   "execution_count": 180,
   "metadata": {},
   "outputs": [],
   "source": [
    "#Add the ratio of semi-minor to semi-major axis (NSA_ba) column to the mangaHI table from table2 while matching Plate and IFU in mangaHI table\n",
    "\n",
    "NSA_ba_manga = []\n",
    "for i in range(len(mangaHI)):\n",
    "    for j in range(len(table2)):\n",
    "        if (table2['MaNGA_plate'][j], table2['MaNGA_IFU'][j]) == (mangaHI['Plate'][i], mangaHI['IFU'][i]):\n",
    "            NSA_ba_manga.append(table2['NSA_ba'][j])\n",
    "NSA_ba_manga_col = Column(np.asarray(NSA_ba_manga, dtype = np.float64, order = 'F'), name = 'NSA_ba')\n",
    "mangaHI.add_column(NSA_ba_manga_col)"
   ]
  },
  {
   "cell_type": "code",
   "execution_count": 181,
   "metadata": {},
   "outputs": [],
   "source": [
    "#Add the ratio of semi-minor to semi-major axis (NSA_ba) column to the mangaHI table from table2 while matching Plate and IFU in alfaHI table\n",
    "\n",
    "NSA_ba_alfa = []\n",
    "for i in range(len(alfaHI)):\n",
    "    for j in range(len(table2)):\n",
    "        if (table2['MaNGA_plate'][j], table2['MaNGA_IFU'][j]) == (alfaHI['Plate'][i], alfaHI['IFU'][i]):\n",
    "            NSA_ba_alfa.append(table2['NSA_ba'][j])\n",
    "NSA_ba_alfa_col = Column(np.asarray(NSA_ba_alfa, dtype = np.float64, order = 'F'), name = 'NSA_ba')\n",
    "alfaHI.add_column(NSA_ba_alfa_col)"
   ]
  },
  {
   "cell_type": "code",
   "execution_count": 182,
   "metadata": {},
   "outputs": [],
   "source": [
    "c_manga = 1/(mangaHI['NSA_ba'])**0.12\n",
    "#Getting the HI-mass from log(HI-mass) in the table and adding a new column to the mangaHI table from GBT data,\n",
    "manga_HI_mass = 10**(mangaHI['logMHI'])\n",
    "mangaHI.add_column(Column(np.asarray(manga_HI_mass, dtype = np.float64, order = 'F'), name = 'MHI'), index=14)\n",
    "MHI_corrected_manga = c_manga * mangaHI['MHI']\n",
    "logMHI_corrected_manga = []\n",
    "for i in range(len(MHI_corrected_manga)):\n",
    "    if MHI_corrected_manga[i] == 0:\n",
    "        logMHI_corrected_manga.append(-999.0)\n",
    "    else:\n",
    "        logMHI_corrected_manga.append(np.log10(MHI_corrected_manga[i]))\n",
    "\n",
    "mangaHI.add_column(Column(np.asarray(MHI_corrected_manga, dtype=np.float64, order='F')), index = 16, name = 'MHI_corrected')\n",
    "mangaHI.add_column(Column(np.asarray(logMHI_corrected_manga, dtype = np.float32, order = 'F')), index = 19, name = 'logMHI_corrected')"
   ]
  },
  {
   "cell_type": "code",
   "execution_count": 183,
   "metadata": {},
   "outputs": [],
   "source": [
    "c_alfa = 1/(alfaHI['NSA_ba'])**0.12\n",
    "#Getting the HI-mass from log(HI-mass) in the table and adding a new column to the alfaHI table from GBT data,\n",
    "alfa_HI_mass = 10**(alfaHI['LOGMHI'])\n",
    "alfaHI.add_column(Column(np.asarray(alfa_HI_mass, dtype = np.float64, order = 'F'), name = 'MHI'), index=14)\n",
    "MHI_corrected_alfa = c_alfa * alfaHI['MHI']\n",
    "LOGMHI_corrected_alfa = []\n",
    "for i in range(len(MHI_corrected_alfa)):\n",
    "    if MHI_corrected_alfa[i] == 0:\n",
    "        LOGMHI_corrected_alfa.append(-999.0)\n",
    "    else:\n",
    "        LOGMHI_corrected_alfa.append(np.log10(MHI_corrected_alfa[i]))\n",
    "\n",
    "alfaHI.add_column(Column(np.asarray(MHI_corrected_alfa, dtype=np.float64, order='F')), index = 16, name = 'MHI_corrected')\n",
    "alfaHI.add_column(Column(np.asarray(LOGMHI_corrected_alfa, dtype = np.float32, order = 'F')), index = 19, name = 'logMHI_corrected')\n"
   ]
  },
  {
   "cell_type": "markdown",
   "metadata": {},
   "source": [
    "#### VELOCITY CORRECTION (once this is done only use the corrected velocities)"
   ]
  },
  {
   "cell_type": "code",
   "execution_count": 184,
   "metadata": {},
   "outputs": [],
   "source": [
    "#Cross-matches Plate and IFU numbers and adds NSA_redshift of the matching rows into a new column in the mangaHI table\n",
    "manga_NSA_redshift = []\n",
    "for i in range(len(mangaHI)):\n",
    "    for j in range(len(table2)):\n",
    "        if (mangaHI['Plate'][i], mangaHI['IFU'][i]) == (table2['MaNGA_plate'][j], table2['MaNGA_IFU'][j]):\n",
    "            manga_NSA_redshift.append(table2['NSA_redshift'][j])\n",
    "\n",
    "mangaHI.add_column(Column(np.asarray(manga_NSA_redshift, dtype = np.float64, order = 'F'), name = 'NSA_redshift'))"
   ]
  },
  {
   "cell_type": "code",
   "execution_count": 185,
   "metadata": {},
   "outputs": [],
   "source": [
    "#Cross-matches Plate and IFU numbers and adds NSA_redshift of the matching rows into a new column in the alfaHI table\n",
    "alfa_NSA_redshift = []\n",
    "for i in range(len(alfaHI)):\n",
    "    for j in range(len(table2)):\n",
    "        if (alfaHI['Plate'][i], alfaHI['IFU'][i]) == (table2['MaNGA_plate'][j], table2['MaNGA_IFU'][j]):\n",
    "            alfa_NSA_redshift.append(table2['NSA_redshift'][j])\n",
    "\n",
    "alfaHI.add_column(Column(np.asarray(alfa_NSA_redshift, dtype = np.float64, order = 'F'), name = 'NSA_redshift'))\n"
   ]
  },
  {
   "cell_type": "code",
   "execution_count": 186,
   "metadata": {},
   "outputs": [],
   "source": [
    "manga_logSNR = []\n",
    "for i in range(len(mangaHI)):\n",
    "    if mangaHI['snr'][i]>0:\n",
    "        manga_logSNR.append(np.log10(mangaHI['snr'][i]))\n",
    "    else:\n",
    "        manga_logSNR.append(-999.0)\n",
    "    \n",
    "#mangaHI.remove_column('logSNR')\n",
    "mangaHI.add_column(Column(np.asarray(manga_logSNR, dtype = np.float64, order = 'F'), name = 'logSNR'), index =11)"
   ]
  },
  {
   "cell_type": "code",
   "execution_count": 187,
   "metadata": {},
   "outputs": [],
   "source": [
    "alfa_logSNR = []\n",
    "for i in range(len(alfaHI)):\n",
    "    if alfaHI['SNR'][i]>0:\n",
    "        alfa_logSNR.append(np.log10(alfaHI['SNR'][i]))\n",
    "    else:\n",
    "        alfa_logSNR.append(-999.0)\n",
    "    \n",
    "#alfaHI.remove_column('logSNR')\n",
    "alfaHI.add_column(Column(np.asarray(alfa_logSNR, dtype = np.float64, order = 'F'), name = 'logSNR'), index =11)\n"
   ]
  },
  {
   "cell_type": "code",
   "execution_count": 188,
   "metadata": {},
   "outputs": [],
   "source": [
    "#Using the ratio to find the inclination angle in the mangaHI table. Inclination angle, i = arccos(NSA_ba ratio)\n",
    "q=0.2 #intrinsic disc thickness\n",
    "incAngle_manga = []\n",
    "for i in range(len(mangaHI)):\n",
    "    if mangaHI['NSA_ba'][i] >= 0.200:\n",
    "        incAngle_manga.append(np.arccos(np.sqrt((mangaHI['NSA_ba'][i]**2 - q**2)/(1-q**2))))\n",
    "    else:\n",
    "        incAngle_manga.append(np.arccos(np.sqrt((mangaHI['NSA_ba'][i]**2))))   \n",
    "# 18 values have NSA_ba values <= q=0.200 so this makes the sqrt negative.   \n",
    "   \n",
    "#mangaHI.remove_column('Inclination Angle (rad)')\n",
    "mangaHI.add_column(Column(np.asarray(incAngle_manga, dtype = np.float64, order = 'F'), name = 'Inclination Angle (rad)'))"
   ]
  },
  {
   "cell_type": "code",
   "execution_count": 189,
   "metadata": {},
   "outputs": [],
   "source": [
    "#Correcting the velocity values WF50, WP50, & WP20 that inherently has sin(i) in it since we are observing the inclined system,\n",
    "#So, we divide the velocities by sin(i) to correct them and add the a corrected column for each in the mangaHI table.\n",
    "v = 5.00 #km/s\n",
    "t = 6.5 #km/s,\n",
    "l = 0\n",
    "\n",
    "WF50_corrected_manga = []\n",
    "WP20_corrected_manga = []\n",
    "WP50_corrected_manga = []\n",
    "    \n",
    "for i in range(len(mangaHI)):\n",
    "    if mangaHI['Inclination Angle (rad)'][i] == 0 or mangaHI['Inclination Angle (rad)'][i] == np.pi:\n",
    "        mangaHI['Inclination Angle (rad)'][i] = np.pi/2\n",
    "    else:\n",
    "        if 0<mangaHI['logSNR'][i]<0.6:\n",
    "            l = 0.05\n",
    "        elif 0.6<mangaHI['logSNR'][i]<1.1:\n",
    "            l = -0.4685 + 0.785*mangaHI['logSNR'][i]\n",
    "        elif mangaHI['logSNR'][i]>1.1:\n",
    "            l = 0.395          \n",
    "    WF50_corr_calc_manga = (((mangaHI['WF50'][i] - (2*v*l))/(1+mangaHI['NSA_redshift'][i])) - t) * (1/np.sin(mangaHI['Inclination Angle (rad)'][i]))\n",
    "    WP20_corr_calc_manga = (((mangaHI['WP20'][i] - (2*v*l))/(1+mangaHI['NSA_redshift'][i])) - t) * (1/np.sin(mangaHI['Inclination Angle (rad)'][i]))\n",
    "    WP50_corr_calc_manga = (((mangaHI['WP50'][i] - (2*v*l))/(1+mangaHI['NSA_redshift'][i])) - t) * (1/np.sin(mangaHI['Inclination Angle (rad)'][i]))\n",
    "    WF50_corrected_manga.append(WF50_corr_calc_manga),\n",
    "    WP20_corrected_manga.append(WP20_corr_calc_manga),\n",
    "    WP50_corrected_manga.append(WP50_corr_calc_manga),\n",
    "        \n",
    "#mangaHI.remove_column('WF50_corrected'),\n",
    "#mangaHI.remove_column('WP20_corrected'),\n",
    "#mangaHI.remove_column('WP50_corrected'),\n",
    "    \n",
    "mangaHI.add_column(Column(np.asarray(WP50_corrected_manga, dtype = np.float64, order = 'F'), name = 'WP50_corrected')),\n",
    "mangaHI.add_column(Column(np.asarray(WP20_corrected_manga, dtype = np.float64, order = 'F'), name = 'WP20_corrected')),\n",
    "mangaHI.add_column(Column(np.asarray(WF50_corrected_manga, dtype = np.float64, order = 'F'), name = 'WF50_corrected'))\n"
   ]
  },
  {
   "cell_type": "code",
   "execution_count": 190,
   "metadata": {},
   "outputs": [],
   "source": [
    "mangaHI.write('out_txt/mangaHI_with_velocitiesCorrected.txt', format = 'ascii.commented_header', overwrite = True)"
   ]
  },
  {
   "cell_type": "code",
   "execution_count": 191,
   "metadata": {},
   "outputs": [],
   "source": [
    "#Using the ratio to find the inclination angle in the alfaHI table. Inclination angle, i = arccos(NSA_ba ratio)\n",
    "q=0.2 #intrinsic disc thickness\n",
    "incAngle_alfa = []\n",
    "for i in range(len(alfaHI)):\n",
    "    if alfaHI['NSA_ba'][i] >= 0.200:\n",
    "        incAngle_alfa.append(np.arccos(np.sqrt((alfaHI['NSA_ba'][i]**2 - q**2)/(1-q**2))))\n",
    "    else:\n",
    "        incAngle_alfa.append(np.arccos(np.sqrt((alfaHI['NSA_ba'][i]**2))))   \n",
    "# 18 values have NSA_ba values <= q=0.200 so this makes the sqrt negative.   \n",
    "   \n",
    "#alfaHI.remove_column('Inclination Angle (rad)')\n",
    "alfaHI.add_column(Column(np.asarray(incAngle_alfa, dtype = np.float64, order = 'F'), name = 'Inclination Angle (rad)'))\n"
   ]
  },
  {
   "cell_type": "code",
   "execution_count": 192,
   "metadata": {},
   "outputs": [],
   "source": [
    "#Correcting the velocity values WF50, WP50, & WP20 that inherently has sin(i) in it since we are observing the inclined system,\n",
    "#So, we divide the velocities by sin(i) to correct them and add the a corrected column for each in the alfaHI table.\n",
    "v = 5.00 #km/s\n",
    "t = 6.5 #km/s,\n",
    "l = 0\n",
    "\n",
    "WF50_corrected_alfa = []\n",
    "WP20_corrected_alfa = []\n",
    "#WP50_corrected_alfa = []\n",
    "    \n",
    "for i in range(len(alfaHI)):\n",
    "    if alfaHI['Inclination Angle (rad)'][i] == 0 or alfaHI['Inclination Angle (rad)'][i] == np.pi:\n",
    "        alfaHI['Inclination Angle (rad)'][i] = np.pi/2\n",
    "    else:\n",
    "        if 0<alfaHI['logSNR'][i]<0.6:\n",
    "            l = 0.05\n",
    "        elif 0.6<alfaHI['logSNR'][i]<1.1:\n",
    "            l = -0.4685 + 0.785*alfaHI['logSNR'][i]\n",
    "        elif alfaHI['logSNR'][i]>1.1:\n",
    "            l = 0.395          \n",
    "    WF50_corr_calc_alfa = (((alfaHI['WF50'][i] - (2*v*l))/(1+alfaHI['NSA_redshift'][i])) - t) * (1/np.sin(alfaHI['Inclination Angle (rad)'][i]))\n",
    "    WP20_corr_calc_alfa = (((alfaHI['WP20'][i] - (2*v*l))/(1+alfaHI['NSA_redshift'][i])) - t) * (1/np.sin(alfaHI['Inclination Angle (rad)'][i]))\n",
    "    #WP50_corr_calc_alfa = (((alfaHI['WP50'][i] - (2*v*l))/(1+alfaHI['NSA_redshift'][i])) - t) * (1/np.sin(alfaHI['Inclination Angle (rad)'][i]))\n",
    "    WF50_corrected_alfa.append(WF50_corr_calc_alfa),\n",
    "    WP20_corrected_alfa.append(WP20_corr_calc_alfa),\n",
    "    #WP50_corrected_alfa.append(WP50_corr_calc_alfa),\n",
    "        \n",
    "#alfaHI.remove_column('WF50_corrected'),\n",
    "#alfaHI.remove_column('WP20_corrected'),\n",
    "#alfaHI.remove_column('WP50_corrected'),\n",
    "    \n",
    "#alfaHI.add_column(Column(np.asarray(WP50_corrected_alfa, dtype = np.float64, order = 'F'), name = 'WP50_corrected')),\n",
    "alfaHI.add_column(Column(np.asarray(WP20_corrected_alfa, dtype = np.float64, order = 'F'), name = 'WP20_corrected')),\n",
    "alfaHI.add_column(Column(np.asarray(WF50_corrected_alfa, dtype = np.float64, order = 'F'), name = 'WF50_corrected'))\n"
   ]
  },
  {
   "cell_type": "code",
   "execution_count": 193,
   "metadata": {},
   "outputs": [],
   "source": [
    "alfaHI.write('out_txt/alfaHI_with_velcitiesCorrected.txt', format = 'ascii.commented_header', overwrite = True)"
   ]
  },
  {
   "cell_type": "code",
   "execution_count": 194,
   "metadata": {
    "scrolled": true
   },
   "outputs": [
    {
     "data": {
      "text/html": [
       "<i>Table length=1021</i>\n",
       "<table id=\"table2633415054408\" class=\"table-striped table-bordered table-condensed\">\n",
       "<thead><tr><th>MANGAID</th><th>OBJRA</th><th>OBJDEC</th><th>VOPT</th><th>RMS</th><th>LOGHILIM200KMS</th><th>SNR</th><th>FHI</th><th>LOGMHI</th><th>VHI</th><th>EV</th><th>logSNR</th><th>WP20</th><th>WF50</th><th>SEP</th><th>MHI</th><th>DV</th><th>MHI_corrected</th><th>AGC</th><th>MStar</th><th>logMHI_corrected</th><th>logMStar</th><th>Plate</th><th>IFU</th><th>vflag</th><th>Voids</th><th>Walls</th><th>NSA_ba</th><th>NSA_redshift</th><th>Inclination Angle (rad)</th><th>WP20_corrected</th><th>WF50_corrected</th></tr></thead>\n",
       "<thead><tr><th>str9</th><th>float64</th><th>float64</th><th>int32</th><th>float64</th><th>float64</th><th>float64</th><th>float64</th><th>float64</th><th>int32</th><th>float64</th><th>float64</th><th>int32</th><th>int32</th><th>float64</th><th>float64</th><th>float64</th><th>float64</th><th>int32</th><th>float64</th><th>float32</th><th>float64</th><th>int32</th><th>int32</th><th>float64</th><th>float64</th><th>float64</th><th>float64</th><th>float64</th><th>float64</th><th>float64</th><th>float64</th></tr></thead>\n",
       "<tr><td>1-404249</td><td>194.523423939</td><td>29.0173526307</td><td>7697</td><td>2.063525438308716</td><td>9.071093559265137</td><td>-999.0</td><td>-999.0</td><td>-999.0</td><td>-999</td><td>-999.0</td><td>-999.0</td><td>-999</td><td>-999</td><td>-999.0</td><td>0.0</td><td>-999.0</td><td>0.0</td><td>-999</td><td>2118213760.0</td><td>-999.0</td><td>9.325969784904645</td><td>8935</td><td>12701</td><td>0.0</td><td>-999.0</td><td>2118213760.0</td><td>0.2366970032453537</td><td>0.025676550343632698</td><td>1.441231968593407</td><td>-988.7789387312283</td><td>-988.7789387312283</td></tr>\n",
       "<tr><td>1-389685</td><td>146.701429799</td><td>31.7195786864</td><td>6593</td><td>2.2982213497161865</td><td>8.983405113220215</td><td>-999.0</td><td>-999.0</td><td>-999.0</td><td>-999</td><td>-999.0</td><td>-999.0</td><td>-999</td><td>-999</td><td>-999.0</td><td>0.0</td><td>-999.0</td><td>0.0</td><td>-999</td><td>1162803584.0</td><td>-999.0</td><td>9.065506361685442</td><td>8150</td><td>12701</td><td>1.0</td><td>1162803584.0</td><td>-999.0</td><td>0.31298965215682983</td><td>0.021993858739733696</td><td>1.3225353817557797</td><td>-1015.1234425844115</td><td>-1015.1234425844115</td></tr>\n",
       "<tr><td>1-296190</td><td>245.441960986</td><td>25.82067799</td><td>14385</td><td>2.9384093284606934</td><td>9.767683982849121</td><td>-999.0</td><td>-999.0</td><td>-999.0</td><td>-999</td><td>-999.0</td><td>-999.0</td><td>-999</td><td>-999</td><td>-999.0</td><td>0.0</td><td>-999.0</td><td>0.0</td><td>-999</td><td>149067743232.0</td><td>-999.0</td><td>11.173383676639219</td><td>9047</td><td>12701</td><td>0.0</td><td>-999.0</td><td>149067743232.0</td><td>0.5418396592140198</td><td>0.047982268035411835</td><td>1.0309996949159177</td><td>-1118.845430015455</td><td>-1118.845430015455</td></tr>\n",
       "<tr><td>1-456850</td><td>194.634485129</td><td>28.3779606067</td><td>5881</td><td>2.056302070617676</td><td>8.83587646484375</td><td>-999.0</td><td>-999.0</td><td>-999.0</td><td>-999</td><td>-999.0</td><td>-999.0</td><td>-999</td><td>-999</td><td>-999.0</td><td>0.0</td><td>-999.0</td><td>0.0</td><td>-999</td><td>1464497408.0</td><td>-999.0</td><td>9.165688607364634</td><td>9876</td><td>12701</td><td>0.0</td><td>-999.0</td><td>1464497408.0</td><td>0.6186661720275879</td><td>0.019619641825556755</td><td>0.9303928363199626</td><td>-1229.9947695684743</td><td>-1229.9947695684743</td></tr>\n",
       "<tr><td>1-382648</td><td>117.216794454</td><td>17.3562665374</td><td>11857</td><td>2.140000104904175</td><td>9.528299331665039</td><td>19.799999237060547</td><td>3.549999952316284</td><td>10.399999618530273</td><td>11856</td><td>14.0</td><td>1.2966651735271675</td><td>161</td><td>349</td><td>33.93557357788086</td><td>25118842251.53641</td><td>1.4497599601745605</td><td>27195516878.23932</td><td>170886</td><td>21945460736.0</td><td>10.434497</td><td>10.341344703112272</td><td>9492</td><td>12701</td><td>2.0</td><td>-999.0</td><td>-999.0</td><td>0.5158449411392212</td><td>0.03955124691128731</td><td>1.0640893952816786</td><td>165.3516754403143</td><td>372.1885352537485</td></tr>\n",
       "<tr><td>1-421314</td><td>203.730622609</td><td>31.3935143722</td><td>4964</td><td>2.640000104904175</td><td>8.83482551574707</td><td>77.19999694824219</td><td>13.210000038146973</td><td>10.229999542236328</td><td>4962</td><td>1.0</td><td>1.8876172831678397</td><td>126</td><td>209</td><td>19.04409408569336</td><td>16982418624.46276</td><td>2.628040075302124</td><td>17458888244.5634</td><td>8560</td><td>4614824960.0</td><td>10.242017</td><td>9.664155232913872</td><td>8985</td><td>12701</td><td>1.0</td><td>4614824960.0</td><td>-999.0</td><td>0.7940685153007507</td><td>0.016559801995754242</td><td>0.6692043203246656</td><td>183.05727699747771</td><td>314.67061045151195</td></tr>\n",
       "<tr><td>1-387106</td><td>138.844792279</td><td>27.2866441561</td><td>13728</td><td>3.218344211578369</td><td>9.766620635986328</td><td>-999.0</td><td>-999.0</td><td>-999.0</td><td>-999</td><td>-999.0</td><td>-999.0</td><td>-999</td><td>-999</td><td>-999.0</td><td>0.0</td><td>-999.0</td><td>0.0</td><td>-999</td><td>62198484992.0</td><td>-999.0</td><td>10.793779806433141</td><td>9505</td><td>12701</td><td>0.0</td><td>-999.0</td><td>62198484992.0</td><td>0.3328394293785095</td><td>0.04579196870326996</td><td>1.2958085707829121</td><td>-1003.2266553259627</td><td>-1003.2266553259627</td></tr>\n",
       "<tr><td>1-163887</td><td>119.708713628</td><td>25.7462565372</td><td>12723</td><td>2.319999933242798</td><td>9.629109382629395</td><td>14.100000381469727</td><td>1.559999942779541</td><td>10.100000381469727</td><td>12729</td><td>10.5</td><td>1.1492191244050391</td><td>300</td><td>113</td><td>20.857912063598633</td><td>12589265175.925678</td><td>5.697859764099121</td><td>12685977600.90538</td><td>172218</td><td>3947198208.0</td><td>10.103324</td><td>9.59628893497909</td><td>8940</td><td>12701</td><td>2.0</td><td>-999.0</td><td>-999.0</td><td>0.93821781873703</td><td>0.0424392968416214</td><td>0.36096901781076535</td><td>785.7086787683266</td><td>277.79075493239975</td></tr>\n",
       "<tr><td>1-614850</td><td>172.051190682</td><td>21.9968427778</td><td>6311</td><td>2.1500000953674316</td><td>8.992960929870605</td><td>41.5</td><td>5.519999980926514</td><td>10.069999694824219</td><td>6309</td><td>4.5</td><td>1.6180480967120927</td><td>161</td><td>190</td><td>10.95487117767334</td><td>11748967293.472916</td><td>2.4795401096343994</td><td>12544678525.94479</td><td>6465</td><td>5271754240.0</td><td>10.098459</td><td>9.721955156005592</td><td>8338</td><td>12701</td><td>0.0</td><td>-999.0</td><td>5271754240.0</td><td>0.5792081356048584</td><td>0.021052315831184387</td><td>0.9826837598332692</td><td>177.05985467395567</td><td>211.19739813990427</td></tr>\n",
       "<tr><td>1-584931</td><td>125.87444</td><td>27.13638</td><td>7107</td><td>2.119999885559082</td><td>9.080544471740723</td><td>9.800000190734863</td><td>1.3200000524520874</td><td>9.529999732971191</td><td>7116</td><td>6.0</td><td>0.9912260841450559</td><td>116</td><td>202</td><td>12.57472038269043</td><td>3388439477.987164</td><td>8.821279525756836</td><td>3588283627.228639</td><td>180240</td><td>6511456768.0</td><td>9.554887</td><td>9.813678161460246</td><td>9510</td><td>12701</td><td>0.0</td><td>-999.0</td><td>6511456768.0</td><td>0.6203089952468872</td><td>0.023706436157226562</td><td>0.9281816785811369</td><td>129.65048939328722</td><td>234.5913347348772</td></tr>\n",
       "<tr><td>...</td><td>...</td><td>...</td><td>...</td><td>...</td><td>...</td><td>...</td><td>...</td><td>...</td><td>...</td><td>...</td><td>...</td><td>...</td><td>...</td><td>...</td><td>...</td><td>...</td><td>...</td><td>...</td><td>...</td><td>...</td><td>...</td><td>...</td><td>...</td><td>...</td><td>...</td><td>...</td><td>...</td><td>...</td><td>...</td><td>...</td><td>...</td></tr>\n",
       "<tr><td>1-456842</td><td>193.83334312</td><td>27.866682129</td><td>6973</td><td>2.3018381595611572</td><td>9.032684326171875</td><td>-999.0</td><td>-999.0</td><td>-999.0</td><td>-999</td><td>-999.0</td><td>-999.0</td><td>-999</td><td>-999</td><td>-999.0</td><td>0.0</td><td>-999.0</td><td>0.0</td><td>-999</td><td>7943919104.0</td><td>-999.0</td><td>9.9000348129212</td><td>8950</td><td>9102</td><td>0.0</td><td>-999.0</td><td>7943919104.0</td><td>0.7052343487739563</td><td>0.023259518668055534</td><td>0.8089949563847806</td><td>-1360.282871447538</td><td>-1360.282871447538</td></tr>\n",
       "<tr><td>1-491058</td><td>172.428587544</td><td>21.2600297251</td><td>14780</td><td>2.5299999713897705</td><td>9.838379859924316</td><td>6.699999809265137</td><td>1.1299999952316284</td><td>10.100000381469727</td><td>14818</td><td>4.5</td><td>0.8260747903373787</td><td>175</td><td>221</td><td>86.04226684570312</td><td>12589265175.925678</td><td>37.77006149291992</td><td>13600509771.588657</td><td>741024</td><td>13523904512.0</td><td>10.133555</td><td>10.131102095688977</td><td>8450</td><td>9102</td><td>0.0</td><td>-999.0</td><td>13523904512.0</td><td>0.5252627730369568</td><td>0.04930029436945915</td><td>1.0521421009667824</td><td>182.5734403290985</td><td>233.0505726307321</td></tr>\n",
       "<tr><td>1-421814</td><td>201.084201517</td><td>32.848118803</td><td>11651</td><td>2.2699999809265137</td><td>9.551889419555664</td><td>12.100000381469727</td><td>2.690000057220459</td><td>10.260000228881836</td><td>11668</td><td>4.0</td><td>1.0827853840082018</td><td>386</td><td>436</td><td>9.691614151000977</td><td>18197018176.28807</td><td>16.093120574951172</td><td>18778875818.187412</td><td>8431</td><td>91324284928.0</td><td>10.273669</td><td>10.960586280357926</td><td>8444</td><td>9102</td><td>0.0</td><td>-999.0</td><td>91324284928.0</td><td>0.7692874670028687</td><td>0.038865625858306885</td><td>0.7103213591488311</td><td>554.2086764581786</td><td>628.0180382477791</td></tr>\n",
       "<tr><td>1-218152</td><td>121.625742505</td><td>26.8989373467</td><td>7673</td><td>2.319999933242798</td><td>9.163761138916016</td><td>13.600000381469727</td><td>3.009999990463257</td><td>9.960000038146973</td><td>7696</td><td>28.0</td><td>1.1335389205518496</td><td>274</td><td>426</td><td>46.05046081542969</td><td>9120109194.638906</td><td>22.978759765625</td><td>9635367564.752022</td><td>180042</td><td>28530935808.0</td><td>9.983869</td><td>10.455316016647798</td><td>8941</td><td>9102</td><td>0.0</td><td>-999.0</td><td>28530935808.0</td><td>0.6325544714927673</td><td>0.02559378556907177</td><td>0.9116036455664304</td><td>324.87680702789544</td><td>512.364817271839</td></tr>\n",
       "<tr><td>1-230045</td><td>123.884699534</td><td>25.8111326166</td><td>13662</td><td>4.584787368774414</td><td>9.916130065917969</td><td>-999.0</td><td>-999.0</td><td>-999.0</td><td>-999</td><td>-999.0</td><td>-999.0</td><td>-999</td><td>-999</td><td>-999.0</td><td>0.0</td><td>-999.0</td><td>0.0</td><td>-999</td><td>6557900800.0</td><td>-999.0</td><td>9.81676484290083</td><td>9509</td><td>9102</td><td>0.0</td><td>-999.0</td><td>6557900800.0</td><td>0.3472084701061249</td><td>0.04557231813669205</td><td>1.276911731992253</td><td>-1008.995241992089</td><td>-1008.995241992089</td></tr>\n",
       "<tr><td>1-561325</td><td>243.046924778</td><td>29.5741100762</td><td>16081</td><td>2.490000009536743</td><td>9.842570304870605</td><td>5.400000095367432</td><td>0.8999999761581421</td><td>10.0600004196167</td><td>16235</td><td>13.0</td><td>0.732393767492885</td><td>182</td><td>228</td><td>53.96071243286133</td><td>11481547308.470718</td><td>153.6380615234375</td><td>11986117052.015322</td><td>260316</td><td>107762524160.0</td><td>10.078678</td><td>11.032467755468462</td><td>9028</td><td>9102</td><td>0.0</td><td>-999.0</td><td>107762524160.0</td><td>0.6987940669059753</td><td>0.053640346974134445</td><td>0.8184293216413931</td><td>226.31198435021201</td><td>286.1116735244025</td></tr>\n",
       "<tr><td>1-584746</td><td>120.979182576</td><td>26.5206269031</td><td>6520</td><td>2.640106439590454</td><td>9.033888816833496</td><td>-999.0</td><td>-999.0</td><td>-999.0</td><td>-999</td><td>-999.0</td><td>-999.0</td><td>-999</td><td>-999</td><td>-999.0</td><td>0.0</td><td>-999.0</td><td>0.0</td><td>-999</td><td>7744961024.0</td><td>-999.0</td><td>9.889019236542698</td><td>8149</td><td>9102</td><td>2.0</td><td>-999.0</td><td>-999.0</td><td>0.4366419017314911</td><td>0.021748539060354233</td><td>1.1634781755717654</td><td>-1073.0687922517336</td><td>-1073.0687922517336</td></tr>\n",
       "<tr><td>1-270068</td><td>247.66264812</td><td>25.6930667977</td><td>12819</td><td>2.6571147441864014</td><td>9.623931884765625</td><td>-999.0</td><td>-999.0</td><td>-999.0</td><td>-999</td><td>-999.0</td><td>-999.0</td><td>-999</td><td>-999</td><td>-999.0</td><td>0.0</td><td>-999.0</td><td>0.0</td><td>-999</td><td>5245849600.0</td><td>-999.0</td><td>9.719815835086509</td><td>9047</td><td>9102</td><td>0.0</td><td>-999.0</td><td>5245849600.0</td><td>0.3651614189147949</td><td>0.04276181757450104</td><td>1.2536876553493035</td><td>-1016.2212342316241</td><td>-1016.2212342316241</td></tr>\n",
       "<tr><td>1-593805</td><td>230.522490622</td><td>33.1485944671</td><td>9505</td><td>3.2861218452453613</td><td>9.456389427185059</td><td>-999.0</td><td>-999.0</td><td>-999.0</td><td>-999</td><td>-999.0</td><td>-999.0</td><td>-999</td><td>-999</td><td>-999.0</td><td>0.0</td><td>-999.0</td><td>0.0</td><td>-999</td><td>55435874304.0</td><td>-999.0</td><td>10.743790901371439</td><td>9039</td><td>9102</td><td>0.0</td><td>-999.0</td><td>55435874304.0</td><td>0.7095516920089722</td><td>0.031706489622592926</td><td>0.8026269854582522</td><td>-1356.8578180737898</td><td>-1356.8578180737898</td></tr>\n",
       "<tr><td>1-549071</td><td>235.032076794</td><td>28.1522645521</td><td>9374</td><td>2.351909875869751</td><td>9.29906940460205</td><td>-999.0</td><td>-999.0</td><td>-999.0</td><td>-999</td><td>-999.0</td><td>-999.0</td><td>-999</td><td>-999</td><td>-999.0</td><td>0.0</td><td>-999.0</td><td>0.0</td><td>-999</td><td>21459859456.0</td><td>-999.0</td><td>10.331626873376273</td><td>9042</td><td>9102</td><td>0.0</td><td>-999.0</td><td>21459859456.0</td><td>0.5219188332557678</td><td>0.031269412487745285</td><td>1.0563891038521045</td><td>-1121.3627410316517</td><td>-1121.3627410316517</td></tr>\n",
       "</table>"
      ],
      "text/plain": [
       "<Table length=1021>\n",
       "MANGAID      OBJRA         OBJDEC    ...    WP20_corrected      WF50_corrected  \n",
       "  str9      float64       float64    ...       float64             float64      \n",
       "-------- ------------- ------------- ... ------------------- -------------------\n",
       "1-404249 194.523423939 29.0173526307 ...  -988.7789387312283  -988.7789387312283\n",
       "1-389685 146.701429799 31.7195786864 ... -1015.1234425844115 -1015.1234425844115\n",
       "1-296190 245.441960986   25.82067799 ...  -1118.845430015455  -1118.845430015455\n",
       "1-456850 194.634485129 28.3779606067 ... -1229.9947695684743 -1229.9947695684743\n",
       "1-382648 117.216794454 17.3562665374 ...   165.3516754403143   372.1885352537485\n",
       "1-421314 203.730622609 31.3935143722 ...  183.05727699747771  314.67061045151195\n",
       "1-387106 138.844792279 27.2866441561 ... -1003.2266553259627 -1003.2266553259627\n",
       "1-163887 119.708713628 25.7462565372 ...   785.7086787683266  277.79075493239975\n",
       "1-614850 172.051190682 21.9968427778 ...  177.05985467395567  211.19739813990427\n",
       "1-584931     125.87444      27.13638 ...  129.65048939328722   234.5913347348772\n",
       "     ...           ...           ... ...                 ...                 ...\n",
       "1-456842  193.83334312  27.866682129 ...  -1360.282871447538  -1360.282871447538\n",
       "1-491058 172.428587544 21.2600297251 ...   182.5734403290985   233.0505726307321\n",
       "1-421814 201.084201517  32.848118803 ...   554.2086764581786   628.0180382477791\n",
       "1-218152 121.625742505 26.8989373467 ...  324.87680702789544    512.364817271839\n",
       "1-230045 123.884699534 25.8111326166 ...  -1008.995241992089  -1008.995241992089\n",
       "1-561325 243.046924778 29.5741100762 ...  226.31198435021201   286.1116735244025\n",
       "1-584746 120.979182576 26.5206269031 ... -1073.0687922517336 -1073.0687922517336\n",
       "1-270068  247.66264812 25.6930667977 ... -1016.2212342316241 -1016.2212342316241\n",
       "1-593805 230.522490622 33.1485944671 ... -1356.8578180737898 -1356.8578180737898\n",
       "1-549071 235.032076794 28.1522645521 ... -1121.3627410316517 -1121.3627410316517"
      ]
     },
     "execution_count": 194,
     "metadata": {},
     "output_type": "execute_result"
    }
   ],
   "source": [
    "alfaHI"
   ]
  },
  {
   "cell_type": "code",
   "execution_count": null,
   "metadata": {},
   "outputs": [],
   "source": []
  },
  {
   "cell_type": "code",
   "execution_count": 195,
   "metadata": {
    "scrolled": true
   },
   "outputs": [
    {
     "data": {
      "image/png": "[encoded data removed]",
      "text/plain": [
       "<Figure size 432x288 with 1 Axes>"
      ]
     },
     "metadata": {
      "needs_background": "light"
     },
     "output_type": "display_data"
    }
   ],
   "source": [
    "#Plot log(corrected WF50) vs log(MStar) while having the voids and walls separated\n",
    "\n",
    "plt.loglog(alfaHI['Voids'], alfaHI['WF50_corrected'], '.', label = 'Voids', color = 'red')\n",
    "plt.loglog(alfaHI['Walls'], alfaHI['WF50_corrected'], '^', label = 'Walls', color = 'black')\n",
    "plt.loglog(mangaHI['Voids'], mangaHI['WF50_corrected'], '.', color = 'red')\n",
    "plt.loglog(mangaHI['Walls'], mangaHI['WF50_corrected'], '^', color = 'black')\n",
    "plt.ylabel('log(WF50_corrected) (km/s)')\n",
    "plt.xlabel('log(Mstar) (MSolar)')\n",
    "plt.legend()\n",
    "plt.savefig('plots/log_WF50_corrected-log_Mstar_VoidsAndWalls.svg', dpi=500, facecolor='w', edgecolor='w',\n",
    "        orientation='portrait', format='svg', pad_inches=0.1)\n",
    "plt.show()"
   ]
  },
  {
   "cell_type": "code",
   "execution_count": null,
   "metadata": {},
   "outputs": [],
   "source": []
  },
  {
   "cell_type": "markdown",
   "metadata": {},
   "source": [
    "#### FINDING BEST-FIT LINES "
   ]
  },
  {
   "cell_type": "code",
   "execution_count": 196,
   "metadata": {},
   "outputs": [],
   "source": [
    "#function that is going to be used for all the curve_fit optimization that will be done for the best-fit lines\n",
    "\n",
    "def f(x, m, b):\n",
    "    return m*x + b"
   ]
  },
  {
   "cell_type": "markdown",
   "metadata": {},
   "source": [
    "##### GBT"
   ]
  },
  {
   "cell_type": "code",
   "execution_count": 197,
   "metadata": {},
   "outputs": [],
   "source": [
    "#Since we are using log data, we only want positive values\n",
    "#When both wf50 and void mass are positive, add them to the two void lists\n",
    "#when both wf50 and wall mass are positive, add them to the two wall lists\n",
    "\n",
    "manga_wf50_voids_pos = []\n",
    "manga_wf50_walls_pos = []\n",
    "manga_voids_pos = []\n",
    "manga_walls_pos = []\n",
    "\n",
    "for i in range(len(mangaHI)):\n",
    "    if mangaHI['Voids'][i] > 0 and mangaHI['WF50_corrected'][i] > 0:\n",
    "        manga_wf50_voids_pos.append(mangaHI['WF50_corrected'][i])\n",
    "        manga_voids_pos.append(mangaHI['Voids'][i])\n",
    "    elif mangaHI['Walls'][i] > 0 and mangaHI['WF50_corrected'][i] > 0:\n",
    "        manga_wf50_walls_pos.append(mangaHI['WF50_corrected'][i])\n",
    "        manga_walls_pos.append(mangaHI['Walls'][i])"
   ]
  },
  {
   "cell_type": "code",
   "execution_count": null,
   "metadata": {},
   "outputs": [],
   "source": []
  },
  {
   "cell_type": "markdown",
   "metadata": {},
   "source": [
    "###### GBT_Voids"
   ]
  },
  {
   "cell_type": "code",
   "execution_count": 198,
   "metadata": {},
   "outputs": [],
   "source": [
    "x_data_manga_voids = np.log10(manga_voids_pos)\n",
    "y_data_manga_voids = np.log10(manga_wf50_voids_pos)"
   ]
  },
  {
   "cell_type": "code",
   "execution_count": 199,
   "metadata": {
    "scrolled": true
   },
   "outputs": [
    {
     "name": "stdout",
     "output_type": "stream",
     "text": [
      "m_bf = 0.2628306044286225, b_bf = -0.16797958374090846\n",
      "m_err = 0.03829047339148149, b_err = 0.3728433338749597\n"
     ]
    }
   ],
   "source": [
    "popt_manga_voids, pcov_manga_voids = curve_fit(f, x_data_manga_voids, y_data_manga_voids)\n",
    "m_bf_manga_voids, b_bf_manga_voids = popt_manga_voids\n",
    "m_err_manga_voids, b_err_manga_voids = np.sqrt(np.diag(pcov_manga_voids))\n",
    "print('m_bf = ' + str(m_bf_manga_voids) + ', b_bf = ' + str(b_bf_manga_voids))\n",
    "print('m_err = ' + str(m_err_manga_voids) + ', b_err = ' + str(b_err_manga_voids))"
   ]
  },
  {
   "cell_type": "markdown",
   "metadata": {},
   "source": [
    "###### GBT_Walls"
   ]
  },
  {
   "cell_type": "code",
   "execution_count": 200,
   "metadata": {},
   "outputs": [],
   "source": [
    "x_data_manga_walls = np.log10(manga_walls_pos)\n",
    "y_data_manga_walls = np.log10(manga_wf50_walls_pos)"
   ]
  },
  {
   "cell_type": "code",
   "execution_count": 201,
   "metadata": {},
   "outputs": [
    {
     "name": "stdout",
     "output_type": "stream",
     "text": [
      "m_bf = 0.1331900997786415, b_bf = 1.1650465210412224\n",
      "m_err = 0.061979919620795465, b_err = 0.611485659988234\n"
     ]
    }
   ],
   "source": [
    "popt_manga_walls, pcov_manga_walls = curve_fit(f, x_data_manga_walls, y_data_manga_walls)\n",
    "m_bf_manga_walls, b_bf_manga_walls = popt_manga_walls\n",
    "m_err_manga_walls, b_err_manga_walls = np.sqrt(np.diag(pcov_manga_walls))\n",
    "print('m_bf = ' + str(m_bf_manga_walls) + ', b_bf = ' + str(b_bf_manga_walls))\n",
    "print('m_err = ' + str(m_err_manga_walls) + ', b_err = ' + str(b_err_manga_walls))"
   ]
  },
  {
   "cell_type": "code",
   "execution_count": 202,
   "metadata": {},
   "outputs": [],
   "source": [
    "#Line equations for the best-fit lines\n",
    "\n",
    "y_data_manga_walls_line = m_bf_manga_walls* x_data_manga_walls + b_bf_manga_walls\n",
    "y_data_manga_voids_line = m_bf_manga_voids* x_data_manga_voids + b_bf_manga_voids"
   ]
  },
  {
   "cell_type": "code",
   "execution_count": 203,
   "metadata": {},
   "outputs": [
    {
     "data": {
      "image/png": "[encoded data removed]",
      "text/plain": [
       "<Figure size 432x288 with 1 Axes>"
      ]
     },
     "metadata": {
      "needs_background": "light"
     },
     "output_type": "display_data"
    }
   ],
   "source": [
    "#Plot the log(corrected WF50) vs log(MStar) GBT data and also the best fit lines keeping voids and walls separated\n",
    "\n",
    "plt.plot(x_data_manga_walls, y_data_manga_walls_line , '-', color = 'black', label = 'Walls')\n",
    "plt.plot(x_data_manga_voids, y_data_manga_voids_line , '-', color = 'red', label = 'Voids')\n",
    "plt.plot(x_data_manga_voids, y_data_manga_voids , '.', color = 'red', label = 'Voids', alpha = 0.2)\n",
    "plt.plot(x_data_manga_walls, y_data_manga_walls, '^', color = 'black', label = 'Walls', alpha = 0.2)\n",
    "plt.ylabel('log(WF50_corrected) (km/s)')\n",
    "plt.xlabel('log(Mstar) (MSolar)')\n",
    "plt.title('GBT')\n",
    "plt.legend()\n",
    "#plt.savefig('plots/log_WF50_corrected-log_Mstar_VoidsAndWalls.svg', dpi=500, facecolor='w', edgecolor='w',\n",
    "     #   orientation='portrait', format='svg', pad_inches=0.1)\n",
    "plt.show()"
   ]
  },
  {
   "cell_type": "markdown",
   "metadata": {},
   "source": [
    "##### ALFALFA\n",
    "\n"
   ]
  },
  {
   "cell_type": "code",
   "execution_count": 204,
   "metadata": {},
   "outputs": [],
   "source": [
    "#Since we are using log data, we only want positive values\n",
    "#When both wf50 and void mass are positive, add them to the two void lists\n",
    "#when both wf50 and wall mass are positive, add them to the two wall lists\n",
    "\n",
    "alfa_wf50_voids_pos = []\n",
    "alfa_wf50_walls_pos = []\n",
    "alfa_voids_pos = []\n",
    "alfa_walls_pos = []\n",
    "\n",
    "for i in range(len(alfaHI)):\n",
    "    if alfaHI['Voids'][i] > 0 and alfaHI['WF50_corrected'][i] > 0:\n",
    "        alfa_wf50_voids_pos.append(alfaHI['WF50_corrected'][i])\n",
    "        alfa_voids_pos.append(alfaHI['Voids'][i])\n",
    "    elif alfaHI['Walls'][i] > 0 and alfaHI['WF50_corrected'][i] > 0:\n",
    "        alfa_wf50_walls_pos.append(alfaHI['WF50_corrected'][i])\n",
    "        alfa_walls_pos.append(alfaHI['Walls'][i])"
   ]
  },
  {
   "cell_type": "markdown",
   "metadata": {},
   "source": [
    "###### ALFALFA_Voids"
   ]
  },
  {
   "cell_type": "code",
   "execution_count": 205,
   "metadata": {},
   "outputs": [
    {
     "name": "stdout",
     "output_type": "stream",
     "text": [
      "m_bf = 0.1532383697898988, b_bf = 0.8714051078422903\n",
      "m_err = 0.0378601324800289, b_err = 0.36328223344997534\n"
     ]
    }
   ],
   "source": [
    "x_data_alfa_voids = np.log10(alfa_voids_pos)\n",
    "y_data_alfa_voids = np.log10(alfa_wf50_voids_pos)\n",
    "\n",
    "popt_alfa_voids, pcov_alfa_voids = curve_fit(f, x_data_alfa_voids, y_data_alfa_voids)\n",
    "m_bf_alfa_voids, b_bf_alfa_voids = popt_alfa_voids\n",
    "m_err_alfa_voids, b_err_alfa_voids = np.sqrt(np.diag(pcov_alfa_voids))\n",
    "print('m_bf = ' + str(m_bf_alfa_voids) + ', b_bf = ' + str(b_bf_alfa_voids))\n",
    "print('m_err = ' + str(m_err_alfa_voids) + ', b_err = ' + str(b_err_alfa_voids))\n"
   ]
  },
  {
   "cell_type": "markdown",
   "metadata": {},
   "source": [
    "###### ALFALFA_Walls"
   ]
  },
  {
   "cell_type": "code",
   "execution_count": 206,
   "metadata": {},
   "outputs": [
    {
     "name": "stdout",
     "output_type": "stream",
     "text": [
      "m_bf = 0.23127629586958864, b_bf = 0.12376998446108134\n",
      "m_err = 0.02191530550871544, b_err = 0.215998164353049\n"
     ]
    }
   ],
   "source": [
    "x_data_alfa_walls = np.log10(alfa_walls_pos)\n",
    "y_data_alfa_walls = np.log10(alfa_wf50_walls_pos)\n",
    "\n",
    "popt_alfa_walls, pcov_alfa_walls = curve_fit(f, x_data_alfa_walls, y_data_alfa_walls)\n",
    "m_bf_alfa_walls, b_bf_alfa_walls = popt_alfa_walls\n",
    "m_err_alfa_walls, b_err_alfa_walls = np.sqrt(np.diag(pcov_alfa_walls))\n",
    "print('m_bf = ' + str(m_bf_alfa_walls) + ', b_bf = ' + str(b_bf_alfa_walls))\n",
    "print('m_err = ' + str(m_err_alfa_walls) + ', b_err = ' + str(b_err_alfa_walls))"
   ]
  },
  {
   "cell_type": "code",
   "execution_count": 207,
   "metadata": {},
   "outputs": [],
   "source": [
    "#Line equations for the best-fit lines\n",
    "\n",
    "y_data_alfa_walls_line = m_bf_alfa_walls* x_data_alfa_walls + b_bf_alfa_walls\n",
    "y_data_alfa_voids_line = m_bf_alfa_voids* x_data_alfa_voids + b_bf_alfa_voids"
   ]
  },
  {
   "cell_type": "code",
   "execution_count": 208,
   "metadata": {},
   "outputs": [
    {
     "data": {
      "image/png": "[encoded data removed]",
      "text/plain": [
       "<Figure size 432x288 with 1 Axes>"
      ]
     },
     "metadata": {
      "needs_background": "light"
     },
     "output_type": "display_data"
    }
   ],
   "source": [
    "#Plot the log(corrected WF50) vs log(MStar) ALFALFA data and also the best fit lines keeping voids and walls separated\n",
    "\n",
    "plt.plot(x_data_alfa_voids, y_data_alfa_voids , '.', label = 'Voids', color = 'red', alpha = 0.2)\n",
    "plt.plot(x_data_alfa_walls, y_data_alfa_walls , '^', label = 'Walls', color = 'black', alpha = 0.2)\n",
    "plt.plot(x_data_alfa_walls,y_data_alfa_walls_line , '-', color = 'black', label = 'Walls')\n",
    "plt.plot(x_data_alfa_voids, y_data_alfa_voids_line , '-', color = 'red', label = 'Voids')\n",
    "\n",
    "plt.ylabel('log(WF50_corrected) (km/s)')\n",
    "plt.xlabel('log(Mstar) (MSolar)')\n",
    "plt.title('ALFALFA')\n",
    "plt.legend()\n",
    "#plt.savefig('plots/log_WF50_corrected-log_Mstar_VoidsAndWalls.svg', dpi=500, facecolor='w', edgecolor='w',\n",
    " #       orientation='portrait', format='svg', pad_inches=0.1)\n",
    "plt.show()"
   ]
  },
  {
   "cell_type": "markdown",
   "metadata": {},
   "source": [
    "### TO-DO List (6/5/20 and 6/9/20):\n",
    "\n",
    ">&#10004;Plot putting all the walls together and the voids together\\\n",
    ">&#10004;Plot for just HI-mass\\\n",
    ">&#10004;Plot for sum of HI and MStar\n",
    "\n"
   ]
  },
  {
   "cell_type": "markdown",
   "metadata": {},
   "source": [
    "###### ALL"
   ]
  },
  {
   "cell_type": "code",
   "execution_count": 209,
   "metadata": {},
   "outputs": [],
   "source": [
    "#Making a list for all galaxies together where voids and walls are not separated\n",
    "\n",
    "manga_wf50_pos = []\n",
    "manga_MStar_pos = []\n",
    "alfa_wf50_pos =  []\n",
    "alfa_MStar_pos = []\n",
    "\n",
    "\n",
    "for i in range(len(mangaHI)):\n",
    "    if mangaHI['WF50_corrected'][i] > 0 and mangaHI['MStar'][i] > 0:\n",
    "        manga_wf50_pos.append(mangaHI['WF50_corrected'][i])\n",
    "        manga_MStar_pos.append(mangaHI['MStar'][i])\n",
    "\n",
    "for i in range(len(alfaHI)):\n",
    "     if alfaHI['WF50_corrected'][i] > 0 and alfaHI['MStar'][i] > 0:\n",
    "        alfa_wf50_pos.append(alfaHI['WF50_corrected'][i])\n",
    "        alfa_MStar_pos.append(alfaHI['MStar'][i])"
   ]
  },
  {
   "cell_type": "code",
   "execution_count": 210,
   "metadata": {},
   "outputs": [],
   "source": [
    "#Joins both GBT and ALFALFA wf50 and MStar lists\n",
    "\n",
    "wf50_pos = manga_wf50_pos + alfa_wf50_pos \n",
    "MStar_pos = manga_MStar_pos + alfa_MStar_pos"
   ]
  },
  {
   "cell_type": "code",
   "execution_count": 211,
   "metadata": {},
   "outputs": [
    {
     "name": "stdout",
     "output_type": "stream",
     "text": [
      "m_bf = 0.23129020224079122, b_bf = 0.1314583641262903\n",
      "m_err = 0.015153769043073716, b_err = 0.1476973710587149\n"
     ]
    }
   ],
   "source": [
    "y_data_wf50 = np.log10(wf50_pos)\n",
    "x_data_MStar = np.log10(MStar_pos)\n",
    "\n",
    "popt_all, pcov_all = curve_fit(f, x_data_MStar, y_data_wf50)\n",
    "m_bf_all, b_bf_all = popt_all\n",
    "m_err_all, b_err_all = np.sqrt(np.diag(pcov_all))\n",
    "m_bf_all_2 = round(m_bf_all, 2)\n",
    "b_bf_all_2 = round(b_bf_all, 2)\n",
    "print('m_bf = ' + str(m_bf_all) + ', b_bf = ' + str(b_bf_all))\n",
    "print('m_err = ' + str(m_err_all) + ', b_err = ' + str(b_err_all))"
   ]
  },
  {
   "cell_type": "code",
   "execution_count": 212,
   "metadata": {},
   "outputs": [
    {
     "name": "stdout",
     "output_type": "stream",
     "text": [
      "Best-fit line equation for all galaxies MStar given by the equation: log(WF50 velocity) = 0.23log(MStar) + 0.13\n"
     ]
    }
   ],
   "source": [
    "#Line equations for the best-fit lines for all galaxies from both GBT and ALFALFA\n",
    "\n",
    "y_data_wf50_line = m_bf_all* x_data_MStar + b_bf_all\n",
    "print('Best-fit line equation for all galaxies MStar given by the equation: log(WF50 velocity) = ' + str(m_bf_all_2) + 'log(MStar) + ' +  str(b_bf_all_2))"
   ]
  },
  {
   "cell_type": "code",
   "execution_count": 213,
   "metadata": {},
   "outputs": [],
   "source": [
    "#Joins both GBT and ALFALFA wf50 and void/wall lists\n",
    "wf50_voids_pos = manga_wf50_voids_pos + alfa_wf50_voids_pos \n",
    "wf50_walls_pos = manga_wf50_walls_pos + alfa_wf50_walls_pos \n",
    "voids_pos = manga_voids_pos + alfa_voids_pos\n",
    "walls_pos = manga_walls_pos + alfa_walls_pos"
   ]
  },
  {
   "cell_type": "code",
   "execution_count": 214,
   "metadata": {},
   "outputs": [
    {
     "name": "stdout",
     "output_type": "stream",
     "text": [
      "m_bf = 0.19840576577148245, b_bf = 0.44586836365005156\n",
      "m_err = 0.027623902929994226, b_err = 0.26650530409263506\n"
     ]
    }
   ],
   "source": [
    "y_data_voids = np.log10(wf50_voids_pos)\n",
    "x_data_voids = np.log10(voids_pos)\n",
    "\n",
    "popt_voids, pcov_voids = curve_fit(f, x_data_voids, y_data_voids)\n",
    "m_bf_voids, b_bf_voids = popt_voids\n",
    "m_err_voids, b_err_voids = np.sqrt(np.diag(pcov_voids))\n",
    "m_bf_voids_2 = round(m_bf_voids, 2)\n",
    "b_bf_voids_2 = round(b_bf_voids, 2)\n",
    "print('m_bf = ' + str(m_bf_voids) + ', b_bf = ' + str(b_bf_voids))\n",
    "print('m_err = ' + str(m_err_voids) + ', b_err = ' + str(b_err_voids))\n"
   ]
  },
  {
   "cell_type": "code",
   "execution_count": 215,
   "metadata": {},
   "outputs": [
    {
     "name": "stdout",
     "output_type": "stream",
     "text": [
      "Best-fit line equation for void galaxies MStar given by the equation: log(V.WF50 velocity) = 0.2log(V.MStar) + 0.45\n"
     ]
    }
   ],
   "source": [
    "y_data_voids_line = m_bf_voids* x_data_voids + b_bf_voids\n",
    "print('Best-fit line equation for void galaxies MStar given by the equation: log(V.WF50 velocity) = ' + str(m_bf_voids_2) + 'log(V.MStar) + ' +  str(b_bf_voids_2))"
   ]
  },
  {
   "cell_type": "code",
   "execution_count": 216,
   "metadata": {},
   "outputs": [
    {
     "name": "stdout",
     "output_type": "stream",
     "text": [
      "m_bf = 0.21400421608000975, b_bf = 0.31245117199749206\n",
      "m_err = 0.021941851279346388, b_err = 0.21631373114937094\n"
     ]
    }
   ],
   "source": [
    "y_data_walls = np.log10(wf50_walls_pos)\n",
    "x_data_walls = np.log10(walls_pos)\n",
    "\n",
    "popt_walls, pcov_walls = curve_fit(f, x_data_walls, y_data_walls)\n",
    "m_bf_walls, b_bf_walls = popt_walls\n",
    "m_err_walls, b_err_walls = np.sqrt(np.diag(pcov_walls))\n",
    "m_bf_walls_2 = round(m_bf_walls, 2)\n",
    "b_bf_walls_2 = round(b_bf_walls, 2)\n",
    "print('m_bf = ' + str(m_bf_walls) + ', b_bf = ' + str(b_bf_walls))\n",
    "print('m_err = ' + str(m_err_walls) + ', b_err = ' + str(b_err_walls))\n"
   ]
  },
  {
   "cell_type": "code",
   "execution_count": 217,
   "metadata": {},
   "outputs": [
    {
     "name": "stdout",
     "output_type": "stream",
     "text": [
      "Best-fit line equation for void galaxies MStar given by the equation: log(V.WF50 velocity) = 0.21log(V.MStar) + 0.31\n"
     ]
    }
   ],
   "source": [
    "y_data_walls_line = m_bf_walls* x_data_walls + b_bf_walls\n",
    "print('Best-fit line equation for void galaxies MStar given by the equation: log(V.WF50 velocity) = ' + str(m_bf_walls_2) + 'log(V.MStar) + ' +  str(b_bf_walls_2))\n"
   ]
  },
  {
   "cell_type": "markdown",
   "metadata": {},
   "source": [
    "###### PLOTS"
   ]
  },
  {
   "cell_type": "code",
   "execution_count": 218,
   "metadata": {
    "scrolled": false
   },
   "outputs": [
    {
     "data": {
      "image/png": "[encoded data removed]",
      "text/plain": [
       "<Figure size 432x288 with 1 Axes>"
      ]
     },
     "metadata": {
      "needs_background": "light"
     },
     "output_type": "display_data"
    }
   ],
   "source": [
    "#Plotting the voids, walls from data table and the best-fit lines\n",
    "#log(W.WF50 velocity) = 0.21log(W.MStar) + 0.31\n",
    "#log(V.WF50 velocity) = 0.20log(V.MStar) + 0.45\n",
    "#log(WF50 velocity) = 0.23log(MStar) + 0.13\n",
    "\n",
    "plt.plot(x_data_MStar, y_data_wf50, 'o', color = 'green', alpha = 0.2, fillstyle = 'none')\n",
    "plt.plot(x_data_voids, y_data_voids , '.', label = 'Voids', color = 'red', alpha = 0.18)\n",
    "plt.plot(x_data_walls, y_data_walls , '^', label = 'Walls', color = 'black', alpha = 0.18)\n",
    "plt.plot(x_data_walls,y_data_walls_line , '-', color = 'black', label = 'Walls')\n",
    "plt.plot(x_data_voids, y_data_voids_line , '-', color = 'red', label = 'Voids')\n",
    "plt.plot(x_data_MStar, y_data_wf50_line, '-', color = 'cyan', label = 'All galaxy')\n",
    "plt.ylabel('log(WF50) (km/s)')\n",
    "plt.xlabel('log(Mstar) (MSolar)')\n",
    "plt.legend()\n",
    "plt.savefig('plots/log_WF50_corrected-log_Mstar_bestFit.svg', dpi=500, facecolor='w', edgecolor='w',\n",
    "        orientation='portrait', format='svg', pad_inches=0.1)\n",
    "plt.savefig('plots/log_WF50_corrected-log_Mstar_bestFit.jpeg', dpi=500, facecolor='w', edgecolor='w',\n",
    "        orientation='portrait', format='jpeg', pad_inches=0.1)\n",
    "\n",
    "plt.show()"
   ]
  },
  {
   "cell_type": "markdown",
   "metadata": {},
   "source": [
    "##### Plotting HI-Mass"
   ]
  },
  {
   "cell_type": "markdown",
   "metadata": {},
   "source": [
    "##### GBT"
   ]
  },
  {
   "cell_type": "code",
   "execution_count": 219,
   "metadata": {},
   "outputs": [],
   "source": [
    "#GBT voids and manga HI mass and WF50 separated\n",
    "\n",
    "manga_wf50_voids_HI_pos = []\n",
    "manga_voids_HI_pos = []\n",
    "manga_wf50_walls_HI_pos = []\n",
    "manga_walls_HI_pos = []\n",
    "    \n",
    "for i in range(len(mangaHI)):\n",
    "    if mangaHI['WF50_corrected'][i] > 0 and mangaHI['Voids'][i] > 0:\n",
    "        manga_wf50_voids_HI_pos.append(mangaHI['WF50_corrected'][i])\n",
    "        manga_voids_HI_pos.append(mangaHI['logMHI_corrected'][i])\n",
    "       \n",
    "       \n",
    "    elif mangaHI['WF50_corrected'][i] > 0 and mangaHI['Walls'][i] > 0:\n",
    "        manga_wf50_walls_HI_pos.append(mangaHI['WF50_corrected'][i])\n",
    "        manga_walls_HI_pos.append(mangaHI['logMHI_corrected'][i])\n",
    "\n",
    "# masking some of the outliers\n",
    "j=0\n",
    "while j < len(manga_voids_HI_pos):\n",
    "     if manga_voids_HI_pos[j] <= 8.6:\n",
    "            manga_voids_HI_pos.remove(manga_voids_HI_pos[j])\n",
    "            manga_wf50_voids_HI_pos.remove(manga_wf50_voids_HI_pos[j])\n",
    "     else:\n",
    "        j += 1\n",
    "\n"
   ]
  },
  {
   "cell_type": "markdown",
   "metadata": {},
   "source": [
    "###### ALFALFA"
   ]
  },
  {
   "cell_type": "code",
   "execution_count": 220,
   "metadata": {},
   "outputs": [],
   "source": [
    "alfa_wf50_voids_HI_pos = []\n",
    "alfa_voids_HI_pos = []\n",
    "alfa_wf50_walls_HI_pos = []\n",
    "alfa_walls_HI_pos = []\n",
    "    \n",
    "for i in range(len(alfaHI)):\n",
    "    if alfaHI['WF50_corrected'][i] > 0 and alfaHI['Voids'][i] > 0:\n",
    "        alfa_wf50_voids_HI_pos.append(alfaHI['WF50_corrected'][i])\n",
    "        alfa_voids_HI_pos.append(alfaHI['logMHI_corrected'][i])\n",
    "    elif alfaHI['WF50_corrected'][i] > 0 and alfaHI['Walls'][i] > 0:\n",
    "        alfa_wf50_walls_HI_pos.append(alfaHI['WF50_corrected'][i])\n",
    "        alfa_walls_HI_pos.append(alfaHI['logMHI_corrected'][i])\n",
    "        \n"
   ]
  },
  {
   "cell_type": "markdown",
   "metadata": {},
   "source": [
    "###### Concatenation"
   ]
  },
  {
   "cell_type": "code",
   "execution_count": 221,
   "metadata": {},
   "outputs": [],
   "source": [
    "#Combines the voids of GBT set and ALFALFA set\n",
    "wf50_voids_HI_pos = np.log10(alfa_wf50_voids_HI_pos + manga_wf50_voids_HI_pos)\n",
    "voids_HI_pos = alfa_voids_HI_pos + manga_voids_HI_pos\n",
    "\n",
    "#Combines the walls of GBT set and ALFALFA set\n",
    "wf50_walls_HI_pos = np.log10(alfa_wf50_walls_HI_pos + manga_wf50_walls_HI_pos)\n",
    "walls_HI_pos = alfa_walls_HI_pos + manga_walls_HI_pos"
   ]
  },
  {
   "cell_type": "markdown",
   "metadata": {},
   "source": [
    "##### VOIDS"
   ]
  },
  {
   "cell_type": "code",
   "execution_count": 222,
   "metadata": {},
   "outputs": [
    {
     "name": "stdout",
     "output_type": "stream",
     "text": [
      "m_bf = 0.26856756893467404, b_bf = -0.25334885129215934\n",
      "m_err = 0.04580441640028765, b_err = 0.4454740923131368\n"
     ]
    }
   ],
   "source": [
    "y_data_voids_HI = wf50_voids_HI_pos\n",
    "x_data_voids_HI = np.array(voids_HI_pos, dtype = np.float64)\n",
    "\n",
    "popt_voids_HI, pcov_voids_HI = curve_fit(f, x_data_voids_HI, y_data_voids_HI)\n",
    "m_bf_voids_HI, b_bf_voids_HI = popt_voids_HI\n",
    "m_err_voids_HI, b_err_voids_HI = np.sqrt(np.diag(pcov_voids_HI))\n",
    "m_bf_voids_HI_2 = round(m_bf_voids_HI, 2)\n",
    "b_bf_voids_HI_2 = round(b_bf_voids_HI, 2)\n",
    "print('m_bf = ' + str(m_bf_voids_HI) + ', b_bf = ' + str(b_bf_voids_HI))\n",
    "print('m_err = ' + str(m_err_voids_HI) + ', b_err = ' + str(b_err_voids_HI))"
   ]
  },
  {
   "cell_type": "code",
   "execution_count": 223,
   "metadata": {},
   "outputs": [
    {
     "name": "stdout",
     "output_type": "stream",
     "text": [
      "Best-fit line equation for void galaxies HI-mass given by the equation: log(V.WF50 velocity) = 0.27log(V.HI-mass) + -0.25\n"
     ]
    }
   ],
   "source": [
    "y_data_voids_HI_line = m_bf_voids_HI* x_data_voids_HI + b_bf_voids_HI\n",
    "print('Best-fit line equation for void galaxies HI-mass given by the equation: log(V.WF50 velocity) = ' + str(m_bf_voids_HI_2) + 'log(V.HI-mass) + ' +  str(b_bf_voids_HI_2))"
   ]
  },
  {
   "cell_type": "markdown",
   "metadata": {},
   "source": [
    "###### WALLS"
   ]
  },
  {
   "cell_type": "code",
   "execution_count": 224,
   "metadata": {},
   "outputs": [
    {
     "name": "stdout",
     "output_type": "stream",
     "text": [
      "m_bf = 0.3539393475666978, b_bf = -1.0326792919196757\n",
      "m_err = 0.039089805988160094, b_err = 0.3813598285813888\n"
     ]
    }
   ],
   "source": [
    "y_data_walls_HI = wf50_walls_HI_pos\n",
    "x_data_walls_HI = np.array(walls_HI_pos, dtype = np.float64)\n",
    "\n",
    "popt_walls_HI, pcov_walls_HI = curve_fit(f, x_data_walls_HI, y_data_walls_HI)\n",
    "m_bf_walls_HI, b_bf_walls_HI = popt_walls_HI\n",
    "m_err_walls_HI, b_err_walls_HI = np.sqrt(np.diag(pcov_walls_HI))\n",
    "m_bf_walls_HI_2 = round(m_bf_walls_HI, 2)\n",
    "b_bf_walls_HI_2 = round(b_bf_walls_HI, 2)\n",
    "print('m_bf = ' + str(m_bf_walls_HI) + ', b_bf = ' + str(b_bf_walls_HI))\n",
    "print('m_err = ' + str(m_err_walls_HI) + ', b_err = ' + str(b_err_walls_HI))"
   ]
  },
  {
   "cell_type": "code",
   "execution_count": 225,
   "metadata": {},
   "outputs": [
    {
     "name": "stdout",
     "output_type": "stream",
     "text": [
      "Best-fit line equation for wall galaxies HI-mass given by the equation: log(W.WF50 velocity) = 0.35log(W.HI-mass)-1.03\n"
     ]
    }
   ],
   "source": [
    "y_data_walls_HI_line = m_bf_walls_HI* x_data_walls_HI + b_bf_walls_HI\n",
    "print('Best-fit line equation for wall galaxies HI-mass given by the equation: log(W.WF50 velocity) = ' + str(m_bf_walls_HI_2) + 'log(W.HI-mass)' +  str(b_bf_walls_HI_2))"
   ]
  },
  {
   "cell_type": "markdown",
   "metadata": {},
   "source": [
    "###### ALL"
   ]
  },
  {
   "cell_type": "code",
   "execution_count": 226,
   "metadata": {},
   "outputs": [],
   "source": [
    "#Picking out the postive values for wf50 and HI mass from GBT and ALFALFA data\n",
    "\n",
    "manga_wf50_HI_pos = []\n",
    "manga_HI_pos = []\n",
    "alfa_wf50_HI_pos = []\n",
    "alfa_HI_pos = []\n",
    "\n",
    "for i in range(len(mangaHI)):\n",
    "    if mangaHI['WF50_corrected'][i] > 0 and mangaHI['logMHI_corrected'][i] > 0:\n",
    "        manga_wf50_HI_pos.append(mangaHI['WF50_corrected'][i])\n",
    "        manga_HI_pos.append(mangaHI['logMHI'][i])\n",
    "\n",
    "for i in range(len(alfaHI)):\n",
    "     if alfaHI['WF50_corrected'][i] > 0 and alfaHI['logMHI_corrected'][i] > 0:\n",
    "        alfa_wf50_HI_pos.append(alfaHI['WF50_corrected'][i])\n",
    "        alfa_HI_pos.append(alfaHI['logMHI_corrected'][i])"
   ]
  },
  {
   "cell_type": "code",
   "execution_count": 227,
   "metadata": {},
   "outputs": [],
   "source": [
    "#Joining ALFALFA and GBT data\n",
    "\n",
    "all_wf50_HI_pos = manga_wf50_HI_pos + alfa_wf50_HI_pos\n",
    "all_HI_pos = manga_HI_pos + alfa_HI_pos"
   ]
  },
  {
   "cell_type": "code",
   "execution_count": 228,
   "metadata": {},
   "outputs": [
    {
     "name": "stdout",
     "output_type": "stream",
     "text": [
      "m_bf = 0.3323312569099247, b_bf = -0.8367365378236261\n",
      "m_err = 0.02377610879128792, b_err = 0.23041694366050258\n"
     ]
    }
   ],
   "source": [
    "y_data_all_HI = np.log10(all_wf50_HI_pos)\n",
    "x_data_all_HI = np.array(all_HI_pos,dtype=np.float64)\n",
    "\n",
    "popt_all_HI, pcov_all_HI = curve_fit(f, x_data_all_HI, y_data_all_HI)\n",
    "m_bf_all_HI, b_bf_all_HI = popt_all_HI\n",
    "m_err_all_HI, b_err_all_HI = np.sqrt(np.diag(pcov_all_HI))\n",
    "m_bf_all_HI_2 = round(m_bf_all_HI, 2)\n",
    "b_bf_all_HI_2 = round(b_bf_all_HI, 2)\n",
    "print('m_bf = ' + str(m_bf_all_HI) + ', b_bf = ' + str(b_bf_all_HI))\n",
    "print('m_err = ' + str(m_err_all_HI) + ', b_err = ' + str(b_err_all_HI))"
   ]
  },
  {
   "cell_type": "code",
   "execution_count": 229,
   "metadata": {
    "scrolled": true
   },
   "outputs": [
    {
     "name": "stdout",
     "output_type": "stream",
     "text": [
      "Best-fit line equation for HI-mass given by the equation: log(WF50 velocity) = 0.33log(HI-Mass)-0.84\n"
     ]
    }
   ],
   "source": [
    "y_data_all_HI_line = m_bf_all_HI* x_data_all_HI + b_bf_all_HI\n",
    "\n",
    "print('Best-fit line equation for HI-mass given by the equation: log(WF50 velocity) = ' + str(m_bf_all_HI_2) + 'log(HI-Mass)' +  str(b_bf_all_HI_2))"
   ]
  },
  {
   "cell_type": "markdown",
   "metadata": {},
   "source": [
    "###### PLOTS"
   ]
  },
  {
   "cell_type": "code",
   "execution_count": 230,
   "metadata": {},
   "outputs": [
    {
     "data": {
      "image/png": "[encoded data removed]",
      "text/plain": [
       "<Figure size 432x288 with 1 Axes>"
      ]
     },
     "metadata": {
      "needs_background": "light"
     },
     "output_type": "display_data"
    }
   ],
   "source": [
    "#Plotting HI-data and wf50 from data table and the best-fit lines\n",
    "#log(V.WF50 velocity) = 0.27log(V.HI-mass) - 0.25\n",
    "#log(W.WF50 velocity) = 0.35log(W.HI-mass)-1.03\n",
    "#log(WF50 velocity) = 0.33log(HI-Mass)-0.84\n",
    "plt.plot(x_data_all_HI, y_data_all_HI, 'o', color = 'green', alpha = 0.2, fillstyle = 'none')\n",
    "plt.plot(x_data_walls_HI, y_data_walls_HI, '^', color = 'black', alpha = 0.2, label = 'Walls')\n",
    "plt.plot(x_data_voids_HI, y_data_voids_HI, '.', color = 'red', alpha = 0.2, label = 'Voids')\n",
    "plt.plot(x_data_voids_HI, y_data_voids_HI_line, '-', color = 'red', label = 'Voids')\n",
    "plt.plot(x_data_walls_HI, y_data_walls_HI_line, '-', color = 'black', label = 'Walls')\n",
    "plt.plot(x_data_all_HI, y_data_all_HI_line, '-', label = 'best-fit', color = 'cyan')\n",
    "plt.xlim(xmin = 8)\n",
    "plt.xlabel('log(MHI) (MSun)')\n",
    "plt.ylabel('log(WF50) (km/s)')\n",
    "plt.legend()\n",
    "plt.savefig('plots/log_WF50_corrected-log_HI_bestFit.svg', dpi=500, facecolor='w', edgecolor='w',\n",
    "        orientation='portrait', format='svg', pad_inches=0.1)\n",
    "plt.savefig('plots/log_WF50_corrected-log_HI_bestFit.jpeg', dpi=500, facecolor='w', edgecolor='w',\n",
    "        orientation='portrait', format='jpeg', pad_inches=0.1)\n",
    "plt.show()"
   ]
  },
  {
   "cell_type": "markdown",
   "metadata": {},
   "source": [
    "##### Plot for sum of HI mass and MStar"
   ]
  },
  {
   "cell_type": "markdown",
   "metadata": {},
   "source": [
    "##### GBT"
   ]
  },
  {
   "cell_type": "code",
   "execution_count": 231,
   "metadata": {},
   "outputs": [],
   "source": [
    "#Adding a column of the sum of HI and MStar to GBT\n",
    "manga_totMass = []\n",
    "for i in range(len(mangaHI)):\n",
    "    if mangaHI['MHI'][i]> 0:\n",
    "        manga_totMass.append(mangaHI['MHI_corrected'][i] + mangaHI['MStar'][i])\n",
    "    else:\n",
    "        manga_totMass.append(-999.0)\n",
    "\n",
    "#mangaHI.remove_column('MTotal')\n",
    "mangaHI.add_column(Column(np.asarray(manga_totMass, dtype = np.float64, order = 'F'), name = 'MTotal'), index=15)"
   ]
  },
  {
   "cell_type": "code",
   "execution_count": 232,
   "metadata": {},
   "outputs": [],
   "source": [
    "#Picking out the positive values\n",
    "\n",
    "manga_wf50_Tot_voids_pos = []\n",
    "manga_MTot_voids_pos = []\n",
    "manga_wf50_Tot_walls_pos = []\n",
    "manga_MTot_walls_pos = []\n",
    "\n",
    "for i in range(len(mangaHI)):\n",
    "    if mangaHI['WF50_corrected'][i] > 0 and mangaHI['Voids'][i] > 0 and mangaHI['MHI'][i] != 0.0:\n",
    "        manga_wf50_Tot_voids_pos.append(mangaHI['WF50_corrected'][i])\n",
    "        manga_MTot_voids_pos.append(mangaHI['MTotal'][i])\n",
    "    elif mangaHI['WF50_corrected'][i] > 0 and mangaHI['Walls'][i] > 0 and mangaHI['MHI'][i] != 0.0:\n",
    "        manga_wf50_Tot_walls_pos.append(mangaHI['WF50_corrected'][i])\n",
    "        manga_MTot_walls_pos.append(mangaHI['MTotal'][i])\n",
    "\n"
   ]
  },
  {
   "cell_type": "markdown",
   "metadata": {},
   "source": [
    "##### ALFALFA"
   ]
  },
  {
   "cell_type": "code",
   "execution_count": 233,
   "metadata": {},
   "outputs": [],
   "source": [
    "#Adding a column of the sum of HI and MStar to ALFALFA \n",
    "alfa_totMass = []\n",
    "for i in range(len(alfaHI)):\n",
    "    if alfaHI['MHI'][i]> 0:\n",
    "        alfa_totMass.append(alfaHI['MHI_corrected'][i] + alfaHI['MStar'][i])\n",
    "    else:\n",
    "        alfa_totMass.append(-999.0)\n",
    "\n",
    "#alfaHI.remove_column('MTotal')\n",
    "alfaHI.add_column(Column(np.asarray(alfa_totMass, dtype = np.float64, order = 'F'), name = 'MTotal'), index=12)"
   ]
  },
  {
   "cell_type": "code",
   "execution_count": 234,
   "metadata": {},
   "outputs": [],
   "source": [
    "#Picking out the positive values\n",
    "\n",
    "alfa_wf50_Tot_voids_pos = []\n",
    "alfa_MTot_voids_pos = []\n",
    "alfa_wf50_Tot_walls_pos = []\n",
    "alfa_MTot_walls_pos = []\n",
    "\n",
    "for i in range(len(alfaHI)):\n",
    "    if alfaHI['WF50_corrected'][i] > 0 and alfaHI['Voids'][i] > 0 and alfaHI['MHI'][i] != 0.0:\n",
    "        alfa_wf50_Tot_voids_pos.append(alfaHI['WF50_corrected'][i])\n",
    "        alfa_MTot_voids_pos.append(alfaHI['MTotal'][i])\n",
    "    elif alfaHI['WF50_corrected'][i] > 0 and alfaHI['Walls'][i] > 0 and alfaHI['MHI'][i] != 0.0:\n",
    "        alfa_wf50_Tot_walls_pos.append(alfaHI['WF50_corrected'][i])\n",
    "        alfa_MTot_walls_pos.append(alfaHI['MTotal'][i])\n"
   ]
  },
  {
   "cell_type": "markdown",
   "metadata": {},
   "source": [
    "##### Concatenation"
   ]
  },
  {
   "cell_type": "code",
   "execution_count": 235,
   "metadata": {},
   "outputs": [],
   "source": [
    "#Joining ALFALFA and GBT data\n",
    "\n",
    "wf50_Tot_voids_pos = alfa_wf50_Tot_voids_pos + manga_wf50_Tot_voids_pos\n",
    "MTot_voids_pos = alfa_MTot_voids_pos + manga_MTot_voids_pos\n",
    "wf50_Tot_walls_pos = alfa_wf50_Tot_walls_pos + manga_wf50_Tot_walls_pos\n",
    "MTot_walls_pos = alfa_MTot_walls_pos + manga_MTot_walls_pos"
   ]
  },
  {
   "cell_type": "markdown",
   "metadata": {},
   "source": [
    "###### VOIDS"
   ]
  },
  {
   "cell_type": "code",
   "execution_count": 236,
   "metadata": {},
   "outputs": [
    {
     "name": "stdout",
     "output_type": "stream",
     "text": [
      "m_bf = 0.29057092557987796, b_bf = -0.5561199640793073\n",
      "m_err = 0.03547004238954104, b_err = 0.355887303265488\n"
     ]
    }
   ],
   "source": [
    "y_data_Tot_voids = np.log10(wf50_Tot_voids_pos)\n",
    "x_data_Tot_voids = np.log10(MTot_voids_pos)\n",
    "\n",
    "popt_Tot_voids, pcov_Tot_voids = curve_fit(f, x_data_Tot_voids, y_data_Tot_voids)\n",
    "m_bf_Tot_voids, b_bf_Tot_voids = popt_Tot_voids\n",
    "m_err_Tot_voids, b_err_Tot_voids = np.sqrt(np.diag(pcov_Tot_voids))\n",
    "m_bf_Tot_voids_2 = round(m_bf_Tot_voids, 2)\n",
    "b_bf_Tot_voids_2 = round(b_bf_Tot_voids, 2)\n",
    "print('m_bf = ' + str(m_bf_Tot_voids) + ', b_bf = ' + str(b_bf_Tot_voids))\n",
    "print('m_err = ' + str(m_err_Tot_voids) + ', b_err = ' + str(b_err_Tot_voids))"
   ]
  },
  {
   "cell_type": "code",
   "execution_count": 237,
   "metadata": {},
   "outputs": [
    {
     "name": "stdout",
     "output_type": "stream",
     "text": [
      "Best-fit line equation for void galaxy (HI+Stellar)-mass given by the equation: log(V.WF50 velocity) = 0.29log(V.(HI+Stellar)-Mass)-0.56\n"
     ]
    }
   ],
   "source": [
    "y_data_Tot_voids_line = m_bf_Tot_voids * x_data_Tot_voids + b_bf_Tot_voids\n",
    "print('Best-fit line equation for void galaxy (HI+Stellar)-mass given by the equation: log(V.WF50 velocity) = ' + str(m_bf_Tot_voids_2) + 'log(V.(HI+Stellar)-Mass)' +  str(b_bf_Tot_voids_2))"
   ]
  },
  {
   "cell_type": "markdown",
   "metadata": {},
   "source": [
    "##### WALLS"
   ]
  },
  {
   "cell_type": "code",
   "execution_count": 238,
   "metadata": {},
   "outputs": [
    {
     "name": "stdout",
     "output_type": "stream",
     "text": [
      "m_bf = 0.3096785875794681, b_bf = -0.7276691974063172\n",
      "m_err = 0.028809661987205012, b_err = 0.29294761610218306\n"
     ]
    }
   ],
   "source": [
    "y_data_Tot_walls = np.log10(wf50_Tot_walls_pos)\n",
    "x_data_Tot_walls = np.log10(MTot_walls_pos)\n",
    "\n",
    "popt_Tot_walls, pcov_Tot_walls = curve_fit(f, x_data_Tot_walls, y_data_Tot_walls)\n",
    "m_bf_Tot_walls, b_bf_Tot_walls = popt_Tot_walls\n",
    "m_err_Tot_walls, b_err_Tot_walls = np.sqrt(np.diag(pcov_Tot_walls))\n",
    "m_bf_Tot_walls_2 = round(m_bf_Tot_walls, 2)\n",
    "b_bf_Tot_walls_2 = round(b_bf_Tot_walls, 2)\n",
    "print('m_bf = ' + str(m_bf_Tot_walls) + ', b_bf = ' + str(b_bf_Tot_walls))\n",
    "print('m_err = ' + str(m_err_Tot_walls) + ', b_err = ' + str(b_err_Tot_walls))"
   ]
  },
  {
   "cell_type": "code",
   "execution_count": 239,
   "metadata": {},
   "outputs": [
    {
     "name": "stdout",
     "output_type": "stream",
     "text": [
      "Best-fit line equation for wall galaxy (HI+Stellar)-mass given by the equation: log(W.WF50 velocity) = 0.31log(W.(HI+Stellar)-Mass)-0.73\n"
     ]
    }
   ],
   "source": [
    "y_data_Tot_walls_line = m_bf_Tot_walls * x_data_Tot_walls + b_bf_Tot_walls\n",
    "print('Best-fit line equation for wall galaxy (HI+Stellar)-mass given by the equation: log(W.WF50 velocity) = ' + str(m_bf_Tot_walls_2) + 'log(W.(HI+Stellar)-Mass)' +  str(b_bf_Tot_walls_2))"
   ]
  },
  {
   "cell_type": "markdown",
   "metadata": {},
   "source": [
    "##### ALL"
   ]
  },
  {
   "cell_type": "code",
   "execution_count": 240,
   "metadata": {},
   "outputs": [],
   "source": [
    "#Putting all galaxies together\n",
    "\n",
    "wf50_Tot_all = wf50_Tot_voids_pos+wf50_Tot_walls_pos\n",
    "MTot_all = MTot_voids_pos + MTot_walls_pos"
   ]
  },
  {
   "cell_type": "code",
   "execution_count": 241,
   "metadata": {},
   "outputs": [
    {
     "name": "stdout",
     "output_type": "stream",
     "text": [
      "m_bf = 0.30632752921401596, b_bf = -0.701180087250231\n",
      "m_err = 0.022181570146890383, b_err = 0.22444961452348502\n"
     ]
    }
   ],
   "source": [
    "y_data_Tot_all = np.log10(wf50_Tot_all)\n",
    "x_data_Tot_all = np.log10(MTot_all)\n",
    "\n",
    "popt_Tot_all, pcov_Tot_all = curve_fit(f, x_data_Tot_all, y_data_Tot_all)\n",
    "m_bf_Tot_all, b_bf_Tot_all = popt_Tot_all\n",
    "m_err_Tot_all, b_err_Tot_all = np.sqrt(np.diag(pcov_Tot_all))\n",
    "m_bf_Tot_all_2 = round(m_bf_Tot_all, 2)\n",
    "b_bf_Tot_all_2 = round(b_bf_Tot_all, 2)\n",
    "print('m_bf = ' + str(m_bf_Tot_all) + ', b_bf = ' + str(b_bf_Tot_all))\n",
    "print('m_err = ' + str(m_err_Tot_all) + ', b_err = ' + str(b_err_Tot_all))"
   ]
  },
  {
   "cell_type": "code",
   "execution_count": 242,
   "metadata": {},
   "outputs": [
    {
     "name": "stdout",
     "output_type": "stream",
     "text": [
      "Best-fit line equation for all galaxy (HI+Stellar)-mass given by the equation: log(WF50 velocity) = 0.31log((HI+Stellar)-Mass)-0.7\n"
     ]
    }
   ],
   "source": [
    "y_data_Tot_all_line = m_bf_Tot_all * x_data_Tot_all + b_bf_Tot_all\n",
    "print('Best-fit line equation for all galaxy (HI+Stellar)-mass given by the equation: log(WF50 velocity) = ' + str(m_bf_Tot_all_2) + 'log((HI+Stellar)-Mass)' +  str(b_bf_Tot_all_2))"
   ]
  },
  {
   "cell_type": "markdown",
   "metadata": {},
   "source": [
    "##### PLOTS"
   ]
  },
  {
   "cell_type": "code",
   "execution_count": 243,
   "metadata": {
    "scrolled": true
   },
   "outputs": [
    {
     "data": {
      "image/png": "[encoded data removed]",
      "text/plain": [
       "<Figure size 432x288 with 1 Axes>"
      ]
     },
     "metadata": {
      "needs_background": "light"
     },
     "output_type": "display_data"
    }
   ],
   "source": [
    "#Plotting HI+Stellar and wf50 from data table and the best-fit lines\n",
    "#log(W.WF50 velocity) = 0.31log(W.(HI+Stellar)-Mass)-0.73\n",
    "#log(V.WF50 velocity) = 0.29log(V.(HI+Stellar)-Mass)-0.56\n",
    "#log(WF50 velocity) = 0.31log((HI+Stellar)-Mass)-0.7\n",
    "\n",
    "plt.plot(x_data_Tot_all, y_data_Tot_all, 'o', color = 'green', alpha = 0.18, fillstyle = 'none')\n",
    "plt.plot(x_data_Tot_voids, y_data_Tot_voids , '.', label = 'Voids', color = 'red', alpha = 0.18)\n",
    "plt.plot(x_data_Tot_walls, y_data_Tot_walls , '^', label = 'Walls', color = 'black', alpha = 0.18)\n",
    "plt.plot(x_data_Tot_walls,y_data_Tot_walls_line , '-', color = 'black', label = 'Walls')\n",
    "plt.plot(x_data_Tot_voids, y_data_Tot_voids_line , '-', color = 'red', label = 'Voids')\n",
    "plt.plot(x_data_Tot_all, y_data_Tot_all_line, '-', color = 'cyan', label = 'All galaxy')\n",
    "plt.ylabel('log(WF50) (km/s)')\n",
    "plt.xlabel('log(M*+MHI) (MSolar)')\n",
    "plt.legend()\n",
    "plt.savefig('plots/log_WF50_corrected-log_MStar+HI_bestFit.svg', dpi=500, facecolor='w', edgecolor='w',\n",
    "        orientation='portrait', format='svg', pad_inches=0.1)\n",
    "plt.savefig('plots/log_WF50_corrected-log_MStar+HI_bestFit.jpeg', dpi=500, facecolor='w', edgecolor='w',\n",
    "        orientation='portrait', format='jpeg', pad_inches=0.1)\n",
    "\n",
    "plt.show()"
   ]
  },
  {
   "cell_type": "markdown",
   "metadata": {},
   "source": [
    "###### MStar vs HI-mass\n",
    "\n",
    ">Let’s look at the relationship between the MStar and the HI mass.  Plot log(M*) v. log(M_HI), coloring voids red and walls black, and fit linear relationships for the voids, the walls, and all the galaxies together."
   ]
  },
  {
   "cell_type": "markdown",
   "metadata": {},
   "source": [
    "##### GBT"
   ]
  },
  {
   "cell_type": "code",
   "execution_count": 244,
   "metadata": {},
   "outputs": [],
   "source": [
    "manga_MStar_voids = []\n",
    "manga_MStar_walls = []\n",
    "manga_HI_voids = []\n",
    "manga_HI_walls = []\n",
    "\n",
    "for i in range(len(mangaHI)):\n",
    "    if mangaHI['Voids'][i] > 0 and mangaHI['logMHI_corrected'][i] > 0:\n",
    "        manga_MStar_voids.append(mangaHI['MStar'][i])\n",
    "        manga_HI_voids.append(mangaHI['logMHI_corrected'][i])\n",
    "    elif mangaHI['Walls'][i] > 0 and mangaHI['logMHI_corrected'][i] > 0:\n",
    "        manga_MStar_walls.append(mangaHI['MStar'][i])\n",
    "        manga_HI_walls.append(mangaHI['logMHI_corrected'][i])\n",
    "        \n",
    "# masking some of the outliers\n",
    "j=0\n",
    "while j < len(manga_HI_voids):\n",
    "     if manga_HI_voids[j] <= 8:\n",
    "            manga_HI_voids.remove(manga_HI_voids[j])\n",
    "            manga_MStar_voids.remove( manga_MStar_voids[j])\n",
    "     else:\n",
    "        j += 1\n",
    "\n",
    "k=0\n",
    "while k < len(manga_HI_walls):\n",
    "     if manga_HI_walls[k] <= 8:\n",
    "            manga_HI_walls.remove(manga_HI_walls[k])\n",
    "            manga_MStar_walls.remove( manga_MStar_walls[k])\n",
    "     else:\n",
    "        k += 1"
   ]
  },
  {
   "cell_type": "markdown",
   "metadata": {},
   "source": [
    "##### ALFALFA"
   ]
  },
  {
   "cell_type": "code",
   "execution_count": 245,
   "metadata": {},
   "outputs": [],
   "source": [
    "alfa_MStar_voids = []\n",
    "alfa_MStar_walls = []\n",
    "alfa_HI_voids = []\n",
    "alfa_HI_walls = []\n",
    "\n",
    "for i in range(len(alfaHI)):\n",
    "    if alfaHI['Voids'][i] > 0 and alfaHI['logMHI_corrected'][i] > 0:\n",
    "        alfa_MStar_voids.append(alfaHI['MStar'][i])\n",
    "        alfa_HI_voids.append(alfaHI['logMHI_corrected'][i])\n",
    "    elif alfaHI['Walls'][i] > 0 and alfaHI['logMHI_corrected'][i] > 0:\n",
    "        alfa_MStar_walls.append(alfaHI['MStar'][i])\n",
    "        alfa_HI_walls.append(alfaHI['logMHI_corrected'][i])  \n",
    "        \n",
    "# masking some of the outliers\n",
    "l=0\n",
    "while l < len(alfa_HI_voids):\n",
    "     if alfa_HI_voids[j] <= 8:\n",
    "            alfa_HI_voids.remove(alfa_HI_voids[j])\n",
    "            alfa_MStar_voids.remove(alfa_MStar_voids[j])\n",
    "     else:\n",
    "        l += 1\n",
    "\n",
    "m=0\n",
    "while m < len(alfa_HI_walls):\n",
    "     if alfa_HI_walls[k] <= 8:\n",
    "            alfa_HI_walls.remove(alfa_HI_walls[k])\n",
    "            alfa_MStar_walls.remove(alfa_MStar_walls[k])\n",
    "     else:\n",
    "        m += 1"
   ]
  },
  {
   "cell_type": "markdown",
   "metadata": {},
   "source": [
    "##### Concatenation"
   ]
  },
  {
   "cell_type": "code",
   "execution_count": 246,
   "metadata": {},
   "outputs": [],
   "source": [
    "MStar_voids = alfa_MStar_voids + manga_MStar_voids\n",
    "HI_voids =  alfa_HI_voids + manga_HI_voids\n",
    "\n",
    "MStar_walls = alfa_MStar_walls + manga_MStar_walls\n",
    "HI_walls =  alfa_HI_walls + manga_HI_walls"
   ]
  },
  {
   "cell_type": "markdown",
   "metadata": {},
   "source": [
    "##### VOIDS"
   ]
  },
  {
   "cell_type": "code",
   "execution_count": 247,
   "metadata": {},
   "outputs": [
    {
     "name": "stdout",
     "output_type": "stream",
     "text": [
      "m_bf = 0.7807742231824903, b_bf = 2.079986736070262\n",
      "m_err = 0.0978486727341266, b_err = 0.9480612327542782\n"
     ]
    }
   ],
   "source": [
    "y_data_voids_mass = np.log10(MStar_voids)\n",
    "x_data_voids_mass = np.array(HI_voids, dtype = np.float64)\n",
    "\n",
    "popt_voids_mass, pcov_voids_mass = curve_fit(f, x_data_voids_mass, y_data_voids_mass)\n",
    "m_bf_voids_mass, b_bf_voids_mass = popt_voids_mass\n",
    "m_err_voids_mass, b_err_voids_mass = np.sqrt(np.diag(pcov_voids_mass))\n",
    "m_bf_voids_mass_2 = round(m_bf_voids_mass, 2)\n",
    "b_bf_voids_mass_2 = round(b_bf_voids_mass, 2)\n",
    "print('m_bf = ' + str(m_bf_voids_mass) + ', b_bf = ' + str(b_bf_voids_mass))\n",
    "print('m_err = ' + str(m_err_voids_mass) + ', b_err = ' + str(b_err_voids_mass))"
   ]
  },
  {
   "cell_type": "code",
   "execution_count": 248,
   "metadata": {},
   "outputs": [
    {
     "name": "stdout",
     "output_type": "stream",
     "text": [
      "Best-fit line equation for void galaxy M* vs HI given by the equation: log(V.M*)) = 0.78log(V.HI) + 2.08\n"
     ]
    }
   ],
   "source": [
    "y_data_voids_mass_line = m_bf_voids_mass * x_data_voids_mass + b_bf_voids_mass\n",
    "print('Best-fit line equation for void galaxy M* vs HI given by the equation: log(V.M*)) = ' + str(m_bf_voids_mass_2) + 'log(V.HI) + ' +  str(b_bf_voids_mass_2))"
   ]
  },
  {
   "cell_type": "markdown",
   "metadata": {},
   "source": [
    "##### WALLS"
   ]
  },
  {
   "cell_type": "code",
   "execution_count": 249,
   "metadata": {},
   "outputs": [
    {
     "name": "stdout",
     "output_type": "stream",
     "text": [
      "m_bf = 1.0258966493487922, b_bf = -0.14756764214750273\n",
      "m_err = 0.08865690069499883, b_err = 0.864703188039194\n"
     ]
    }
   ],
   "source": [
    "y_data_walls_mass = np.log10(MStar_walls)\n",
    "x_data_walls_mass = np.array(HI_walls, dtype = np.float64)\n",
    "\n",
    "popt_walls_mass, pcov_walls_mass = curve_fit(f, x_data_walls_mass, y_data_walls_mass)\n",
    "m_bf_walls_mass, b_bf_walls_mass = popt_walls_mass\n",
    "m_err_walls_mass, b_err_walls_mass = np.sqrt(np.diag(pcov_walls_mass))\n",
    "m_bf_walls_mass_2 = round(m_bf_walls_mass, 2)\n",
    "b_bf_walls_mass_2 = round(b_bf_walls_mass, 2)\n",
    "print('m_bf = ' + str(m_bf_walls_mass) + ', b_bf = ' + str(b_bf_walls_mass))\n",
    "print('m_err = ' + str(m_err_walls_mass) + ', b_err = ' + str(b_err_walls_mass))"
   ]
  },
  {
   "cell_type": "code",
   "execution_count": 250,
   "metadata": {},
   "outputs": [
    {
     "name": "stdout",
     "output_type": "stream",
     "text": [
      "Best-fit line equation for wall galaxy M* vs HI given by the equation: log(W.M*)) = 1.03log(W.HI) + -0.15\n"
     ]
    }
   ],
   "source": [
    "y_data_walls_mass_line = m_bf_walls_mass * x_data_walls_mass + b_bf_walls_mass\n",
    "print('Best-fit line equation for wall galaxy M* vs HI given by the equation: log(W.M*)) = ' + str(m_bf_walls_mass_2) + 'log(W.HI) + ' +  str(b_bf_walls_mass_2))"
   ]
  },
  {
   "cell_type": "markdown",
   "metadata": {},
   "source": [
    "##### ALL"
   ]
  },
  {
   "cell_type": "code",
   "execution_count": 251,
   "metadata": {},
   "outputs": [],
   "source": [
    "MStar_all = MStar_voids+MStar_walls\n",
    "HI_all = HI_voids+HI_walls"
   ]
  },
  {
   "cell_type": "code",
   "execution_count": 252,
   "metadata": {},
   "outputs": [
    {
     "name": "stdout",
     "output_type": "stream",
     "text": [
      "m_bf = 0.9359670752048361, b_bf = 0.6709875577208092\n",
      "m_err = 0.0663978287595394, b_err = 0.64597041149422\n"
     ]
    }
   ],
   "source": [
    "y_data_mass_all = np.log10(MStar_all)\n",
    "x_data_mass_all = np.array(HI_all, dtype = np.float64)\n",
    "\n",
    "popt_mass_all, pcov_mass_all = curve_fit(f, x_data_mass_all, y_data_mass_all)\n",
    "m_bf_mass_all, b_bf_mass_all = popt_mass_all\n",
    "m_err_mass_all, b_err_mass_all = np.sqrt(np.diag(pcov_mass_all))\n",
    "m_bf_mass_all_2 = round(m_bf_mass_all, 2)\n",
    "b_bf_mass_all_2 = round(b_bf_mass_all, 2)\n",
    "print('m_bf = ' + str(m_bf_mass_all) + ', b_bf = ' + str(b_bf_mass_all))\n",
    "print('m_err = ' + str(m_err_mass_all) + ', b_err = ' + str(b_err_mass_all))"
   ]
  },
  {
   "cell_type": "code",
   "execution_count": 253,
   "metadata": {},
   "outputs": [
    {
     "name": "stdout",
     "output_type": "stream",
     "text": [
      "Best-fit line equation for all galaxy M* vs HI given by the equation: log(M*)) = 0.94log(HI) + 0.67\n"
     ]
    }
   ],
   "source": [
    "y_data_mass_all_line = m_bf_mass_all * x_data_mass_all + b_bf_mass_all\n",
    "print('Best-fit line equation for all galaxy M* vs HI given by the equation: log(M*)) = ' + str(m_bf_mass_all_2) + 'log(HI) + ' +  str(b_bf_mass_all_2))"
   ]
  },
  {
   "cell_type": "markdown",
   "metadata": {},
   "source": [
    "##### PLOTS"
   ]
  },
  {
   "cell_type": "code",
   "execution_count": 254,
   "metadata": {},
   "outputs": [
    {
     "data": {
      "image/png": "[encoded data removed]",
      "text/plain": [
       "<Figure size 432x288 with 1 Axes>"
      ]
     },
     "metadata": {
      "needs_background": "light"
     },
     "output_type": "display_data"
    }
   ],
   "source": [
    "#MStar vs HI mass plots for voids, walls, and all galaxy\n",
    "#log(V.M*)) = 0.64log(V.HI) + 3.52\n",
    "#log(W.M*)) = 0.93log(W.HI) + 0.81\n",
    "#log(M*)) = 0.82log(HI) + 1.83\n",
    "\n",
    "plt.plot(x_data_mass_all, y_data_mass_all, 'o', color = 'green', alpha = 0.18, fillstyle = 'none')\n",
    "plt.plot(x_data_voids_mass, y_data_voids_mass , '.', label = 'Voids', color = 'red', alpha = 0.18)\n",
    "plt.plot(x_data_walls_mass, y_data_walls_mass , '^', label = 'Walls', color = 'black', alpha = 0.18)\n",
    "plt.plot(x_data_walls_mass,y_data_walls_mass_line , '-', color = 'black', label = 'Walls')\n",
    "plt.plot(x_data_voids_mass, y_data_voids_mass_line , '-', color = 'red', label = 'Voids')\n",
    "plt.plot(x_data_mass_all, y_data_mass_all_line, '-', color = 'cyan', label = 'All galaxy')\n",
    "plt.xlabel('log(MHI) (MSolar)')\n",
    "plt.ylabel('log(MStar) (MSolar)')\n",
    "plt.legend()\n",
    "plt.show()"
   ]
  },
  {
   "cell_type": "markdown",
   "metadata": {},
   "source": [
    "### WF50_corrected vs v_max plot"
   ]
  },
  {
   "cell_type": "markdown",
   "metadata": {},
   "source": [
    "##### ADDING VMAX COLUMN TO GBT AND ALFALFA DATA"
   ]
  },
  {
   "cell_type": "code",
   "execution_count": 255,
   "metadata": {},
   "outputs": [],
   "source": [
    "#curve_used = 0, 1, -1 avg_vmax, pos, neg \n",
    "manga_avg_vmax = []\n",
    "manga_pos_vmax = []\n",
    "manga_neg_vmax = []\n",
    "\n",
    "for i in range(len(mangaHI)):\n",
    "    for j in range(len(table2)):\n",
    "        if (mangaHI['Plate'][i], mangaHI['IFU'][i]) == (table2['MaNGA_plate'][j], table2['MaNGA_IFU'][j]):\n",
    "            if table2['curve_used'][j] == 0:\n",
    "                manga_avg_vmax.append(table2['avg_v_max'][j])\n",
    "                manga_pos_vmax.append(-999.0)\n",
    "                manga_neg_vmax.append(-999.0)\n",
    "            elif table2['curve_used'][j] == 1:\n",
    "                manga_avg_vmax.append(-999.0)\n",
    "                manga_pos_vmax.append(table2['pos_v_max'][j])\n",
    "                manga_neg_vmax.append(-999.0)\n",
    "            elif table2['curve_used'][j] == -1:\n",
    "                manga_avg_vmax.append(-999.0)\n",
    "                manga_pos_vmax.append(-999.0)\n",
    "                manga_neg_vmax.append(table2['neg_v_max'][j])\n",
    "            else:\n",
    "                manga_avg_vmax.append(-99.0)\n",
    "                manga_pos_vmax.append(-99.0)\n",
    "                manga_neg_vmax.append(-99.0)\n",
    "    \n",
    "mangaHI.add_column(Column(np.asarray(manga_avg_vmax, dtype=np.float64, order='F'), name='avg_v_max'))\n",
    "mangaHI.add_column(Column(np.asarray(manga_pos_vmax, dtype=np.float64, order='F'), name='pos_v_max'))\n",
    "mangaHI.add_column(Column(np.asarray(manga_neg_vmax, dtype=np.float64, order='F'), name='neg_v_max'))"
   ]
  },
  {
   "cell_type": "code",
   "execution_count": 256,
   "metadata": {},
   "outputs": [],
   "source": [
    "mangaHI.write('out_txt/MaNGAHI_with_vmax.txt', format = 'ascii.commented_header', overwrite = True)"
   ]
  },
  {
   "cell_type": "code",
   "execution_count": 257,
   "metadata": {},
   "outputs": [],
   "source": [
    "alfa_avg_vmax = []\n",
    "alfa_pos_vmax = []\n",
    "alfa_neg_vmax = []\n",
    "\n",
    "for i in range(len(alfaHI)):\n",
    "    for j in range(len(table2)):\n",
    "        if (alfaHI['Plate'][i], alfaHI['IFU'][i]) == (table2['MaNGA_plate'][j], table2['MaNGA_IFU'][j]):\n",
    "            if table2['curve_used'][j] == 0:\n",
    "                alfa_avg_vmax.append(table2['avg_v_max'][j])\n",
    "                alfa_pos_vmax.append(-999.0)\n",
    "                alfa_neg_vmax.append(-999.0)\n",
    "            elif table2['curve_used'][j] == 1:\n",
    "                alfa_avg_vmax.append(-999.0)\n",
    "                alfa_pos_vmax.append(table2['pos_v_max'][j])\n",
    "                alfa_neg_vmax.append(-999.0)\n",
    "            elif table2['curve_used'][j] == -1:\n",
    "                alfa_avg_vmax.append(-999.0)\n",
    "                alfa_pos_vmax.append(-999.0)\n",
    "                alfa_neg_vmax.append(table2['neg_v_max'][j])\n",
    "            else:\n",
    "                alfa_avg_vmax.append(-99.0)\n",
    "                alfa_pos_vmax.append(-99.0)\n",
    "                alfa_neg_vmax.append(-99.0)\n",
    "    \n",
    "alfaHI.add_column(Column(np.asarray(alfa_avg_vmax, dtype=np.float64, order='F'), name='avg_v_max'))\n",
    "alfaHI.add_column(Column(np.asarray(alfa_pos_vmax, dtype=np.float64, order='F'), name='pos_v_max'))\n",
    "alfaHI.add_column(Column(np.asarray(alfa_neg_vmax, dtype=np.float64, order='F'), name='neg_v_max'))"
   ]
  },
  {
   "cell_type": "code",
   "execution_count": 258,
   "metadata": {},
   "outputs": [],
   "source": [
    "alfaHI.write('out_txt/ALFALFAHI_with_vmax.txt', format = 'ascii.commented_header', overwrite = True)"
   ]
  },
  {
   "cell_type": "markdown",
   "metadata": {},
   "source": [
    "##### GBT"
   ]
  },
  {
   "cell_type": "code",
   "execution_count": 259,
   "metadata": {},
   "outputs": [],
   "source": [
    "manga_wf50_voids_v = []\n",
    "manga_vmax_voids_v = []\n",
    "manga_wf50_walls_v = []\n",
    "manga_vmax_walls_v = []\n",
    "\n",
    "for i in range(len(mangaHI)):\n",
    "    if mangaHI['WF50_corrected'][i] > 0 and mangaHI['Voids'][i] > 0:\n",
    "        if mangaHI['avg_v_max'][i] > 0:\n",
    "            manga_vmax_voids_v.append(mangaHI['avg_v_max'][i])\n",
    "            manga_wf50_voids_v.append(mangaHI['WF50_corrected'][i])\n",
    "        elif mangaHI['pos_v_max'][i] > 0:\n",
    "            manga_vmax_voids_v.append(mangaHI['pos_v_max'][i])\n",
    "            manga_wf50_voids_v.append(mangaHI['WF50_corrected'][i])\n",
    "        elif mangaHI['neg_v_max'][i] > 0:\n",
    "            manga_vmax_voids_v.append(mangaHI['neg_v_max'][i])\n",
    "            manga_wf50_voids_v.append(mangaHI['WF50_corrected'][i])\n",
    "    \n",
    "    elif mangaHI['WF50_corrected'][i] > 0 and mangaHI['Walls'][i] > 0:\n",
    "        if mangaHI['avg_v_max'][i] > 0:\n",
    "            manga_vmax_walls_v.append(mangaHI['avg_v_max'][i])\n",
    "            manga_wf50_walls_v.append(mangaHI['WF50_corrected'][i])\n",
    "        elif mangaHI['pos_v_max'][i] > 0:\n",
    "            manga_vmax_walls_v.append(mangaHI['pos_v_max'][i])\n",
    "            manga_wf50_walls_v.append(mangaHI['WF50_corrected'][i])\n",
    "        elif mangaHI['neg_v_max'][i] > 0:\n",
    "            manga_vmax_walls_v.append(mangaHI['neg_v_max'][i])\n",
    "            manga_wf50_walls_v.append(mangaHI['WF50_corrected'][i])"
   ]
  },
  {
   "cell_type": "markdown",
   "metadata": {},
   "source": [
    "##### ALFALFA"
   ]
  },
  {
   "cell_type": "code",
   "execution_count": 260,
   "metadata": {},
   "outputs": [],
   "source": [
    "alfa_wf50_voids_v = []\n",
    "alfa_vmax_voids_v = []\n",
    "alfa_wf50_walls_v = []\n",
    "alfa_vmax_walls_v = []\n",
    "\n",
    "for i in range(len(alfaHI)):\n",
    "    if alfaHI['WF50_corrected'][i] > 0 and alfaHI['Voids'][i] > 0:\n",
    "        if alfaHI['avg_v_max'][i] > 0:\n",
    "            alfa_vmax_voids_v.append(alfaHI['avg_v_max'][i])\n",
    "            alfa_wf50_voids_v.append(alfaHI['WF50_corrected'][i])\n",
    "        elif alfaHI['pos_v_max'][i] > 0:\n",
    "            alfa_vmax_voids_v.append(alfaHI['pos_v_max'][i])\n",
    "            alfa_wf50_voids_v.append(alfaHI['WF50_corrected'][i])\n",
    "        elif alfaHI['neg_v_max'][i] > 0:\n",
    "            alfa_vmax_voids_v.append(alfaHI['neg_v_max'][i])\n",
    "            alfa_wf50_voids_v.append(alfaHI['WF50_corrected'][i])\n",
    "    \n",
    "    elif alfaHI['WF50_corrected'][i] > 0 and alfaHI['Walls'][i] > 0:\n",
    "        if alfaHI['avg_v_max'][i] > 0:\n",
    "            alfa_vmax_walls_v.append(alfaHI['avg_v_max'][i])\n",
    "            alfa_wf50_walls_v.append(alfaHI['WF50_corrected'][i])\n",
    "        elif alfaHI['pos_v_max'][i] > 0:\n",
    "            alfa_vmax_walls_v.append(alfaHI['pos_v_max'][i])\n",
    "            alfa_wf50_walls_v.append(alfaHI['WF50_corrected'][i])\n",
    "        elif alfaHI['neg_v_max'][i] > 0:\n",
    "            alfa_vmax_walls_v.append(alfaHI['neg_v_max'][i])\n",
    "            alfa_wf50_walls_v.append(alfaHI['WF50_corrected'][i])"
   ]
  },
  {
   "cell_type": "markdown",
   "metadata": {},
   "source": [
    "##### Concatenation"
   ]
  },
  {
   "cell_type": "code",
   "execution_count": 261,
   "metadata": {},
   "outputs": [],
   "source": [
    "wf50_voids_v = np.log10(alfa_wf50_voids_v + manga_wf50_voids_v)\n",
    "vmax_voids_v = np.log10(alfa_vmax_voids_v + manga_vmax_voids_v)\n",
    "\n",
    "wf50_walls_v = np.log10(alfa_wf50_walls_v + manga_wf50_walls_v)\n",
    "vmax_walls_v = np.log10(alfa_vmax_walls_v + manga_vmax_walls_v)"
   ]
  },
  {
   "cell_type": "markdown",
   "metadata": {},
   "source": [
    "##### Plot of best fit line with m=1 to find y-intercept"
   ]
  },
  {
   "cell_type": "code",
   "execution_count": 262,
   "metadata": {},
   "outputs": [],
   "source": [
    "wf50_voids_fixed = []\n",
    "vmax_voids_fixed = []\n",
    "\n",
    "wf50_walls_fixed = []\n",
    "vmax_walls_fixed = []\n",
    "\n",
    "for i in range(len(wf50_voids_v)):\n",
    "    if wf50_voids_v[i] > vmax_voids_v[i]:\n",
    "        wf50_voids_fixed.append(wf50_voids_v[i])\n",
    "        vmax_voids_fixed.append(vmax_voids_v[i])\n",
    "for j in range(len(wf50_walls_v)):\n",
    "    if wf50_walls_v[i] > vmax_walls_v[i]:\n",
    "        wf50_walls_fixed.append(wf50_walls_v[i])\n",
    "        vmax_walls_fixed.append(vmax_walls_v[i])\n"
   ]
  },
  {
   "cell_type": "code",
   "execution_count": 263,
   "metadata": {},
   "outputs": [],
   "source": [
    "wf50_fixed = wf50_voids_fixed + wf50_walls_fixed\n",
    "vmax_fixed = vmax_voids_fixed + vmax_walls_fixed"
   ]
  },
  {
   "cell_type": "code",
   "execution_count": 264,
   "metadata": {},
   "outputs": [],
   "source": [
    "def g(x, b):\n",
    "    return x + b"
   ]
  },
  {
   "cell_type": "code",
   "execution_count": 265,
   "metadata": {},
   "outputs": [
    {
     "name": "stdout",
     "output_type": "stream",
     "text": [
      "m_bf = 1, b_bf = [0.27711495]\n",
      "m_err = 1, b_err = [0.01395742]\n"
     ]
    }
   ],
   "source": [
    "y_data_vel = wf50_fixed\n",
    "x_data_vel = vmax_fixed\n",
    "\n",
    "popt_vel, pcov_vel = curve_fit(g, x_data_vel, y_data_vel)\n",
    "b_bf_vel = popt_vel\n",
    "b_err_vel = np.sqrt(np.diag(pcov_vel))\n",
    "b_bf_vel_2 = np.round(b_bf_vel, 2)\n",
    "print('m_bf = 1, b_bf = ' + str(b_bf_vel))\n",
    "print('m_err = 1, b_err = ' + str(b_err_vel))"
   ]
  },
  {
   "cell_type": "code",
   "execution_count": 266,
   "metadata": {},
   "outputs": [
    {
     "name": "stdout",
     "output_type": "stream",
     "text": [
      "Best-fit line for wf50 vs vmax for all galaxies given by: log(WF50) = log(vmax) + [0.28]\n"
     ]
    }
   ],
   "source": [
    "y_data_vel_line = x_data_vel + b_bf_vel\n",
    "print('Best-fit line for wf50 vs vmax for all galaxies given by: log(WF50) = log(vmax) + ' + str(b_bf_vel_2))"
   ]
  },
  {
   "cell_type": "markdown",
   "metadata": {},
   "source": [
    "##### PLOT"
   ]
  },
  {
   "cell_type": "code",
   "execution_count": 267,
   "metadata": {},
   "outputs": [
    {
     "data": {
      "image/png": "[encoded data removed]",
      "text/plain": [
       "<Figure size 432x288 with 1 Axes>"
      ]
     },
     "metadata": {
      "needs_background": "light"
     },
     "output_type": "display_data"
    }
   ],
   "source": [
    "plt.plot(vmax_voids_v, wf50_voids_v, '.', color = 'red', label = 'voids', alpha = 0.2)\n",
    "plt.plot(vmax_walls_v, wf50_walls_v, '^', color = 'black', label = 'walls', alpha = 0.2)\n",
    "plt.plot(x_data_vel, y_data_vel_line, '-', color = 'cyan', label = 'y=x+0.28')\n",
    "plt.plot([0,3.5], [0,3.5])\n",
    "plt.xlabel('log(vmax) (km/s)')\n",
    "plt.ylabel('log(wf50) (km/s)')\n",
    "plt.ylim(ymin = 0)\n",
    "plt.legend()\n",
    "plt.show()"
   ]
  },
  {
   "cell_type": "markdown",
   "metadata": {},
   "source": [
    "### Binning and median\n",
    " >Bin the masses in half-MSolar (and 1 solar MSolar), find the median WF50 for each bin, plot the bin center vs median WF50.\\\n",
    " >Mass error bars = 0.5 * width of bin & WF50 error bars = 1/sqrt(N), N = number in each bin"
   ]
  },
  {
   "cell_type": "markdown",
   "metadata": {},
   "source": [
    "#### WF50 vs M*"
   ]
  },
  {
   "cell_type": "markdown",
   "metadata": {},
   "source": [
    "###### Binning GBT MStares and diving into voids and walls"
   ]
  },
  {
   "cell_type": "code",
   "execution_count": 268,
   "metadata": {},
   "outputs": [],
   "source": [
    "#manga_voids_bin1 = []\n",
    "manga_voids_bin1 = []\n",
    "manga_voids_bin2 = []\n",
    "manga_voids_bin3 = []\n",
    "manga_voids_bin4 = []\n",
    "manga_voids_bin5 = []\n",
    "#manga_voids_bin6 = []\n",
    "\n",
    "for i in range(len(mangaHI)):\n",
    "    #if 8<=mangaHI['logMStar'][i]<=8.5 and mangaHI['Voids'][i]>0:\n",
    "        #manga_voids_bin1.append(mangaHI['Voids'][i])\n",
    "    if 8.5<mangaHI['logMStar'][i]<=9 and mangaHI['Voids'][i]>0 and mangaHI['WF50_corrected'][i]>0:\n",
    "        manga_voids_bin1.append(mangaHI['Voids'][i])\n",
    "    if 9<mangaHI['logMStar'][i]<=9.5 and mangaHI['Voids'][i]>0 and mangaHI['WF50_corrected'][i]>0:\n",
    "        manga_voids_bin2.append(mangaHI['Voids'][i])\n",
    "    if 9.5<mangaHI['logMStar'][i]<=10 and mangaHI['Voids'][i]>0 and mangaHI['WF50_corrected'][i]>0:\n",
    "        manga_voids_bin3.append(mangaHI['Voids'][i])\n",
    "    if 10<mangaHI['logMStar'][i]<=10.5 and mangaHI['Voids'][i]>0 and mangaHI['WF50_corrected'][i]>0:\n",
    "        manga_voids_bin4.append(mangaHI['Voids'][i])\n",
    "    if 10.5<mangaHI['logMStar'][i]<=11 and mangaHI['Voids'][i]>0 and mangaHI['WF50_corrected'][i]>0:\n",
    "        manga_voids_bin5.append(mangaHI['Voids'][i])\n",
    "    #if 11<mangaHI['logMStar'][i]<=11.5 and mangaHI['Voids'][i]>0:\n",
    "        #manga_voids_bin6.append(mangaHI['Voids'][i])"
   ]
  },
  {
   "cell_type": "code",
   "execution_count": 269,
   "metadata": {},
   "outputs": [],
   "source": [
    "#manga_walls_bin1 = []\n",
    "manga_walls_bin1 = []\n",
    "manga_walls_bin2 = []\n",
    "manga_walls_bin3 = []\n",
    "manga_walls_bin4 = []\n",
    "manga_walls_bin5 = []\n",
    "#manga_walls_bin7 = []\n",
    "\n",
    "\n",
    "for i in range(len(mangaHI)):\n",
    "    #if 8<=mangaHI['logMStar'][i]<=8.5 and mangaHI['Walls'][i]>0:\n",
    "        #manga_walls_bin1.append(mangaHI['Walls'][i])\n",
    "    if 8.5<mangaHI['logMStar'][i]<=9 and mangaHI['Walls'][i]>0 and mangaHI['WF50_corrected'][i]>0:\n",
    "        manga_walls_bin1.append(mangaHI['Walls'][i])\n",
    "    if 9<mangaHI['logMStar'][i]<=9.5 and mangaHI['Walls'][i]>0 and mangaHI['WF50_corrected'][i]>0:\n",
    "        manga_walls_bin2.append(mangaHI['Walls'][i])\n",
    "    if 9.5<mangaHI['logMStar'][i]<=10 and mangaHI['Walls'][i]>0 and mangaHI['WF50_corrected'][i]>0:\n",
    "        manga_walls_bin3.append(mangaHI['Walls'][i])\n",
    "    if 10<mangaHI['logMStar'][i]<=10.5 and mangaHI['Walls'][i]>0 and mangaHI['WF50_corrected'][i]>0:\n",
    "        manga_walls_bin4.append(mangaHI['Walls'][i])\n",
    "    if 10.5<mangaHI['logMStar'][i]<=11 and mangaHI['Walls'][i]>0 and mangaHI['WF50_corrected'][i]>0:\n",
    "        manga_walls_bin5.append(mangaHI['Walls'][i])\n",
    "    #if 11<mangaHI['logMStar'][i]<=11.5 and mangaHI['Walls'][i]>0:\n",
    "        #manga_walls_bin7.append(mangaHI['Walls'][i])"
   ]
  },
  {
   "cell_type": "markdown",
   "metadata": {},
   "source": [
    "###### Binning ALFALFA MStares and diving into voids and walls"
   ]
  },
  {
   "cell_type": "code",
   "execution_count": 270,
   "metadata": {},
   "outputs": [],
   "source": [
    "#alfa_voids_bin1=[]\n",
    "#alfa_voids_bin2=[]\n",
    "#alfa_voids_bin3=[]\n",
    "alfa_voids_bin1 = []\n",
    "alfa_voids_bin2 = []\n",
    "alfa_voids_bin3 = []\n",
    "alfa_voids_bin4 = []\n",
    "alfa_voids_bin5 = []\n",
    "alfa_voids_bin6 = []\n",
    "\n",
    "\n",
    "for i in range(len(alfaHI)):\n",
    "    #if 7<=alfaHI['logMStar'][i]<=7.5 and alfaHI['Voids'][i]>0:\n",
    "    #    alfa_voids_bin1.append(alfaHI['Voids'][i])\n",
    "    #if 7.5<=alfaHI['logMStar'][i]<=8 and alfaHI['Voids'][i]>0:\n",
    "    #    alfa_voids_bin2.append(alfaHI['Voids'][i])\n",
    "    #if 8<alfaHI['logMStar'][i]<=8.5 and alfaHI['Voids'][i]>0:\n",
    "    #   alfa_voids_bin1.append(alfaHI['Voids'][i])\n",
    "    if 8.5<alfaHI['logMStar'][i]<=9 and alfaHI['Voids'][i]>0 and alfaHI['WF50_corrected'][i]>0:\n",
    "        alfa_voids_bin1.append(alfaHI['Voids'][i])\n",
    "    if 9<alfaHI['logMStar'][i]<=9.5 and alfaHI['Voids'][i]>0 and alfaHI['WF50_corrected'][i]>0:\n",
    "        alfa_voids_bin2.append(alfaHI['Voids'][i])\n",
    "    if 9.5<alfaHI['logMStar'][i]<=10 and alfaHI['Voids'][i]>0 and alfaHI['WF50_corrected'][i]>0:\n",
    "        alfa_voids_bin3.append(alfaHI['Voids'][i])\n",
    "    if 10<alfaHI['logMStar'][i]<=10.5 and alfaHI['Voids'][i]>0 and alfaHI['WF50_corrected'][i]>0:\n",
    "        alfa_voids_bin4.append(alfaHI['Voids'][i])\n",
    "    if 10.5<alfaHI['logMStar'][i]<=11 and alfaHI['Voids'][i]>0 and alfaHI['WF50_corrected'][i]>0:\n",
    "        alfa_voids_bin5.append(alfaHI['Voids'][i])\n",
    "    if 11<alfaHI['logMStar'][i]<=11.5 and alfaHI['Voids'][i]>0 and alfaHI['WF50_corrected'][i]>0:\n",
    "        alfa_voids_bin6.append(alfaHI['Voids'][i])"
   ]
  },
  {
   "cell_type": "code",
   "execution_count": 271,
   "metadata": {},
   "outputs": [],
   "source": [
    "#alfa_walls_bin1=[]\n",
    "#alfa_walls_bin2=[]\n",
    "#alfa_walls_bin3 = []\n",
    "alfa_walls_bin1 = []\n",
    "alfa_walls_bin2 = []\n",
    "alfa_walls_bin3 = []\n",
    "alfa_walls_bin4 = []\n",
    "alfa_walls_bin5 = []\n",
    "alfa_walls_bin6 = []\n",
    "\n",
    "\n",
    "for i in range(len(alfaHI)):\n",
    "    #if 7<=alfaHI['logMStar'][i]<=7.5 and alfaHI['Walls'][i]>0:\n",
    "    #    alfa_walls_bin1.append(alfaHI['Walls'][i])\n",
    "    #if 7.5<=alfaHI['logMStar'][i]<=8 and alfaHI['Walls'][i]>0:\n",
    "    #    alfa_walls_bin2.append(alfaHI['Walls'][i])\n",
    "    #if 8<alfaHI['logMStar'][i]<=8.5 and alfaHI['Walls'][i]>0:\n",
    "    #    alfa_walls_bin3.append(alfaHI['Walls'][i])\n",
    "    if 8.5<alfaHI['logMStar'][i]<=9 and alfaHI['Walls'][i]>0 and alfaHI['WF50_corrected'][i]>0:\n",
    "        alfa_walls_bin1.append(alfaHI['Walls'][i])\n",
    "    if 9<alfaHI['logMStar'][i]<=9.5 and alfaHI['Walls'][i]>0 and alfaHI['WF50_corrected'][i]>0:\n",
    "        alfa_walls_bin2.append(alfaHI['Walls'][i])\n",
    "    if 9.5<alfaHI['logMStar'][i]<=10 and alfaHI['Walls'][i]>0 and alfaHI['WF50_corrected'][i]>0:\n",
    "        alfa_walls_bin3.append(alfaHI['Walls'][i])\n",
    "    if 10<alfaHI['logMStar'][i]<=10.5 and alfaHI['Walls'][i]>0 and alfaHI['WF50_corrected'][i]>0:\n",
    "        alfa_walls_bin4.append(alfaHI['Walls'][i])\n",
    "    if 10.5<alfaHI['logMStar'][i]<=11 and alfaHI['Walls'][i]>0 and alfaHI['WF50_corrected'][i]>0:\n",
    "        alfa_walls_bin5.append(alfaHI['Walls'][i])\n",
    "    if 11<alfaHI['logMStar'][i]<=11.5 and alfaHI['Walls'][i]>0 and alfaHI['WF50_corrected'][i]>0:\n",
    "        alfa_walls_bin6.append(alfaHI['Walls'][i])"
   ]
  },
  {
   "cell_type": "code",
   "execution_count": 272,
   "metadata": {},
   "outputs": [
    {
     "data": {
      "text/plain": [
       "7"
      ]
     },
     "execution_count": 272,
     "metadata": {},
     "output_type": "execute_result"
    }
   ],
   "source": [
    "len(alfa_walls_bin6)"
   ]
  },
  {
   "cell_type": "markdown",
   "metadata": {},
   "source": [
    "##### Median WF50 for each bin"
   ]
  },
  {
   "cell_type": "markdown",
   "metadata": {},
   "source": [
    "##### GBT"
   ]
  },
  {
   "cell_type": "code",
   "execution_count": 273,
   "metadata": {},
   "outputs": [],
   "source": [
    "manga_voids_wf50_bin1 = []\n",
    "manga_voids_wf50_bin2 = []\n",
    "manga_voids_wf50_bin3 = []\n",
    "manga_voids_wf50_bin4 = []\n",
    "manga_voids_wf50_bin5 = []\n",
    "\n",
    "\n",
    "for i in range(len(mangaHI)):\n",
    "    for a in range(len(manga_voids_bin1)):\n",
    "        if manga_voids_bin1[a] == mangaHI['Voids'][i]:\n",
    "            manga_voids_wf50_bin1.append(mangaHI['WF50_corrected'][i])\n",
    "    for b in range(len(manga_voids_bin2)):\n",
    "        if manga_voids_bin2[b] == mangaHI['Voids'][i]:\n",
    "            manga_voids_wf50_bin2.append(mangaHI['WF50_corrected'][i])\n",
    "    for c in range(len(manga_voids_bin3)):\n",
    "        if manga_voids_bin3[c] == mangaHI['Voids'][i]:\n",
    "            manga_voids_wf50_bin3.append(mangaHI['WF50_corrected'][i])\n",
    "    for d in range(len(manga_voids_bin4)):\n",
    "        if manga_voids_bin4[d] == mangaHI['Voids'][i]:\n",
    "            manga_voids_wf50_bin4.append(mangaHI['WF50_corrected'][i])\n",
    "    for e in range(len(manga_voids_bin5)):\n",
    "        if manga_voids_bin5[e] == mangaHI['Voids'][i]:\n",
    "            manga_voids_wf50_bin5.append(mangaHI['WF50_corrected'][i])\n",
    "\n",
    "manga_voids_wf50_median_bin1 = np.median(manga_voids_wf50_bin1)\n",
    "manga_voids_wf50_median_bin2 = np.median(manga_voids_wf50_bin2)\n",
    "manga_voids_wf50_median_bin3 = np.median(manga_voids_wf50_bin3)\n",
    "manga_voids_wf50_median_bin4 = np.median(manga_voids_wf50_bin4)\n",
    "manga_voids_wf50_median_bin5 = np.median(manga_voids_wf50_bin5)\n",
    "\n",
    "            \n",
    "manga_voids_wf50_bin1_err = 1/np.sqrt(len(manga_voids_wf50_bin1))    \n",
    "manga_voids_wf50_bin2_err = 1/np.sqrt(len(manga_voids_wf50_bin2))    \n",
    "manga_voids_wf50_bin3_err = 1/np.sqrt(len(manga_voids_wf50_bin3))    \n",
    "manga_voids_wf50_bin4_err = 1/np.sqrt(len(manga_voids_wf50_bin4))    \n",
    "manga_voids_wf50_bin5_err = 1/np.sqrt(len(manga_voids_wf50_bin5)) \n"
   ]
  },
  {
   "cell_type": "code",
   "execution_count": 274,
   "metadata": {},
   "outputs": [],
   "source": [
    "manga_walls_wf50_bin1 = []\n",
    "manga_walls_wf50_bin2 = []\n",
    "manga_walls_wf50_bin3 = []\n",
    "manga_walls_wf50_bin4 = []\n",
    "manga_walls_wf50_bin5 = []\n",
    "\n",
    "\n",
    "for i in range(len(mangaHI)):\n",
    "    for a in range(len(manga_walls_bin1)):\n",
    "        if manga_walls_bin1[a] == mangaHI['Walls'][i]:\n",
    "            manga_walls_wf50_bin1.append(mangaHI['WF50_corrected'][i])\n",
    "    for b in range(len(manga_walls_bin2)):\n",
    "        if manga_walls_bin2[b] == mangaHI['Walls'][i]:\n",
    "            manga_walls_wf50_bin2.append(mangaHI['WF50_corrected'][i])\n",
    "    for c in range(len(manga_walls_bin3)):\n",
    "        if manga_walls_bin3[c] == mangaHI['Walls'][i]:\n",
    "            manga_walls_wf50_bin3.append(mangaHI['WF50_corrected'][i])\n",
    "    for d in range(len(manga_walls_bin4)):\n",
    "        if manga_walls_bin4[d] == mangaHI['Walls'][i]:\n",
    "            manga_walls_wf50_bin4.append(mangaHI['WF50_corrected'][i])\n",
    "    for e in range(len(manga_walls_bin5)):\n",
    "        if manga_walls_bin5[e] == mangaHI['Walls'][i]:\n",
    "            manga_walls_wf50_bin5.append(mangaHI['WF50_corrected'][i])\n",
    "            \n",
    "manga_walls_wf50_median_bin1 = np.median(manga_walls_wf50_bin1)\n",
    "manga_walls_wf50_median_bin2 = np.median(manga_walls_wf50_bin2)\n",
    "manga_walls_wf50_median_bin3 = np.median(manga_walls_wf50_bin3)\n",
    "manga_walls_wf50_median_bin4 = np.median(manga_walls_wf50_bin4)\n",
    "manga_walls_wf50_median_bin5 = np.median(manga_walls_wf50_bin5)\n",
    "\n",
    "manga_walls_wf50_bin1_err = 1/np.sqrt(len(manga_walls_wf50_bin1))    \n",
    "manga_walls_wf50_bin2_err = 1/np.sqrt(len(manga_walls_wf50_bin2))    \n",
    "manga_walls_wf50_bin3_err = 1/np.sqrt(len(manga_walls_wf50_bin3))    \n",
    "manga_walls_wf50_bin4_err = 1/np.sqrt(len(manga_walls_wf50_bin4))    \n",
    "manga_walls_wf50_bin5_err = 1/np.sqrt(len(manga_walls_wf50_bin5))    "
   ]
  },
  {
   "cell_type": "markdown",
   "metadata": {},
   "source": [
    "###### ALFALFA"
   ]
  },
  {
   "cell_type": "code",
   "execution_count": 275,
   "metadata": {},
   "outputs": [],
   "source": [
    "alfa_voids_wf50_bin1 = []\n",
    "alfa_voids_wf50_bin2 = []\n",
    "alfa_voids_wf50_bin3 = []\n",
    "alfa_voids_wf50_bin4 = []\n",
    "alfa_voids_wf50_bin5 = []\n",
    "alfa_voids_wf50_bin6 = []\n",
    "\n",
    "#for i in range(len(alfaHI)):\n",
    "for a in range(len(alfa_voids_bin1)):\n",
    "    for i in range(len(alfaHI)):\n",
    "        if alfa_voids_bin1[a] == alfaHI['Voids'][i]:\n",
    "            alfa_voids_wf50_bin1.append(alfaHI['WF50_corrected'][i])\n",
    "\n",
    "for a in range(len(alfa_voids_bin2)):\n",
    "    for i in range(len(alfaHI)):\n",
    "         if alfa_voids_bin2[a] == alfaHI['Voids'][i]:\n",
    "            alfa_voids_wf50_bin2.append(alfaHI['WF50_corrected'][i])\n",
    "\n",
    "for a in range(len(alfa_voids_bin3)):\n",
    "    for i in range(len(alfaHI)):\n",
    "        if alfa_voids_bin3[a] == alfaHI['Voids'][i]:\n",
    "            alfa_voids_wf50_bin3.append(alfaHI['WF50_corrected'][i])\n",
    "\n",
    "for a in range(len(alfa_voids_bin4)):\n",
    "    for i in range(len(alfaHI)):\n",
    "         if alfa_voids_bin4[a] == alfaHI['Voids'][i]:\n",
    "            alfa_voids_wf50_bin4.append(alfaHI['WF50_corrected'][i])\n",
    "\n",
    "for a in range(len(alfa_voids_bin5)):\n",
    "    for i in range(len(alfaHI)):\n",
    "        if alfa_voids_bin5[a] == alfaHI['Voids'][i]:\n",
    "            alfa_voids_wf50_bin5.append(alfaHI['WF50_corrected'][i])\n",
    "\n",
    "for a in range(len(alfa_voids_bin6)):\n",
    "    for i in range(len(alfaHI)):\n",
    "         if alfa_voids_bin6[a] == alfaHI['Voids'][i]:\n",
    "            alfa_voids_wf50_bin6.append(alfaHI['WF50_corrected'][i])\n",
    "\n",
    "\n",
    "alfa_voids_wf50_median_bin1 = np.median(alfa_voids_wf50_bin1)\n",
    "alfa_voids_wf50_median_bin2 = np.median(alfa_voids_wf50_bin2)\n",
    "alfa_voids_wf50_median_bin3 = np.median(alfa_voids_wf50_bin3)\n",
    "alfa_voids_wf50_median_bin4 = np.median(alfa_voids_wf50_bin4)\n",
    "alfa_voids_wf50_median_bin5 = np.median(alfa_voids_wf50_bin5)\n",
    "alfa_voids_wf50_median_bin6 = np.median(alfa_voids_wf50_bin6)\n",
    "            \n",
    "alfa_voids_wf50_bin1_err = 1/np.sqrt(len(alfa_voids_wf50_bin1))    \n",
    "alfa_voids_wf50_bin2_err = 1/np.sqrt(len(alfa_voids_wf50_bin2))    \n",
    "alfa_voids_wf50_bin3_err = 1/np.sqrt(len(alfa_voids_wf50_bin3))    \n",
    "alfa_voids_wf50_bin4_err = 1/np.sqrt(len(alfa_voids_wf50_bin4))    \n",
    "alfa_voids_wf50_bin5_err = 1/np.sqrt(len(alfa_voids_wf50_bin5)) \n",
    "alfa_voids_wf50_bin6_err = 1/np.sqrt(len(alfa_voids_wf50_bin6)) \n"
   ]
  },
  {
   "cell_type": "code",
   "execution_count": 276,
   "metadata": {},
   "outputs": [],
   "source": [
    "alfa_walls_wf50_bin1 = []\n",
    "alfa_walls_wf50_bin2 = []\n",
    "alfa_walls_wf50_bin3 = []\n",
    "alfa_walls_wf50_bin4 = []\n",
    "alfa_walls_wf50_bin5 = []\n",
    "alfa_walls_wf50_bin6 = []\n",
    "\n",
    "for a in range(len(alfa_walls_bin1)):\n",
    "    for i in range(len(alfaHI)):\n",
    "        if alfa_walls_bin1[a] == alfaHI['Walls'][i]:\n",
    "            alfa_walls_wf50_bin1.append(alfaHI['WF50_corrected'][i])\n",
    "\n",
    "for a in range(len(alfa_walls_bin2)):\n",
    "    for i in range(len(alfaHI)):\n",
    "         if alfa_walls_bin2[a] == alfaHI['Walls'][i]:\n",
    "            alfa_walls_wf50_bin2.append(alfaHI['WF50_corrected'][i])\n",
    "\n",
    "for a in range(len(alfa_walls_bin3)):\n",
    "    for i in range(len(alfaHI)):\n",
    "        if alfa_walls_bin3[a] == alfaHI['Walls'][i]:\n",
    "            alfa_walls_wf50_bin3.append(alfaHI['WF50_corrected'][i])\n",
    "\n",
    "for a in range(len(alfa_walls_bin4)):\n",
    "    for i in range(len(alfaHI)):\n",
    "         if alfa_walls_bin4[a] == alfaHI['Walls'][i]:\n",
    "            alfa_walls_wf50_bin4.append(alfaHI['WF50_corrected'][i])\n",
    "\n",
    "for a in range(len(alfa_walls_bin5)):\n",
    "    for i in range(len(alfaHI)):\n",
    "        if alfa_walls_bin5[a] == alfaHI['Walls'][i]:\n",
    "            alfa_walls_wf50_bin5.append(alfaHI['WF50_corrected'][i])\n",
    "\n",
    "for a in range(len(alfa_walls_bin6)):\n",
    "    for i in range(len(alfaHI)):\n",
    "         if alfa_walls_bin6[a] == alfaHI['Walls'][i]:\n",
    "            alfa_walls_wf50_bin6.append(alfaHI['WF50_corrected'][i])\n",
    "\n",
    "\n",
    "alfa_walls_wf50_median_bin1 = np.median(alfa_walls_wf50_bin1)\n",
    "alfa_walls_wf50_median_bin2 = np.median(alfa_walls_wf50_bin2)\n",
    "alfa_walls_wf50_median_bin3 = np.median(alfa_walls_wf50_bin3)\n",
    "alfa_walls_wf50_median_bin4 = np.median(alfa_walls_wf50_bin4)\n",
    "alfa_walls_wf50_median_bin5 = np.median(alfa_walls_wf50_bin5)\n",
    "alfa_walls_wf50_median_bin6 = np.median(alfa_walls_wf50_bin6)\n",
    "            \n",
    "alfa_walls_wf50_bin1_err = 1/np.sqrt(len(alfa_walls_wf50_bin1))    \n",
    "alfa_walls_wf50_bin2_err = 1/np.sqrt(len(alfa_walls_wf50_bin2))    \n",
    "alfa_walls_wf50_bin3_err = 1/np.sqrt(len(alfa_walls_wf50_bin3))    \n",
    "alfa_walls_wf50_bin4_err = 1/np.sqrt(len(alfa_walls_wf50_bin4))    \n",
    "alfa_walls_wf50_bin5_err = 1/np.sqrt(len(alfa_walls_wf50_bin5)) \n",
    "alfa_walls_wf50_bin6_err = 1/np.sqrt(len(alfa_walls_wf50_bin6)) \n"
   ]
  },
  {
   "cell_type": "markdown",
   "metadata": {},
   "source": [
    "##### CONCATENATION"
   ]
  },
  {
   "cell_type": "code",
   "execution_count": 277,
   "metadata": {},
   "outputs": [],
   "source": [
    "#VELOCITIES WF50\n",
    "voids_wf50_bin1 = manga_voids_wf50_bin1 + alfa_voids_wf50_bin1\n",
    "voids_wf50_bin2 = manga_voids_wf50_bin2 + alfa_voids_wf50_bin2\n",
    "voids_wf50_bin3 = manga_voids_wf50_bin3 + alfa_voids_wf50_bin3\n",
    "voids_wf50_bin4 = manga_voids_wf50_bin4 + alfa_voids_wf50_bin4\n",
    "voids_wf50_bin5 = manga_voids_wf50_bin5 + alfa_voids_wf50_bin5\n",
    "voids_wf50_bin6 = alfa_voids_wf50_bin6\n",
    "\n",
    "voids_wf50_median_bin1 = np.median(voids_wf50_bin1)\n",
    "voids_wf50_median_bin2 = np.median(voids_wf50_bin2)\n",
    "voids_wf50_median_bin3 = np.median(voids_wf50_bin3)\n",
    "voids_wf50_median_bin4 = np.median(voids_wf50_bin4)\n",
    "voids_wf50_median_bin5 = np.median(voids_wf50_bin5)\n",
    "voids_wf50_median_bin6 = np.median(voids_wf50_bin6)\n",
    "\n",
    "#\n",
    "voids_wf50_median = np.log10([voids_wf50_median_bin1, voids_wf50_median_bin2, voids_wf50_median_bin3,voids_wf50_median_bin4, voids_wf50_median_bin5,voids_wf50_median_bin6])\n",
    "#           \n",
    "\n",
    "voids_wf50_bin1_err = 1/np.sqrt(len(voids_wf50_bin1))    \n",
    "voids_wf50_bin2_err = 1/np.sqrt(len(voids_wf50_bin2))    \n",
    "voids_wf50_bin3_err = 1/np.sqrt(len(voids_wf50_bin3))    \n",
    "voids_wf50_bin4_err = 1/np.sqrt(len(voids_wf50_bin4))    \n",
    "voids_wf50_bin5_err = 1/np.sqrt(len(voids_wf50_bin5)) \n",
    "voids_wf50_bin6_err = 1/np.sqrt(len(voids_wf50_bin6)) \n",
    "\n",
    "#\n",
    "voids_wf50_median_err = [voids_wf50_bin1_err, voids_wf50_bin2_err, voids_wf50_bin3_err,voids_wf50_bin4_err,voids_wf50_bin5_err,voids_wf50_bin6_err]\n",
    "#\n",
    "\n",
    "\n",
    "#MASSES\n",
    "voids_bin1 = manga_voids_bin1 + alfa_voids_bin1\n",
    "voids_bin2 = manga_voids_bin2 + alfa_voids_bin2\n",
    "voids_bin3 = manga_voids_bin3 + alfa_voids_bin3\n",
    "voids_bin4 = manga_voids_bin4 + alfa_voids_bin4\n",
    "voids_bin5 = manga_voids_bin5 + alfa_voids_bin5\n",
    "voids_bin6 = alfa_voids_bin6\n",
    "\n",
    "#\n",
    "voids_center = [8.75, 9.25, 9.75, 10.25, 10.75, 11.25]\n",
    "#\n",
    "\n",
    "#\n",
    "voids_center_err = [0.25, 0.25, 0.25, 0.25, 0.25, 0.25]\n",
    "#"
   ]
  },
  {
   "cell_type": "code",
   "execution_count": 278,
   "metadata": {},
   "outputs": [],
   "source": [
    "#Velocities WF50\n",
    "walls_wf50_bin1 = manga_walls_wf50_bin1 + alfa_walls_wf50_bin1\n",
    "walls_wf50_bin2 = manga_walls_wf50_bin2 + alfa_walls_wf50_bin2\n",
    "walls_wf50_bin3 = manga_walls_wf50_bin3 + alfa_walls_wf50_bin3\n",
    "walls_wf50_bin4 = manga_walls_wf50_bin4 + alfa_walls_wf50_bin4\n",
    "walls_wf50_bin5 = manga_walls_wf50_bin5 + alfa_walls_wf50_bin5\n",
    "walls_wf50_bin6 = alfa_walls_wf50_bin6\n",
    "\n",
    "walls_wf50_median_bin1 = np.median(walls_wf50_bin1)\n",
    "walls_wf50_median_bin2 = np.median(walls_wf50_bin2)\n",
    "walls_wf50_median_bin3 = np.median(walls_wf50_bin3)\n",
    "walls_wf50_median_bin4 = np.median(walls_wf50_bin4)\n",
    "walls_wf50_median_bin5 = np.median(walls_wf50_bin5)\n",
    "walls_wf50_median_bin6 = np.median(walls_wf50_bin6)\n",
    "\n",
    "#\n",
    "walls_wf50_median = np.log10([walls_wf50_median_bin1, walls_wf50_median_bin2, walls_wf50_median_bin3,walls_wf50_median_bin4, walls_wf50_median_bin5,walls_wf50_median_bin6])\n",
    "#\n",
    "\n",
    "walls_wf50_bin1_err = 1/np.sqrt(len(walls_wf50_bin1))    \n",
    "walls_wf50_bin2_err = 1/np.sqrt(len(walls_wf50_bin2))    \n",
    "walls_wf50_bin3_err = 1/np.sqrt(len(walls_wf50_bin3))    \n",
    "walls_wf50_bin4_err = 1/np.sqrt(len(walls_wf50_bin4))    \n",
    "walls_wf50_bin5_err = 1/np.sqrt(len(walls_wf50_bin5)) \n",
    "walls_wf50_bin6_err = 1/np.sqrt(len(walls_wf50_bin6)) \n",
    "\n",
    "#\n",
    "walls_wf50_median_err = [walls_wf50_bin1_err, walls_wf50_bin2_err, walls_wf50_bin3_err,walls_wf50_bin4_err,walls_wf50_bin5_err,walls_wf50_bin6_err]\n",
    "#\n",
    "\n",
    "#MASSES\n",
    "walls_bin1 = manga_walls_bin1 + alfa_walls_bin1\n",
    "walls_bin2 = manga_walls_bin2 + alfa_walls_bin2\n",
    "walls_bin3 = manga_walls_bin3 + alfa_walls_bin3\n",
    "walls_bin4 = manga_walls_bin4 + alfa_walls_bin4\n",
    "walls_bin5 = manga_walls_bin5 + alfa_walls_bin5\n",
    "walls_bin6 = alfa_walls_bin6\n",
    "\n",
    "#\n",
    "walls_center = [8.75, 9.25, 9.75, 10.25, 10.75, 11.25]\n",
    "#\n",
    "\n",
    "#\n",
    "walls_center_err = [0.25, 0.25, 0.25, 0.25, 0.25, 0.25]\n",
    "#"
   ]
  },
  {
   "cell_type": "code",
   "execution_count": 279,
   "metadata": {},
   "outputs": [],
   "source": [
    "def h(x, m, b):\n",
    "    return m*x + b"
   ]
  },
  {
   "cell_type": "code",
   "execution_count": 280,
   "metadata": {},
   "outputs": [
    {
     "name": "stdout",
     "output_type": "stream",
     "text": [
      "m_bf = 0.2567056262553955, b_bf = -0.058085953849086325\n",
      "m_err = 0.038134555136990746, b_err = 0.38273325832873933\n"
     ]
    }
   ],
   "source": [
    "y_data_voids_median = voids_wf50_median\n",
    "x_data_voids_median = np.asarray(voids_center, dtype=np.float64)\n",
    "\n",
    "popt_voids_median, pcov_voids_median = curve_fit(h, x_data_voids_median, y_data_voids_median)\n",
    "m_bf_voids_median, b_bf_voids_median = popt_voids_median\n",
    "m_err_voids_median, b_err_voids_median = np.sqrt(np.diag(pcov_voids_median))\n",
    "m_bf_voids_median_2 = round(m_bf_voids_median, 2)\n",
    "b_bf_voids_median_2 = round(b_bf_voids_median, 2)\n",
    "print('m_bf = ' + str(m_bf_voids_median) + ', b_bf = ' + str(b_bf_voids_median))\n",
    "print('m_err = ' + str(m_err_voids_median) + ', b_err = ' + str(b_err_voids_median))\n"
   ]
  },
  {
   "cell_type": "code",
   "execution_count": 281,
   "metadata": {},
   "outputs": [
    {
     "name": "stdout",
     "output_type": "stream",
     "text": [
      "Best-fit line equation for void galaxies MStar given by the equation: log(V.WF50 velocity) = 0.26log(V.MStar) + -0.06\n"
     ]
    }
   ],
   "source": [
    "y_data_voids_median_line = m_bf_voids_median* x_data_voids_median + b_bf_voids_median\n",
    "print('Best-fit line equation for void galaxies MStar given by the equation: log(V.WF50 velocity) = ' + str(m_bf_voids_median_2) + 'log(V.MStar) + ' +  str(b_bf_voids_median_2))"
   ]
  },
  {
   "cell_type": "code",
   "execution_count": 282,
   "metadata": {},
   "outputs": [
    {
     "name": "stdout",
     "output_type": "stream",
     "text": [
      "m_bf = 0.18803703254661785, b_bf = 0.5864760483489291\n",
      "m_err = 0.023615592944447546, b_err = 0.23701534678976005\n"
     ]
    }
   ],
   "source": [
    "y_data_walls_median = walls_wf50_median\n",
    "x_data_walls_median = np.asarray(walls_center, dtype=np.float64)\n",
    "\n",
    "popt_walls_median, pcov_walls_median = curve_fit(h, x_data_walls_median, y_data_walls_median)\n",
    "m_bf_walls_median, b_bf_walls_median = popt_walls_median\n",
    "m_err_walls_median, b_err_walls_median = np.sqrt(np.diag(pcov_walls_median))\n",
    "m_bf_walls_median_2 = round(m_bf_walls_median, 2)\n",
    "b_bf_walls_median_2 = round(b_bf_walls_median, 2)\n",
    "print('m_bf = ' + str(m_bf_walls_median) + ', b_bf = ' + str(b_bf_walls_median))\n",
    "print('m_err = ' + str(m_err_walls_median) + ', b_err = ' + str(b_err_walls_median))\n"
   ]
  },
  {
   "cell_type": "code",
   "execution_count": 283,
   "metadata": {},
   "outputs": [
    {
     "name": "stdout",
     "output_type": "stream",
     "text": [
      "Best-fit line equation for wall galaxies MStar given by the equation: log(W.WF50 velocity) = 0.19log(W.MStar) + 0.59\n"
     ]
    }
   ],
   "source": [
    "y_data_walls_median_line = m_bf_walls_median* x_data_walls_median + b_bf_walls_median\n",
    "print('Best-fit line equation for wall galaxies MStar given by the equation: log(W.WF50 velocity) = ' + str(m_bf_walls_median_2) + 'log(W.MStar) + ' +  str(b_bf_walls_median_2))"
   ]
  },
  {
   "cell_type": "markdown",
   "metadata": {},
   "source": [
    "##### ALL"
   ]
  },
  {
   "cell_type": "code",
   "execution_count": 284,
   "metadata": {},
   "outputs": [],
   "source": [
    "wf50_bin1 = walls_wf50_bin1+voids_wf50_bin1\n",
    "wf50_bin2 = walls_wf50_bin2+voids_wf50_bin2\n",
    "wf50_bin3 = walls_wf50_bin3+voids_wf50_bin3\n",
    "wf50_bin4 = walls_wf50_bin4+voids_wf50_bin4\n",
    "wf50_bin5 = walls_wf50_bin5+voids_wf50_bin5\n",
    "wf50_bin6 = walls_wf50_bin6+voids_wf50_bin6\n",
    "\n",
    "wf50_median = np.log10([np.median(wf50_bin1), np.median(wf50_bin2), np.median(wf50_bin3),np.median(wf50_bin4),np.median(wf50_bin5),np.median(wf50_bin6)])\n",
    "\n",
    "MStar_center = [8.75, 9.25, 9.75, 10.25, 10.75, 11.25]\n",
    "#MStar_center_err = 0.25"
   ]
  },
  {
   "cell_type": "code",
   "execution_count": 285,
   "metadata": {},
   "outputs": [
    {
     "name": "stdout",
     "output_type": "stream",
     "text": [
      "m_bf = 0.18538770186603526, b_bf = 0.6181361418652802\n",
      "m_err = 0.017339025252487192, b_err = 0.17402125039140226\n"
     ]
    }
   ],
   "source": [
    "y_data_MStar_median = wf50_median\n",
    "x_data_MStar_median = np.asarray(MStar_center, dtype=np.float64)\n",
    "\n",
    "popt_MStar_median, pcov_MStar_median = curve_fit(h, x_data_MStar_median, y_data_MStar_median)\n",
    "m_bf_MStar_median, b_bf_MStar_median = popt_MStar_median\n",
    "m_err_MStar_median, b_err_MStar_median = np.sqrt(np.diag(pcov_MStar_median))\n",
    "m_bf_MStar_median_2 = round(m_bf_MStar_median, 2)\n",
    "b_bf_MStar_median_2 = round(b_bf_MStar_median, 2)\n",
    "print('m_bf = ' + str(m_bf_MStar_median) + ', b_bf = ' + str(b_bf_MStar_median))\n",
    "print('m_err = ' + str(m_err_MStar_median) + ', b_err = ' + str(b_err_MStar_median))\n"
   ]
  },
  {
   "cell_type": "code",
   "execution_count": 286,
   "metadata": {},
   "outputs": [
    {
     "name": "stdout",
     "output_type": "stream",
     "text": [
      "Best-fit line equation for all galaxies MStar given by the equation: log(WF50 velocity) = 0.19log(MStar) + 0.62\n"
     ]
    }
   ],
   "source": [
    "y_data_MStar_median_line = m_bf_MStar_median* x_data_MStar_median + b_bf_MStar_median\n",
    "print('Best-fit line equation for all galaxies MStar given by the equation: log(WF50 velocity) = ' + str(m_bf_MStar_median_2) + 'log(MStar) + ' +  str(b_bf_MStar_median_2))"
   ]
  },
  {
   "cell_type": "markdown",
   "metadata": {},
   "source": [
    "##### PLOT"
   ]
  },
  {
   "cell_type": "code",
   "execution_count": 287,
   "metadata": {},
   "outputs": [
    {
     "data": {
      "image/png": "[encoded data removed]",
      "text/plain": [
       "<Figure size 432x288 with 1 Axes>"
      ]
     },
     "metadata": {
      "needs_background": "light"
     },
     "output_type": "display_data"
    }
   ],
   "source": [
    "#log(W.WF50 velocity) = 0.19log(W.MStar) + 0.59\n",
    "#log(V.WF50 velocity) = 0.26log(V.MStar) -0.06\n",
    "#log(WF50 velocity) = 0.19log(MStar) + 0.62\n",
    "\n",
    "plt.errorbar(voids_center, voids_wf50_median, xerr = voids_center_err, yerr = voids_wf50_median_err, fmt ='none', color = 'red', alpha = 0.2, label = 'Voids')\n",
    "plt.errorbar(walls_center, walls_wf50_median, xerr = walls_center_err, yerr = walls_wf50_median_err, fmt ='none', color = 'black', alpha = 0.2, label = 'Walls')\n",
    "plt.plot(x_data_voids_median, y_data_voids_median_line, '-r', label = 'Voids')\n",
    "plt.plot(x_data_walls_median, y_data_walls_median_line, '-', color = 'black', label = 'Walls')\n",
    "plt.plot(x_data_MStar_median, y_data_MStar_median_line, '-', color = 'green', label = 'ALL')\n",
    "plt.xlabel('log(MStar) (Msolar)')\n",
    "plt.ylabel('log(WF50) (km/s)')\n",
    "plt.legend(loc = 'upper left')\n",
    "plt.savefig('plots/log_WF50_corrected-log_MStar_MEDIANbestFit.svg', dpi=500, facecolor='w', edgecolor='w',\n",
    "        orientation='portrait', format='svg', pad_inches=0.1)\n",
    "plt.savefig('plots/log_WF50_corrected-log_MStar_MEDIANbestFit.jpeg', dpi=500, facecolor='w', edgecolor='w',\n",
    "        orientation='portrait', format='jpeg', pad_inches=0.1)\n",
    "plt.show()"
   ]
  },
  {
   "cell_type": "markdown",
   "metadata": {},
   "source": [
    "***********************************************************"
   ]
  },
  {
   "cell_type": "markdown",
   "metadata": {},
   "source": [
    "\n",
    "\n",
    "#### WF50 vs MHI\n",
    "\n",
    "\n"
   ]
  },
  {
   "cell_type": "markdown",
   "metadata": {},
   "source": [
    "#### Binning HI masses"
   ]
  },
  {
   "cell_type": "markdown",
   "metadata": {},
   "source": [
    "##### GBT"
   ]
  },
  {
   "cell_type": "code",
   "execution_count": 288,
   "metadata": {},
   "outputs": [
    {
     "name": "stdout",
     "output_type": "stream",
     "text": [
      "7.0220037\n",
      "10.539531\n"
     ]
    }
   ],
   "source": [
    "manga_logMHI_corr_pos = []\n",
    "for i in range(len(mangaHI)):\n",
    "    if mangaHI['logMHI_corrected'][i]>0:\n",
    "        manga_logMHI_corr_pos.append(mangaHI['logMHI_corrected'][i])\n",
    "print(min(manga_logMHI_corr_pos))\n",
    "print(max(manga_logMHI_corr_pos))"
   ]
  },
  {
   "cell_type": "code",
   "execution_count": 289,
   "metadata": {},
   "outputs": [],
   "source": [
    "#manga_voids_MHI_bin1 = [] \n",
    "#manga_voids_MHI_bin2 = []\n",
    "#manga_voids_MHI_bin3 = []\n",
    "manga_voids_MHI_bin1 = []\n",
    "manga_voids_MHI_bin2 = []\n",
    "manga_voids_MHI_bin3 = []\n",
    "manga_voids_MHI_bin4 = []\n",
    "#manga_voids_MHI_bin8 = []\n",
    "\n",
    "for i in range(len(mangaHI)):\n",
    "    #if 7<=mangaHI['logMHI_corrected'][i]<=7.5 and mangaHI['Voids'][i]>0 and mangaHI['WF50_corrected'][i]>0:\n",
    "     #   manga_voids_MHI_bin1.append(mangaHI['logMHI_corrected'][i])\n",
    "    #if 7.5<mangaHI['logMHI_corrected'][i]<=8 and mangaHI['Voids'][i]>0 and mangaHI['WF50_corrected'][i]>0:\n",
    "     #   manga_voids_MHI_bin2.append(mangaHI['logMHI_corrected'][i])\n",
    "    #if 8<mangaHI['logMHI_corrected'][i]<=8.5 and mangaHI['Voids'][i]>0 and mangaHI['WF50_corrected'][i]>0:\n",
    "     #   manga_voids_MHI_bin3.append(mangaHI['logMHI_corrected'][i])\n",
    "    if 8.5<mangaHI['logMHI_corrected'][i]<=9 and mangaHI['Voids'][i]>0 and mangaHI['WF50_corrected'][i]>0:\n",
    "        manga_voids_MHI_bin1.append(mangaHI['logMHI_corrected'][i])\n",
    "    if 9<mangaHI['logMHI_corrected'][i]<=9.5 and mangaHI['Voids'][i]>0 and mangaHI['WF50_corrected'][i]>0:\n",
    "        manga_voids_MHI_bin2.append(mangaHI['logMHI_corrected'][i])\n",
    "    if 9.5<mangaHI['logMHI_corrected'][i]<=10 and mangaHI['Voids'][i]>0 and mangaHI['WF50_corrected'][i]>0:\n",
    "        manga_voids_MHI_bin3.append(mangaHI['logMHI_corrected'][i])\n",
    "    if 10<mangaHI['logMHI_corrected'][i]<=10.5 and mangaHI['Voids'][i]>0 and mangaHI['WF50_corrected'][i]>0:\n",
    "        manga_voids_MHI_bin4.append(mangaHI['logMHI_corrected'][i])\n",
    "    #if 10.5<mangaHI['logMHI_corrected'][i]<=11 and mangaHI['Voids'][i]>0 and mangaHI['WF50_corrected'][i]>0:\n",
    "     #   manga_voids_MHI_bin8.append(mangaHI['logMHI_corrected'][i])\n",
    "   "
   ]
  },
  {
   "cell_type": "code",
   "execution_count": 290,
   "metadata": {},
   "outputs": [],
   "source": [
    "#manga_walls_MHI_bin1 = [] \n",
    "#manga_walls_MHI_bin2 = []\n",
    "#manga_walls_MHI_bin3 = []\n",
    "manga_walls_MHI_bin1 = []\n",
    "manga_walls_MHI_bin2 = []\n",
    "manga_walls_MHI_bin3 = []\n",
    "manga_walls_MHI_bin4 = []\n",
    "#manga_walls_MHI_bin8 = []\n",
    "\n",
    "for i in range(len(mangaHI)):\n",
    "    #if 7<=mangaHI['logMHI_corrected'][i]<=7.5 and mangaHI['Walls'][i]>0 and mangaHI['WF50_corrected'][i]>0:\n",
    "     #   manga_walls_MHI_bin1.append(mangaHI['logMHI_corrected'][i])\n",
    "    #if 7.5<mangaHI['logMHI_corrected'][i]<=8 and mangaHI['Walls'][i]>0 and mangaHI['WF50_corrected'][i]>0:\n",
    "     #   manga_walls_MHI_bin2.append(mangaHI['logMHI_corrected'][i])\n",
    "    #if 8<mangaHI['logMHI_corrected'][i]<=8.5 and mangaHI['Walls'][i]>0 and mangaHI['WF50_corrected'][i]>0:\n",
    "     #   manga_walls_MHI_bin3.append(mangaHI['logMHI_corrected'][i])\n",
    "    if 8.5<mangaHI['logMHI_corrected'][i]<=9 and mangaHI['Walls'][i]>0 and mangaHI['WF50_corrected'][i]>0:\n",
    "        manga_walls_MHI_bin1.append(mangaHI['logMHI_corrected'][i])\n",
    "    if 9<mangaHI['logMHI_corrected'][i]<=9.5 and mangaHI['Walls'][i]>0 and mangaHI['WF50_corrected'][i]>0:\n",
    "        manga_walls_MHI_bin2.append(mangaHI['logMHI_corrected'][i])\n",
    "    if 9.5<mangaHI['logMHI_corrected'][i]<=10 and mangaHI['Walls'][i]>0 and mangaHI['WF50_corrected'][i]>0:\n",
    "        manga_walls_MHI_bin3.append(mangaHI['logMHI_corrected'][i])\n",
    "    if 10<mangaHI['logMHI_corrected'][i]<=10.5 and mangaHI['Walls'][i]>0 and mangaHI['WF50_corrected'][i]>0:\n",
    "        manga_walls_MHI_bin4.append(mangaHI['logMHI_corrected'][i])\n",
    "    #if 10.5<mangaHI['logMHI_corrected'][i]<=11 and mangaHI['Walls'][i]>0 and mangaHI['WF50_corrected'][i]>0:\n",
    "     #   manga_walls_MHI_bin8.append(mangaHI['logMHI_corrected'][i])\n",
    "   "
   ]
  },
  {
   "cell_type": "markdown",
   "metadata": {},
   "source": [
    "##### ALFALFA"
   ]
  },
  {
   "cell_type": "code",
   "execution_count": 291,
   "metadata": {},
   "outputs": [
    {
     "name": "stdout",
     "output_type": "stream",
     "text": [
      "7.2555223\n",
      "10.737423\n"
     ]
    }
   ],
   "source": [
    "alfa_logMHI_corr_pos = []\n",
    "for i in range(len(alfaHI)):\n",
    "    if alfaHI['logMHI_corrected'][i]>0:\n",
    "        alfa_logMHI_corr_pos.append(alfaHI['logMHI_corrected'][i])\n",
    "print(min(alfa_logMHI_corr_pos))\n",
    "print(max(alfa_logMHI_corr_pos))"
   ]
  },
  {
   "cell_type": "code",
   "execution_count": 292,
   "metadata": {},
   "outputs": [],
   "source": [
    "#alfa_voids_MHI_bin1 = [] \n",
    "#alfa_voids_MHI_bin2 = []\n",
    "#alfa_voids_MHI_bin3 = []\n",
    "alfa_voids_MHI_bin1 = []\n",
    "alfa_voids_MHI_bin2 = []\n",
    "alfa_voids_MHI_bin3 = []\n",
    "alfa_voids_MHI_bin4 = []\n",
    "alfa_voids_MHI_bin5 = []\n",
    "\n",
    "for i in range(len(alfaHI)):\n",
    "    #if 7<=alfaHI['logMHI_corrected'][i]<=7.5 and alfaHI['Voids'][i]>0 and alfaHI['WF50_corrected'][i]>0:\n",
    "      #  alfa_voids_MHI_bin1.append(alfaHI['logMHI_corrected'][i])\n",
    "    #if 7.5<alfaHI['logMHI_corrected'][i]<=8 and alfaHI['Voids'][i]>0 and alfaHI['WF50_corrected'][i]>0:\n",
    "      #  alfa_voids_MHI_bin2.append(alfaHI['logMHI_corrected'][i])\n",
    "    #if 8<alfaHI['logMHI_corrected'][i]<=8.5 and alfaHI['Voids'][i]>0 and alfaHI['WF50_corrected'][i]>0:\n",
    "     #   alfa_voids_MHI_bin3.append(alfaHI['logMHI_corrected'][i])\n",
    "    if 8.5<alfaHI['logMHI_corrected'][i]<=9 and alfaHI['Voids'][i]>0 and alfaHI['WF50_corrected'][i]>0:\n",
    "        alfa_voids_MHI_bin1.append(alfaHI['logMHI_corrected'][i])\n",
    "    if 9<alfaHI['logMHI_corrected'][i]<=9.5 and alfaHI['Voids'][i]>0 and alfaHI['WF50_corrected'][i]>0:\n",
    "        alfa_voids_MHI_bin2.append(alfaHI['logMHI_corrected'][i])\n",
    "    if 9.5<alfaHI['logMHI_corrected'][i]<=10 and alfaHI['Voids'][i]>0 and alfaHI['WF50_corrected'][i]>0:\n",
    "        alfa_voids_MHI_bin3.append(alfaHI['logMHI_corrected'][i])\n",
    "    if 10<alfaHI['logMHI_corrected'][i]<=10.5 and alfaHI['Voids'][i]>0 and alfaHI['WF50_corrected'][i]>0:\n",
    "        alfa_voids_MHI_bin4.append(alfaHI['logMHI_corrected'][i])\n",
    "    if 10.5<alfaHI['logMHI_corrected'][i]<=11 and alfaHI['Voids'][i]>0 and alfaHI['WF50_corrected'][i]>0:\n",
    "        alfa_voids_MHI_bin5.append(alfaHI['logMHI_corrected'][i])\n",
    "   "
   ]
  },
  {
   "cell_type": "code",
   "execution_count": 293,
   "metadata": {},
   "outputs": [],
   "source": [
    "#alfa_walls_MHI_bin1 = [] \n",
    "#alfa_walls_MHI_bin2 = []\n",
    "#alfa_walls_MHI_bin3 = []\n",
    "alfa_walls_MHI_bin1 = []\n",
    "alfa_walls_MHI_bin2 = []\n",
    "alfa_walls_MHI_bin3 = []\n",
    "alfa_walls_MHI_bin4 = []\n",
    "alfa_walls_MHI_bin5 = []\n",
    "\n",
    "for i in range(len(alfaHI)):\n",
    "    #if 7<=alfaHI['logMHI_corrected'][i]<=7.5 and alfaHI['Walls'][i]>0 and alfaHI['WF50_corrected'][i]>0:\n",
    "     #   alfa_walls_MHI_bin1.append(alfaHI['logMHI_corrected'][i])\n",
    "    #if 7.5<alfaHI['logMHI_corrected'][i]<=8 and alfaHI['Walls'][i]>0 and alfaHI['WF50_corrected'][i]>0:\n",
    "     #   alfa_walls_MHI_bin2.append(alfaHI['logMHI_corrected'][i])\n",
    "    #if 8<alfaHI['logMHI_corrected'][i]<=8.5 and alfaHI['Walls'][i]>0 and alfaHI['WF50_corrected'][i]>0:\n",
    "     #   alfa_walls_MHI_bin3.append(alfaHI['logMHI_corrected'][i])\n",
    "    if 8.5<alfaHI['logMHI_corrected'][i]<=9 and alfaHI['Walls'][i]>0 and alfaHI['WF50_corrected'][i]>0:\n",
    "        alfa_walls_MHI_bin1.append(alfaHI['logMHI_corrected'][i])\n",
    "    if 9<alfaHI['logMHI_corrected'][i]<=9.5 and alfaHI['Walls'][i]>0 and alfaHI['WF50_corrected'][i]>0:\n",
    "        alfa_walls_MHI_bin2.append(alfaHI['logMHI_corrected'][i])\n",
    "    if 9.5<alfaHI['logMHI_corrected'][i]<=10 and alfaHI['Walls'][i]>0 and alfaHI['WF50_corrected'][i]>0:\n",
    "        alfa_walls_MHI_bin3.append(alfaHI['logMHI_corrected'][i])\n",
    "    if 10<alfaHI['logMHI_corrected'][i]<=10.5 and alfaHI['Walls'][i]>0 and alfaHI['WF50_corrected'][i]>0:\n",
    "        alfa_walls_MHI_bin4.append(alfaHI['logMHI_corrected'][i])\n",
    "    if 10.5<alfaHI['logMHI_corrected'][i]<=11 and alfaHI['Walls'][i]>0 and alfaHI['WF50_corrected'][i]>0:\n",
    "        alfa_walls_MHI_bin5.append(alfaHI['logMHI_corrected'][i])\n",
    "   "
   ]
  },
  {
   "cell_type": "markdown",
   "metadata": {},
   "source": [
    "##### Median WF50 "
   ]
  },
  {
   "cell_type": "markdown",
   "metadata": {},
   "source": [
    "##### GBT"
   ]
  },
  {
   "cell_type": "code",
   "execution_count": 294,
   "metadata": {},
   "outputs": [],
   "source": [
    "manga_voids_wf50_MHI_bin1 = []\n",
    "manga_voids_wf50_MHI_bin2 = []\n",
    "manga_voids_wf50_MHI_bin3 = []\n",
    "manga_voids_wf50_MHI_bin4 = []\n",
    "\n",
    "\n",
    "\n",
    "for i in range(len(mangaHI)):\n",
    "    for a in range(len(manga_voids_MHI_bin1)):\n",
    "        if manga_voids_MHI_bin1[a] == mangaHI['logMHI_corrected'][i]:\n",
    "            manga_voids_wf50_MHI_bin1.append(mangaHI['WF50_corrected'][i])\n",
    "    for b in range(len(manga_voids_MHI_bin2)):\n",
    "        if manga_voids_MHI_bin2[b] == mangaHI['logMHI_corrected'][i]:\n",
    "            manga_voids_wf50_MHI_bin2.append(mangaHI['WF50_corrected'][i])\n",
    "    for c in range(len(manga_voids_MHI_bin3)):\n",
    "        if manga_voids_MHI_bin3[c] == mangaHI['logMHI_corrected'][i]:\n",
    "            manga_voids_wf50_MHI_bin3.append(mangaHI['WF50_corrected'][i])\n",
    "    for d in range(len(manga_voids_MHI_bin4)):\n",
    "        if manga_voids_MHI_bin4[d] == mangaHI['logMHI_corrected'][i]:\n",
    "            manga_voids_wf50_MHI_bin4.append(mangaHI['WF50_corrected'][i])\n",
    "\n",
    "manga_voids_wf50_MHI_median_bin1 = np.median(manga_voids_wf50_MHI_bin1)\n",
    "manga_voids_wf50_MHI_median_bin2 = np.median(manga_voids_wf50_MHI_bin2)\n",
    "manga_voids_wf50_MHI_median_bin3 = np.median(manga_voids_wf50_MHI_bin3)\n",
    "manga_voids_wf50_MHI_median_bin4 = np.median(manga_voids_wf50_MHI_bin4)\n",
    "\n",
    "            \n",
    "manga_voids_wf50_bin1_MHI_err = 1/np.sqrt(len(manga_voids_wf50_MHI_bin1))    \n",
    "manga_voids_wf50_bin2_MHI_err = 1/np.sqrt(len(manga_voids_wf50_MHI_bin2))    \n",
    "manga_voids_wf50_bin3_MHI_err = 1/np.sqrt(len(manga_voids_wf50_MHI_bin3))    \n",
    "manga_voids_wf50_bin4_MHI_err = 1/np.sqrt(len(manga_voids_wf50_MHI_bin4))    \n"
   ]
  },
  {
   "cell_type": "code",
   "execution_count": 295,
   "metadata": {},
   "outputs": [],
   "source": [
    "manga_walls_wf50_MHI_bin1 = []\n",
    "manga_walls_wf50_MHI_bin2 = []\n",
    "manga_walls_wf50_MHI_bin3 = []\n",
    "manga_walls_wf50_MHI_bin4 = []\n",
    "\n",
    "\n",
    "\n",
    "for i in range(len(mangaHI)):\n",
    "    for a in range(len(manga_walls_MHI_bin1)):\n",
    "        if manga_walls_MHI_bin1[a] == mangaHI['logMHI_corrected'][i]:\n",
    "            manga_walls_wf50_MHI_bin1.append(mangaHI['WF50_corrected'][i])\n",
    "    for b in range(len(manga_walls_MHI_bin2)):\n",
    "        if manga_walls_MHI_bin2[b] == mangaHI['logMHI_corrected'][i]:\n",
    "            manga_walls_wf50_MHI_bin2.append(mangaHI['WF50_corrected'][i])\n",
    "    for c in range(len(manga_walls_MHI_bin3)):\n",
    "        if manga_walls_MHI_bin3[c] == mangaHI['logMHI_corrected'][i]:\n",
    "            manga_walls_wf50_MHI_bin3.append(mangaHI['WF50_corrected'][i])\n",
    "    for d in range(len(manga_walls_MHI_bin4)):\n",
    "        if manga_walls_MHI_bin4[d] == mangaHI['logMHI_corrected'][i]:\n",
    "            manga_walls_wf50_MHI_bin4.append(mangaHI['WF50_corrected'][i])\n",
    "\n",
    "manga_walls_wf50_MHI_median_bin1 = np.median(manga_walls_wf50_MHI_bin1)\n",
    "manga_walls_wf50_MHI_median_bin2 = np.median(manga_walls_wf50_MHI_bin2)\n",
    "manga_walls_wf50_MHI_median_bin3 = np.median(manga_walls_wf50_MHI_bin3)\n",
    "manga_walls_wf50_MHI_median_bin4 = np.median(manga_walls_wf50_MHI_bin4)\n",
    "\n",
    "            \n",
    "manga_walls_wf50_bin1_MHI_err = 1/np.sqrt(len(manga_walls_wf50_MHI_bin1))    \n",
    "manga_walls_wf50_bin2_MHI_err = 1/np.sqrt(len(manga_walls_wf50_MHI_bin2))    \n",
    "manga_walls_wf50_bin3_MHI_err = 1/np.sqrt(len(manga_walls_wf50_MHI_bin3))    \n",
    "manga_walls_wf50_bin4_MHI_err = 1/np.sqrt(len(manga_walls_wf50_MHI_bin4))\n"
   ]
  },
  {
   "cell_type": "markdown",
   "metadata": {},
   "source": [
    "##### ALFALFA"
   ]
  },
  {
   "cell_type": "code",
   "execution_count": 296,
   "metadata": {},
   "outputs": [],
   "source": [
    "alfa_voids_wf50_MHI_bin1 = []\n",
    "alfa_voids_wf50_MHI_bin2 = []\n",
    "alfa_voids_wf50_MHI_bin3 = []\n",
    "alfa_voids_wf50_MHI_bin4 = []\n",
    "alfa_voids_wf50_MHI_bin5 = []\n",
    "\n",
    "\n",
    "for i in range(len(alfaHI)):\n",
    "    for a in range(len(alfa_voids_MHI_bin1)):\n",
    "        if alfa_voids_MHI_bin1[a] == alfaHI['logMHI_corrected'][i]:\n",
    "            alfa_voids_wf50_MHI_bin1.append(alfaHI['WF50_corrected'][i])\n",
    "    for b in range(len(alfa_voids_MHI_bin2)):\n",
    "        if alfa_voids_MHI_bin2[b] == alfaHI['logMHI_corrected'][i]:\n",
    "            alfa_voids_wf50_MHI_bin2.append(alfaHI['WF50_corrected'][i])\n",
    "    for c in range(len(alfa_voids_MHI_bin3)):\n",
    "        if alfa_voids_MHI_bin3[c] == alfaHI['logMHI_corrected'][i]:\n",
    "            alfa_voids_wf50_MHI_bin3.append(alfaHI['WF50_corrected'][i])\n",
    "    for d in range(len(alfa_voids_MHI_bin4)):\n",
    "        if alfa_voids_MHI_bin4[d] == alfaHI['logMHI_corrected'][i]:\n",
    "            alfa_voids_wf50_MHI_bin4.append(alfaHI['WF50_corrected'][i])\n",
    "    for e in range(len(alfa_voids_MHI_bin5)):\n",
    "        if alfa_voids_MHI_bin5[e] == alfaHI['logMHI_corrected'][i]:\n",
    "            alfa_voids_wf50_MHI_bin5.append(alfaHI['WF50_corrected'][i])\n",
    "\n",
    "\n",
    "alfa_voids_wf50_MHI_median_bin1 = np.median(alfa_voids_wf50_MHI_bin1)\n",
    "alfa_voids_wf50_MHI_median_bin2 = np.median(alfa_voids_wf50_MHI_bin2)\n",
    "alfa_voids_wf50_MHI_median_bin3 = np.median(alfa_voids_wf50_MHI_bin3)\n",
    "alfa_voids_wf50_MHI_median_bin4 = np.median(alfa_voids_wf50_MHI_bin4)\n",
    "alfa_voids_wf50_MHI_median_bin5 = np.median(alfa_voids_wf50_MHI_bin5)\n",
    "\n",
    "            \n",
    "alfa_voids_wf50_MHI_bin1_err = 1/np.sqrt(len(alfa_voids_wf50_MHI_bin1))    \n",
    "alfa_voids_wf50_MHI_bin2_err = 1/np.sqrt(len(alfa_voids_wf50_MHI_bin2))    \n",
    "alfa_voids_wf50_MHI_bin3_err = 1/np.sqrt(len(alfa_voids_wf50_MHI_bin3))    \n",
    "alfa_voids_wf50_MHI_bin4_err = 1/np.sqrt(len(alfa_voids_wf50_MHI_bin4))    \n",
    "alfa_voids_wf50_MHI_bin5_err = 1/np.sqrt(len(alfa_voids_wf50_MHI_bin5)) \n",
    "\n"
   ]
  },
  {
   "cell_type": "code",
   "execution_count": 297,
   "metadata": {},
   "outputs": [],
   "source": [
    "alfa_walls_wf50_MHI_bin1 = []\n",
    "alfa_walls_wf50_MHI_bin2 = []\n",
    "alfa_walls_wf50_MHI_bin3 = []\n",
    "alfa_walls_wf50_MHI_bin4 = []\n",
    "alfa_walls_wf50_MHI_bin5 = []\n",
    "\n",
    "\n",
    "for i in range(len(alfaHI)):\n",
    "    for a in range(len(alfa_walls_MHI_bin1)):\n",
    "        if alfa_walls_MHI_bin1[a] == alfaHI['logMHI_corrected'][i]:\n",
    "            alfa_walls_wf50_MHI_bin1.append(alfaHI['WF50_corrected'][i])\n",
    "    for b in range(len(alfa_walls_MHI_bin2)):\n",
    "        if alfa_walls_MHI_bin2[b] == alfaHI['logMHI_corrected'][i]:\n",
    "            alfa_walls_wf50_MHI_bin2.append(alfaHI['WF50_corrected'][i])\n",
    "    for c in range(len(alfa_walls_MHI_bin3)):\n",
    "        if alfa_walls_MHI_bin3[c] == alfaHI['logMHI_corrected'][i]:\n",
    "            alfa_walls_wf50_MHI_bin3.append(alfaHI['WF50_corrected'][i])\n",
    "    for d in range(len(alfa_walls_MHI_bin4)):\n",
    "        if alfa_walls_MHI_bin4[d] == alfaHI['logMHI_corrected'][i]:\n",
    "            alfa_walls_wf50_MHI_bin4.append(alfaHI['WF50_corrected'][i])\n",
    "    for e in range(len(alfa_walls_MHI_bin5)):\n",
    "        if alfa_walls_MHI_bin5[e] == alfaHI['logMHI_corrected'][i]:\n",
    "            alfa_walls_wf50_MHI_bin5.append(alfaHI['WF50_corrected'][i])\n",
    "\n",
    "\n",
    "alfa_walls_wf50_MHI_median_bin1 = np.median(alfa_walls_wf50_MHI_bin1)\n",
    "alfa_walls_wf50_MHI_median_bin2 = np.median(alfa_walls_wf50_MHI_bin2)\n",
    "alfa_walls_wf50_MHI_median_bin3 = np.median(alfa_walls_wf50_MHI_bin3)\n",
    "alfa_walls_wf50_MHI_median_bin4 = np.median(alfa_walls_wf50_MHI_bin4)\n",
    "alfa_walls_wf50_MHI_median_bin5 = np.median(alfa_walls_wf50_MHI_bin5)\n",
    "\n",
    "            \n",
    "alfa_walls_wf50_MHI_bin1_err = 1/np.sqrt(len(alfa_walls_wf50_MHI_bin1))    \n",
    "alfa_walls_wf50_MHI_bin2_err = 1/np.sqrt(len(alfa_walls_wf50_MHI_bin2))    \n",
    "alfa_walls_wf50_MHI_bin3_err = 1/np.sqrt(len(alfa_walls_wf50_MHI_bin3))    \n",
    "alfa_walls_wf50_MHI_bin4_err = 1/np.sqrt(len(alfa_walls_wf50_MHI_bin4))    \n",
    "alfa_walls_wf50_MHI_bin5_err = 1/np.sqrt(len(alfa_walls_wf50_MHI_bin5)) \n",
    "\n"
   ]
  },
  {
   "cell_type": "markdown",
   "metadata": {},
   "source": [
    "##### CONCATENATION"
   ]
  },
  {
   "cell_type": "code",
   "execution_count": 298,
   "metadata": {},
   "outputs": [],
   "source": [
    "#VELOCITIES WF50\n",
    "voids_wf50_MHI_bin1 = manga_voids_wf50_MHI_bin1 + alfa_voids_wf50_MHI_bin1\n",
    "voids_wf50_MHI_bin2 = manga_voids_wf50_MHI_bin2 + alfa_voids_wf50_MHI_bin2\n",
    "voids_wf50_MHI_bin3 = manga_voids_wf50_MHI_bin3 + alfa_voids_wf50_MHI_bin3\n",
    "voids_wf50_MHI_bin4 = manga_voids_wf50_MHI_bin4 + alfa_voids_wf50_MHI_bin4\n",
    "voids_wf50_MHI_bin5 = alfa_voids_wf50_MHI_bin5\n",
    "\n",
    "voids_wf50_MHI_median_bin1 = np.median(voids_wf50_MHI_bin1)\n",
    "voids_wf50_MHI_median_bin2 = np.median(voids_wf50_MHI_bin2)\n",
    "voids_wf50_MHI_median_bin3 = np.median(voids_wf50_MHI_bin3)\n",
    "voids_wf50_MHI_median_bin4 = np.median(voids_wf50_MHI_bin4)\n",
    "voids_wf50_MHI_median_bin5 = np.median(voids_wf50_MHI_bin5)\n",
    "\n",
    "\n",
    "#\n",
    "voids_wf50_median_MHI = np.log10([voids_wf50_MHI_median_bin1, voids_wf50_MHI_median_bin2, voids_wf50_MHI_median_bin3,voids_wf50_MHI_median_bin4, voids_wf50_MHI_median_bin5])\n",
    "#           \n",
    "\n",
    "voids_wf50_MHI_bin1_err = 1/np.sqrt(len(voids_wf50_MHI_bin1))    \n",
    "voids_wf50_MHI_bin2_err = 1/np.sqrt(len(voids_wf50_MHI_bin2))    \n",
    "voids_wf50_MHI_bin3_err = 1/np.sqrt(len(voids_wf50_MHI_bin3))    \n",
    "voids_wf50_MHI_bin4_err = 1/np.sqrt(len(voids_wf50_MHI_bin4))    \n",
    "voids_wf50_MHI_bin5_err = 1/np.sqrt(len(voids_wf50_MHI_bin5)) \n",
    "\n",
    "\n",
    "#\n",
    "voids_wf50_median_MHI_err = [voids_wf50_MHI_bin1_err, voids_wf50_MHI_bin2_err, voids_wf50_MHI_bin3_err,voids_wf50_MHI_bin4_err,voids_wf50_MHI_bin5_err]\n",
    "#\n",
    "\n",
    "\n",
    "#MASSES\n",
    "voids_MHI_bin1 = manga_voids_MHI_bin1 + alfa_voids_MHI_bin1\n",
    "voids_MHI_bin2 = manga_voids_MHI_bin2 + alfa_voids_MHI_bin2\n",
    "voids_MHI_bin3 = manga_voids_MHI_bin3 + alfa_voids_MHI_bin3\n",
    "voids_MHI_bin4 = manga_voids_MHI_bin4 + alfa_voids_MHI_bin4\n",
    "voids_MHI_bin5 = alfa_voids_MHI_bin5\n",
    "\n",
    "\n",
    "#\n",
    "voids_center_MHI = [8.75, 9.25, 9.75, 10.25, 10.75]\n",
    "#\n",
    "\n",
    "#\n",
    "voids_center_MHI_err = [0.25, 0.25, 0.25, 0.25, 0.25]\n",
    "#\n"
   ]
  },
  {
   "cell_type": "code",
   "execution_count": 299,
   "metadata": {},
   "outputs": [],
   "source": [
    "#VELOCITIES WF50\n",
    "walls_wf50_MHI_bin1 = manga_walls_wf50_MHI_bin1 + alfa_walls_wf50_MHI_bin1\n",
    "walls_wf50_MHI_bin2 = manga_walls_wf50_MHI_bin2 + alfa_walls_wf50_MHI_bin2\n",
    "walls_wf50_MHI_bin3 = manga_walls_wf50_MHI_bin3 + alfa_walls_wf50_MHI_bin3\n",
    "walls_wf50_MHI_bin4 = manga_walls_wf50_MHI_bin4 + alfa_walls_wf50_MHI_bin4\n",
    "walls_wf50_MHI_bin5 = alfa_walls_wf50_MHI_bin5\n",
    "\n",
    "walls_wf50_MHI_median_bin1 = np.median(walls_wf50_MHI_bin1)\n",
    "walls_wf50_MHI_median_bin2 = np.median(walls_wf50_MHI_bin2)\n",
    "walls_wf50_MHI_median_bin3 = np.median(walls_wf50_MHI_bin3)\n",
    "walls_wf50_MHI_median_bin4 = np.median(walls_wf50_MHI_bin4)\n",
    "walls_wf50_MHI_median_bin5 = np.median(walls_wf50_MHI_bin5)\n",
    "\n",
    "\n",
    "#\n",
    "walls_wf50_median_MHI = np.log10([walls_wf50_MHI_median_bin1, walls_wf50_MHI_median_bin2, walls_wf50_MHI_median_bin3,walls_wf50_MHI_median_bin4, walls_wf50_MHI_median_bin5])\n",
    "#           \n",
    "\n",
    "walls_wf50_MHI_bin1_err = 1/np.sqrt(len(walls_wf50_MHI_bin1))    \n",
    "walls_wf50_MHI_bin2_err = 1/np.sqrt(len(walls_wf50_MHI_bin2))    \n",
    "walls_wf50_MHI_bin3_err = 1/np.sqrt(len(walls_wf50_MHI_bin3))    \n",
    "walls_wf50_MHI_bin4_err = 1/np.sqrt(len(walls_wf50_MHI_bin4))    \n",
    "walls_wf50_MHI_bin5_err = 1/np.sqrt(len(walls_wf50_MHI_bin5)) \n",
    "\n",
    "\n",
    "#\n",
    "walls_wf50_median_MHI_err = [walls_wf50_MHI_bin1_err, walls_wf50_MHI_bin2_err, walls_wf50_MHI_bin3_err,walls_wf50_MHI_bin4_err,walls_wf50_MHI_bin5_err]\n",
    "#\n",
    "\n",
    "\n",
    "#MASSES\n",
    "walls_MHI_bin1 = manga_walls_MHI_bin1 + alfa_walls_MHI_bin1\n",
    "walls_MHI_bin2 = manga_walls_MHI_bin2 + alfa_walls_MHI_bin2\n",
    "walls_MHI_bin3 = manga_walls_MHI_bin3 + alfa_walls_MHI_bin3\n",
    "walls_MHI_bin4 = manga_walls_MHI_bin4 + alfa_walls_MHI_bin4\n",
    "walls_MHI_bin5 = alfa_walls_MHI_bin5\n",
    "\n",
    "\n",
    "#\n",
    "walls_center_MHI = [8.75, 9.25, 9.75, 10.25, 10.75]\n",
    "#\n",
    "\n",
    "#\n",
    "walls_center_MHI_err = [0.25, 0.25, 0.25, 0.25, 0.25]\n",
    "#\n"
   ]
  },
  {
   "cell_type": "markdown",
   "metadata": {},
   "source": [
    "##### BEST FITS"
   ]
  },
  {
   "cell_type": "code",
   "execution_count": 300,
   "metadata": {},
   "outputs": [
    {
     "name": "stdout",
     "output_type": "stream",
     "text": [
      "m_bf = 0.2608563729392618, b_bf = -0.12752109956957747\n",
      "m_err = 0.028463758909948237, b_err = 0.2782504957957767\n"
     ]
    }
   ],
   "source": [
    "y_data_voids_MHI_median = voids_wf50_median_MHI\n",
    "x_data_voids_MHI_median = np.asarray(voids_center_MHI, dtype=np.float64)\n",
    "\n",
    "popt_voids_MHI_median, pcov_voids_MHI_median = curve_fit(h, x_data_voids_MHI_median, y_data_voids_MHI_median)\n",
    "m_bf_voids_MHI_median, b_bf_voids_MHI_median = popt_voids_MHI_median\n",
    "m_err_voids_MHI_median, b_err_voids_MHI_median = np.sqrt(np.diag(pcov_voids_MHI_median))\n",
    "m_bf_voids_MHI_median_2 = round(m_bf_voids_MHI_median, 2)\n",
    "b_bf_voids_MHI_median_2 = round(b_bf_voids_MHI_median, 2)\n",
    "print('m_bf = ' + str(m_bf_voids_MHI_median) + ', b_bf = ' + str(b_bf_voids_MHI_median))\n",
    "print('m_err = ' + str(m_err_voids_MHI_median) + ', b_err = ' + str(b_err_voids_MHI_median))\n"
   ]
  },
  {
   "cell_type": "code",
   "execution_count": 301,
   "metadata": {},
   "outputs": [
    {
     "name": "stdout",
     "output_type": "stream",
     "text": [
      "Best-fit line equation for void galaxies HI mass given by the equation: log(V.WF50 velocity) = 0.26log(V.HI Mass) + -0.13\n"
     ]
    }
   ],
   "source": [
    "y_data_voids_MHI_median_line = m_bf_voids_MHI_median* x_data_voids_MHI_median + b_bf_voids_MHI_median\n",
    "print('Best-fit line equation for void galaxies HI mass given by the equation: log(V.WF50 velocity) = ' + str(m_bf_voids_MHI_median_2) + 'log(V.HI Mass) + ' +  str(b_bf_voids_MHI_median_2))"
   ]
  },
  {
   "cell_type": "code",
   "execution_count": 302,
   "metadata": {},
   "outputs": [
    {
     "name": "stdout",
     "output_type": "stream",
     "text": [
      "m_bf = 0.30664204598832434, b_bf = -0.564345274426173\n",
      "m_err = 0.02681982898317543, b_err = 0.26218010631159383\n"
     ]
    }
   ],
   "source": [
    "y_data_walls_MHI_median = walls_wf50_median_MHI\n",
    "x_data_walls_MHI_median = np.asarray(walls_center_MHI, dtype=np.float64)\n",
    "\n",
    "popt_walls_MHI_median, pcov_walls_MHI_median = curve_fit(h, x_data_walls_MHI_median, y_data_walls_MHI_median)\n",
    "m_bf_walls_MHI_median, b_bf_walls_MHI_median = popt_walls_MHI_median\n",
    "m_err_walls_MHI_median, b_err_walls_MHI_median = np.sqrt(np.diag(pcov_walls_MHI_median))\n",
    "m_bf_walls_MHI_median_2 = round(m_bf_walls_MHI_median, 2)\n",
    "b_bf_walls_MHI_median_2 = round(b_bf_walls_MHI_median, 2)\n",
    "print('m_bf = ' + str(m_bf_walls_MHI_median) + ', b_bf = ' + str(b_bf_walls_MHI_median))\n",
    "print('m_err = ' + str(m_err_walls_MHI_median) + ', b_err = ' + str(b_err_walls_MHI_median))\n"
   ]
  },
  {
   "cell_type": "code",
   "execution_count": 303,
   "metadata": {},
   "outputs": [
    {
     "name": "stdout",
     "output_type": "stream",
     "text": [
      "Best-fit line equation for wall galaxies HI mass given by the equation: log(W.WF50 velocity) = 0.31log(W.HI Mass) + -0.56\n"
     ]
    }
   ],
   "source": [
    "y_data_walls_MHI_median_line = m_bf_walls_MHI_median* x_data_walls_MHI_median + b_bf_walls_MHI_median\n",
    "print('Best-fit line equation for wall galaxies HI mass given by the equation: log(W.WF50 velocity) = ' + str(m_bf_walls_MHI_median_2) + 'log(W.HI Mass) + ' +  str(b_bf_walls_MHI_median_2))"
   ]
  },
  {
   "cell_type": "markdown",
   "metadata": {},
   "source": [
    "##### ALL"
   ]
  },
  {
   "cell_type": "code",
   "execution_count": 304,
   "metadata": {},
   "outputs": [],
   "source": [
    "wf50_MHI_bin1 = walls_wf50_MHI_bin1+voids_wf50_MHI_bin1\n",
    "wf50_MHI_bin2 = walls_wf50_MHI_bin2+voids_wf50_MHI_bin2\n",
    "wf50_MHI_bin3 = walls_wf50_MHI_bin3+voids_wf50_MHI_bin3\n",
    "wf50_MHI_bin4 = walls_wf50_MHI_bin4+voids_wf50_MHI_bin4\n",
    "wf50_MHI_bin5 = walls_wf50_MHI_bin5+voids_wf50_MHI_bin5\n",
    "\n",
    "wf50_MHI_median = np.log10([np.median(wf50_MHI_bin1), np.median(wf50_MHI_bin2), np.median(wf50_MHI_bin3),np.median(wf50_MHI_bin4),np.median(wf50_MHI_bin5)])\n",
    "\n",
    "MHI_center = [8.75, 9.25, 9.75, 10.25, 10.75]\n"
   ]
  },
  {
   "cell_type": "code",
   "execution_count": 305,
   "metadata": {},
   "outputs": [
    {
     "name": "stdout",
     "output_type": "stream",
     "text": [
      "m_bf = 0.27173100202230205, b_bf = -0.22976756887422112\n",
      "m_err = 0.012801442459187086, b_err = 0.12514186985869688\n"
     ]
    }
   ],
   "source": [
    "y_data_MHI_median = wf50_MHI_median\n",
    "x_data_MHI_median = np.asarray(MHI_center, dtype=np.float64)\n",
    "\n",
    "popt_MHI_median, pcov_MHI_median = curve_fit(h, x_data_MHI_median, y_data_MHI_median)\n",
    "m_bf_MHI_median, b_bf_MHI_median = popt_MHI_median\n",
    "m_err_MHI_median, b_err_MHI_median = np.sqrt(np.diag(pcov_MHI_median))\n",
    "m_bf_MHI_median_2 = round(m_bf_MHI_median, 2)\n",
    "b_bf_MHI_median_2 = round(b_bf_MHI_median, 2)\n",
    "print('m_bf = ' + str(m_bf_MHI_median) + ', b_bf = ' + str(b_bf_MHI_median))\n",
    "print('m_err = ' + str(m_err_MHI_median) + ', b_err = ' + str(b_err_MHI_median))"
   ]
  },
  {
   "cell_type": "code",
   "execution_count": 306,
   "metadata": {},
   "outputs": [
    {
     "name": "stdout",
     "output_type": "stream",
     "text": [
      "Best-fit line equation for all galaxies HI-mass given by the equation: log(WF50 velocity) = 0.27log(HI Mass) + -0.23\n"
     ]
    }
   ],
   "source": [
    "y_data_MHI_median_line = m_bf_MHI_median* x_data_MHI_median + b_bf_MHI_median\n",
    "print('Best-fit line equation for all galaxies HI-mass given by the equation: log(WF50 velocity) = ' + str(m_bf_MHI_median_2) + 'log(HI Mass) + ' +  str(b_bf_MHI_median_2))"
   ]
  },
  {
   "cell_type": "markdown",
   "metadata": {},
   "source": [
    "##### PLOT"
   ]
  },
  {
   "cell_type": "code",
   "execution_count": 307,
   "metadata": {},
   "outputs": [
    {
     "data": {
      "image/png": "[encoded data removed]",
      "text/plain": [
       "<Figure size 432x288 with 1 Axes>"
      ]
     },
     "metadata": {
      "needs_background": "light"
     },
     "output_type": "display_data"
    }
   ],
   "source": [
    "#log(W.WF50 velocity) = 0.31log(W.HI Mass) + -0.56\n",
    "#log(V.WF50 velocity) = 0.26log(V.HI Mass) + -0.13\n",
    "#log(WF50 velocity) = 0.27log(HI Mass) + -0.23\n",
    "\n",
    "\n",
    "plt.errorbar(voids_center_MHI, voids_wf50_median_MHI, xerr = voids_center_MHI_err, yerr = voids_wf50_median_MHI_err, fmt ='none', color = 'red', alpha = 0.2, label = 'Voids')\n",
    "plt.errorbar(walls_center_MHI, walls_wf50_median_MHI, xerr = walls_center_MHI_err, yerr = walls_wf50_median_MHI_err, fmt ='none', color = 'black', alpha = 0.2, label = 'Walls')\n",
    "plt.plot(x_data_voids_MHI_median, y_data_voids_MHI_median_line, '-r', label = 'Voids')\n",
    "plt.plot(x_data_walls_MHI_median, y_data_walls_MHI_median_line, '-', color = 'black', label = 'Walls')\n",
    "plt.plot(x_data_MHI_median, y_data_MHI_median_line, '-', color = 'green', label = 'ALL')\n",
    "plt.xlabel('log(MHI) (Msolar)')\n",
    "plt.ylabel('log(WF50) (km/s)')\n",
    "plt.legend(loc = 'upper left')\n",
    "plt.savefig('plots/log_WF50_corrected-log_MHI_MEDIANbestFit.svg', dpi=500, facecolor='w', edgecolor='w',\n",
    "        orientation='portrait', format='svg', pad_inches=0.1)\n",
    "plt.savefig('plots/log_WF50_corrected-log_MHI_MEDIANbestFit.jpeg', dpi=500, facecolor='w', edgecolor='w',\n",
    "        orientation='portrait', format='jpeg', pad_inches=0.1)\n",
    "plt.show()"
   ]
  },
  {
   "cell_type": "markdown",
   "metadata": {},
   "source": [
    "**QUESTIONS:**\n",
    "1) For WF50 correction, I need a $\\lambda$ value and a z value but I'm not sure how to get those. I don't think the paper has it but it does cite a paper which I don't really know how to find?\n",
    "2) logWF50 vs logM* looks very different using the median method compared to the mean method which shows the slopes are identical within $1\\sigma$ is there a reason why? I don't think I made any mistakes but I can check again"
   ]
  },
  {
   "cell_type": "markdown",
   "metadata": {},
   "source": [
    "-----"
   ]
  },
  {
   "cell_type": "markdown",
   "metadata": {},
   "source": [
    "### WF50 vs MHI+M*"
   ]
  },
  {
   "cell_type": "markdown",
   "metadata": {},
   "source": [
    "##### Adding logMTotal columns"
   ]
  },
  {
   "cell_type": "code",
   "execution_count": 308,
   "metadata": {},
   "outputs": [],
   "source": [
    "manga_logMTotal = []\n",
    "\n",
    "for i in range(len(mangaHI)):\n",
    "    if mangaHI['MTotal'][i] > 0:\n",
    "        manga_logMTotal.append(np.log10(mangaHI['MTotal'][i]))\n",
    "    else:\n",
    "        manga_logMTotal.append(-999.0)\n",
    "\n",
    "mangaHI.add_column(Column(np.asarray(manga_logMTotal, dtype = np.float32, order = 'F')), index = 17, name = 'logMTotal')"
   ]
  },
  {
   "cell_type": "code",
   "execution_count": 309,
   "metadata": {},
   "outputs": [],
   "source": [
    "alfa_logMTotal = []\n",
    "\n",
    "for i in range(len(alfaHI)):\n",
    "    if alfaHI['MTotal'][i] > 0:\n",
    "        alfa_logMTotal.append(np.log10(alfaHI['MTotal'][i]))\n",
    "    else:\n",
    "        alfa_logMTotal.append(-999.0)\n",
    "\n",
    "alfaHI.add_column(Column(np.asarray(alfa_logMTotal, dtype = np.float32, order = 'F')), index = 17, name = 'logMTotal')"
   ]
  },
  {
   "cell_type": "markdown",
   "metadata": {},
   "source": [
    "##### Binning masses"
   ]
  },
  {
   "cell_type": "markdown",
   "metadata": {},
   "source": [
    "##### GBT"
   ]
  },
  {
   "cell_type": "code",
   "execution_count": 310,
   "metadata": {},
   "outputs": [],
   "source": [
    "manga_logMTot_corr_pos = []\n",
    "for i in range(len(mangaHI)):\n",
    "    if mangaHI['logMTotal'][i]>0:\n",
    "        manga_logMTot_corr_pos.append(mangaHI['logMTotal'][i])\n",
    "\n",
    "alfa_logMTot_corr_pos = []\n",
    "for i in range(len(alfaHI)):\n",
    "    if alfaHI['logMTotal'][i]>0:\n",
    "        alfa_logMTot_corr_pos.append(alfaHI['logMTotal'][i])"
   ]
  },
  {
   "cell_type": "code",
   "execution_count": 311,
   "metadata": {},
   "outputs": [],
   "source": [
    "def round_down(x):\n",
    "    rounded_x = round(x)\n",
    "    if rounded_x > x: # 9.6 -> 10, so ans is 9.5\n",
    "        x = rounded_x - 0.5\n",
    "    elif rounded_x < x: # 9.4 -> 9, so ans is 9\n",
    "        x = rounded_x\n",
    "    return x\n",
    "\n",
    "def round_up(x):\n",
    "    rounded_x = round(x)\n",
    "    if rounded_x > x: # 9.6 -> 10, so ans is 10\n",
    "        x = rounded_x \n",
    "    elif rounded_x < x: # 9.4 -> 9, so ans is 9.5\n",
    "        x = rounded_x + 0.5\n",
    "    return x"
   ]
  },
  {
   "cell_type": "code",
   "execution_count": 312,
   "metadata": {},
   "outputs": [],
   "source": [
    "def bin_mass(data, lower, upper, galaxyType):\n",
    "    \"\"\"\n",
    "    fn: bin_mass()\n",
    "    description: Returns a binned data structure according to log(mass)\n",
    "    \n",
    "    parameters:\n",
    "        data: table of data, astropy table\n",
    "        lower: min log(mass), float64\n",
    "        upper: max log(mass), float64\n",
    "        galaxyType: 'Voids'/'Walls', string\n",
    "    \n",
    "    return:\n",
    "        bins: data structure containing binned data. bins is a list of lists. Each sublist corresponds\n",
    "              to a bin.\n",
    "    \"\"\"\n",
    "    bin_size = 0.5\n",
    "   \n",
    "    bins = []\n",
    "    num_bins = int((upper - lower)/bin_size)\n",
    "    for i in range(num_bins):\n",
    "        bins.append([]) #generates empty sublists inside the list bins\n",
    "    \n",
    "    for i in range(len(data)):\n",
    "        if data[galaxyType][i]>0 and data['WF50_corrected'][i]>0: # galaxy is a void and velocity > 0\n",
    "            mass = data['logMTotal'][i]\n",
    "            bin_num = int((mass - lower)//bin_size) # which bin to put into\n",
    "            bins[bin_num].append(mass) # adds to corresponding bin\n",
    "     \n",
    "    return bins\n",
    "            "
   ]
  },
  {
   "cell_type": "code",
   "execution_count": 313,
   "metadata": {},
   "outputs": [],
   "source": [
    "alfa_lower_mass = round_down(min(alfa_logMTot_corr_pos))\n",
    "alfa_upper_mass = round_up(max(alfa_logMTot_corr_pos))\n",
    "manga_lower_mass = round_down(min(manga_logMTot_corr_pos))\n",
    "manga_upper_mass = round_up(max(manga_logMTot_corr_pos))\n",
    "lower_mass = min(alfa_lower_mass, manga_lower_mass)\n",
    "upper_mass = max(alfa_upper_mass, manga_upper_mass)\n",
    "manga_voids_MTotal_bins = bin_mass(mangaHI, lower_mass, upper_mass, 'Voids')"
   ]
  },
  {
   "cell_type": "code",
   "execution_count": 314,
   "metadata": {},
   "outputs": [],
   "source": [
    "manga_walls_MTotal_bins = bin_mass(mangaHI, lower_mass, upper_mass, 'Walls')"
   ]
  },
  {
   "cell_type": "markdown",
   "metadata": {},
   "source": [
    "##### ALFALFA"
   ]
  },
  {
   "cell_type": "code",
   "execution_count": 315,
   "metadata": {},
   "outputs": [],
   "source": [
    "\n",
    "alfa_voids_MTotal_bins = bin_mass(alfaHI, lower_mass, upper_mass, 'Voids')\n",
    "alfa_walls_MTotal_bins = bin_mass(alfaHI, lower_mass, upper_mass, 'Walls')"
   ]
  },
  {
   "cell_type": "markdown",
   "metadata": {},
   "source": [
    "##### Median WF50"
   ]
  },
  {
   "cell_type": "code",
   "execution_count": 316,
   "metadata": {},
   "outputs": [],
   "source": [
    "def bin_wf50(data, mass_bins):\n",
    "    wf50_bins = []\n",
    "    for _ in range(len(mass_bins)):\n",
    "        wf50_bins.append([])\n",
    "    #  loop through bins:\n",
    "    #     find which row the mass is in\n",
    "    #     add wf50 to corresponding bin from corresponding row\n",
    "    \n",
    "    \n",
    "    for mass_bin in mass_bins:\n",
    "        for mass in mass_bin:\n",
    "            for i in range(len(data)):\n",
    "                if mass == data['logMTotal'][i]:\n",
    "                    wf50_bins[mass_bins.index(mass_bin)].append(np.log10(data['WF50_corrected'][i]))\n",
    "    \n",
    "    return wf50_bins\n",
    "            \n",
    "        "
   ]
  },
  {
   "cell_type": "code",
   "execution_count": 317,
   "metadata": {},
   "outputs": [],
   "source": [
    "manga_voids_wf50_MTotal_bins = bin_wf50(mangaHI, manga_voids_MTotal_bins)\n",
    "manga_walls_wf50_MTotal_bins = bin_wf50(mangaHI, manga_walls_MTotal_bins)\n",
    "alfa_voids_wf50_MTotal_bins = bin_wf50(alfaHI, alfa_voids_MTotal_bins)\n",
    "alfa_walls_wf50_MTotal_bins = bin_wf50(alfaHI, alfa_walls_MTotal_bins)"
   ]
  },
  {
   "cell_type": "markdown",
   "metadata": {},
   "source": [
    "##### Concatenation"
   ]
  },
  {
   "cell_type": "code",
   "execution_count": 318,
   "metadata": {},
   "outputs": [],
   "source": [
    "def concatenate_bins(bins_1, bins_2):\n",
    "    concatenated_bins = []\n",
    "    for i in range(len(bins_1)):\n",
    "        concatenated_bins.append(bins_1[i] + bins_2[i])\n",
    "    return concatenated_bins"
   ]
  },
  {
   "cell_type": "code",
   "execution_count": 319,
   "metadata": {},
   "outputs": [],
   "source": [
    "def bin_midpoints(lower, upper):\n",
    "    bin_size = 0.5\n",
    "    bin_num = int((upper - lower)/bin_size)\n",
    "    midpoints = []\n",
    "    for i in range(bin_num):\n",
    "        midpoints.append(lower + bin_size*(i + 0.5))\n",
    "        # for every bin: midpoint = lower_bound_ofthatbin + bin_size/2\n",
    "        # lower_bound_ofthatbin = lowest_bound + bin# * bin_size\n",
    "        \n",
    "    return midpoints"
   ]
  },
  {
   "cell_type": "code",
   "execution_count": 320,
   "metadata": {},
   "outputs": [],
   "source": [
    "def bin_correction(l):\n",
    "    while -999.0 in l:\n",
    "        l.remove(-999.0)\n",
    "    return l"
   ]
  },
  {
   "cell_type": "code",
   "execution_count": 321,
   "metadata": {},
   "outputs": [],
   "source": [
    "#VELOCITIES WF50\n",
    "\n",
    "voids_wf50_MTotal_bins = concatenate_bins(manga_voids_wf50_MTotal_bins, alfa_voids_wf50_MTotal_bins)\n",
    "\n",
    "voids_wf50_MTotal_bins_medians = []\n",
    "voids_wf50_MTotal_bins_medians_err = []\n",
    "\n",
    "for wf50_bin in voids_wf50_MTotal_bins:\n",
    "    if len(wf50_bin) < 2:\n",
    "        voids_wf50_MTotal_bins_medians.append(-999.0)\n",
    "        voids_wf50_MTotal_bins_medians_err.append(-999.0)\n",
    "    else:\n",
    "        voids_wf50_MTotal_bins_medians.append(np.median(wf50_bin))\n",
    "        voids_wf50_MTotal_bins_medians_err.append(1/np.sqrt(len(wf50_bin)))\n",
    "\n",
    "\n",
    "\n",
    "#\n",
    "center_MTotal = bin_midpoints(lower_mass, upper_mass)\n",
    "#\n",
    "\n",
    "#\n",
    "center_MTotal_err = 0.25\n",
    "#\n",
    "\n",
    "voids_wf50_MTotal_bins_medians = bin_correction(voids_wf50_MTotal_bins_medians)\n",
    "voids_wf50_MTotal_bins_medians_err = bin_correction(voids_wf50_MTotal_bins_medians_err)\n",
    "center_MTotal = center_MTotal[3:]"
   ]
  },
  {
   "cell_type": "code",
   "execution_count": 322,
   "metadata": {},
   "outputs": [],
   "source": [
    "walls_wf50_MTotal_bins = concatenate_bins(manga_walls_wf50_MTotal_bins, alfa_walls_wf50_MTotal_bins)\n",
    "\n",
    "walls_wf50_MTotal_bins_medians = []\n",
    "walls_wf50_MTotal_bins_medians_err = []\n",
    "\n",
    "for wf50_bin in walls_wf50_MTotal_bins:\n",
    "    if len(wf50_bin) < 2:\n",
    "        walls_wf50_MTotal_bins_medians.append(-999.0)\n",
    "        walls_wf50_MTotal_bins_medians_err.append(-999.0)\n",
    "    else:\n",
    "        walls_wf50_MTotal_bins_medians.append(np.median(wf50_bin))\n",
    "        walls_wf50_MTotal_bins_medians_err.append(1/np.sqrt(len(wf50_bin)))\n",
    "\n",
    "\n",
    "\n",
    "walls_wf50_MTotal_bins_medians = bin_correction(walls_wf50_MTotal_bins_medians)\n",
    "walls_wf50_MTotal_bins_medians_err = bin_correction(walls_wf50_MTotal_bins_medians_err)\n"
   ]
  },
  {
   "cell_type": "markdown",
   "metadata": {},
   "source": [
    "##### BEST FITS"
   ]
  },
  {
   "cell_type": "markdown",
   "metadata": {},
   "source": []
  },
  {
   "cell_type": "code",
   "execution_count": 323,
   "metadata": {},
   "outputs": [
    {
     "name": "stdout",
     "output_type": "stream",
     "text": [
      "m_bf = 0.2538968154079415, b_bf = -0.1484724659255765\n",
      "m_err = 0.026528168703922703, b_err = 0.2725599617021595\n"
     ]
    }
   ],
   "source": [
    "y_data_voids_MTotal_median = voids_wf50_MTotal_bins_medians\n",
    "x_data_voids_MTotal_median = np.asarray(center_MTotal, dtype=np.float64)\n",
    "\n",
    "popt_voids_MTotal_median, pcov_voids_MTotal_median = curve_fit(h, x_data_voids_MTotal_median, y_data_voids_MTotal_median)\n",
    "m_bf_voids_MTotal_median, b_bf_voids_MTotal_median = popt_voids_MTotal_median\n",
    "m_err_voids_MTotal_median, b_err_voids_MTotal_median = np.sqrt(np.diag(pcov_voids_MTotal_median))\n",
    "m_bf_voids_MTotal_median_2 = round(m_bf_voids_MTotal_median, 2)\n",
    "b_bf_voids_MTotal_median_2 = round(b_bf_voids_MTotal_median, 2)\n",
    "print('m_bf = ' + str(m_bf_voids_MTotal_median) + ', b_bf = ' + str(b_bf_voids_MTotal_median))\n",
    "print('m_err = ' + str(m_err_voids_MTotal_median) + ', b_err = ' + str(b_err_voids_MTotal_median))\n"
   ]
  },
  {
   "cell_type": "code",
   "execution_count": 324,
   "metadata": {},
   "outputs": [
    {
     "name": "stdout",
     "output_type": "stream",
     "text": [
      "Best-fit line equation for void galaxies MHI+M* given by the equation: log(V.WF50 velocity) = 0.25log(V.HI Mass) + -0.15\n"
     ]
    }
   ],
   "source": [
    "y_data_voids_MTotal_median_line = m_bf_voids_MTotal_median* x_data_voids_MTotal_median + b_bf_voids_MTotal_median\n",
    "print('Best-fit line equation for void galaxies MHI+M* given by the equation: log(V.WF50 velocity) = ' + str(m_bf_voids_MTotal_median_2) + 'log(V.HI Mass) + ' +  str(b_bf_voids_MTotal_median_2))\n"
   ]
  },
  {
   "cell_type": "markdown",
   "metadata": {},
   "source": []
  },
  {
   "cell_type": "code",
   "execution_count": 325,
   "metadata": {},
   "outputs": [
    {
     "name": "stdout",
     "output_type": "stream",
     "text": [
      "m_bf = 0.31003742364038245, b_bf = -0.7455755519428693\n",
      "m_err = 0.048457723948848785, b_err = 0.49787216605038065\n"
     ]
    }
   ],
   "source": [
    "y_data_walls_MTotal_median = walls_wf50_MTotal_bins_medians\n",
    "x_data_walls_MTotal_median = np.asarray(center_MTotal, dtype=np.float64)\n",
    "\n",
    "popt_walls_MTotal_median, pcov_walls_MTotal_median = curve_fit(h, x_data_walls_MTotal_median, y_data_walls_MTotal_median)\n",
    "m_bf_walls_MTotal_median, b_bf_walls_MTotal_median = popt_walls_MTotal_median\n",
    "m_err_walls_MTotal_median, b_err_walls_MTotal_median = np.sqrt(np.diag(pcov_walls_MTotal_median))\n",
    "m_bf_walls_MTotal_median_2 = round(m_bf_walls_MTotal_median, 2)\n",
    "b_bf_walls_MTotal_median_2 = round(b_bf_walls_MTotal_median, 2)\n",
    "print('m_bf = ' + str(m_bf_walls_MTotal_median) + ', b_bf = ' + str(b_bf_walls_MTotal_median))\n",
    "print('m_err = ' + str(m_err_walls_MTotal_median) + ', b_err = ' + str(b_err_walls_MTotal_median))\n"
   ]
  },
  {
   "cell_type": "code",
   "execution_count": 326,
   "metadata": {},
   "outputs": [
    {
     "name": "stdout",
     "output_type": "stream",
     "text": [
      "Best-fit line equation for void galaxies MHI+M* given by the equation: log(W.WF50 velocity) = 0.31log(W.HI Mass) + -0.75\n"
     ]
    }
   ],
   "source": [
    "y_data_walls_MTotal_median_line = m_bf_walls_MTotal_median* x_data_walls_MTotal_median + b_bf_walls_MTotal_median\n",
    "print('Best-fit line equation for void galaxies MHI+M* given by the equation: log(W.WF50 velocity) = ' + str(m_bf_walls_MTotal_median_2) + 'log(W.HI Mass) + ' +  str(b_bf_walls_MTotal_median_2))\n"
   ]
  },
  {
   "cell_type": "markdown",
   "metadata": {},
   "source": [
    "##### ALL"
   ]
  },
  {
   "cell_type": "code",
   "execution_count": 327,
   "metadata": {},
   "outputs": [],
   "source": [
    "wf50_MTotal_bins = concatenate_bins(voids_wf50_MTotal_bins[3:], walls_wf50_MTotal_bins[3:])\n",
    "\n",
    "wf50_MTotal_bins_medians = []\n",
    "for wf50_bin in wf50_MTotal_bins:\n",
    "    wf50_MTotal_bins_medians.append(np.median(wf50_bin))"
   ]
  },
  {
   "cell_type": "code",
   "execution_count": 328,
   "metadata": {},
   "outputs": [
    {
     "name": "stdout",
     "output_type": "stream",
     "text": [
      "m_bf = 0.2731392657808718, b_bf = -0.3557490309744169\n",
      "m_err = 0.01947084826920374, b_err = 0.2000505262288376\n"
     ]
    }
   ],
   "source": [
    "y_data_MTotal_median = wf50_MTotal_bins_medians\n",
    "x_data_MTotal_median = np.asarray(center_MTotal, dtype=np.float64)\n",
    "\n",
    "popt_MTotal_median, pcov_MTotal_median = curve_fit(h, x_data_MTotal_median, y_data_MTotal_median)\n",
    "m_bf_MTotal_median, b_bf_MTotal_median = popt_MTotal_median\n",
    "m_err_MTotal_median, b_err_MTotal_median = np.sqrt(np.diag(pcov_MTotal_median))\n",
    "m_bf_MTotal_median_2 = round(m_bf_MTotal_median, 2)\n",
    "b_bf_MTotal_median_2 = round(b_bf_MTotal_median, 2)\n",
    "print('m_bf = ' + str(m_bf_MTotal_median) + ', b_bf = ' + str(b_bf_MTotal_median))\n",
    "print('m_err = ' + str(m_err_MTotal_median) + ', b_err = ' + str(b_err_MTotal_median))\n"
   ]
  },
  {
   "cell_type": "code",
   "execution_count": 329,
   "metadata": {},
   "outputs": [
    {
     "name": "stdout",
     "output_type": "stream",
     "text": [
      "Best-fit line equation for all galaxies MHI+M* given by the equation: log(WF50 velocity) = 0.27log(HI Mass) + -0.36\n"
     ]
    }
   ],
   "source": [
    "y_data_MTotal_median_line = m_bf_MTotal_median* x_data_MTotal_median + b_bf_MTotal_median\n",
    "print('Best-fit line equation for all galaxies MHI+M* given by the equation: log(WF50 velocity) = ' + str(m_bf_MTotal_median_2) + 'log(HI Mass) + ' +  str(b_bf_MTotal_median_2))\n"
   ]
  },
  {
   "cell_type": "markdown",
   "metadata": {},
   "source": [
    "##### PLOT\n"
   ]
  },
  {
   "cell_type": "code",
   "execution_count": 330,
   "metadata": {
    "scrolled": true
   },
   "outputs": [
    {
     "data": {
      "image/png": "[encoded data removed]",
      "text/plain": [
       "<Figure size 432x288 with 1 Axes>"
      ]
     },
     "metadata": {
      "needs_background": "light"
     },
     "output_type": "display_data"
    }
   ],
   "source": [
    "plt.errorbar(center_MTotal, voids_wf50_MTotal_bins_medians, xerr = center_MTotal_err, yerr = voids_wf50_MTotal_bins_medians_err, fmt ='none', color = 'red', alpha = 0.2, label = 'Voids')\n",
    "plt.errorbar(center_MTotal, walls_wf50_MTotal_bins_medians, xerr = center_MTotal_err, yerr = walls_wf50_MTotal_bins_medians_err, fmt ='none', color = 'black', alpha = 0.2, label = 'Walls')\n",
    "plt.plot(x_data_voids_MTotal_median, y_data_voids_MTotal_median_line, '-r*', label = 'Voids')\n",
    "plt.plot(x_data_walls_MTotal_median, y_data_walls_MTotal_median_line, '->', color = 'black', label = 'Walls')\n",
    "plt.plot(x_data_MTotal_median, y_data_MTotal_median_line, '-^', color = 'green', label = 'ALL')\n",
    "plt.xlabel('log(MHI+M*) (Msolar)')\n",
    "plt.ylabel('log(WF50) (km/s)')\n",
    "plt.legend(loc = 'upper left')\n",
    "plt.savefig('plots/log_WF50_corrected-log_MStar+HI_MEDIANbestFit.svg', dpi=500, facecolor='w', edgecolor='w',\n",
    "        orientation='portrait', format='svg', pad_inches=0.1)\n",
    "plt.savefig('plots/log_WF50_corrected-log_MStar+HI_MEDIANbestFit.jpeg', dpi=500, facecolor='w', edgecolor='w',\n",
    "        orientation='portrait', format='jpeg', pad_inches=0.1)\n",
    "plt.show()\n"
   ]
  },
  {
   "cell_type": "markdown",
   "metadata": {},
   "source": [
    "---"
   ]
  },
  {
   "cell_type": "code",
   "execution_count": null,
   "metadata": {},
   "outputs": [],
   "source": []
  }
 ],
 "metadata": {
  "kernelspec": {
   "display_name": "Python 3",
   "language": "python",
   "name": "python3"
  },
  "language_info": {
   "codemirror_mode": {
    "name": "ipython",
    "version": 3
   },
   "file_extension": ".py",
   "mimetype": "text/x-python",
   "name": "python",
   "nbconvert_exporter": "python",
   "pygments_lexer": "ipython3",
   "version": "3.7.4"
  }
 },
 "nbformat": 4,
 "nbformat_minor": 2
}
