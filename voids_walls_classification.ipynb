{
 "cells": [
  {
   "cell_type": "markdown",
   "metadata": {},
   "source": [
    "### Imports"
   ]
  },
  {
   "cell_type": "code",
   "execution_count": 20,
   "metadata": {},
   "outputs": [],
   "source": [
    "import numpy as np\n",
    "import matplotlib as plt\n",
    "from astropy.table import Table"
   ]
  },
  {
   "cell_type": "markdown",
   "metadata": {},
   "source": [
    "### Data"
   ]
  },
  {
   "cell_type": "code",
   "execution_count": 21,
   "metadata": {},
   "outputs": [],
   "source": [
    "mangaHIall = Table.read('input/gbt_alfalfa_HIdata.txt', format = 'ascii.commented_header')\n",
    "manga = Table.read(\"input/Pipe3D-master_file_vflag_10_smooth2p27_N2O2_noWords.txt\", format=\"ascii.commented_header\")"
   ]
  },
  {
   "cell_type": "markdown",
   "metadata": {},
   "source": [
    "### Adding vflag values from manga to mangaHIall"
   ]
  },
  {
   "cell_type": "code",
   "execution_count": 22,
   "metadata": {},
   "outputs": [],
   "source": [
    "vflag0_boolean = mangaHIall['vflag'] == 0.0\n",
    "vflag1_boolean = mangaHIall['vflag'] == 1.0\n",
    "\n",
    "vflag_0_or_1_boolean = np.logical_or(vflag0_boolean, vflag1_boolean)\n",
    "\n",
    "#overwriting mangaHIall table and getting rid of rows with vflag != 0.0 or 1.0\n",
    "mangaHIall = mangaHIall[vflag_0_or_1_boolean]"
   ]
  },
  {
   "cell_type": "code",
   "execution_count": 23,
   "metadata": {},
   "outputs": [],
   "source": [
    "mangaHIall['walls'] = np.NaN * np.ones(len(mangaHIall), dtype=np.float64)\n",
    "mangaHIall['voids'] = np.NaN * np.ones(len(mangaHIall), dtype=np.float64)\n",
    "\n",
    "for i in range(len(mangaHIall)):\n",
    "    if mangaHIall['vflag'][i] == 0.0:\n",
    "        mangaHIall['walls'][i] = mangaHIall['NSA_Mstar'][i]\n",
    "    elif mangaHIall['vflag'][i] == 1:\n",
    "        mangaHIall['voids'][i] = mangaHIall['NSA_Mstar'][i]\n",
    "\n",
    "#     walls_boolean = mangaHIall['vflag] == 0.0\n",
    "#     mangaHIall['walls'][i] = mangaHIall['NSA_Mstar'][i]\n",
    "#     voids_boolean = mangaHIall['vflag'] == 1.0\n",
    "#     mangaHIall['voids'][voids_boolean] = mangaHIall['NSA_Mstar'][i]\n",
    "\n",
    "# print(walls_boolean)\n",
    "# print(voids_boolean)\n",
    "\n",
    "mangaHIall.write('input/mangaHIall_classified.txt', format = 'ascii.commented_header', overwrite = True)"
   ]
  },
  {
   "cell_type": "code",
   "execution_count": 24,
   "metadata": {},
   "outputs": [],
   "source": [
    "WF50_pos_boolean = mangaHIall['WF50'] > 0.0\n",
    "mangaHIall_WF50_positive = mangaHIall[WF50_pos_boolean]\n",
    "mangaHIall_WF50_positive.write('input/mangaHIall_WF50_positive.txt', format = 'ascii.commented_header', overwrite = True)"
   ]
  },
  {
   "cell_type": "code",
   "execution_count": 25,
   "metadata": {},
   "outputs": [],
   "source": [
    "mangaHIall_walls_boolean = np.isfinite(mangaHIall['walls'])\n",
    "mangaHIall_walls = mangaHIall[mangaHIall_walls_boolean]\n",
    "mangaHIall_walls.remove_column('voids')\n",
    "mangaHIall_walls.write('input/mangaHIall_walls.txt', format = 'ascii.commented_header', overwrite = True)\n",
    "\n",
    "walls_and_WF50_positive_boolean = np.logical_and(mangaHIall_walls_boolean, WF50_pos_boolean)\n",
    "mangaHIall_walls_WF50_positive = mangaHIall[walls_and_WF50_positive_boolean]\n",
    "mangaHIall_walls_WF50_positive.remove_column('voids')\n",
    "mangaHIall_walls_WF50_positive.write('input/mangaHIall_walls_WF50_positive.txt', format = 'ascii.commented_header', overwrite = True)"
   ]
  },
  {
   "cell_type": "code",
   "execution_count": 26,
   "metadata": {},
   "outputs": [],
   "source": [
    "mangaHIall_voids_boolean = np.isfinite(mangaHIall['voids'])\n",
    "mangaHIall_voids = mangaHIall[mangaHIall_voids_boolean]\n",
    "mangaHIall_voids.remove_column('walls')\n",
    "mangaHIall_voids.write('input/mangaHIall_voids.txt', format = 'ascii.commented_header', overwrite = True)\n",
    "\n",
    "voids_and_WF50_positive_boolean = np.logical_and(mangaHIall_voids_boolean, WF50_pos_boolean)\n",
    "mangaHIall_voids_WF50_positive = mangaHIall[voids_and_WF50_positive_boolean]\n",
    "mangaHIall_voids_WF50_positive.remove_column('walls')\n",
    "mangaHIall_voids_WF50_positive.write('input/mangaHIall_voids_WF50_positive.txt', format = 'ascii.commented_header', overwrite = True)"
   ]
  }
 ],
 "metadata": {
  "kernelspec": {
   "display_name": "Python 3",
   "language": "python",
   "name": "python3"
  },
  "language_info": {
   "codemirror_mode": {
    "name": "ipython",
    "version": 3
   },
   "file_extension": ".py",
   "mimetype": "text/x-python",
   "name": "python",
   "nbconvert_exporter": "python",
   "pygments_lexer": "ipython3",
   "version": "3.7.4"
  }
 },
 "nbformat": 4,
 "nbformat_minor": 2
}
